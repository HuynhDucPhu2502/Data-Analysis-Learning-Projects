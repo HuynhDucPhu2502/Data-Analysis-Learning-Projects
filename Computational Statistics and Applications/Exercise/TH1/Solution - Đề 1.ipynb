{
 "cells": [
  {
   "cell_type": "code",
   "execution_count": 9,
   "metadata": {},
   "outputs": [],
   "source": [
    "import pandas as pd\n",
    "import numpy as  np\n",
    "import matplotlib.pyplot as plt\n",
    "import seaborn as sns"
   ]
  },
  {
   "cell_type": "code",
   "execution_count": 10,
   "metadata": {},
   "outputs": [
    {
     "data": {
      "text/html": [
       "<div>\n",
       "<style scoped>\n",
       "    .dataframe tbody tr th:only-of-type {\n",
       "        vertical-align: middle;\n",
       "    }\n",
       "\n",
       "    .dataframe tbody tr th {\n",
       "        vertical-align: top;\n",
       "    }\n",
       "\n",
       "    .dataframe thead th {\n",
       "        text-align: right;\n",
       "    }\n",
       "</style>\n",
       "<table border=\"1\" class=\"dataframe\">\n",
       "  <thead>\n",
       "    <tr style=\"text-align: right;\">\n",
       "      <th></th>\n",
       "      <th>sbd</th>\n",
       "      <th>toan</th>\n",
       "      <th>ngu_van</th>\n",
       "      <th>ngoai_ngu</th>\n",
       "      <th>vat_li</th>\n",
       "      <th>hoa_hoc</th>\n",
       "      <th>sinh_hoc</th>\n",
       "      <th>lich_su</th>\n",
       "      <th>dia_li</th>\n",
       "      <th>gdcd</th>\n",
       "      <th>tentinh</th>\n",
       "      <th>Khoi</th>\n",
       "    </tr>\n",
       "  </thead>\n",
       "  <tbody>\n",
       "    <tr>\n",
       "      <th>0</th>\n",
       "      <td>1000001</td>\n",
       "      <td>3.6</td>\n",
       "      <td>5.00</td>\n",
       "      <td>4.0</td>\n",
       "      <td>NaN</td>\n",
       "      <td>NaN</td>\n",
       "      <td>NaN</td>\n",
       "      <td>2.75</td>\n",
       "      <td>6.0</td>\n",
       "      <td>8.75</td>\n",
       "      <td>thành phố hà nội</td>\n",
       "      <td>KHXH</td>\n",
       "    </tr>\n",
       "    <tr>\n",
       "      <th>1</th>\n",
       "      <td>1000002</td>\n",
       "      <td>8.4</td>\n",
       "      <td>6.75</td>\n",
       "      <td>7.6</td>\n",
       "      <td>NaN</td>\n",
       "      <td>NaN</td>\n",
       "      <td>NaN</td>\n",
       "      <td>8.50</td>\n",
       "      <td>7.5</td>\n",
       "      <td>8.25</td>\n",
       "      <td>thành phố hà nội</td>\n",
       "      <td>KHXH</td>\n",
       "    </tr>\n",
       "    <tr>\n",
       "      <th>2</th>\n",
       "      <td>1000003</td>\n",
       "      <td>5.8</td>\n",
       "      <td>7.50</td>\n",
       "      <td>5.0</td>\n",
       "      <td>NaN</td>\n",
       "      <td>NaN</td>\n",
       "      <td>NaN</td>\n",
       "      <td>7.25</td>\n",
       "      <td>5.5</td>\n",
       "      <td>8.75</td>\n",
       "      <td>thành phố hà nội</td>\n",
       "      <td>KHXH</td>\n",
       "    </tr>\n",
       "    <tr>\n",
       "      <th>3</th>\n",
       "      <td>1000004</td>\n",
       "      <td>7.4</td>\n",
       "      <td>7.50</td>\n",
       "      <td>8.6</td>\n",
       "      <td>NaN</td>\n",
       "      <td>NaN</td>\n",
       "      <td>NaN</td>\n",
       "      <td>7.50</td>\n",
       "      <td>6.5</td>\n",
       "      <td>7.50</td>\n",
       "      <td>thành phố hà nội</td>\n",
       "      <td>KHXH</td>\n",
       "    </tr>\n",
       "    <tr>\n",
       "      <th>4</th>\n",
       "      <td>1000005</td>\n",
       "      <td>7.2</td>\n",
       "      <td>8.50</td>\n",
       "      <td>9.0</td>\n",
       "      <td>NaN</td>\n",
       "      <td>NaN</td>\n",
       "      <td>NaN</td>\n",
       "      <td>8.00</td>\n",
       "      <td>8.5</td>\n",
       "      <td>8.25</td>\n",
       "      <td>thành phố hà nội</td>\n",
       "      <td>KHXH</td>\n",
       "    </tr>\n",
       "  </tbody>\n",
       "</table>\n",
       "</div>"
      ],
      "text/plain": [
       "       sbd  toan  ngu_van  ngoai_ngu  vat_li  hoa_hoc  sinh_hoc  lich_su  \\\n",
       "0  1000001   3.6     5.00        4.0     NaN      NaN       NaN     2.75   \n",
       "1  1000002   8.4     6.75        7.6     NaN      NaN       NaN     8.50   \n",
       "2  1000003   5.8     7.50        5.0     NaN      NaN       NaN     7.25   \n",
       "3  1000004   7.4     7.50        8.6     NaN      NaN       NaN     7.50   \n",
       "4  1000005   7.2     8.50        9.0     NaN      NaN       NaN     8.00   \n",
       "\n",
       "   dia_li  gdcd           tentinh  Khoi  \n",
       "0     6.0  8.75  thành phố hà nội  KHXH  \n",
       "1     7.5  8.25  thành phố hà nội  KHXH  \n",
       "2     5.5  8.75  thành phố hà nội  KHXH  \n",
       "3     6.5  7.50  thành phố hà nội  KHXH  \n",
       "4     8.5  8.25  thành phố hà nội  KHXH  "
      ]
     },
     "execution_count": 10,
     "metadata": {},
     "output_type": "execute_result"
    }
   ],
   "source": [
    "df = pd.read_csv(\"../data/diem_thi_thpt_2022.csv\")\n",
    "df.head()"
   ]
  },
  {
   "cell_type": "markdown",
   "metadata": {},
   "source": [
    "## 1)\t(3đ) Đọc file dữ liệu diem_thi_thpt_2022.csv và thực hiện:"
   ]
  },
  {
   "cell_type": "markdown",
   "metadata": {},
   "source": [
    "a)\t(0.75đ) Hiển thị 10 dòng đầu tiên và 10 dòng cuối cùng của bảng dữ liệu."
   ]
  },
  {
   "cell_type": "code",
   "execution_count": 11,
   "metadata": {},
   "outputs": [
    {
     "data": {
      "text/html": [
       "<div>\n",
       "<style scoped>\n",
       "    .dataframe tbody tr th:only-of-type {\n",
       "        vertical-align: middle;\n",
       "    }\n",
       "\n",
       "    .dataframe tbody tr th {\n",
       "        vertical-align: top;\n",
       "    }\n",
       "\n",
       "    .dataframe thead th {\n",
       "        text-align: right;\n",
       "    }\n",
       "</style>\n",
       "<table border=\"1\" class=\"dataframe\">\n",
       "  <thead>\n",
       "    <tr style=\"text-align: right;\">\n",
       "      <th></th>\n",
       "      <th>sbd</th>\n",
       "      <th>toan</th>\n",
       "      <th>ngu_van</th>\n",
       "      <th>ngoai_ngu</th>\n",
       "      <th>vat_li</th>\n",
       "      <th>hoa_hoc</th>\n",
       "      <th>sinh_hoc</th>\n",
       "      <th>lich_su</th>\n",
       "      <th>dia_li</th>\n",
       "      <th>gdcd</th>\n",
       "      <th>tentinh</th>\n",
       "      <th>Khoi</th>\n",
       "    </tr>\n",
       "  </thead>\n",
       "  <tbody>\n",
       "    <tr>\n",
       "      <th>0</th>\n",
       "      <td>1000001</td>\n",
       "      <td>3.6</td>\n",
       "      <td>5.00</td>\n",
       "      <td>4.0</td>\n",
       "      <td>NaN</td>\n",
       "      <td>NaN</td>\n",
       "      <td>NaN</td>\n",
       "      <td>2.75</td>\n",
       "      <td>6.00</td>\n",
       "      <td>8.75</td>\n",
       "      <td>thành phố hà nội</td>\n",
       "      <td>KHXH</td>\n",
       "    </tr>\n",
       "    <tr>\n",
       "      <th>1</th>\n",
       "      <td>1000002</td>\n",
       "      <td>8.4</td>\n",
       "      <td>6.75</td>\n",
       "      <td>7.6</td>\n",
       "      <td>NaN</td>\n",
       "      <td>NaN</td>\n",
       "      <td>NaN</td>\n",
       "      <td>8.50</td>\n",
       "      <td>7.50</td>\n",
       "      <td>8.25</td>\n",
       "      <td>thành phố hà nội</td>\n",
       "      <td>KHXH</td>\n",
       "    </tr>\n",
       "    <tr>\n",
       "      <th>2</th>\n",
       "      <td>1000003</td>\n",
       "      <td>5.8</td>\n",
       "      <td>7.50</td>\n",
       "      <td>5.0</td>\n",
       "      <td>NaN</td>\n",
       "      <td>NaN</td>\n",
       "      <td>NaN</td>\n",
       "      <td>7.25</td>\n",
       "      <td>5.50</td>\n",
       "      <td>8.75</td>\n",
       "      <td>thành phố hà nội</td>\n",
       "      <td>KHXH</td>\n",
       "    </tr>\n",
       "    <tr>\n",
       "      <th>3</th>\n",
       "      <td>1000004</td>\n",
       "      <td>7.4</td>\n",
       "      <td>7.50</td>\n",
       "      <td>8.6</td>\n",
       "      <td>NaN</td>\n",
       "      <td>NaN</td>\n",
       "      <td>NaN</td>\n",
       "      <td>7.50</td>\n",
       "      <td>6.50</td>\n",
       "      <td>7.50</td>\n",
       "      <td>thành phố hà nội</td>\n",
       "      <td>KHXH</td>\n",
       "    </tr>\n",
       "    <tr>\n",
       "      <th>4</th>\n",
       "      <td>1000005</td>\n",
       "      <td>7.2</td>\n",
       "      <td>8.50</td>\n",
       "      <td>9.0</td>\n",
       "      <td>NaN</td>\n",
       "      <td>NaN</td>\n",
       "      <td>NaN</td>\n",
       "      <td>8.00</td>\n",
       "      <td>8.50</td>\n",
       "      <td>8.25</td>\n",
       "      <td>thành phố hà nội</td>\n",
       "      <td>KHXH</td>\n",
       "    </tr>\n",
       "    <tr>\n",
       "      <th>5</th>\n",
       "      <td>1000006</td>\n",
       "      <td>6.8</td>\n",
       "      <td>8.50</td>\n",
       "      <td>9.4</td>\n",
       "      <td>NaN</td>\n",
       "      <td>NaN</td>\n",
       "      <td>NaN</td>\n",
       "      <td>7.00</td>\n",
       "      <td>7.50</td>\n",
       "      <td>9.25</td>\n",
       "      <td>thành phố hà nội</td>\n",
       "      <td>KHXH</td>\n",
       "    </tr>\n",
       "    <tr>\n",
       "      <th>6</th>\n",
       "      <td>1000007</td>\n",
       "      <td>7.2</td>\n",
       "      <td>6.00</td>\n",
       "      <td>5.0</td>\n",
       "      <td>NaN</td>\n",
       "      <td>NaN</td>\n",
       "      <td>NaN</td>\n",
       "      <td>8.00</td>\n",
       "      <td>7.50</td>\n",
       "      <td>9.00</td>\n",
       "      <td>thành phố hà nội</td>\n",
       "      <td>KHXH</td>\n",
       "    </tr>\n",
       "    <tr>\n",
       "      <th>7</th>\n",
       "      <td>1000008</td>\n",
       "      <td>8.0</td>\n",
       "      <td>8.00</td>\n",
       "      <td>8.0</td>\n",
       "      <td>NaN</td>\n",
       "      <td>NaN</td>\n",
       "      <td>NaN</td>\n",
       "      <td>5.25</td>\n",
       "      <td>7.00</td>\n",
       "      <td>7.00</td>\n",
       "      <td>thành phố hà nội</td>\n",
       "      <td>KHXH</td>\n",
       "    </tr>\n",
       "    <tr>\n",
       "      <th>8</th>\n",
       "      <td>1000009</td>\n",
       "      <td>2.6</td>\n",
       "      <td>5.25</td>\n",
       "      <td>NaN</td>\n",
       "      <td>NaN</td>\n",
       "      <td>NaN</td>\n",
       "      <td>NaN</td>\n",
       "      <td>5.25</td>\n",
       "      <td>6.75</td>\n",
       "      <td>NaN</td>\n",
       "      <td>thành phố hà nội</td>\n",
       "      <td>NaN</td>\n",
       "    </tr>\n",
       "    <tr>\n",
       "      <th>9</th>\n",
       "      <td>1000010</td>\n",
       "      <td>8.8</td>\n",
       "      <td>8.00</td>\n",
       "      <td>7.0</td>\n",
       "      <td>NaN</td>\n",
       "      <td>NaN</td>\n",
       "      <td>NaN</td>\n",
       "      <td>6.50</td>\n",
       "      <td>6.50</td>\n",
       "      <td>6.75</td>\n",
       "      <td>thành phố hà nội</td>\n",
       "      <td>KHXH</td>\n",
       "    </tr>\n",
       "  </tbody>\n",
       "</table>\n",
       "</div>"
      ],
      "text/plain": [
       "       sbd  toan  ngu_van  ngoai_ngu  vat_li  hoa_hoc  sinh_hoc  lich_su  \\\n",
       "0  1000001   3.6     5.00        4.0     NaN      NaN       NaN     2.75   \n",
       "1  1000002   8.4     6.75        7.6     NaN      NaN       NaN     8.50   \n",
       "2  1000003   5.8     7.50        5.0     NaN      NaN       NaN     7.25   \n",
       "3  1000004   7.4     7.50        8.6     NaN      NaN       NaN     7.50   \n",
       "4  1000005   7.2     8.50        9.0     NaN      NaN       NaN     8.00   \n",
       "5  1000006   6.8     8.50        9.4     NaN      NaN       NaN     7.00   \n",
       "6  1000007   7.2     6.00        5.0     NaN      NaN       NaN     8.00   \n",
       "7  1000008   8.0     8.00        8.0     NaN      NaN       NaN     5.25   \n",
       "8  1000009   2.6     5.25        NaN     NaN      NaN       NaN     5.25   \n",
       "9  1000010   8.8     8.00        7.0     NaN      NaN       NaN     6.50   \n",
       "\n",
       "   dia_li  gdcd           tentinh  Khoi  \n",
       "0    6.00  8.75  thành phố hà nội  KHXH  \n",
       "1    7.50  8.25  thành phố hà nội  KHXH  \n",
       "2    5.50  8.75  thành phố hà nội  KHXH  \n",
       "3    6.50  7.50  thành phố hà nội  KHXH  \n",
       "4    8.50  8.25  thành phố hà nội  KHXH  \n",
       "5    7.50  9.25  thành phố hà nội  KHXH  \n",
       "6    7.50  9.00  thành phố hà nội  KHXH  \n",
       "7    7.00  7.00  thành phố hà nội  KHXH  \n",
       "8    6.75   NaN  thành phố hà nội   NaN  \n",
       "9    6.50  6.75  thành phố hà nội  KHXH  "
      ]
     },
     "execution_count": 11,
     "metadata": {},
     "output_type": "execute_result"
    }
   ],
   "source": [
    "df.head(10)"
   ]
  },
  {
   "cell_type": "code",
   "execution_count": 12,
   "metadata": {},
   "outputs": [
    {
     "data": {
      "text/html": [
       "<div>\n",
       "<style scoped>\n",
       "    .dataframe tbody tr th:only-of-type {\n",
       "        vertical-align: middle;\n",
       "    }\n",
       "\n",
       "    .dataframe tbody tr th {\n",
       "        vertical-align: top;\n",
       "    }\n",
       "\n",
       "    .dataframe thead th {\n",
       "        text-align: right;\n",
       "    }\n",
       "</style>\n",
       "<table border=\"1\" class=\"dataframe\">\n",
       "  <thead>\n",
       "    <tr style=\"text-align: right;\">\n",
       "      <th></th>\n",
       "      <th>sbd</th>\n",
       "      <th>toan</th>\n",
       "      <th>ngu_van</th>\n",
       "      <th>ngoai_ngu</th>\n",
       "      <th>vat_li</th>\n",
       "      <th>hoa_hoc</th>\n",
       "      <th>sinh_hoc</th>\n",
       "      <th>lich_su</th>\n",
       "      <th>dia_li</th>\n",
       "      <th>gdcd</th>\n",
       "      <th>tentinh</th>\n",
       "      <th>Khoi</th>\n",
       "    </tr>\n",
       "  </thead>\n",
       "  <tbody>\n",
       "    <tr>\n",
       "      <th>982716</th>\n",
       "      <td>64006579</td>\n",
       "      <td>6.4</td>\n",
       "      <td>7.00</td>\n",
       "      <td>3.6</td>\n",
       "      <td>NaN</td>\n",
       "      <td>NaN</td>\n",
       "      <td>NaN</td>\n",
       "      <td>5.00</td>\n",
       "      <td>6.00</td>\n",
       "      <td>6.75</td>\n",
       "      <td>tỉnh hậu giang</td>\n",
       "      <td>KHXH</td>\n",
       "    </tr>\n",
       "    <tr>\n",
       "      <th>982717</th>\n",
       "      <td>64006580</td>\n",
       "      <td>6.0</td>\n",
       "      <td>6.25</td>\n",
       "      <td>2.2</td>\n",
       "      <td>NaN</td>\n",
       "      <td>NaN</td>\n",
       "      <td>NaN</td>\n",
       "      <td>5.00</td>\n",
       "      <td>4.50</td>\n",
       "      <td>7.00</td>\n",
       "      <td>tỉnh hậu giang</td>\n",
       "      <td>KHXH</td>\n",
       "    </tr>\n",
       "    <tr>\n",
       "      <th>982718</th>\n",
       "      <td>64006581</td>\n",
       "      <td>6.6</td>\n",
       "      <td>6.00</td>\n",
       "      <td>4.2</td>\n",
       "      <td>NaN</td>\n",
       "      <td>NaN</td>\n",
       "      <td>NaN</td>\n",
       "      <td>6.00</td>\n",
       "      <td>6.75</td>\n",
       "      <td>7.75</td>\n",
       "      <td>tỉnh hậu giang</td>\n",
       "      <td>KHXH</td>\n",
       "    </tr>\n",
       "    <tr>\n",
       "      <th>982719</th>\n",
       "      <td>64006582</td>\n",
       "      <td>5.2</td>\n",
       "      <td>6.50</td>\n",
       "      <td>1.8</td>\n",
       "      <td>NaN</td>\n",
       "      <td>NaN</td>\n",
       "      <td>NaN</td>\n",
       "      <td>4.00</td>\n",
       "      <td>5.50</td>\n",
       "      <td>7.50</td>\n",
       "      <td>tỉnh hậu giang</td>\n",
       "      <td>KHXH</td>\n",
       "    </tr>\n",
       "    <tr>\n",
       "      <th>982720</th>\n",
       "      <td>64006583</td>\n",
       "      <td>5.0</td>\n",
       "      <td>6.50</td>\n",
       "      <td>3.8</td>\n",
       "      <td>NaN</td>\n",
       "      <td>NaN</td>\n",
       "      <td>NaN</td>\n",
       "      <td>6.75</td>\n",
       "      <td>7.50</td>\n",
       "      <td>8.50</td>\n",
       "      <td>tỉnh hậu giang</td>\n",
       "      <td>KHXH</td>\n",
       "    </tr>\n",
       "    <tr>\n",
       "      <th>982721</th>\n",
       "      <td>64006584</td>\n",
       "      <td>8.4</td>\n",
       "      <td>6.75</td>\n",
       "      <td>4.6</td>\n",
       "      <td>NaN</td>\n",
       "      <td>NaN</td>\n",
       "      <td>NaN</td>\n",
       "      <td>6.50</td>\n",
       "      <td>6.75</td>\n",
       "      <td>9.00</td>\n",
       "      <td>tỉnh hậu giang</td>\n",
       "      <td>KHXH</td>\n",
       "    </tr>\n",
       "    <tr>\n",
       "      <th>982722</th>\n",
       "      <td>64006585</td>\n",
       "      <td>5.6</td>\n",
       "      <td>6.50</td>\n",
       "      <td>2.8</td>\n",
       "      <td>NaN</td>\n",
       "      <td>NaN</td>\n",
       "      <td>NaN</td>\n",
       "      <td>6.25</td>\n",
       "      <td>6.75</td>\n",
       "      <td>8.50</td>\n",
       "      <td>tỉnh hậu giang</td>\n",
       "      <td>KHXH</td>\n",
       "    </tr>\n",
       "    <tr>\n",
       "      <th>982723</th>\n",
       "      <td>64006586</td>\n",
       "      <td>5.8</td>\n",
       "      <td>6.00</td>\n",
       "      <td>6.6</td>\n",
       "      <td>NaN</td>\n",
       "      <td>NaN</td>\n",
       "      <td>NaN</td>\n",
       "      <td>7.25</td>\n",
       "      <td>8.00</td>\n",
       "      <td>8.00</td>\n",
       "      <td>tỉnh hậu giang</td>\n",
       "      <td>KHXH</td>\n",
       "    </tr>\n",
       "    <tr>\n",
       "      <th>982724</th>\n",
       "      <td>64006587</td>\n",
       "      <td>7.6</td>\n",
       "      <td>6.75</td>\n",
       "      <td>7.0</td>\n",
       "      <td>NaN</td>\n",
       "      <td>NaN</td>\n",
       "      <td>NaN</td>\n",
       "      <td>8.75</td>\n",
       "      <td>7.25</td>\n",
       "      <td>9.75</td>\n",
       "      <td>tỉnh hậu giang</td>\n",
       "      <td>KHXH</td>\n",
       "    </tr>\n",
       "    <tr>\n",
       "      <th>982725</th>\n",
       "      <td>64006588</td>\n",
       "      <td>6.6</td>\n",
       "      <td>4.50</td>\n",
       "      <td>3.2</td>\n",
       "      <td>NaN</td>\n",
       "      <td>NaN</td>\n",
       "      <td>NaN</td>\n",
       "      <td>3.00</td>\n",
       "      <td>6.00</td>\n",
       "      <td>7.50</td>\n",
       "      <td>tỉnh hậu giang</td>\n",
       "      <td>KHXH</td>\n",
       "    </tr>\n",
       "  </tbody>\n",
       "</table>\n",
       "</div>"
      ],
      "text/plain": [
       "             sbd  toan  ngu_van  ngoai_ngu  vat_li  hoa_hoc  sinh_hoc  \\\n",
       "982716  64006579   6.4     7.00        3.6     NaN      NaN       NaN   \n",
       "982717  64006580   6.0     6.25        2.2     NaN      NaN       NaN   \n",
       "982718  64006581   6.6     6.00        4.2     NaN      NaN       NaN   \n",
       "982719  64006582   5.2     6.50        1.8     NaN      NaN       NaN   \n",
       "982720  64006583   5.0     6.50        3.8     NaN      NaN       NaN   \n",
       "982721  64006584   8.4     6.75        4.6     NaN      NaN       NaN   \n",
       "982722  64006585   5.6     6.50        2.8     NaN      NaN       NaN   \n",
       "982723  64006586   5.8     6.00        6.6     NaN      NaN       NaN   \n",
       "982724  64006587   7.6     6.75        7.0     NaN      NaN       NaN   \n",
       "982725  64006588   6.6     4.50        3.2     NaN      NaN       NaN   \n",
       "\n",
       "        lich_su  dia_li  gdcd         tentinh  Khoi  \n",
       "982716     5.00    6.00  6.75  tỉnh hậu giang  KHXH  \n",
       "982717     5.00    4.50  7.00  tỉnh hậu giang  KHXH  \n",
       "982718     6.00    6.75  7.75  tỉnh hậu giang  KHXH  \n",
       "982719     4.00    5.50  7.50  tỉnh hậu giang  KHXH  \n",
       "982720     6.75    7.50  8.50  tỉnh hậu giang  KHXH  \n",
       "982721     6.50    6.75  9.00  tỉnh hậu giang  KHXH  \n",
       "982722     6.25    6.75  8.50  tỉnh hậu giang  KHXH  \n",
       "982723     7.25    8.00  8.00  tỉnh hậu giang  KHXH  \n",
       "982724     8.75    7.25  9.75  tỉnh hậu giang  KHXH  \n",
       "982725     3.00    6.00  7.50  tỉnh hậu giang  KHXH  "
      ]
     },
     "execution_count": 12,
     "metadata": {},
     "output_type": "execute_result"
    }
   ],
   "source": [
    "df.tail(10)"
   ]
  },
  {
   "cell_type": "markdown",
   "metadata": {},
   "source": [
    "b)\t(0.75đ) Cho biết bảng dữ liệu có bao nhiêu dòng và bao nhiêu cột?"
   ]
  },
  {
   "cell_type": "code",
   "execution_count": 13,
   "metadata": {},
   "outputs": [
    {
     "data": {
      "text/plain": [
       "(982726, 12)"
      ]
     },
     "execution_count": 13,
     "metadata": {},
     "output_type": "execute_result"
    }
   ],
   "source": [
    "df.shape"
   ]
  },
  {
   "cell_type": "markdown",
   "metadata": {},
   "source": [
    "Dữ liệu có 982726 dòng, 12 cột"
   ]
  },
  {
   "cell_type": "markdown",
   "metadata": {},
   "source": [
    "c)\t(0.75đ) Cho biết thông tin về các cột dữ liệu và kiểu của từng cột trong bảng"
   ]
  },
  {
   "cell_type": "code",
   "execution_count": 14,
   "metadata": {},
   "outputs": [
    {
     "data": {
      "text/plain": [
       "Index(['sbd', 'toan', 'ngu_van', 'ngoai_ngu', 'vat_li', 'hoa_hoc', 'sinh_hoc',\n",
       "       'lich_su', 'dia_li', 'gdcd', 'tentinh', 'Khoi'],\n",
       "      dtype='object')"
      ]
     },
     "execution_count": 14,
     "metadata": {},
     "output_type": "execute_result"
    }
   ],
   "source": [
    "df.columns"
   ]
  },
  {
   "cell_type": "code",
   "execution_count": 15,
   "metadata": {},
   "outputs": [
    {
     "data": {
      "text/plain": [
       "sbd            int64\n",
       "toan         float64\n",
       "ngu_van      float64\n",
       "ngoai_ngu    float64\n",
       "vat_li       float64\n",
       "hoa_hoc      float64\n",
       "sinh_hoc     float64\n",
       "lich_su      float64\n",
       "dia_li       float64\n",
       "gdcd         float64\n",
       "tentinh       object\n",
       "Khoi          object\n",
       "dtype: object"
      ]
     },
     "execution_count": 15,
     "metadata": {},
     "output_type": "execute_result"
    }
   ],
   "source": [
    "df.dtypes"
   ]
  },
  {
   "cell_type": "markdown",
   "metadata": {},
   "source": [
    "d)\t(0.75đ) Cho biết số  học sinh bị thiếu điểm môn Ngữ Văn và môn Ngoại Ngữ"
   ]
  },
  {
   "cell_type": "code",
   "execution_count": 26,
   "metadata": {},
   "outputs": [
    {
     "name": "stdout",
     "output_type": "stream",
     "text": [
      "13861\n"
     ]
    }
   ],
   "source": [
    "so_hoc_sinh_thieu_diem  = df[df[\"ngu_van\"].isna() & df[\"ngu_van\"].isna()].shape[0]\n",
    "\n",
    "print(so_hoc_sinh_thieu_diem)"
   ]
  },
  {
   "cell_type": "markdown",
   "metadata": {},
   "source": [
    "số  học sinh bị thiếu điểm môn Ngữ Văn và môn Ngoại Ngữ là 13861 học sinh"
   ]
  },
  {
   "cell_type": "markdown",
   "metadata": {},
   "source": [
    "## 2)\t(2.25đ) Với cột điểm thi môn Toán, hãy tính các trị thống kê:\n",
    "\n",
    "a)\t(0.75đ) Trung binh (mean), \n",
    "\n",
    "b)\t(0.75đ) Độ lệch chuẩn (standard deviation) \n",
    "\n",
    "c)\t(0.75đ) Và khoảng dữ liệu (range)"
   ]
  },
  {
   "cell_type": "code",
   "execution_count": 17,
   "metadata": {},
   "outputs": [
    {
     "name": "stdout",
     "output_type": "stream",
     "text": [
      "6.466254072854489 1.675435332139685 10.0\n"
     ]
    }
   ],
   "source": [
    "diem_thi_toan = df[\"toan\"]\n",
    "\n",
    "diem_thi_toan_mean = diem_thi_toan.mean()\n",
    "diem_thi_toan_std = diem_thi_toan.std()\n",
    "diem_thi_toan_range = diem_thi_toan.max() - diem_thi_toan.min()\n",
    "\n",
    "print(diem_thi_toan_mean, diem_thi_toan_std, diem_thi_toan_range)"
   ]
  },
  {
   "cell_type": "markdown",
   "metadata": {},
   "source": [
    "Trung bình điểm thi toán: 6.466254072854489\n",
    "\n",
    "Độ lệch chuẩn điểm thi toán: 1.675435332139685 \n",
    "\n",
    "Khoảng dữ liệu điểm thi toán: 10.0"
   ]
  },
  {
   "cell_type": "markdown",
   "metadata": {},
   "source": [
    "## 3)\t (1.5đ) Dựa vào dữ liệu cột Khoi, anh/chị hãy thực hiện:\n"
   ]
  },
  {
   "cell_type": "markdown",
   "metadata": {},
   "source": [
    "a)\t(0.75đ) Đếm số lượng học sinh thi khối \"KHTN\" và thi khối \"KHXH\""
   ]
  },
  {
   "cell_type": "code",
   "execution_count": 18,
   "metadata": {},
   "outputs": [
    {
     "data": {
      "text/plain": [
       "858736"
      ]
     },
     "execution_count": 18,
     "metadata": {},
     "output_type": "execute_result"
    }
   ],
   "source": [
    "so_luong_KHTN_KHXH = df[(df[\"Khoi\"] == \"KHXH\") | (df[\"Khoi\"] == \"KHTN\")].shape[0]\n",
    "so_luong_KHTN_KHXH"
   ]
  },
  {
   "cell_type": "markdown",
   "metadata": {},
   "source": [
    "số lượng học sinh thi khối \"KHTN\" và thi khối \"KHXH\": 858736"
   ]
  },
  {
   "cell_type": "markdown",
   "metadata": {},
   "source": [
    "b)\t(0.75đ) Vẽ đồ thị Pie để so sánh mối tương quan giữa \"KHTN\" và \"KHXH\"."
   ]
  },
  {
   "cell_type": "code",
   "execution_count": 19,
   "metadata": {},
   "outputs": [
    {
     "data": {
      "image/png": "[encoded data removed]",
      "text/plain": [
       "<Figure size 600x600 with 1 Axes>"
      ]
     },
     "metadata": {},
     "output_type": "display_data"
    }
   ],
   "source": [
    "so_luong_KHXH = df[df[\"Khoi\"] == \"KHXH\"].shape[0]\n",
    "so_luong_KHTN = df[df[\"Khoi\"] == \"KHTN\"].shape[0]\n",
    "\n",
    "labels = [\"KHXH\", \"KHTN\"]\n",
    "sizes = [so_luong_KHXH, so_luong_KHTN]\n",
    "\n",
    "plt.figure(figsize=(6, 6))\n",
    "plt.pie(sizes, labels=labels, autopct=\"%1.1f%%\")\n",
    "plt.title(\"Tỉ lệ học sinh theo khối KHXH và KHTN\")\n",
    "plt.show()\n"
   ]
  },
  {
   "cell_type": "markdown",
   "metadata": {},
   "source": [
    "## 4)\t(1.75đ) \n",
    "\n"
   ]
  },
  {
   "cell_type": "markdown",
   "metadata": {},
   "source": [
    "a)\t(0.75đ) Liệt kê 20 học sinh có điểm Toán cao nhất \n"
   ]
  },
  {
   "cell_type": "code",
   "execution_count": 20,
   "metadata": {},
   "outputs": [
    {
     "data": {
      "text/plain": [
       "314849    10.0\n",
       "289869    10.0\n",
       "101404    10.0\n",
       "12359     10.0\n",
       "17187     10.0\n",
       "404225    10.0\n",
       "504156    10.0\n",
       "355144    10.0\n",
       "551893    10.0\n",
       "592059    10.0\n",
       "493441    10.0\n",
       "122585    10.0\n",
       "560238    10.0\n",
       "500540    10.0\n",
       "513678    10.0\n",
       "514160    10.0\n",
       "18974     10.0\n",
       "469552    10.0\n",
       "649937    10.0\n",
       "460473    10.0\n",
       "Name: toan, dtype: float64"
      ]
     },
     "execution_count": 20,
     "metadata": {},
     "output_type": "execute_result"
    }
   ],
   "source": [
    "df[\"toan\"].sort_values(ascending=False).head(20)"
   ]
  },
  {
   "cell_type": "markdown",
   "metadata": {},
   "source": [
    "b)\t(0.75đ) Liệt kê 20 học sinh có điểm Toán thấp nhất"
   ]
  },
  {
   "cell_type": "code",
   "execution_count": 21,
   "metadata": {},
   "outputs": [
    {
     "data": {
      "text/plain": [
       "19132     0.0\n",
       "861431    0.0\n",
       "500465    0.0\n",
       "671971    0.2\n",
       "617975    0.4\n",
       "275167    0.4\n",
       "799556    0.4\n",
       "285297    0.6\n",
       "678601    0.6\n",
       "399423    0.6\n",
       "515602    0.6\n",
       "777024    0.6\n",
       "684070    0.6\n",
       "823203    0.8\n",
       "791975    0.8\n",
       "970600    0.8\n",
       "679056    0.8\n",
       "319870    0.8\n",
       "482770    0.8\n",
       "613469    0.8\n",
       "Name: toan, dtype: float64"
      ]
     },
     "execution_count": 21,
     "metadata": {},
     "output_type": "execute_result"
    }
   ],
   "source": [
    "df[\"toan\"].sort_values(ascending=True).head(20)"
   ]
  },
  {
   "cell_type": "markdown",
   "metadata": {},
   "source": [
    "c)\t(0.25đ) Cho biết có bao nhiêu điểm 10 môn Toán."
   ]
  },
  {
   "cell_type": "code",
   "execution_count": 22,
   "metadata": {},
   "outputs": [
    {
     "data": {
      "text/plain": [
       "35"
      ]
     },
     "execution_count": 22,
     "metadata": {},
     "output_type": "execute_result"
    }
   ],
   "source": [
    "df[df[\"toan\"] == 10.0].shape[0]"
   ]
  },
  {
   "cell_type": "markdown",
   "metadata": {},
   "source": [
    "Có 35 điểm 10 môn toán"
   ]
  },
  {
   "cell_type": "markdown",
   "metadata": {},
   "source": [
    "## 5)\t(1.5đ) \n",
    "a)\t(0.75đ) Thống kê để hoàn thành bảng số liệu dưới đây \n",
    "\n"
   ]
  },
  {
   "cell_type": "code",
   "execution_count": 23,
   "metadata": {},
   "outputs": [
    {
     "data": {
      "text/html": [
       "<div>\n",
       "<style scoped>\n",
       "    .dataframe tbody tr th:only-of-type {\n",
       "        vertical-align: middle;\n",
       "    }\n",
       "\n",
       "    .dataframe tbody tr th {\n",
       "        vertical-align: top;\n",
       "    }\n",
       "\n",
       "    .dataframe thead th {\n",
       "        text-align: right;\n",
       "    }\n",
       "</style>\n",
       "<table border=\"1\" class=\"dataframe\">\n",
       "  <thead>\n",
       "    <tr style=\"text-align: right;\">\n",
       "      <th></th>\n",
       "      <th>Thành Phố</th>\n",
       "      <th>Số Học Sinh</th>\n",
       "    </tr>\n",
       "  </thead>\n",
       "  <tbody>\n",
       "    <tr>\n",
       "      <th>0</th>\n",
       "      <td>thành phố hà nội</td>\n",
       "      <td>95769</td>\n",
       "    </tr>\n",
       "    <tr>\n",
       "      <th>1</th>\n",
       "      <td>thành phố hồ chí minh</td>\n",
       "      <td>84094</td>\n",
       "    </tr>\n",
       "    <tr>\n",
       "      <th>2</th>\n",
       "      <td>thành phố đà nẵng</td>\n",
       "      <td>12433</td>\n",
       "    </tr>\n",
       "  </tbody>\n",
       "</table>\n",
       "</div>"
      ],
      "text/plain": [
       "               Thành Phố  Số Học Sinh\n",
       "0       thành phố hà nội        95769\n",
       "1  thành phố hồ chí minh        84094\n",
       "2      thành phố đà nẵng        12433"
      ]
     },
     "execution_count": 23,
     "metadata": {},
     "output_type": "execute_result"
    }
   ],
   "source": [
    "newDf = df[\"tentinh\"].value_counts().loc[[\"thành phố hà nội\", \"thành phố hồ chí minh\", \"thành phố đà nẵng\"]]\n",
    "newDf = newDf.reset_index()\n",
    "newDf.columns = [\"Thành Phố\", \"Số Học Sinh\"]\n",
    "newDf"
   ]
  },
  {
   "cell_type": "markdown",
   "metadata": {},
   "source": [
    "b)\t(0.75đ) Từ đó trực quan hóa dữ liệu Bảng 1 bằng đồ thị Bar."
   ]
  },
  {
   "cell_type": "code",
   "execution_count": 24,
   "metadata": {},
   "outputs": [
    {
     "data": {
      "image/png": "[encoded data removed]",
      "text/plain": [
       "<Figure size 800x500 with 1 Axes>"
      ]
     },
     "metadata": {},
     "output_type": "display_data"
    }
   ],
   "source": [
    "plt.figure(figsize=(8, 5))\n",
    "sns.barplot(data=newDf, x=\"Số Học Sinh\", y=\"Thành Phố\")\n",
    "\n",
    "plt.xlabel(\"Số lượng học sinh\")\n",
    "plt.ylabel(\"Tên tỉnh\")\n",
    "plt.title(\"Số lượng học sinh tại Hà Nội, TP.HCM và Đà Nẵng\")\n",
    "\n",
    "\n",
    "plt.show()\n"
   ]
  }
 ],
 "metadata": {
  "kernelspec": {
   "display_name": "Python 3",
   "language": "python",
   "name": "python3"
  },
  "language_info": {
   "codemirror_mode": {
    "name": "ipython",
    "version": 3
   },
   "file_extension": ".py",
   "mimetype": "text/x-python",
   "name": "python",
   "nbconvert_exporter": "python",
   "pygments_lexer": "ipython3",
   "version": "3.12.5"
  }
 },
 "nbformat": 4,
 "nbformat_minor": 4
}
