{
 "cells": [
  {
   "cell_type": "code",
   "execution_count": 22,
   "metadata": {},
   "outputs": [],
   "source": [
    "import pandas as pd\n",
    "import matplotlib.pyplot as plt"
   ]
  },
  {
   "cell_type": "markdown",
   "metadata": {},
   "source": [
    "1. (3đ) Đọc file dữ liệu thoi_tiet_khong_khi_vn_2023.csv và thực hiện:"
   ]
  },
  {
   "cell_type": "code",
   "execution_count": null,
   "metadata": {},
   "outputs": [],
   "source": [
    "df = pd.read_csv(\"../data/thoi_tiet_khong_khi_vn_2023.csv\")"
   ]
  },
  {
   "cell_type": "markdown",
   "metadata": {},
   "source": [
    "(0.75đ) Hiển thị 10 dòng đầu tiên và 10 dòng cuối cùng của bảng dữ liệu."
   ]
  },
  {
   "cell_type": "code",
   "execution_count": 24,
   "metadata": {},
   "outputs": [
    {
     "data": {
      "text/html": [
       "<div>\n",
       "<style scoped>\n",
       "    .dataframe tbody tr th:only-of-type {\n",
       "        vertical-align: middle;\n",
       "    }\n",
       "\n",
       "    .dataframe tbody tr th {\n",
       "        vertical-align: top;\n",
       "    }\n",
       "\n",
       "    .dataframe thead th {\n",
       "        text-align: right;\n",
       "    }\n",
       "</style>\n",
       "<table border=\"1\" class=\"dataframe\">\n",
       "  <thead>\n",
       "    <tr style=\"text-align: right;\">\n",
       "      <th></th>\n",
       "      <th>Ngày</th>\n",
       "      <th>Thành_phố</th>\n",
       "      <th>Khu_vực</th>\n",
       "      <th>Nhiệt_độ</th>\n",
       "      <th>Áp_suất</th>\n",
       "      <th>Tốc_độ_gió</th>\n",
       "      <th>Hướng_gió</th>\n",
       "      <th>Độ_ẩm</th>\n",
       "      <th>Chỉ_số_UV</th>\n",
       "      <th>Lượng_mưa</th>\n",
       "      <th>Thời_tiết</th>\n",
       "      <th>AQI</th>\n",
       "      <th>PM2.5</th>\n",
       "      <th>PM10</th>\n",
       "      <th>CO</th>\n",
       "      <th>NO2</th>\n",
       "      <th>SO2</th>\n",
       "      <th>O3</th>\n",
       "    </tr>\n",
       "  </thead>\n",
       "  <tbody>\n",
       "    <tr>\n",
       "      <th>0</th>\n",
       "      <td>2023-01-01</td>\n",
       "      <td>Hà Nội</td>\n",
       "      <td>Bắc Bộ</td>\n",
       "      <td>18.1</td>\n",
       "      <td>1007.7</td>\n",
       "      <td>4.6</td>\n",
       "      <td>144</td>\n",
       "      <td>74.9</td>\n",
       "      <td>0.5</td>\n",
       "      <td>1.9</td>\n",
       "      <td>Mưa nhẹ</td>\n",
       "      <td>70.0</td>\n",
       "      <td>57.8</td>\n",
       "      <td>73.9</td>\n",
       "      <td>4.03</td>\n",
       "      <td>20.1</td>\n",
       "      <td>15.4</td>\n",
       "      <td>15.3</td>\n",
       "    </tr>\n",
       "    <tr>\n",
       "      <th>1</th>\n",
       "      <td>2023-01-01</td>\n",
       "      <td>TP Hồ Chí Minh</td>\n",
       "      <td>Nam Bộ</td>\n",
       "      <td>29.5</td>\n",
       "      <td>992.5</td>\n",
       "      <td>2.7</td>\n",
       "      <td>255</td>\n",
       "      <td>70.8</td>\n",
       "      <td>2.0</td>\n",
       "      <td>0.0</td>\n",
       "      <td>Mây</td>\n",
       "      <td>76.0</td>\n",
       "      <td>57.3</td>\n",
       "      <td>84.6</td>\n",
       "      <td>3.86</td>\n",
       "      <td>17.6</td>\n",
       "      <td>10.8</td>\n",
       "      <td>26.0</td>\n",
       "    </tr>\n",
       "    <tr>\n",
       "      <th>2</th>\n",
       "      <td>2023-01-01</td>\n",
       "      <td>Đà Nẵng</td>\n",
       "      <td>Trung Bộ</td>\n",
       "      <td>28.6</td>\n",
       "      <td>1003.0</td>\n",
       "      <td>6.1</td>\n",
       "      <td>31</td>\n",
       "      <td>83.7</td>\n",
       "      <td>2.4</td>\n",
       "      <td>1.2</td>\n",
       "      <td>Mưa nhẹ</td>\n",
       "      <td>53.0</td>\n",
       "      <td>33.9</td>\n",
       "      <td>33.5</td>\n",
       "      <td>3.33</td>\n",
       "      <td>1.9</td>\n",
       "      <td>16.0</td>\n",
       "      <td>10.5</td>\n",
       "    </tr>\n",
       "    <tr>\n",
       "      <th>3</th>\n",
       "      <td>2023-01-01</td>\n",
       "      <td>Hải Phòng</td>\n",
       "      <td>Bắc Bộ</td>\n",
       "      <td>17.3</td>\n",
       "      <td>1002.5</td>\n",
       "      <td>4.9</td>\n",
       "      <td>195</td>\n",
       "      <td>74.0</td>\n",
       "      <td>3.9</td>\n",
       "      <td>0.0</td>\n",
       "      <td>Mây</td>\n",
       "      <td>57.0</td>\n",
       "      <td>48.9</td>\n",
       "      <td>87.7</td>\n",
       "      <td>3.08</td>\n",
       "      <td>18.4</td>\n",
       "      <td>6.9</td>\n",
       "      <td>3.4</td>\n",
       "    </tr>\n",
       "    <tr>\n",
       "      <th>4</th>\n",
       "      <td>2023-01-01</td>\n",
       "      <td>Cần Thơ</td>\n",
       "      <td>Nam Bộ</td>\n",
       "      <td>33.1</td>\n",
       "      <td>994.7</td>\n",
       "      <td>4.1</td>\n",
       "      <td>255</td>\n",
       "      <td>73.2</td>\n",
       "      <td>1.4</td>\n",
       "      <td>0.0</td>\n",
       "      <td>Nắng</td>\n",
       "      <td>63.0</td>\n",
       "      <td>47.7</td>\n",
       "      <td>73.1</td>\n",
       "      <td>3.95</td>\n",
       "      <td>16.1</td>\n",
       "      <td>4.3</td>\n",
       "      <td>25.4</td>\n",
       "    </tr>\n",
       "    <tr>\n",
       "      <th>5</th>\n",
       "      <td>2023-01-01</td>\n",
       "      <td>Huế</td>\n",
       "      <td>Trung Bộ</td>\n",
       "      <td>27.4</td>\n",
       "      <td>992.8</td>\n",
       "      <td>11.5</td>\n",
       "      <td>51</td>\n",
       "      <td>80.3</td>\n",
       "      <td>4.7</td>\n",
       "      <td>0.0</td>\n",
       "      <td>Nắng</td>\n",
       "      <td>35.0</td>\n",
       "      <td>29.3</td>\n",
       "      <td>42.6</td>\n",
       "      <td>1.91</td>\n",
       "      <td>8.8</td>\n",
       "      <td>4.3</td>\n",
       "      <td>18.7</td>\n",
       "    </tr>\n",
       "    <tr>\n",
       "      <th>6</th>\n",
       "      <td>2023-01-01</td>\n",
       "      <td>Nha Trang</td>\n",
       "      <td>Trung Bộ</td>\n",
       "      <td>34.1</td>\n",
       "      <td>995.2</td>\n",
       "      <td>0.5</td>\n",
       "      <td>187</td>\n",
       "      <td>84.1</td>\n",
       "      <td>2.4</td>\n",
       "      <td>0.0</td>\n",
       "      <td>Nắng</td>\n",
       "      <td>50.0</td>\n",
       "      <td>27.5</td>\n",
       "      <td>50.8</td>\n",
       "      <td>2.97</td>\n",
       "      <td>13.2</td>\n",
       "      <td>0.6</td>\n",
       "      <td>10.1</td>\n",
       "    </tr>\n",
       "    <tr>\n",
       "      <th>7</th>\n",
       "      <td>2023-01-01</td>\n",
       "      <td>Đà Lạt</td>\n",
       "      <td>Tây Nguyên</td>\n",
       "      <td>20.8</td>\n",
       "      <td>1000.9</td>\n",
       "      <td>3.1</td>\n",
       "      <td>302</td>\n",
       "      <td>68.5</td>\n",
       "      <td>4.2</td>\n",
       "      <td>0.0</td>\n",
       "      <td>Mây</td>\n",
       "      <td>14.0</td>\n",
       "      <td>13.4</td>\n",
       "      <td>17.0</td>\n",
       "      <td>0.43</td>\n",
       "      <td>8.5</td>\n",
       "      <td>3.7</td>\n",
       "      <td>1.6</td>\n",
       "    </tr>\n",
       "    <tr>\n",
       "      <th>8</th>\n",
       "      <td>2023-01-01</td>\n",
       "      <td>Vũng Tàu</td>\n",
       "      <td>Nam Bộ</td>\n",
       "      <td>32.4</td>\n",
       "      <td>1000.1</td>\n",
       "      <td>11.6</td>\n",
       "      <td>349</td>\n",
       "      <td>68.1</td>\n",
       "      <td>3.0</td>\n",
       "      <td>0.8</td>\n",
       "      <td>Mưa nhẹ</td>\n",
       "      <td>48.0</td>\n",
       "      <td>26.6</td>\n",
       "      <td>28.9</td>\n",
       "      <td>2.45</td>\n",
       "      <td>15.3</td>\n",
       "      <td>5.6</td>\n",
       "      <td>13.0</td>\n",
       "    </tr>\n",
       "    <tr>\n",
       "      <th>9</th>\n",
       "      <td>2023-01-01</td>\n",
       "      <td>Hạ Long</td>\n",
       "      <td>Bắc Bộ</td>\n",
       "      <td>16.3</td>\n",
       "      <td>1004.2</td>\n",
       "      <td>5.3</td>\n",
       "      <td>274</td>\n",
       "      <td>66.4</td>\n",
       "      <td>1.7</td>\n",
       "      <td>0.0</td>\n",
       "      <td>Nắng</td>\n",
       "      <td>71.0</td>\n",
       "      <td>54.1</td>\n",
       "      <td>85.2</td>\n",
       "      <td>3.98</td>\n",
       "      <td>4.9</td>\n",
       "      <td>10.7</td>\n",
       "      <td>16.6</td>\n",
       "    </tr>\n",
       "  </tbody>\n",
       "</table>\n",
       "</div>"
      ],
      "text/plain": [
       "         Ngày       Thành_phố     Khu_vực  Nhiệt_độ  Áp_suất  Tốc_độ_gió  \\\n",
       "0  2023-01-01          Hà Nội      Bắc Bộ      18.1   1007.7         4.6   \n",
       "1  2023-01-01  TP Hồ Chí Minh      Nam Bộ      29.5    992.5         2.7   \n",
       "2  2023-01-01         Đà Nẵng    Trung Bộ      28.6   1003.0         6.1   \n",
       "3  2023-01-01       Hải Phòng      Bắc Bộ      17.3   1002.5         4.9   \n",
       "4  2023-01-01         Cần Thơ      Nam Bộ      33.1    994.7         4.1   \n",
       "5  2023-01-01             Huế    Trung Bộ      27.4    992.8        11.5   \n",
       "6  2023-01-01       Nha Trang    Trung Bộ      34.1    995.2         0.5   \n",
       "7  2023-01-01          Đà Lạt  Tây Nguyên      20.8   1000.9         3.1   \n",
       "8  2023-01-01        Vũng Tàu      Nam Bộ      32.4   1000.1        11.6   \n",
       "9  2023-01-01         Hạ Long      Bắc Bộ      16.3   1004.2         5.3   \n",
       "\n",
       "   Hướng_gió  Độ_ẩm  Chỉ_số_UV  Lượng_mưa Thời_tiết   AQI  PM2.5  PM10    CO  \\\n",
       "0        144   74.9        0.5        1.9   Mưa nhẹ  70.0   57.8  73.9  4.03   \n",
       "1        255   70.8        2.0        0.0       Mây  76.0   57.3  84.6  3.86   \n",
       "2         31   83.7        2.4        1.2   Mưa nhẹ  53.0   33.9  33.5  3.33   \n",
       "3        195   74.0        3.9        0.0       Mây  57.0   48.9  87.7  3.08   \n",
       "4        255   73.2        1.4        0.0      Nắng  63.0   47.7  73.1  3.95   \n",
       "5         51   80.3        4.7        0.0      Nắng  35.0   29.3  42.6  1.91   \n",
       "6        187   84.1        2.4        0.0      Nắng  50.0   27.5  50.8  2.97   \n",
       "7        302   68.5        4.2        0.0       Mây  14.0   13.4  17.0  0.43   \n",
       "8        349   68.1        3.0        0.8   Mưa nhẹ  48.0   26.6  28.9  2.45   \n",
       "9        274   66.4        1.7        0.0      Nắng  71.0   54.1  85.2  3.98   \n",
       "\n",
       "    NO2   SO2    O3  \n",
       "0  20.1  15.4  15.3  \n",
       "1  17.6  10.8  26.0  \n",
       "2   1.9  16.0  10.5  \n",
       "3  18.4   6.9   3.4  \n",
       "4  16.1   4.3  25.4  \n",
       "5   8.8   4.3  18.7  \n",
       "6  13.2   0.6  10.1  \n",
       "7   8.5   3.7   1.6  \n",
       "8  15.3   5.6  13.0  \n",
       "9   4.9  10.7  16.6  "
      ]
     },
     "execution_count": 24,
     "metadata": {},
     "output_type": "execute_result"
    }
   ],
   "source": [
    "df.head(10)"
   ]
  },
  {
   "cell_type": "code",
   "execution_count": 25,
   "metadata": {},
   "outputs": [
    {
     "data": {
      "text/html": [
       "<div>\n",
       "<style scoped>\n",
       "    .dataframe tbody tr th:only-of-type {\n",
       "        vertical-align: middle;\n",
       "    }\n",
       "\n",
       "    .dataframe tbody tr th {\n",
       "        vertical-align: top;\n",
       "    }\n",
       "\n",
       "    .dataframe thead th {\n",
       "        text-align: right;\n",
       "    }\n",
       "</style>\n",
       "<table border=\"1\" class=\"dataframe\">\n",
       "  <thead>\n",
       "    <tr style=\"text-align: right;\">\n",
       "      <th></th>\n",
       "      <th>Ngày</th>\n",
       "      <th>Thành_phố</th>\n",
       "      <th>Khu_vực</th>\n",
       "      <th>Nhiệt_độ</th>\n",
       "      <th>Áp_suất</th>\n",
       "      <th>Tốc_độ_gió</th>\n",
       "      <th>Hướng_gió</th>\n",
       "      <th>Độ_ẩm</th>\n",
       "      <th>Chỉ_số_UV</th>\n",
       "      <th>Lượng_mưa</th>\n",
       "      <th>Thời_tiết</th>\n",
       "      <th>AQI</th>\n",
       "      <th>PM2.5</th>\n",
       "      <th>PM10</th>\n",
       "      <th>CO</th>\n",
       "      <th>NO2</th>\n",
       "      <th>SO2</th>\n",
       "      <th>O3</th>\n",
       "    </tr>\n",
       "  </thead>\n",
       "  <tbody>\n",
       "    <tr>\n",
       "      <th>3640</th>\n",
       "      <td>2023-12-31</td>\n",
       "      <td>Hà Nội</td>\n",
       "      <td>Bắc Bộ</td>\n",
       "      <td>17.0</td>\n",
       "      <td>998.2</td>\n",
       "      <td>3.3</td>\n",
       "      <td>333</td>\n",
       "      <td>63.0</td>\n",
       "      <td>3.0</td>\n",
       "      <td>0.0</td>\n",
       "      <td>Nắng</td>\n",
       "      <td>66.0</td>\n",
       "      <td>47.1</td>\n",
       "      <td>75.2</td>\n",
       "      <td>3.33</td>\n",
       "      <td>9.6</td>\n",
       "      <td>10.9</td>\n",
       "      <td>21.6</td>\n",
       "    </tr>\n",
       "    <tr>\n",
       "      <th>3641</th>\n",
       "      <td>2023-12-31</td>\n",
       "      <td>TP Hồ Chí Minh</td>\n",
       "      <td>Nam Bộ</td>\n",
       "      <td>35.6</td>\n",
       "      <td>994.7</td>\n",
       "      <td>4.8</td>\n",
       "      <td>299</td>\n",
       "      <td>67.2</td>\n",
       "      <td>2.1</td>\n",
       "      <td>0.0</td>\n",
       "      <td>Mây</td>\n",
       "      <td>71.0</td>\n",
       "      <td>50.5</td>\n",
       "      <td>87.2</td>\n",
       "      <td>3.33</td>\n",
       "      <td>10.3</td>\n",
       "      <td>9.1</td>\n",
       "      <td>13.1</td>\n",
       "    </tr>\n",
       "    <tr>\n",
       "      <th>3642</th>\n",
       "      <td>2023-12-31</td>\n",
       "      <td>Đà Nẵng</td>\n",
       "      <td>Trung Bộ</td>\n",
       "      <td>25.2</td>\n",
       "      <td>1003.5</td>\n",
       "      <td>1.9</td>\n",
       "      <td>270</td>\n",
       "      <td>86.1</td>\n",
       "      <td>2.7</td>\n",
       "      <td>0.0</td>\n",
       "      <td>Nắng</td>\n",
       "      <td>66.0</td>\n",
       "      <td>51.0</td>\n",
       "      <td>61.1</td>\n",
       "      <td>3.15</td>\n",
       "      <td>12.0</td>\n",
       "      <td>7.7</td>\n",
       "      <td>24.0</td>\n",
       "    </tr>\n",
       "    <tr>\n",
       "      <th>3643</th>\n",
       "      <td>2023-12-31</td>\n",
       "      <td>Hải Phòng</td>\n",
       "      <td>Bắc Bộ</td>\n",
       "      <td>24.7</td>\n",
       "      <td>994.2</td>\n",
       "      <td>1.7</td>\n",
       "      <td>105</td>\n",
       "      <td>69.1</td>\n",
       "      <td>12.0</td>\n",
       "      <td>8.3</td>\n",
       "      <td>Mưa vừa</td>\n",
       "      <td>42.0</td>\n",
       "      <td>28.1</td>\n",
       "      <td>21.7</td>\n",
       "      <td>2.60</td>\n",
       "      <td>7.4</td>\n",
       "      <td>3.5</td>\n",
       "      <td>3.1</td>\n",
       "    </tr>\n",
       "    <tr>\n",
       "      <th>3644</th>\n",
       "      <td>2023-12-31</td>\n",
       "      <td>Cần Thơ</td>\n",
       "      <td>Nam Bộ</td>\n",
       "      <td>31.6</td>\n",
       "      <td>998.6</td>\n",
       "      <td>4.3</td>\n",
       "      <td>358</td>\n",
       "      <td>75.2</td>\n",
       "      <td>4.9</td>\n",
       "      <td>0.0</td>\n",
       "      <td>Mây</td>\n",
       "      <td>61.0</td>\n",
       "      <td>47.8</td>\n",
       "      <td>72.3</td>\n",
       "      <td>3.63</td>\n",
       "      <td>12.8</td>\n",
       "      <td>5.1</td>\n",
       "      <td>18.5</td>\n",
       "    </tr>\n",
       "    <tr>\n",
       "      <th>3645</th>\n",
       "      <td>2023-12-31</td>\n",
       "      <td>Huế</td>\n",
       "      <td>Trung Bộ</td>\n",
       "      <td>26.5</td>\n",
       "      <td>1002.8</td>\n",
       "      <td>5.5</td>\n",
       "      <td>79</td>\n",
       "      <td>78.0</td>\n",
       "      <td>3.7</td>\n",
       "      <td>0.0</td>\n",
       "      <td>Nắng</td>\n",
       "      <td>46.0</td>\n",
       "      <td>25.1</td>\n",
       "      <td>29.5</td>\n",
       "      <td>2.21</td>\n",
       "      <td>21.5</td>\n",
       "      <td>8.6</td>\n",
       "      <td>8.7</td>\n",
       "    </tr>\n",
       "    <tr>\n",
       "      <th>3646</th>\n",
       "      <td>2023-12-31</td>\n",
       "      <td>Nha Trang</td>\n",
       "      <td>Trung Bộ</td>\n",
       "      <td>22.2</td>\n",
       "      <td>1002.2</td>\n",
       "      <td>2.8</td>\n",
       "      <td>39</td>\n",
       "      <td>84.1</td>\n",
       "      <td>0.9</td>\n",
       "      <td>8.2</td>\n",
       "      <td>Mưa vừa</td>\n",
       "      <td>51.0</td>\n",
       "      <td>49.7</td>\n",
       "      <td>70.6</td>\n",
       "      <td>1.70</td>\n",
       "      <td>8.1</td>\n",
       "      <td>1.5</td>\n",
       "      <td>11.2</td>\n",
       "    </tr>\n",
       "    <tr>\n",
       "      <th>3647</th>\n",
       "      <td>2023-12-31</td>\n",
       "      <td>Đà Lạt</td>\n",
       "      <td>Tây Nguyên</td>\n",
       "      <td>21.3</td>\n",
       "      <td>1011.5</td>\n",
       "      <td>5.2</td>\n",
       "      <td>320</td>\n",
       "      <td>69.2</td>\n",
       "      <td>2.6</td>\n",
       "      <td>0.0</td>\n",
       "      <td>Mây</td>\n",
       "      <td>28.0</td>\n",
       "      <td>18.1</td>\n",
       "      <td>28.5</td>\n",
       "      <td>1.64</td>\n",
       "      <td>0.0</td>\n",
       "      <td>3.5</td>\n",
       "      <td>5.9</td>\n",
       "    </tr>\n",
       "    <tr>\n",
       "      <th>3648</th>\n",
       "      <td>2023-12-31</td>\n",
       "      <td>Vũng Tàu</td>\n",
       "      <td>Nam Bộ</td>\n",
       "      <td>29.9</td>\n",
       "      <td>1003.4</td>\n",
       "      <td>1.5</td>\n",
       "      <td>265</td>\n",
       "      <td>78.6</td>\n",
       "      <td>0.6</td>\n",
       "      <td>0.0</td>\n",
       "      <td>Nắng</td>\n",
       "      <td>48.0</td>\n",
       "      <td>29.9</td>\n",
       "      <td>51.1</td>\n",
       "      <td>2.90</td>\n",
       "      <td>7.9</td>\n",
       "      <td>3.5</td>\n",
       "      <td>13.2</td>\n",
       "    </tr>\n",
       "    <tr>\n",
       "      <th>3649</th>\n",
       "      <td>2023-12-31</td>\n",
       "      <td>Hạ Long</td>\n",
       "      <td>Bắc Bộ</td>\n",
       "      <td>22.7</td>\n",
       "      <td>1008.8</td>\n",
       "      <td>3.9</td>\n",
       "      <td>124</td>\n",
       "      <td>80.0</td>\n",
       "      <td>1.1</td>\n",
       "      <td>0.0</td>\n",
       "      <td>Nắng</td>\n",
       "      <td>53.0</td>\n",
       "      <td>33.2</td>\n",
       "      <td>41.7</td>\n",
       "      <td>2.67</td>\n",
       "      <td>12.6</td>\n",
       "      <td>10.8</td>\n",
       "      <td>21.7</td>\n",
       "    </tr>\n",
       "  </tbody>\n",
       "</table>\n",
       "</div>"
      ],
      "text/plain": [
       "            Ngày       Thành_phố     Khu_vực  Nhiệt_độ  Áp_suất  Tốc_độ_gió  \\\n",
       "3640  2023-12-31          Hà Nội      Bắc Bộ      17.0    998.2         3.3   \n",
       "3641  2023-12-31  TP Hồ Chí Minh      Nam Bộ      35.6    994.7         4.8   \n",
       "3642  2023-12-31         Đà Nẵng    Trung Bộ      25.2   1003.5         1.9   \n",
       "3643  2023-12-31       Hải Phòng      Bắc Bộ      24.7    994.2         1.7   \n",
       "3644  2023-12-31         Cần Thơ      Nam Bộ      31.6    998.6         4.3   \n",
       "3645  2023-12-31             Huế    Trung Bộ      26.5   1002.8         5.5   \n",
       "3646  2023-12-31       Nha Trang    Trung Bộ      22.2   1002.2         2.8   \n",
       "3647  2023-12-31          Đà Lạt  Tây Nguyên      21.3   1011.5         5.2   \n",
       "3648  2023-12-31        Vũng Tàu      Nam Bộ      29.9   1003.4         1.5   \n",
       "3649  2023-12-31         Hạ Long      Bắc Bộ      22.7   1008.8         3.9   \n",
       "\n",
       "      Hướng_gió  Độ_ẩm  Chỉ_số_UV  Lượng_mưa Thời_tiết   AQI  PM2.5  PM10  \\\n",
       "3640        333   63.0        3.0        0.0      Nắng  66.0   47.1  75.2   \n",
       "3641        299   67.2        2.1        0.0       Mây  71.0   50.5  87.2   \n",
       "3642        270   86.1        2.7        0.0      Nắng  66.0   51.0  61.1   \n",
       "3643        105   69.1       12.0        8.3   Mưa vừa  42.0   28.1  21.7   \n",
       "3644        358   75.2        4.9        0.0       Mây  61.0   47.8  72.3   \n",
       "3645         79   78.0        3.7        0.0      Nắng  46.0   25.1  29.5   \n",
       "3646         39   84.1        0.9        8.2   Mưa vừa  51.0   49.7  70.6   \n",
       "3647        320   69.2        2.6        0.0       Mây  28.0   18.1  28.5   \n",
       "3648        265   78.6        0.6        0.0      Nắng  48.0   29.9  51.1   \n",
       "3649        124   80.0        1.1        0.0      Nắng  53.0   33.2  41.7   \n",
       "\n",
       "        CO   NO2   SO2    O3  \n",
       "3640  3.33   9.6  10.9  21.6  \n",
       "3641  3.33  10.3   9.1  13.1  \n",
       "3642  3.15  12.0   7.7  24.0  \n",
       "3643  2.60   7.4   3.5   3.1  \n",
       "3644  3.63  12.8   5.1  18.5  \n",
       "3645  2.21  21.5   8.6   8.7  \n",
       "3646  1.70   8.1   1.5  11.2  \n",
       "3647  1.64   0.0   3.5   5.9  \n",
       "3648  2.90   7.9   3.5  13.2  \n",
       "3649  2.67  12.6  10.8  21.7  "
      ]
     },
     "execution_count": 25,
     "metadata": {},
     "output_type": "execute_result"
    }
   ],
   "source": [
    "df.tail(10)"
   ]
  },
  {
   "cell_type": "markdown",
   "metadata": {},
   "source": [
    "(0.75đ) Cho biết bảng dữ liệu có bao nhiêu dòng và bao nhiêu cột?"
   ]
  },
  {
   "cell_type": "code",
   "execution_count": 26,
   "metadata": {},
   "outputs": [
    {
     "name": "stdout",
     "output_type": "stream",
     "text": [
      "Số dòng: 3650\n",
      "Số cột: 18\n"
     ]
    }
   ],
   "source": [
    "print(\"Số dòng:\", df.shape[0])\n",
    "print(\"Số cột:\", df.shape[1])"
   ]
  },
  {
   "cell_type": "markdown",
   "metadata": {},
   "source": [
    "(0.75đ) Cho biết thông tin về các cột dữ liệu và kiểu của từng cột trong bảng."
   ]
  },
  {
   "cell_type": "code",
   "execution_count": 27,
   "metadata": {},
   "outputs": [
    {
     "name": "stdout",
     "output_type": "stream",
     "text": [
      "<class 'pandas.core.frame.DataFrame'>\n",
      "RangeIndex: 3650 entries, 0 to 3649\n",
      "Data columns (total 18 columns):\n",
      " #   Column      Non-Null Count  Dtype  \n",
      "---  ------      --------------  -----  \n",
      " 0   Ngày        3650 non-null   object \n",
      " 1   Thành_phố   3650 non-null   object \n",
      " 2   Khu_vực     3650 non-null   object \n",
      " 3   Nhiệt_độ    3645 non-null   float64\n",
      " 4   Áp_suất     3639 non-null   float64\n",
      " 5   Tốc_độ_gió  3650 non-null   float64\n",
      " 6   Hướng_gió   3650 non-null   int64  \n",
      " 7   Độ_ẩm       3646 non-null   float64\n",
      " 8   Chỉ_số_UV   3650 non-null   float64\n",
      " 9   Lượng_mưa   3646 non-null   float64\n",
      " 10  Thời_tiết   3650 non-null   object \n",
      " 11  AQI         3644 non-null   float64\n",
      " 12  PM2.5       3646 non-null   float64\n",
      " 13  PM10        3648 non-null   float64\n",
      " 14  CO          3650 non-null   float64\n",
      " 15  NO2         3650 non-null   float64\n",
      " 16  SO2         3650 non-null   float64\n",
      " 17  O3          3650 non-null   float64\n",
      "dtypes: float64(13), int64(1), object(4)\n",
      "memory usage: 513.4+ KB\n"
     ]
    }
   ],
   "source": [
    "df.info()"
   ]
  },
  {
   "cell_type": "markdown",
   "metadata": {},
   "source": [
    "(0.75đ) Cho biết số lượng bản ghi bị thiếu giá trị cho các cột: Nhiệt_độ, Lượng_mưa và AQI."
   ]
  },
  {
   "cell_type": "code",
   "execution_count": 28,
   "metadata": {},
   "outputs": [
    {
     "name": "stdout",
     "output_type": "stream",
     "text": [
      "Giá trị thiếu của nhiệt độ: 5\n",
      "Giá trị thiếu của lượng mưa: 4\n",
      "Giá trị thiếu của AQI: 6\n"
     ]
    }
   ],
   "source": [
    "print(\"Giá trị thiếu của nhiệt độ:\", len(df[df[\"Nhiệt_độ\"].isna()]))\n",
    "print(\"Giá trị thiếu của lượng mưa:\", len(df[df[\"Lượng_mưa\"].isna()]))\n",
    "print(\"Giá trị thiếu của AQI:\", len(df[df[\"AQI\"].isna()]))"
   ]
  },
  {
   "cell_type": "markdown",
   "metadata": {},
   "source": [
    "(2.25đ) Với cột Nhiệt_độ, hãy tính các trị thống kê:"
   ]
  },
  {
   "cell_type": "markdown",
   "metadata": {},
   "source": [
    "(0.75đ) Trung bình (mean), trung vị (median) và mode của nhiệt độ."
   ]
  },
  {
   "cell_type": "code",
   "execution_count": 29,
   "metadata": {},
   "outputs": [
    {
     "name": "stdout",
     "output_type": "stream",
     "text": [
      "Trung bình: 26.621755829903975\n",
      "Trung vị: 28.5\n",
      "Mode:\n"
     ]
    },
    {
     "data": {
      "text/plain": [
       "0    30.0\n",
       "1    31.0\n",
       "Name: Nhiệt_độ, dtype: float64"
      ]
     },
     "execution_count": 29,
     "metadata": {},
     "output_type": "execute_result"
    }
   ],
   "source": [
    "nhiet_do_series = df[\"Nhiệt_độ\"]\n",
    "\n",
    "print(\"Trung bình:\", nhiet_do_series.mean())\n",
    "print(\"Trung vị:\", nhiet_do_series.median())\n",
    "print(\"Mode:\")\n",
    "nhiet_do_series.mode()"
   ]
  },
  {
   "cell_type": "markdown",
   "metadata": {},
   "source": [
    "(0.75đ) Độ lệch chuẩn (standard deviation) và phương sai (variance)."
   ]
  },
  {
   "cell_type": "code",
   "execution_count": 30,
   "metadata": {},
   "outputs": [
    {
     "name": "stdout",
     "output_type": "stream",
     "text": [
      "Độ lệch chuẩn: 5.981226226175125\n",
      "Phương sai: 35.77506716868513\n"
     ]
    }
   ],
   "source": [
    "print(\"Độ lệch chuẩn:\", nhiet_do_series.std())\n",
    "print(\"Phương sai:\", nhiet_do_series.var())"
   ]
  },
  {
   "cell_type": "markdown",
   "metadata": {},
   "source": [
    "3. (1.5đ) Dựa vào dữ liệu cột Thời_tiết, anh/chị hãy thực hiện:"
   ]
  },
  {
   "cell_type": "markdown",
   "metadata": {},
   "source": [
    "(0.75đ) Đếm số ngày có thời tiết \"Nắng\" và số ngày có thời tiết \"Mưa to\" hoặc \"Dông\"."
   ]
  },
  {
   "cell_type": "code",
   "execution_count": 31,
   "metadata": {},
   "outputs": [
    {
     "name": "stdout",
     "output_type": "stream",
     "text": [
      "Số ngày có thời tiết Nắng: 1461\n",
      "Số ngày có thời tiết Mưa to hoặc dông: 815\n"
     ]
    }
   ],
   "source": [
    "thoi_tiet_series = df[\"Thời_tiết\"]\n",
    "thoi_tiet_count = thoi_tiet_series.value_counts()\n",
    "\n",
    "print(\"Số ngày có thời tiết Nắng:\", thoi_tiet_count.loc[\"Nắng\"])\n",
    "print(\"Số ngày có thời tiết Mưa to hoặc dông:\", thoi_tiet_count.loc[\"Mưa to\"] + thoi_tiet_count.loc[\"Dông\"])"
   ]
  },
  {
   "cell_type": "markdown",
   "metadata": {},
   "source": [
    "(0.75đ) Vẽ đồ thị Pie để so sánh phân bố các loại thời tiết trong năm."
   ]
  },
  {
   "cell_type": "code",
   "execution_count": 32,
   "metadata": {},
   "outputs": [
    {
     "data": {
      "text/html": [
       "<div>\n",
       "<style scoped>\n",
       "    .dataframe tbody tr th:only-of-type {\n",
       "        vertical-align: middle;\n",
       "    }\n",
       "\n",
       "    .dataframe tbody tr th {\n",
       "        vertical-align: top;\n",
       "    }\n",
       "\n",
       "    .dataframe thead th {\n",
       "        text-align: right;\n",
       "    }\n",
       "</style>\n",
       "<table border=\"1\" class=\"dataframe\">\n",
       "  <thead>\n",
       "    <tr style=\"text-align: right;\">\n",
       "      <th></th>\n",
       "      <th>Thời tiết</th>\n",
       "      <th>Số ngày</th>\n",
       "    </tr>\n",
       "  </thead>\n",
       "  <tbody>\n",
       "    <tr>\n",
       "      <th>0</th>\n",
       "      <td>Nắng</td>\n",
       "      <td>1461</td>\n",
       "    </tr>\n",
       "    <tr>\n",
       "      <th>1</th>\n",
       "      <td>Mây</td>\n",
       "      <td>612</td>\n",
       "    </tr>\n",
       "    <tr>\n",
       "      <th>2</th>\n",
       "      <td>Mưa vừa</td>\n",
       "      <td>496</td>\n",
       "    </tr>\n",
       "    <tr>\n",
       "      <th>3</th>\n",
       "      <td>Dông</td>\n",
       "      <td>412</td>\n",
       "    </tr>\n",
       "    <tr>\n",
       "      <th>4</th>\n",
       "      <td>Mưa to</td>\n",
       "      <td>403</td>\n",
       "    </tr>\n",
       "    <tr>\n",
       "      <th>5</th>\n",
       "      <td>Mưa nhẹ</td>\n",
       "      <td>266</td>\n",
       "    </tr>\n",
       "  </tbody>\n",
       "</table>\n",
       "</div>"
      ],
      "text/plain": [
       "  Thời tiết  Số ngày\n",
       "0      Nắng     1461\n",
       "1       Mây      612\n",
       "2   Mưa vừa      496\n",
       "3      Dông      412\n",
       "4    Mưa to      403\n",
       "5   Mưa nhẹ      266"
      ]
     },
     "execution_count": 32,
     "metadata": {},
     "output_type": "execute_result"
    }
   ],
   "source": [
    "thoi_tiet_df = thoi_tiet_count.reset_index()\n",
    "thoi_tiet_df.columns = [\"Thời tiết\", \"Số ngày\"]\n",
    "thoi_tiet_df"
   ]
  },
  {
   "cell_type": "code",
   "execution_count": 33,
   "metadata": {},
   "outputs": [
    {
     "data": {
      "image/png": "[encoded data removed]",
      "text/plain": [
       "<Figure size 600x600 with 1 Axes>"
      ]
     },
     "metadata": {},
     "output_type": "display_data"
    }
   ],
   "source": [
    "plt.figure(figsize=(6, 6))\n",
    "plt.pie(thoi_tiet_df[\"Số ngày\"], labels=thoi_tiet_df[\"Thời tiết\"], autopct=\"%1.1f%%\")\n",
    "plt.title(\"đồ thị Pie để so sánh phân bố các loại thời tiết trong năm\")\n",
    "plt.show()"
   ]
  },
  {
   "cell_type": "markdown",
   "metadata": {},
   "source": [
    "4. (1.75đ)"
   ]
  },
  {
   "cell_type": "markdown",
   "metadata": {},
   "source": [
    "(0.75đ) Liệt kê 20 ngày có chỉ số AQI cao nhất và thành phố tương ứng."
   ]
  },
  {
   "cell_type": "code",
   "execution_count": 34,
   "metadata": {},
   "outputs": [
    {
     "data": {
      "text/html": [
       "<div>\n",
       "<style scoped>\n",
       "    .dataframe tbody tr th:only-of-type {\n",
       "        vertical-align: middle;\n",
       "    }\n",
       "\n",
       "    .dataframe tbody tr th {\n",
       "        vertical-align: top;\n",
       "    }\n",
       "\n",
       "    .dataframe thead th {\n",
       "        text-align: right;\n",
       "    }\n",
       "</style>\n",
       "<table border=\"1\" class=\"dataframe\">\n",
       "  <thead>\n",
       "    <tr style=\"text-align: right;\">\n",
       "      <th></th>\n",
       "      <th>Thành_phố</th>\n",
       "      <th>AQI</th>\n",
       "    </tr>\n",
       "  </thead>\n",
       "  <tbody>\n",
       "    <tr>\n",
       "      <th>3421</th>\n",
       "      <td>TP Hồ Chí Minh</td>\n",
       "      <td>103.0</td>\n",
       "    </tr>\n",
       "    <tr>\n",
       "      <th>2631</th>\n",
       "      <td>TP Hồ Chí Minh</td>\n",
       "      <td>102.0</td>\n",
       "    </tr>\n",
       "    <tr>\n",
       "      <th>1231</th>\n",
       "      <td>TP Hồ Chí Minh</td>\n",
       "      <td>97.0</td>\n",
       "    </tr>\n",
       "    <tr>\n",
       "      <th>261</th>\n",
       "      <td>TP Hồ Chí Minh</td>\n",
       "      <td>97.0</td>\n",
       "    </tr>\n",
       "    <tr>\n",
       "      <th>3610</th>\n",
       "      <td>Hà Nội</td>\n",
       "      <td>97.0</td>\n",
       "    </tr>\n",
       "    <tr>\n",
       "      <th>280</th>\n",
       "      <td>Hà Nội</td>\n",
       "      <td>96.0</td>\n",
       "    </tr>\n",
       "    <tr>\n",
       "      <th>2611</th>\n",
       "      <td>TP Hồ Chí Minh</td>\n",
       "      <td>95.0</td>\n",
       "    </tr>\n",
       "    <tr>\n",
       "      <th>2691</th>\n",
       "      <td>TP Hồ Chí Minh</td>\n",
       "      <td>94.0</td>\n",
       "    </tr>\n",
       "    <tr>\n",
       "      <th>1121</th>\n",
       "      <td>TP Hồ Chí Minh</td>\n",
       "      <td>94.0</td>\n",
       "    </tr>\n",
       "    <tr>\n",
       "      <th>241</th>\n",
       "      <td>TP Hồ Chí Minh</td>\n",
       "      <td>93.0</td>\n",
       "    </tr>\n",
       "  </tbody>\n",
       "</table>\n",
       "</div>"
      ],
      "text/plain": [
       "           Thành_phố    AQI\n",
       "3421  TP Hồ Chí Minh  103.0\n",
       "2631  TP Hồ Chí Minh  102.0\n",
       "1231  TP Hồ Chí Minh   97.0\n",
       "261   TP Hồ Chí Minh   97.0\n",
       "3610          Hà Nội   97.0\n",
       "280           Hà Nội   96.0\n",
       "2611  TP Hồ Chí Minh   95.0\n",
       "2691  TP Hồ Chí Minh   94.0\n",
       "1121  TP Hồ Chí Minh   94.0\n",
       "241   TP Hồ Chí Minh   93.0"
      ]
     },
     "execution_count": 34,
     "metadata": {},
     "output_type": "execute_result"
    }
   ],
   "source": [
    "df[[\"Thành_phố\", \"AQI\"]].sort_values(by=\"AQI\", ascending=False).head(10)"
   ]
  },
  {
   "cell_type": "markdown",
   "metadata": {},
   "source": [
    "(0.75đ) Tính nhiệt độ trung bình theo tháng cho mỗi thành phố và hiển thị kết quả."
   ]
  },
  {
   "cell_type": "code",
   "execution_count": 35,
   "metadata": {},
   "outputs": [
    {
     "data": {
      "text/html": [
       "<div>\n",
       "<style scoped>\n",
       "    .dataframe tbody tr th:only-of-type {\n",
       "        vertical-align: middle;\n",
       "    }\n",
       "\n",
       "    .dataframe tbody tr th {\n",
       "        vertical-align: top;\n",
       "    }\n",
       "\n",
       "    .dataframe thead th {\n",
       "        text-align: right;\n",
       "    }\n",
       "</style>\n",
       "<table border=\"1\" class=\"dataframe\">\n",
       "  <thead>\n",
       "    <tr style=\"text-align: right;\">\n",
       "      <th></th>\n",
       "      <th>Thành_phố</th>\n",
       "      <th>Tháng</th>\n",
       "      <th>Nhiệt_độ_TB</th>\n",
       "    </tr>\n",
       "  </thead>\n",
       "  <tbody>\n",
       "    <tr>\n",
       "      <th>0</th>\n",
       "      <td>Cần Thơ</td>\n",
       "      <td>01</td>\n",
       "      <td>31.732258</td>\n",
       "    </tr>\n",
       "    <tr>\n",
       "      <th>1</th>\n",
       "      <td>Cần Thơ</td>\n",
       "      <td>02</td>\n",
       "      <td>31.546429</td>\n",
       "    </tr>\n",
       "    <tr>\n",
       "      <th>2</th>\n",
       "      <td>Cần Thơ</td>\n",
       "      <td>03</td>\n",
       "      <td>32.790323</td>\n",
       "    </tr>\n",
       "    <tr>\n",
       "      <th>3</th>\n",
       "      <td>Cần Thơ</td>\n",
       "      <td>04</td>\n",
       "      <td>32.306667</td>\n",
       "    </tr>\n",
       "    <tr>\n",
       "      <th>4</th>\n",
       "      <td>Cần Thơ</td>\n",
       "      <td>05</td>\n",
       "      <td>29.838710</td>\n",
       "    </tr>\n",
       "    <tr>\n",
       "      <th>...</th>\n",
       "      <td>...</td>\n",
       "      <td>...</td>\n",
       "      <td>...</td>\n",
       "    </tr>\n",
       "    <tr>\n",
       "      <th>115</th>\n",
       "      <td>Đà Nẵng</td>\n",
       "      <td>08</td>\n",
       "      <td>29.919355</td>\n",
       "    </tr>\n",
       "    <tr>\n",
       "      <th>116</th>\n",
       "      <td>Đà Nẵng</td>\n",
       "      <td>09</td>\n",
       "      <td>23.723333</td>\n",
       "    </tr>\n",
       "    <tr>\n",
       "      <th>117</th>\n",
       "      <td>Đà Nẵng</td>\n",
       "      <td>10</td>\n",
       "      <td>23.912903</td>\n",
       "    </tr>\n",
       "    <tr>\n",
       "      <th>118</th>\n",
       "      <td>Đà Nẵng</td>\n",
       "      <td>11</td>\n",
       "      <td>23.723333</td>\n",
       "    </tr>\n",
       "    <tr>\n",
       "      <th>119</th>\n",
       "      <td>Đà Nẵng</td>\n",
       "      <td>12</td>\n",
       "      <td>24.264516</td>\n",
       "    </tr>\n",
       "  </tbody>\n",
       "</table>\n",
       "<p>120 rows × 3 columns</p>\n",
       "</div>"
      ],
      "text/plain": [
       "    Thành_phố Tháng  Nhiệt_độ_TB\n",
       "0     Cần Thơ    01    31.732258\n",
       "1     Cần Thơ    02    31.546429\n",
       "2     Cần Thơ    03    32.790323\n",
       "3     Cần Thơ    04    32.306667\n",
       "4     Cần Thơ    05    29.838710\n",
       "..        ...   ...          ...\n",
       "115   Đà Nẵng    08    29.919355\n",
       "116   Đà Nẵng    09    23.723333\n",
       "117   Đà Nẵng    10    23.912903\n",
       "118   Đà Nẵng    11    23.723333\n",
       "119   Đà Nẵng    12    24.264516\n",
       "\n",
       "[120 rows x 3 columns]"
      ]
     },
     "execution_count": 35,
     "metadata": {},
     "output_type": "execute_result"
    }
   ],
   "source": [
    "def split_month(x):\n",
    "    return x.split(\"-\")[1]\n",
    "\n",
    "df[\"Tháng\"] = df[\"Ngày\"].apply(split_month)\n",
    "df\n",
    "\n",
    "df.groupby([\"Thành_phố\", \"Tháng\"]).agg(Nhiệt_độ_TB=(\"Nhiệt_độ\", \"mean\")).reset_index()"
   ]
  },
  {
   "cell_type": "markdown",
   "metadata": {},
   "source": [
    "(0.25đ) Cho biết thành phố có lượng mưa trung bình năm cao nhất."
   ]
  },
  {
   "cell_type": "code",
   "execution_count": 36,
   "metadata": {},
   "outputs": [
    {
     "data": {
      "text/html": [
       "<div>\n",
       "<style scoped>\n",
       "    .dataframe tbody tr th:only-of-type {\n",
       "        vertical-align: middle;\n",
       "    }\n",
       "\n",
       "    .dataframe tbody tr th {\n",
       "        vertical-align: top;\n",
       "    }\n",
       "\n",
       "    .dataframe thead th {\n",
       "        text-align: right;\n",
       "    }\n",
       "</style>\n",
       "<table border=\"1\" class=\"dataframe\">\n",
       "  <thead>\n",
       "    <tr style=\"text-align: right;\">\n",
       "      <th></th>\n",
       "      <th>Thành_phố</th>\n",
       "      <th>Lượng_mưa_TB</th>\n",
       "    </tr>\n",
       "  </thead>\n",
       "  <tbody>\n",
       "    <tr>\n",
       "      <th>8</th>\n",
       "      <td>Đà Lạt</td>\n",
       "      <td>25.119178</td>\n",
       "    </tr>\n",
       "  </tbody>\n",
       "</table>\n",
       "</div>"
      ],
      "text/plain": [
       "  Thành_phố  Lượng_mưa_TB\n",
       "8    Đà Lạt     25.119178"
      ]
     },
     "execution_count": 36,
     "metadata": {},
     "output_type": "execute_result"
    }
   ],
   "source": [
    "city = df.groupby([\"Thành_phố\"]).agg(Lượng_mưa_TB=(\"Lượng_mưa\", \"mean\")).reset_index()\n",
    "max_luong_mua = city[\"Lượng_mưa_TB\"].max()\n",
    "city[city[\"Lượng_mưa_TB\"] == max_luong_mua]"
   ]
  },
  {
   "cell_type": "markdown",
   "metadata": {},
   "source": [
    "5. (1.5đ)"
   ]
  },
  {
   "cell_type": "markdown",
   "metadata": {},
   "source": [
    "(0.75đ) Thống kê để hoàn thành bảng số liệu dưới đây."
   ]
  },
  {
   "cell_type": "code",
   "execution_count": 37,
   "metadata": {},
   "outputs": [
    {
     "data": {
      "text/html": [
       "<div>\n",
       "<style scoped>\n",
       "    .dataframe tbody tr th:only-of-type {\n",
       "        vertical-align: middle;\n",
       "    }\n",
       "\n",
       "    .dataframe tbody tr th {\n",
       "        vertical-align: top;\n",
       "    }\n",
       "\n",
       "    .dataframe thead th {\n",
       "        text-align: right;\n",
       "    }\n",
       "</style>\n",
       "<table border=\"1\" class=\"dataframe\">\n",
       "  <thead>\n",
       "    <tr style=\"text-align: right;\">\n",
       "      <th></th>\n",
       "      <th>Khu_vực</th>\n",
       "      <th>Nhiệt_Độ_TB</th>\n",
       "      <th>Lượng_Mưa_TB</th>\n",
       "      <th>AQI_TB</th>\n",
       "    </tr>\n",
       "  </thead>\n",
       "  <tbody>\n",
       "    <tr>\n",
       "      <th>0</th>\n",
       "      <td>Bắc Bộ</td>\n",
       "      <td>24.109615</td>\n",
       "      <td>9.569653</td>\n",
       "      <td>62.149909</td>\n",
       "    </tr>\n",
       "    <tr>\n",
       "      <th>1</th>\n",
       "      <td>Nam Bộ</td>\n",
       "      <td>31.247075</td>\n",
       "      <td>16.885897</td>\n",
       "      <td>55.472095</td>\n",
       "    </tr>\n",
       "    <tr>\n",
       "      <th>2</th>\n",
       "      <td>Trung Bộ</td>\n",
       "      <td>27.404479</td>\n",
       "      <td>15.668767</td>\n",
       "      <td>41.495883</td>\n",
       "    </tr>\n",
       "    <tr>\n",
       "      <th>3</th>\n",
       "      <td>Tây Nguyên</td>\n",
       "      <td>17.928219</td>\n",
       "      <td>25.119178</td>\n",
       "      <td>27.425824</td>\n",
       "    </tr>\n",
       "  </tbody>\n",
       "</table>\n",
       "</div>"
      ],
      "text/plain": [
       "      Khu_vực  Nhiệt_Độ_TB  Lượng_Mưa_TB     AQI_TB\n",
       "0      Bắc Bộ    24.109615      9.569653  62.149909\n",
       "1      Nam Bộ    31.247075     16.885897  55.472095\n",
       "2    Trung Bộ    27.404479     15.668767  41.495883\n",
       "3  Tây Nguyên    17.928219     25.119178  27.425824"
      ]
     },
     "execution_count": 37,
     "metadata": {},
     "output_type": "execute_result"
    }
   ],
   "source": [
    "new_df = df.groupby([\"Khu_vực\"]).agg(Nhiệt_Độ_TB=(\"Nhiệt_độ\", \"mean\"), Lượng_Mưa_TB=(\"Lượng_mưa\", \"mean\"), AQI_TB=(\"AQI\", \"mean\"))\n",
    "new_df = new_df.reset_index()\n",
    "new_df"
   ]
  },
  {
   "cell_type": "markdown",
   "metadata": {},
   "source": [
    "(0.75đ) Từ đó trực quan hóa dữ liệu Bảng 1 bằng đồ thị Bar."
   ]
  },
  {
   "cell_type": "code",
   "execution_count": 38,
   "metadata": {},
   "outputs": [
    {
     "data": {
      "image/png": "[encoded data removed]",
      "text/plain": [
       "<Figure size 600x400 with 1 Axes>"
      ]
     },
     "metadata": {},
     "output_type": "display_data"
    }
   ],
   "source": [
    "plt.figure(figsize=(6, 4))\n",
    "plt.bar(new_df[\"Khu_vực\"], new_df[\"Nhiệt_Độ_TB\"])\n",
    "\n",
    "plt.xlabel(\"Khu vực\")\n",
    "plt.ylabel(\"Nhiệt độ TB\")\n",
    "plt.title(\"Nhiệt độ trung bình theo khu vực\")\n",
    "plt.show()"
   ]
  },
  {
   "cell_type": "code",
   "execution_count": 39,
   "metadata": {},
   "outputs": [
    {
     "data": {
      "image/png": "[encoded data removed]",
      "text/plain": [
       "<Figure size 600x400 with 1 Axes>"
      ]
     },
     "metadata": {},
     "output_type": "display_data"
    }
   ],
   "source": [
    "plt.figure(figsize=(6, 4))\n",
    "plt.bar(new_df[\"Khu_vực\"], new_df[\"Lượng_Mưa_TB\"])\n",
    "\n",
    "plt.xlabel(\"Khu vực\")\n",
    "plt.ylabel(\"Lượng Mưa TB\")\n",
    "plt.title(\"Lượng mưa trung bình theo khu vực\")\n",
    "plt.show()"
   ]
  },
  {
   "cell_type": "code",
   "execution_count": 40,
   "metadata": {},
   "outputs": [
    {
     "data": {
      "image/png": "[encoded data removed]",
      "text/plain": [
       "<Figure size 600x400 with 1 Axes>"
      ]
     },
     "metadata": {},
     "output_type": "display_data"
    }
   ],
   "source": [
    "plt.figure(figsize=(6, 4))\n",
    "plt.bar(new_df[\"Khu_vực\"], new_df[\"AQI_TB\"])\n",
    "\n",
    "plt.xlabel(\"Khu vực\")\n",
    "plt.ylabel(\"AQI TB\")\n",
    "plt.title(\"AQI trung bình theo khu vực\")\n",
    "plt.show()"
   ]
  }
 ],
 "metadata": {
  "kernelspec": {
   "display_name": "Python 3",
   "language": "python",
   "name": "python3"
  },
  "language_info": {
   "codemirror_mode": {
    "name": "ipython",
    "version": 3
   },
   "file_extension": ".py",
   "mimetype": "text/x-python",
   "name": "python",
   "nbconvert_exporter": "python",
   "pygments_lexer": "ipython3",
   "version": "3.12.5"
  }
 },
 "nbformat": 4,
 "nbformat_minor": 4
}
