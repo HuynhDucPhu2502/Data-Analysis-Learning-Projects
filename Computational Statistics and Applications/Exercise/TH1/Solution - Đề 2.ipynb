{
 "cells": [
  {
   "cell_type": "code",
   "execution_count": 1,
   "metadata": {},
   "outputs": [],
   "source": [
    "import pandas as pd\n",
    "import numpy as  np\n",
    "import matplotlib.pyplot as plt\n",
    "import seaborn as sns"
   ]
  },
  {
   "cell_type": "markdown",
   "metadata": {},
   "source": [
    "1.\t(1.0đ) Đọc file dữ liệu diem_thi_thpt_2022.csv vào một DataFrame."
   ]
  },
  {
   "cell_type": "code",
   "execution_count": null,
   "metadata": {},
   "outputs": [],
   "source": [
    "df = pd.read_csv(\"../data/diem_thi_thpt_2022.csv\")\n",
    "\n",
    "\n",
    "# pd.to_datetime('22-03-2025', format='%d-%m-%Y')"
   ]
  },
  {
   "cell_type": "markdown",
   "metadata": {},
   "source": [
    "2.\t(0.5đ) Hiển thị 10 dòng đầu tiên và 10 dòng cuối cùng của bảng dữ liệu."
   ]
  },
  {
   "cell_type": "code",
   "execution_count": 3,
   "metadata": {},
   "outputs": [
    {
     "data": {
      "text/html": [
       "<div>\n",
       "<style scoped>\n",
       "    .dataframe tbody tr th:only-of-type {\n",
       "        vertical-align: middle;\n",
       "    }\n",
       "\n",
       "    .dataframe tbody tr th {\n",
       "        vertical-align: top;\n",
       "    }\n",
       "\n",
       "    .dataframe thead th {\n",
       "        text-align: right;\n",
       "    }\n",
       "</style>\n",
       "<table border=\"1\" class=\"dataframe\">\n",
       "  <thead>\n",
       "    <tr style=\"text-align: right;\">\n",
       "      <th></th>\n",
       "      <th>sbd</th>\n",
       "      <th>toan</th>\n",
       "      <th>ngu_van</th>\n",
       "      <th>ngoai_ngu</th>\n",
       "      <th>vat_li</th>\n",
       "      <th>hoa_hoc</th>\n",
       "      <th>sinh_hoc</th>\n",
       "      <th>lich_su</th>\n",
       "      <th>dia_li</th>\n",
       "      <th>gdcd</th>\n",
       "      <th>tentinh</th>\n",
       "      <th>Khoi</th>\n",
       "    </tr>\n",
       "  </thead>\n",
       "  <tbody>\n",
       "    <tr>\n",
       "      <th>0</th>\n",
       "      <td>1000001</td>\n",
       "      <td>3.6</td>\n",
       "      <td>5.00</td>\n",
       "      <td>4.0</td>\n",
       "      <td>NaN</td>\n",
       "      <td>NaN</td>\n",
       "      <td>NaN</td>\n",
       "      <td>2.75</td>\n",
       "      <td>6.00</td>\n",
       "      <td>8.75</td>\n",
       "      <td>thành phố hà nội</td>\n",
       "      <td>KHXH</td>\n",
       "    </tr>\n",
       "    <tr>\n",
       "      <th>1</th>\n",
       "      <td>1000002</td>\n",
       "      <td>8.4</td>\n",
       "      <td>6.75</td>\n",
       "      <td>7.6</td>\n",
       "      <td>NaN</td>\n",
       "      <td>NaN</td>\n",
       "      <td>NaN</td>\n",
       "      <td>8.50</td>\n",
       "      <td>7.50</td>\n",
       "      <td>8.25</td>\n",
       "      <td>thành phố hà nội</td>\n",
       "      <td>KHXH</td>\n",
       "    </tr>\n",
       "    <tr>\n",
       "      <th>2</th>\n",
       "      <td>1000003</td>\n",
       "      <td>5.8</td>\n",
       "      <td>7.50</td>\n",
       "      <td>5.0</td>\n",
       "      <td>NaN</td>\n",
       "      <td>NaN</td>\n",
       "      <td>NaN</td>\n",
       "      <td>7.25</td>\n",
       "      <td>5.50</td>\n",
       "      <td>8.75</td>\n",
       "      <td>thành phố hà nội</td>\n",
       "      <td>KHXH</td>\n",
       "    </tr>\n",
       "    <tr>\n",
       "      <th>3</th>\n",
       "      <td>1000004</td>\n",
       "      <td>7.4</td>\n",
       "      <td>7.50</td>\n",
       "      <td>8.6</td>\n",
       "      <td>NaN</td>\n",
       "      <td>NaN</td>\n",
       "      <td>NaN</td>\n",
       "      <td>7.50</td>\n",
       "      <td>6.50</td>\n",
       "      <td>7.50</td>\n",
       "      <td>thành phố hà nội</td>\n",
       "      <td>KHXH</td>\n",
       "    </tr>\n",
       "    <tr>\n",
       "      <th>4</th>\n",
       "      <td>1000005</td>\n",
       "      <td>7.2</td>\n",
       "      <td>8.50</td>\n",
       "      <td>9.0</td>\n",
       "      <td>NaN</td>\n",
       "      <td>NaN</td>\n",
       "      <td>NaN</td>\n",
       "      <td>8.00</td>\n",
       "      <td>8.50</td>\n",
       "      <td>8.25</td>\n",
       "      <td>thành phố hà nội</td>\n",
       "      <td>KHXH</td>\n",
       "    </tr>\n",
       "    <tr>\n",
       "      <th>5</th>\n",
       "      <td>1000006</td>\n",
       "      <td>6.8</td>\n",
       "      <td>8.50</td>\n",
       "      <td>9.4</td>\n",
       "      <td>NaN</td>\n",
       "      <td>NaN</td>\n",
       "      <td>NaN</td>\n",
       "      <td>7.00</td>\n",
       "      <td>7.50</td>\n",
       "      <td>9.25</td>\n",
       "      <td>thành phố hà nội</td>\n",
       "      <td>KHXH</td>\n",
       "    </tr>\n",
       "    <tr>\n",
       "      <th>6</th>\n",
       "      <td>1000007</td>\n",
       "      <td>7.2</td>\n",
       "      <td>6.00</td>\n",
       "      <td>5.0</td>\n",
       "      <td>NaN</td>\n",
       "      <td>NaN</td>\n",
       "      <td>NaN</td>\n",
       "      <td>8.00</td>\n",
       "      <td>7.50</td>\n",
       "      <td>9.00</td>\n",
       "      <td>thành phố hà nội</td>\n",
       "      <td>KHXH</td>\n",
       "    </tr>\n",
       "    <tr>\n",
       "      <th>7</th>\n",
       "      <td>1000008</td>\n",
       "      <td>8.0</td>\n",
       "      <td>8.00</td>\n",
       "      <td>8.0</td>\n",
       "      <td>NaN</td>\n",
       "      <td>NaN</td>\n",
       "      <td>NaN</td>\n",
       "      <td>5.25</td>\n",
       "      <td>7.00</td>\n",
       "      <td>7.00</td>\n",
       "      <td>thành phố hà nội</td>\n",
       "      <td>KHXH</td>\n",
       "    </tr>\n",
       "    <tr>\n",
       "      <th>8</th>\n",
       "      <td>1000009</td>\n",
       "      <td>2.6</td>\n",
       "      <td>5.25</td>\n",
       "      <td>NaN</td>\n",
       "      <td>NaN</td>\n",
       "      <td>NaN</td>\n",
       "      <td>NaN</td>\n",
       "      <td>5.25</td>\n",
       "      <td>6.75</td>\n",
       "      <td>NaN</td>\n",
       "      <td>thành phố hà nội</td>\n",
       "      <td>NaN</td>\n",
       "    </tr>\n",
       "    <tr>\n",
       "      <th>9</th>\n",
       "      <td>1000010</td>\n",
       "      <td>8.8</td>\n",
       "      <td>8.00</td>\n",
       "      <td>7.0</td>\n",
       "      <td>NaN</td>\n",
       "      <td>NaN</td>\n",
       "      <td>NaN</td>\n",
       "      <td>6.50</td>\n",
       "      <td>6.50</td>\n",
       "      <td>6.75</td>\n",
       "      <td>thành phố hà nội</td>\n",
       "      <td>KHXH</td>\n",
       "    </tr>\n",
       "  </tbody>\n",
       "</table>\n",
       "</div>"
      ],
      "text/plain": [
       "       sbd  toan  ngu_van  ngoai_ngu  vat_li  hoa_hoc  sinh_hoc  lich_su  \\\n",
       "0  1000001   3.6     5.00        4.0     NaN      NaN       NaN     2.75   \n",
       "1  1000002   8.4     6.75        7.6     NaN      NaN       NaN     8.50   \n",
       "2  1000003   5.8     7.50        5.0     NaN      NaN       NaN     7.25   \n",
       "3  1000004   7.4     7.50        8.6     NaN      NaN       NaN     7.50   \n",
       "4  1000005   7.2     8.50        9.0     NaN      NaN       NaN     8.00   \n",
       "5  1000006   6.8     8.50        9.4     NaN      NaN       NaN     7.00   \n",
       "6  1000007   7.2     6.00        5.0     NaN      NaN       NaN     8.00   \n",
       "7  1000008   8.0     8.00        8.0     NaN      NaN       NaN     5.25   \n",
       "8  1000009   2.6     5.25        NaN     NaN      NaN       NaN     5.25   \n",
       "9  1000010   8.8     8.00        7.0     NaN      NaN       NaN     6.50   \n",
       "\n",
       "   dia_li  gdcd           tentinh  Khoi  \n",
       "0    6.00  8.75  thành phố hà nội  KHXH  \n",
       "1    7.50  8.25  thành phố hà nội  KHXH  \n",
       "2    5.50  8.75  thành phố hà nội  KHXH  \n",
       "3    6.50  7.50  thành phố hà nội  KHXH  \n",
       "4    8.50  8.25  thành phố hà nội  KHXH  \n",
       "5    7.50  9.25  thành phố hà nội  KHXH  \n",
       "6    7.50  9.00  thành phố hà nội  KHXH  \n",
       "7    7.00  7.00  thành phố hà nội  KHXH  \n",
       "8    6.75   NaN  thành phố hà nội   NaN  \n",
       "9    6.50  6.75  thành phố hà nội  KHXH  "
      ]
     },
     "execution_count": 3,
     "metadata": {},
     "output_type": "execute_result"
    }
   ],
   "source": [
    "df.head(10)"
   ]
  },
  {
   "cell_type": "code",
   "execution_count": 4,
   "metadata": {},
   "outputs": [
    {
     "data": {
      "text/html": [
       "<div>\n",
       "<style scoped>\n",
       "    .dataframe tbody tr th:only-of-type {\n",
       "        vertical-align: middle;\n",
       "    }\n",
       "\n",
       "    .dataframe tbody tr th {\n",
       "        vertical-align: top;\n",
       "    }\n",
       "\n",
       "    .dataframe thead th {\n",
       "        text-align: right;\n",
       "    }\n",
       "</style>\n",
       "<table border=\"1\" class=\"dataframe\">\n",
       "  <thead>\n",
       "    <tr style=\"text-align: right;\">\n",
       "      <th></th>\n",
       "      <th>sbd</th>\n",
       "      <th>toan</th>\n",
       "      <th>ngu_van</th>\n",
       "      <th>ngoai_ngu</th>\n",
       "      <th>vat_li</th>\n",
       "      <th>hoa_hoc</th>\n",
       "      <th>sinh_hoc</th>\n",
       "      <th>lich_su</th>\n",
       "      <th>dia_li</th>\n",
       "      <th>gdcd</th>\n",
       "      <th>tentinh</th>\n",
       "      <th>Khoi</th>\n",
       "    </tr>\n",
       "  </thead>\n",
       "  <tbody>\n",
       "    <tr>\n",
       "      <th>982716</th>\n",
       "      <td>64006579</td>\n",
       "      <td>6.4</td>\n",
       "      <td>7.00</td>\n",
       "      <td>3.6</td>\n",
       "      <td>NaN</td>\n",
       "      <td>NaN</td>\n",
       "      <td>NaN</td>\n",
       "      <td>5.00</td>\n",
       "      <td>6.00</td>\n",
       "      <td>6.75</td>\n",
       "      <td>tỉnh hậu giang</td>\n",
       "      <td>KHXH</td>\n",
       "    </tr>\n",
       "    <tr>\n",
       "      <th>982717</th>\n",
       "      <td>64006580</td>\n",
       "      <td>6.0</td>\n",
       "      <td>6.25</td>\n",
       "      <td>2.2</td>\n",
       "      <td>NaN</td>\n",
       "      <td>NaN</td>\n",
       "      <td>NaN</td>\n",
       "      <td>5.00</td>\n",
       "      <td>4.50</td>\n",
       "      <td>7.00</td>\n",
       "      <td>tỉnh hậu giang</td>\n",
       "      <td>KHXH</td>\n",
       "    </tr>\n",
       "    <tr>\n",
       "      <th>982718</th>\n",
       "      <td>64006581</td>\n",
       "      <td>6.6</td>\n",
       "      <td>6.00</td>\n",
       "      <td>4.2</td>\n",
       "      <td>NaN</td>\n",
       "      <td>NaN</td>\n",
       "      <td>NaN</td>\n",
       "      <td>6.00</td>\n",
       "      <td>6.75</td>\n",
       "      <td>7.75</td>\n",
       "      <td>tỉnh hậu giang</td>\n",
       "      <td>KHXH</td>\n",
       "    </tr>\n",
       "    <tr>\n",
       "      <th>982719</th>\n",
       "      <td>64006582</td>\n",
       "      <td>5.2</td>\n",
       "      <td>6.50</td>\n",
       "      <td>1.8</td>\n",
       "      <td>NaN</td>\n",
       "      <td>NaN</td>\n",
       "      <td>NaN</td>\n",
       "      <td>4.00</td>\n",
       "      <td>5.50</td>\n",
       "      <td>7.50</td>\n",
       "      <td>tỉnh hậu giang</td>\n",
       "      <td>KHXH</td>\n",
       "    </tr>\n",
       "    <tr>\n",
       "      <th>982720</th>\n",
       "      <td>64006583</td>\n",
       "      <td>5.0</td>\n",
       "      <td>6.50</td>\n",
       "      <td>3.8</td>\n",
       "      <td>NaN</td>\n",
       "      <td>NaN</td>\n",
       "      <td>NaN</td>\n",
       "      <td>6.75</td>\n",
       "      <td>7.50</td>\n",
       "      <td>8.50</td>\n",
       "      <td>tỉnh hậu giang</td>\n",
       "      <td>KHXH</td>\n",
       "    </tr>\n",
       "    <tr>\n",
       "      <th>982721</th>\n",
       "      <td>64006584</td>\n",
       "      <td>8.4</td>\n",
       "      <td>6.75</td>\n",
       "      <td>4.6</td>\n",
       "      <td>NaN</td>\n",
       "      <td>NaN</td>\n",
       "      <td>NaN</td>\n",
       "      <td>6.50</td>\n",
       "      <td>6.75</td>\n",
       "      <td>9.00</td>\n",
       "      <td>tỉnh hậu giang</td>\n",
       "      <td>KHXH</td>\n",
       "    </tr>\n",
       "    <tr>\n",
       "      <th>982722</th>\n",
       "      <td>64006585</td>\n",
       "      <td>5.6</td>\n",
       "      <td>6.50</td>\n",
       "      <td>2.8</td>\n",
       "      <td>NaN</td>\n",
       "      <td>NaN</td>\n",
       "      <td>NaN</td>\n",
       "      <td>6.25</td>\n",
       "      <td>6.75</td>\n",
       "      <td>8.50</td>\n",
       "      <td>tỉnh hậu giang</td>\n",
       "      <td>KHXH</td>\n",
       "    </tr>\n",
       "    <tr>\n",
       "      <th>982723</th>\n",
       "      <td>64006586</td>\n",
       "      <td>5.8</td>\n",
       "      <td>6.00</td>\n",
       "      <td>6.6</td>\n",
       "      <td>NaN</td>\n",
       "      <td>NaN</td>\n",
       "      <td>NaN</td>\n",
       "      <td>7.25</td>\n",
       "      <td>8.00</td>\n",
       "      <td>8.00</td>\n",
       "      <td>tỉnh hậu giang</td>\n",
       "      <td>KHXH</td>\n",
       "    </tr>\n",
       "    <tr>\n",
       "      <th>982724</th>\n",
       "      <td>64006587</td>\n",
       "      <td>7.6</td>\n",
       "      <td>6.75</td>\n",
       "      <td>7.0</td>\n",
       "      <td>NaN</td>\n",
       "      <td>NaN</td>\n",
       "      <td>NaN</td>\n",
       "      <td>8.75</td>\n",
       "      <td>7.25</td>\n",
       "      <td>9.75</td>\n",
       "      <td>tỉnh hậu giang</td>\n",
       "      <td>KHXH</td>\n",
       "    </tr>\n",
       "    <tr>\n",
       "      <th>982725</th>\n",
       "      <td>64006588</td>\n",
       "      <td>6.6</td>\n",
       "      <td>4.50</td>\n",
       "      <td>3.2</td>\n",
       "      <td>NaN</td>\n",
       "      <td>NaN</td>\n",
       "      <td>NaN</td>\n",
       "      <td>3.00</td>\n",
       "      <td>6.00</td>\n",
       "      <td>7.50</td>\n",
       "      <td>tỉnh hậu giang</td>\n",
       "      <td>KHXH</td>\n",
       "    </tr>\n",
       "  </tbody>\n",
       "</table>\n",
       "</div>"
      ],
      "text/plain": [
       "             sbd  toan  ngu_van  ngoai_ngu  vat_li  hoa_hoc  sinh_hoc  \\\n",
       "982716  64006579   6.4     7.00        3.6     NaN      NaN       NaN   \n",
       "982717  64006580   6.0     6.25        2.2     NaN      NaN       NaN   \n",
       "982718  64006581   6.6     6.00        4.2     NaN      NaN       NaN   \n",
       "982719  64006582   5.2     6.50        1.8     NaN      NaN       NaN   \n",
       "982720  64006583   5.0     6.50        3.8     NaN      NaN       NaN   \n",
       "982721  64006584   8.4     6.75        4.6     NaN      NaN       NaN   \n",
       "982722  64006585   5.6     6.50        2.8     NaN      NaN       NaN   \n",
       "982723  64006586   5.8     6.00        6.6     NaN      NaN       NaN   \n",
       "982724  64006587   7.6     6.75        7.0     NaN      NaN       NaN   \n",
       "982725  64006588   6.6     4.50        3.2     NaN      NaN       NaN   \n",
       "\n",
       "        lich_su  dia_li  gdcd         tentinh  Khoi  \n",
       "982716     5.00    6.00  6.75  tỉnh hậu giang  KHXH  \n",
       "982717     5.00    4.50  7.00  tỉnh hậu giang  KHXH  \n",
       "982718     6.00    6.75  7.75  tỉnh hậu giang  KHXH  \n",
       "982719     4.00    5.50  7.50  tỉnh hậu giang  KHXH  \n",
       "982720     6.75    7.50  8.50  tỉnh hậu giang  KHXH  \n",
       "982721     6.50    6.75  9.00  tỉnh hậu giang  KHXH  \n",
       "982722     6.25    6.75  8.50  tỉnh hậu giang  KHXH  \n",
       "982723     7.25    8.00  8.00  tỉnh hậu giang  KHXH  \n",
       "982724     8.75    7.25  9.75  tỉnh hậu giang  KHXH  \n",
       "982725     3.00    6.00  7.50  tỉnh hậu giang  KHXH  "
      ]
     },
     "execution_count": 4,
     "metadata": {},
     "output_type": "execute_result"
    }
   ],
   "source": [
    "df.tail(10)"
   ]
  },
  {
   "cell_type": "markdown",
   "metadata": {},
   "source": [
    "3.\t(0.5đ) Xác định số lượng dòng và cột của dataset."
   ]
  },
  {
   "cell_type": "code",
   "execution_count": 5,
   "metadata": {},
   "outputs": [
    {
     "name": "stdout",
     "output_type": "stream",
     "text": [
      "Số lượng hàng:  982726\n",
      "Số lượng cột:  12\n"
     ]
    }
   ],
   "source": [
    "[hang, cot] = df.shape\n",
    "\n",
    "print(\"Số lượng hàng: \", hang)\n",
    "print(\"Số lượng cột: \",cot)"
   ]
  },
  {
   "cell_type": "markdown",
   "metadata": {},
   "source": [
    "4.\t(1.0đ) Hiển thị thông tin chi tiết về dataset (kiểu dữ liệu, số lượng giá trị không null)."
   ]
  },
  {
   "cell_type": "code",
   "execution_count": 6,
   "metadata": {},
   "outputs": [
    {
     "name": "stdout",
     "output_type": "stream",
     "text": [
      "<class 'pandas.core.frame.DataFrame'>\n",
      "RangeIndex: 982726 entries, 0 to 982725\n",
      "Data columns (total 12 columns):\n",
      " #   Column     Non-Null Count   Dtype  \n",
      "---  ------     --------------   -----  \n",
      " 0   sbd        982726 non-null  int64  \n",
      " 1   toan       982726 non-null  float64\n",
      " 2   ngu_van    968865 non-null  float64\n",
      " 3   ngoai_ngu  870073 non-null  float64\n",
      " 4   vat_li     325505 non-null  float64\n",
      " 5   hoa_hoc    327342 non-null  float64\n",
      " 6   sinh_hoc   322172 non-null  float64\n",
      " 7   lich_su    647514 non-null  float64\n",
      " 8   dia_li     645308 non-null  float64\n",
      " 9   gdcd       553490 non-null  float64\n",
      " 10  tentinh    982726 non-null  object \n",
      " 11  Khoi       858736 non-null  object \n",
      "dtypes: float64(9), int64(1), object(2)\n",
      "memory usage: 90.0+ MB\n"
     ]
    }
   ],
   "source": [
    "df.info()"
   ]
  },
  {
   "cell_type": "markdown",
   "metadata": {},
   "source": [
    "5.\t(0.5đ) Kiểm tra số lượng giá trị trùng lặp trong dataset dựa trên sbd."
   ]
  },
  {
   "cell_type": "code",
   "execution_count": null,
   "metadata": {},
   "outputs": [
    {
     "data": {
      "text/plain": [
       "np.int64(0)"
      ]
     },
     "execution_count": 33,
     "metadata": {},
     "output_type": "execute_result"
    }
   ],
   "source": [
    "# df.shape[0] -  df[\"sbd\"].nunique()\n",
    "\n",
    "df[\"sbd\"].duplicated(keep=False).sum()"
   ]
  },
  {
   "cell_type": "markdown",
   "metadata": {},
   "source": [
    "6.\t(1.5đ) Kiểm tra và xử lý missing values:"
   ]
  },
  {
   "cell_type": "markdown",
   "metadata": {},
   "source": [
    "- Đếm số học sinh bị thiếu điểm môn Ngữ Văn và Ngoại Ngữ."
   ]
  },
  {
   "cell_type": "code",
   "execution_count": 35,
   "metadata": {},
   "outputs": [
    {
     "data": {
      "text/plain": [
       "0"
      ]
     },
     "execution_count": 35,
     "metadata": {},
     "output_type": "execute_result"
    }
   ],
   "source": [
    "len(df[df[\"ngu_van\"].isna() & df[\"ngoai_ngu\"].isna()])"
   ]
  },
  {
   "cell_type": "markdown",
   "metadata": {},
   "source": [
    "- Điền giá trị thiếu của các môn học bằng trung vị (median) của từng môn."
   ]
  },
  {
   "cell_type": "code",
   "execution_count": 9,
   "metadata": {},
   "outputs": [
    {
     "data": {
      "text/plain": [
       "0"
      ]
     },
     "execution_count": 9,
     "metadata": {},
     "output_type": "execute_result"
    }
   ],
   "source": [
    "df[\"ngu_van\"] = df[\"ngu_van\"].fillna(df[\"ngu_van\"].median())\n",
    "df[\"ngoai_ngu\"] = df[\"ngoai_ngu\"].fillna(df[\"ngoai_ngu\"].median())\n",
    "len(df[df[\"ngu_van\"].isna() & df[\"ngoai_ngu\"].isna()])"
   ]
  },
  {
   "cell_type": "markdown",
   "metadata": {},
   "source": [
    "- Nếu cột \"Khoi\" bị thiếu, thay thế bằng \"Chưa xác định\"."
   ]
  },
  {
   "cell_type": "code",
   "execution_count": 10,
   "metadata": {},
   "outputs": [
    {
     "data": {
      "text/plain": [
       "0"
      ]
     },
     "execution_count": 10,
     "metadata": {},
     "output_type": "execute_result"
    }
   ],
   "source": [
    "df[\"Khoi\"] = df[\"Khoi\"].fillna(\"Chưa Xác Định\")\n",
    "len(df[df[\"Khoi\"].isna()] )"
   ]
  },
  {
   "cell_type": "markdown",
   "metadata": {},
   "source": [
    "7.\t(1.0đ) Tạo một cột mới \"Diem_TB\" tính điểm trung bình của tất cả các môn thi (không tính NaN)."
   ]
  },
  {
   "cell_type": "code",
   "execution_count": 11,
   "metadata": {},
   "outputs": [
    {
     "data": {
      "text/html": [
       "<div>\n",
       "<style scoped>\n",
       "    .dataframe tbody tr th:only-of-type {\n",
       "        vertical-align: middle;\n",
       "    }\n",
       "\n",
       "    .dataframe tbody tr th {\n",
       "        vertical-align: top;\n",
       "    }\n",
       "\n",
       "    .dataframe thead th {\n",
       "        text-align: right;\n",
       "    }\n",
       "</style>\n",
       "<table border=\"1\" class=\"dataframe\">\n",
       "  <thead>\n",
       "    <tr style=\"text-align: right;\">\n",
       "      <th></th>\n",
       "      <th>sbd</th>\n",
       "      <th>toan</th>\n",
       "      <th>ngu_van</th>\n",
       "      <th>ngoai_ngu</th>\n",
       "      <th>vat_li</th>\n",
       "      <th>hoa_hoc</th>\n",
       "      <th>sinh_hoc</th>\n",
       "      <th>lich_su</th>\n",
       "      <th>dia_li</th>\n",
       "      <th>gdcd</th>\n",
       "      <th>tentinh</th>\n",
       "      <th>Khoi</th>\n",
       "      <th>Diem Trung Binh</th>\n",
       "    </tr>\n",
       "  </thead>\n",
       "  <tbody>\n",
       "    <tr>\n",
       "      <th>0</th>\n",
       "      <td>1000001</td>\n",
       "      <td>3.6</td>\n",
       "      <td>5.00</td>\n",
       "      <td>4.0</td>\n",
       "      <td>NaN</td>\n",
       "      <td>NaN</td>\n",
       "      <td>NaN</td>\n",
       "      <td>2.75</td>\n",
       "      <td>6.00</td>\n",
       "      <td>8.75</td>\n",
       "      <td>thành phố hà nội</td>\n",
       "      <td>KHXH</td>\n",
       "      <td>5.016667</td>\n",
       "    </tr>\n",
       "    <tr>\n",
       "      <th>1</th>\n",
       "      <td>1000002</td>\n",
       "      <td>8.4</td>\n",
       "      <td>6.75</td>\n",
       "      <td>7.6</td>\n",
       "      <td>NaN</td>\n",
       "      <td>NaN</td>\n",
       "      <td>NaN</td>\n",
       "      <td>8.50</td>\n",
       "      <td>7.50</td>\n",
       "      <td>8.25</td>\n",
       "      <td>thành phố hà nội</td>\n",
       "      <td>KHXH</td>\n",
       "      <td>7.833333</td>\n",
       "    </tr>\n",
       "    <tr>\n",
       "      <th>2</th>\n",
       "      <td>1000003</td>\n",
       "      <td>5.8</td>\n",
       "      <td>7.50</td>\n",
       "      <td>5.0</td>\n",
       "      <td>NaN</td>\n",
       "      <td>NaN</td>\n",
       "      <td>NaN</td>\n",
       "      <td>7.25</td>\n",
       "      <td>5.50</td>\n",
       "      <td>8.75</td>\n",
       "      <td>thành phố hà nội</td>\n",
       "      <td>KHXH</td>\n",
       "      <td>6.633333</td>\n",
       "    </tr>\n",
       "    <tr>\n",
       "      <th>3</th>\n",
       "      <td>1000004</td>\n",
       "      <td>7.4</td>\n",
       "      <td>7.50</td>\n",
       "      <td>8.6</td>\n",
       "      <td>NaN</td>\n",
       "      <td>NaN</td>\n",
       "      <td>NaN</td>\n",
       "      <td>7.50</td>\n",
       "      <td>6.50</td>\n",
       "      <td>7.50</td>\n",
       "      <td>thành phố hà nội</td>\n",
       "      <td>KHXH</td>\n",
       "      <td>7.500000</td>\n",
       "    </tr>\n",
       "    <tr>\n",
       "      <th>4</th>\n",
       "      <td>1000005</td>\n",
       "      <td>7.2</td>\n",
       "      <td>8.50</td>\n",
       "      <td>9.0</td>\n",
       "      <td>NaN</td>\n",
       "      <td>NaN</td>\n",
       "      <td>NaN</td>\n",
       "      <td>8.00</td>\n",
       "      <td>8.50</td>\n",
       "      <td>8.25</td>\n",
       "      <td>thành phố hà nội</td>\n",
       "      <td>KHXH</td>\n",
       "      <td>8.241667</td>\n",
       "    </tr>\n",
       "    <tr>\n",
       "      <th>5</th>\n",
       "      <td>1000006</td>\n",
       "      <td>6.8</td>\n",
       "      <td>8.50</td>\n",
       "      <td>9.4</td>\n",
       "      <td>NaN</td>\n",
       "      <td>NaN</td>\n",
       "      <td>NaN</td>\n",
       "      <td>7.00</td>\n",
       "      <td>7.50</td>\n",
       "      <td>9.25</td>\n",
       "      <td>thành phố hà nội</td>\n",
       "      <td>KHXH</td>\n",
       "      <td>8.075000</td>\n",
       "    </tr>\n",
       "    <tr>\n",
       "      <th>6</th>\n",
       "      <td>1000007</td>\n",
       "      <td>7.2</td>\n",
       "      <td>6.00</td>\n",
       "      <td>5.0</td>\n",
       "      <td>NaN</td>\n",
       "      <td>NaN</td>\n",
       "      <td>NaN</td>\n",
       "      <td>8.00</td>\n",
       "      <td>7.50</td>\n",
       "      <td>9.00</td>\n",
       "      <td>thành phố hà nội</td>\n",
       "      <td>KHXH</td>\n",
       "      <td>7.116667</td>\n",
       "    </tr>\n",
       "    <tr>\n",
       "      <th>7</th>\n",
       "      <td>1000008</td>\n",
       "      <td>8.0</td>\n",
       "      <td>8.00</td>\n",
       "      <td>8.0</td>\n",
       "      <td>NaN</td>\n",
       "      <td>NaN</td>\n",
       "      <td>NaN</td>\n",
       "      <td>5.25</td>\n",
       "      <td>7.00</td>\n",
       "      <td>7.00</td>\n",
       "      <td>thành phố hà nội</td>\n",
       "      <td>KHXH</td>\n",
       "      <td>7.208333</td>\n",
       "    </tr>\n",
       "    <tr>\n",
       "      <th>8</th>\n",
       "      <td>1000009</td>\n",
       "      <td>2.6</td>\n",
       "      <td>5.25</td>\n",
       "      <td>4.8</td>\n",
       "      <td>NaN</td>\n",
       "      <td>NaN</td>\n",
       "      <td>NaN</td>\n",
       "      <td>5.25</td>\n",
       "      <td>6.75</td>\n",
       "      <td>NaN</td>\n",
       "      <td>thành phố hà nội</td>\n",
       "      <td>Chưa Xác Định</td>\n",
       "      <td>4.930000</td>\n",
       "    </tr>\n",
       "    <tr>\n",
       "      <th>9</th>\n",
       "      <td>1000010</td>\n",
       "      <td>8.8</td>\n",
       "      <td>8.00</td>\n",
       "      <td>7.0</td>\n",
       "      <td>NaN</td>\n",
       "      <td>NaN</td>\n",
       "      <td>NaN</td>\n",
       "      <td>6.50</td>\n",
       "      <td>6.50</td>\n",
       "      <td>6.75</td>\n",
       "      <td>thành phố hà nội</td>\n",
       "      <td>KHXH</td>\n",
       "      <td>7.258333</td>\n",
       "    </tr>\n",
       "  </tbody>\n",
       "</table>\n",
       "</div>"
      ],
      "text/plain": [
       "       sbd  toan  ngu_van  ngoai_ngu  vat_li  hoa_hoc  sinh_hoc  lich_su  \\\n",
       "0  1000001   3.6     5.00        4.0     NaN      NaN       NaN     2.75   \n",
       "1  1000002   8.4     6.75        7.6     NaN      NaN       NaN     8.50   \n",
       "2  1000003   5.8     7.50        5.0     NaN      NaN       NaN     7.25   \n",
       "3  1000004   7.4     7.50        8.6     NaN      NaN       NaN     7.50   \n",
       "4  1000005   7.2     8.50        9.0     NaN      NaN       NaN     8.00   \n",
       "5  1000006   6.8     8.50        9.4     NaN      NaN       NaN     7.00   \n",
       "6  1000007   7.2     6.00        5.0     NaN      NaN       NaN     8.00   \n",
       "7  1000008   8.0     8.00        8.0     NaN      NaN       NaN     5.25   \n",
       "8  1000009   2.6     5.25        4.8     NaN      NaN       NaN     5.25   \n",
       "9  1000010   8.8     8.00        7.0     NaN      NaN       NaN     6.50   \n",
       "\n",
       "   dia_li  gdcd           tentinh           Khoi  Diem Trung Binh  \n",
       "0    6.00  8.75  thành phố hà nội           KHXH         5.016667  \n",
       "1    7.50  8.25  thành phố hà nội           KHXH         7.833333  \n",
       "2    5.50  8.75  thành phố hà nội           KHXH         6.633333  \n",
       "3    6.50  7.50  thành phố hà nội           KHXH         7.500000  \n",
       "4    8.50  8.25  thành phố hà nội           KHXH         8.241667  \n",
       "5    7.50  9.25  thành phố hà nội           KHXH         8.075000  \n",
       "6    7.50  9.00  thành phố hà nội           KHXH         7.116667  \n",
       "7    7.00  7.00  thành phố hà nội           KHXH         7.208333  \n",
       "8    6.75   NaN  thành phố hà nội  Chưa Xác Định         4.930000  \n",
       "9    6.50  6.75  thành phố hà nội           KHXH         7.258333  "
      ]
     },
     "execution_count": 11,
     "metadata": {},
     "output_type": "execute_result"
    }
   ],
   "source": [
    "mon_hoc = [\"toan\", \"ngu_van\", \"ngoai_ngu\", \"vat_li\", \"hoa_hoc\", \"sinh_hoc\", \"lich_su\", \"dia_li\", \"gdcd\"]\n",
    "df[\"Diem Trung Binh\"] = df[mon_hoc].mean(axis=1)\n",
    "df.head(10)"
   ]
  },
  {
   "cell_type": "markdown",
   "metadata": {},
   "source": [
    "8.\t(1.0đ) Tạo một cột \"XepLoai\" dựa trên điểm trung bình:\n",
    "-\t`>= 8.0: \"Giỏi\"\n",
    "- `>= 6.5: \"Khá\"\n",
    "-\t`>= 5.0: \"Trung bình\"\n",
    "-\t`< 5.0: \"Yếu\"\n"
   ]
  },
  {
   "cell_type": "code",
   "execution_count": 12,
   "metadata": {},
   "outputs": [
    {
     "data": {
      "text/html": [
       "<div>\n",
       "<style scoped>\n",
       "    .dataframe tbody tr th:only-of-type {\n",
       "        vertical-align: middle;\n",
       "    }\n",
       "\n",
       "    .dataframe tbody tr th {\n",
       "        vertical-align: top;\n",
       "    }\n",
       "\n",
       "    .dataframe thead th {\n",
       "        text-align: right;\n",
       "    }\n",
       "</style>\n",
       "<table border=\"1\" class=\"dataframe\">\n",
       "  <thead>\n",
       "    <tr style=\"text-align: right;\">\n",
       "      <th></th>\n",
       "      <th>sbd</th>\n",
       "      <th>toan</th>\n",
       "      <th>ngu_van</th>\n",
       "      <th>ngoai_ngu</th>\n",
       "      <th>vat_li</th>\n",
       "      <th>hoa_hoc</th>\n",
       "      <th>sinh_hoc</th>\n",
       "      <th>lich_su</th>\n",
       "      <th>dia_li</th>\n",
       "      <th>gdcd</th>\n",
       "      <th>tentinh</th>\n",
       "      <th>Khoi</th>\n",
       "      <th>Diem Trung Binh</th>\n",
       "      <th>Xep Loai</th>\n",
       "    </tr>\n",
       "  </thead>\n",
       "  <tbody>\n",
       "    <tr>\n",
       "      <th>0</th>\n",
       "      <td>1000001</td>\n",
       "      <td>3.6</td>\n",
       "      <td>5.00</td>\n",
       "      <td>4.0</td>\n",
       "      <td>NaN</td>\n",
       "      <td>NaN</td>\n",
       "      <td>NaN</td>\n",
       "      <td>2.75</td>\n",
       "      <td>6.00</td>\n",
       "      <td>8.75</td>\n",
       "      <td>thành phố hà nội</td>\n",
       "      <td>KHXH</td>\n",
       "      <td>5.016667</td>\n",
       "      <td>Trung Bình</td>\n",
       "    </tr>\n",
       "    <tr>\n",
       "      <th>1</th>\n",
       "      <td>1000002</td>\n",
       "      <td>8.4</td>\n",
       "      <td>6.75</td>\n",
       "      <td>7.6</td>\n",
       "      <td>NaN</td>\n",
       "      <td>NaN</td>\n",
       "      <td>NaN</td>\n",
       "      <td>8.50</td>\n",
       "      <td>7.50</td>\n",
       "      <td>8.25</td>\n",
       "      <td>thành phố hà nội</td>\n",
       "      <td>KHXH</td>\n",
       "      <td>7.833333</td>\n",
       "      <td>Khá</td>\n",
       "    </tr>\n",
       "    <tr>\n",
       "      <th>2</th>\n",
       "      <td>1000003</td>\n",
       "      <td>5.8</td>\n",
       "      <td>7.50</td>\n",
       "      <td>5.0</td>\n",
       "      <td>NaN</td>\n",
       "      <td>NaN</td>\n",
       "      <td>NaN</td>\n",
       "      <td>7.25</td>\n",
       "      <td>5.50</td>\n",
       "      <td>8.75</td>\n",
       "      <td>thành phố hà nội</td>\n",
       "      <td>KHXH</td>\n",
       "      <td>6.633333</td>\n",
       "      <td>Khá</td>\n",
       "    </tr>\n",
       "    <tr>\n",
       "      <th>3</th>\n",
       "      <td>1000004</td>\n",
       "      <td>7.4</td>\n",
       "      <td>7.50</td>\n",
       "      <td>8.6</td>\n",
       "      <td>NaN</td>\n",
       "      <td>NaN</td>\n",
       "      <td>NaN</td>\n",
       "      <td>7.50</td>\n",
       "      <td>6.50</td>\n",
       "      <td>7.50</td>\n",
       "      <td>thành phố hà nội</td>\n",
       "      <td>KHXH</td>\n",
       "      <td>7.500000</td>\n",
       "      <td>Khá</td>\n",
       "    </tr>\n",
       "    <tr>\n",
       "      <th>4</th>\n",
       "      <td>1000005</td>\n",
       "      <td>7.2</td>\n",
       "      <td>8.50</td>\n",
       "      <td>9.0</td>\n",
       "      <td>NaN</td>\n",
       "      <td>NaN</td>\n",
       "      <td>NaN</td>\n",
       "      <td>8.00</td>\n",
       "      <td>8.50</td>\n",
       "      <td>8.25</td>\n",
       "      <td>thành phố hà nội</td>\n",
       "      <td>KHXH</td>\n",
       "      <td>8.241667</td>\n",
       "      <td>Giỏi</td>\n",
       "    </tr>\n",
       "    <tr>\n",
       "      <th>5</th>\n",
       "      <td>1000006</td>\n",
       "      <td>6.8</td>\n",
       "      <td>8.50</td>\n",
       "      <td>9.4</td>\n",
       "      <td>NaN</td>\n",
       "      <td>NaN</td>\n",
       "      <td>NaN</td>\n",
       "      <td>7.00</td>\n",
       "      <td>7.50</td>\n",
       "      <td>9.25</td>\n",
       "      <td>thành phố hà nội</td>\n",
       "      <td>KHXH</td>\n",
       "      <td>8.075000</td>\n",
       "      <td>Giỏi</td>\n",
       "    </tr>\n",
       "    <tr>\n",
       "      <th>6</th>\n",
       "      <td>1000007</td>\n",
       "      <td>7.2</td>\n",
       "      <td>6.00</td>\n",
       "      <td>5.0</td>\n",
       "      <td>NaN</td>\n",
       "      <td>NaN</td>\n",
       "      <td>NaN</td>\n",
       "      <td>8.00</td>\n",
       "      <td>7.50</td>\n",
       "      <td>9.00</td>\n",
       "      <td>thành phố hà nội</td>\n",
       "      <td>KHXH</td>\n",
       "      <td>7.116667</td>\n",
       "      <td>Khá</td>\n",
       "    </tr>\n",
       "    <tr>\n",
       "      <th>7</th>\n",
       "      <td>1000008</td>\n",
       "      <td>8.0</td>\n",
       "      <td>8.00</td>\n",
       "      <td>8.0</td>\n",
       "      <td>NaN</td>\n",
       "      <td>NaN</td>\n",
       "      <td>NaN</td>\n",
       "      <td>5.25</td>\n",
       "      <td>7.00</td>\n",
       "      <td>7.00</td>\n",
       "      <td>thành phố hà nội</td>\n",
       "      <td>KHXH</td>\n",
       "      <td>7.208333</td>\n",
       "      <td>Khá</td>\n",
       "    </tr>\n",
       "    <tr>\n",
       "      <th>8</th>\n",
       "      <td>1000009</td>\n",
       "      <td>2.6</td>\n",
       "      <td>5.25</td>\n",
       "      <td>4.8</td>\n",
       "      <td>NaN</td>\n",
       "      <td>NaN</td>\n",
       "      <td>NaN</td>\n",
       "      <td>5.25</td>\n",
       "      <td>6.75</td>\n",
       "      <td>NaN</td>\n",
       "      <td>thành phố hà nội</td>\n",
       "      <td>Chưa Xác Định</td>\n",
       "      <td>4.930000</td>\n",
       "      <td>Yếu</td>\n",
       "    </tr>\n",
       "    <tr>\n",
       "      <th>9</th>\n",
       "      <td>1000010</td>\n",
       "      <td>8.8</td>\n",
       "      <td>8.00</td>\n",
       "      <td>7.0</td>\n",
       "      <td>NaN</td>\n",
       "      <td>NaN</td>\n",
       "      <td>NaN</td>\n",
       "      <td>6.50</td>\n",
       "      <td>6.50</td>\n",
       "      <td>6.75</td>\n",
       "      <td>thành phố hà nội</td>\n",
       "      <td>KHXH</td>\n",
       "      <td>7.258333</td>\n",
       "      <td>Khá</td>\n",
       "    </tr>\n",
       "  </tbody>\n",
       "</table>\n",
       "</div>"
      ],
      "text/plain": [
       "       sbd  toan  ngu_van  ngoai_ngu  vat_li  hoa_hoc  sinh_hoc  lich_su  \\\n",
       "0  1000001   3.6     5.00        4.0     NaN      NaN       NaN     2.75   \n",
       "1  1000002   8.4     6.75        7.6     NaN      NaN       NaN     8.50   \n",
       "2  1000003   5.8     7.50        5.0     NaN      NaN       NaN     7.25   \n",
       "3  1000004   7.4     7.50        8.6     NaN      NaN       NaN     7.50   \n",
       "4  1000005   7.2     8.50        9.0     NaN      NaN       NaN     8.00   \n",
       "5  1000006   6.8     8.50        9.4     NaN      NaN       NaN     7.00   \n",
       "6  1000007   7.2     6.00        5.0     NaN      NaN       NaN     8.00   \n",
       "7  1000008   8.0     8.00        8.0     NaN      NaN       NaN     5.25   \n",
       "8  1000009   2.6     5.25        4.8     NaN      NaN       NaN     5.25   \n",
       "9  1000010   8.8     8.00        7.0     NaN      NaN       NaN     6.50   \n",
       "\n",
       "   dia_li  gdcd           tentinh           Khoi  Diem Trung Binh    Xep Loai  \n",
       "0    6.00  8.75  thành phố hà nội           KHXH         5.016667  Trung Bình  \n",
       "1    7.50  8.25  thành phố hà nội           KHXH         7.833333         Khá  \n",
       "2    5.50  8.75  thành phố hà nội           KHXH         6.633333         Khá  \n",
       "3    6.50  7.50  thành phố hà nội           KHXH         7.500000         Khá  \n",
       "4    8.50  8.25  thành phố hà nội           KHXH         8.241667        Giỏi  \n",
       "5    7.50  9.25  thành phố hà nội           KHXH         8.075000        Giỏi  \n",
       "6    7.50  9.00  thành phố hà nội           KHXH         7.116667         Khá  \n",
       "7    7.00  7.00  thành phố hà nội           KHXH         7.208333         Khá  \n",
       "8    6.75   NaN  thành phố hà nội  Chưa Xác Định         4.930000         Yếu  \n",
       "9    6.50  6.75  thành phố hà nội           KHXH         7.258333         Khá  "
      ]
     },
     "execution_count": 12,
     "metadata": {},
     "output_type": "execute_result"
    }
   ],
   "source": [
    "def xep_loai(x):\n",
    "  if x >= 8:\n",
    "    return \"Giỏi\"\n",
    "  elif x >= 6.5:\n",
    "    return \"Khá\"\n",
    "  elif x >= 5:\n",
    "    return \"Trung Bình\"\n",
    "  else:\n",
    "    return \"Yếu\"\n",
    "  \n",
    "df[\"Xep Loai\"] = df[\"Diem Trung Binh\"].apply(xep_loai)\n",
    "df.head(10)"
   ]
  },
  {
   "cell_type": "markdown",
   "metadata": {},
   "source": [
    "9.\t(1.0đ) Đếm số học sinh trong mỗi nhóm \"XepLoai\"."
   ]
  },
  {
   "cell_type": "code",
   "execution_count": 13,
   "metadata": {},
   "outputs": [
    {
     "data": {
      "text/plain": [
       "Xep Loai\n",
       "Trung Bình    417099\n",
       "Khá           403472\n",
       "Yếu           111966\n",
       "Giỏi           50189\n",
       "Name: count, dtype: int64"
      ]
     },
     "execution_count": 13,
     "metadata": {},
     "output_type": "execute_result"
    }
   ],
   "source": [
    "df[\"Xep Loai\"].value_counts()"
   ]
  },
  {
   "cell_type": "markdown",
   "metadata": {},
   "source": [
    "10.\t(1.5đ) Với môn Toán (toan), tính:\n",
    "-\tTrung bình (mean)\n",
    "-\tĐộ lệch chuẩn (std)\n",
    "-\tKhoảng (range) = max - min\n",
    "-\tIQR (Interquartile Range)\n"
   ]
  },
  {
   "cell_type": "code",
   "execution_count": 14,
   "metadata": {},
   "outputs": [
    {
     "name": "stdout",
     "output_type": "stream",
     "text": [
      "Trung Bình:  6.466254072854489\n",
      "Độ lệch chuẩn:  1.675435332139685\n",
      "Khoảng dữ liệu:  10.0\n",
      "IQR:  2.3999999999999995\n"
     ]
    }
   ],
   "source": [
    "diem_toan = df[\"toan\"]\n",
    "\n",
    "mean = diem_toan.mean()\n",
    "std = diem_toan.std()\n",
    "range = diem_toan.max() - diem_toan.min()\n",
    "iqr = diem_toan.quantile(0.75) - diem_toan.quantile(0.25)\n",
    "\n",
    "print(\"Trung Bình: \", mean)\n",
    "print(\"Độ lệch chuẩn: \", std)\n",
    "print(\"Khoảng dữ liệu: \", range)\n",
    "print(\"IQR: \", iqr)"
   ]
  },
  {
   "cell_type": "markdown",
   "metadata": {},
   "source": [
    "11.\t(1.0đ) Tính hệ số tương quan (correlation) giữa điểm Toán và Lý, Hóa."
   ]
  },
  {
   "cell_type": "code",
   "execution_count": 15,
   "metadata": {},
   "outputs": [
    {
     "data": {
      "text/html": [
       "<div>\n",
       "<style scoped>\n",
       "    .dataframe tbody tr th:only-of-type {\n",
       "        vertical-align: middle;\n",
       "    }\n",
       "\n",
       "    .dataframe tbody tr th {\n",
       "        vertical-align: top;\n",
       "    }\n",
       "\n",
       "    .dataframe thead th {\n",
       "        text-align: right;\n",
       "    }\n",
       "</style>\n",
       "<table border=\"1\" class=\"dataframe\">\n",
       "  <thead>\n",
       "    <tr style=\"text-align: right;\">\n",
       "      <th></th>\n",
       "      <th>toan</th>\n",
       "      <th>vat_li</th>\n",
       "      <th>hoa_hoc</th>\n",
       "    </tr>\n",
       "  </thead>\n",
       "  <tbody>\n",
       "    <tr>\n",
       "      <th>toan</th>\n",
       "      <td>1.000000</td>\n",
       "      <td>0.570038</td>\n",
       "      <td>0.481677</td>\n",
       "    </tr>\n",
       "    <tr>\n",
       "      <th>vat_li</th>\n",
       "      <td>0.570038</td>\n",
       "      <td>1.000000</td>\n",
       "      <td>0.390145</td>\n",
       "    </tr>\n",
       "    <tr>\n",
       "      <th>hoa_hoc</th>\n",
       "      <td>0.481677</td>\n",
       "      <td>0.390145</td>\n",
       "      <td>1.000000</td>\n",
       "    </tr>\n",
       "  </tbody>\n",
       "</table>\n",
       "</div>"
      ],
      "text/plain": [
       "             toan    vat_li   hoa_hoc\n",
       "toan     1.000000  0.570038  0.481677\n",
       "vat_li   0.570038  1.000000  0.390145\n",
       "hoa_hoc  0.481677  0.390145  1.000000"
      ]
     },
     "execution_count": 15,
     "metadata": {},
     "output_type": "execute_result"
    }
   ],
   "source": [
    "df[[\"toan\", \"vat_li\", \"hoa_hoc\"]].corr()"
   ]
  },
  {
   "cell_type": "markdown",
   "metadata": {},
   "source": [
    "12.\t(1.0đ) Liệt kê 10 học sinh có điểm Toán cao nhất và 10 học sinh có điểm Toán thấp nhất."
   ]
  },
  {
   "cell_type": "code",
   "execution_count": 16,
   "metadata": {},
   "outputs": [
    {
     "data": {
      "text/html": [
       "<div>\n",
       "<style scoped>\n",
       "    .dataframe tbody tr th:only-of-type {\n",
       "        vertical-align: middle;\n",
       "    }\n",
       "\n",
       "    .dataframe tbody tr th {\n",
       "        vertical-align: top;\n",
       "    }\n",
       "\n",
       "    .dataframe thead th {\n",
       "        text-align: right;\n",
       "    }\n",
       "</style>\n",
       "<table border=\"1\" class=\"dataframe\">\n",
       "  <thead>\n",
       "    <tr style=\"text-align: right;\">\n",
       "      <th></th>\n",
       "      <th>sbd</th>\n",
       "      <th>toan</th>\n",
       "    </tr>\n",
       "  </thead>\n",
       "  <tbody>\n",
       "    <tr>\n",
       "      <th>314849</th>\n",
       "      <td>16009757</td>\n",
       "      <td>10.0</td>\n",
       "    </tr>\n",
       "    <tr>\n",
       "      <th>289869</th>\n",
       "      <td>15000207</td>\n",
       "      <td>10.0</td>\n",
       "    </tr>\n",
       "    <tr>\n",
       "      <th>101404</th>\n",
       "      <td>2005655</td>\n",
       "      <td>10.0</td>\n",
       "    </tr>\n",
       "    <tr>\n",
       "      <th>12359</th>\n",
       "      <td>1012943</td>\n",
       "      <td>10.0</td>\n",
       "    </tr>\n",
       "    <tr>\n",
       "      <th>17187</th>\n",
       "      <td>1017880</td>\n",
       "      <td>10.0</td>\n",
       "    </tr>\n",
       "    <tr>\n",
       "      <th>404225</th>\n",
       "      <td>22013504</td>\n",
       "      <td>10.0</td>\n",
       "    </tr>\n",
       "    <tr>\n",
       "      <th>504156</th>\n",
       "      <td>28031668</td>\n",
       "      <td>10.0</td>\n",
       "    </tr>\n",
       "    <tr>\n",
       "      <th>355144</th>\n",
       "      <td>19000291</td>\n",
       "      <td>10.0</td>\n",
       "    </tr>\n",
       "    <tr>\n",
       "      <th>551893</th>\n",
       "      <td>30005646</td>\n",
       "      <td>10.0</td>\n",
       "    </tr>\n",
       "    <tr>\n",
       "      <th>592059</th>\n",
       "      <td>33009347</td>\n",
       "      <td>10.0</td>\n",
       "    </tr>\n",
       "  </tbody>\n",
       "</table>\n",
       "</div>"
      ],
      "text/plain": [
       "             sbd  toan\n",
       "314849  16009757  10.0\n",
       "289869  15000207  10.0\n",
       "101404   2005655  10.0\n",
       "12359    1012943  10.0\n",
       "17187    1017880  10.0\n",
       "404225  22013504  10.0\n",
       "504156  28031668  10.0\n",
       "355144  19000291  10.0\n",
       "551893  30005646  10.0\n",
       "592059  33009347  10.0"
      ]
     },
     "execution_count": 16,
     "metadata": {},
     "output_type": "execute_result"
    }
   ],
   "source": [
    "df.sort_values(by=\"toan\", ascending=False)[[\"sbd\", \"toan\"]].head(10)"
   ]
  },
  {
   "cell_type": "code",
   "execution_count": 17,
   "metadata": {},
   "outputs": [
    {
     "data": {
      "text/html": [
       "<div>\n",
       "<style scoped>\n",
       "    .dataframe tbody tr th:only-of-type {\n",
       "        vertical-align: middle;\n",
       "    }\n",
       "\n",
       "    .dataframe tbody tr th {\n",
       "        vertical-align: top;\n",
       "    }\n",
       "\n",
       "    .dataframe thead th {\n",
       "        text-align: right;\n",
       "    }\n",
       "</style>\n",
       "<table border=\"1\" class=\"dataframe\">\n",
       "  <thead>\n",
       "    <tr style=\"text-align: right;\">\n",
       "      <th></th>\n",
       "      <th>sbd</th>\n",
       "      <th>toan</th>\n",
       "    </tr>\n",
       "  </thead>\n",
       "  <tbody>\n",
       "    <tr>\n",
       "      <th>19132</th>\n",
       "      <td>1019834</td>\n",
       "      <td>0.0</td>\n",
       "    </tr>\n",
       "    <tr>\n",
       "      <th>861431</th>\n",
       "      <td>52009551</td>\n",
       "      <td>0.0</td>\n",
       "    </tr>\n",
       "    <tr>\n",
       "      <th>500465</th>\n",
       "      <td>28027937</td>\n",
       "      <td>0.0</td>\n",
       "    </tr>\n",
       "    <tr>\n",
       "      <th>671971</th>\n",
       "      <td>39009635</td>\n",
       "      <td>0.2</td>\n",
       "    </tr>\n",
       "    <tr>\n",
       "      <th>617975</th>\n",
       "      <td>35005460</td>\n",
       "      <td>0.4</td>\n",
       "    </tr>\n",
       "    <tr>\n",
       "      <th>275167</th>\n",
       "      <td>13004329</td>\n",
       "      <td>0.4</td>\n",
       "    </tr>\n",
       "    <tr>\n",
       "      <th>799556</th>\n",
       "      <td>48027390</td>\n",
       "      <td>0.4</td>\n",
       "    </tr>\n",
       "    <tr>\n",
       "      <th>285297</th>\n",
       "      <td>14006801</td>\n",
       "      <td>0.6</td>\n",
       "    </tr>\n",
       "    <tr>\n",
       "      <th>678601</th>\n",
       "      <td>40005436</td>\n",
       "      <td>0.6</td>\n",
       "    </tr>\n",
       "    <tr>\n",
       "      <th>399423</th>\n",
       "      <td>22008620</td>\n",
       "      <td>0.6</td>\n",
       "    </tr>\n",
       "  </tbody>\n",
       "</table>\n",
       "</div>"
      ],
      "text/plain": [
       "             sbd  toan\n",
       "19132    1019834   0.0\n",
       "861431  52009551   0.0\n",
       "500465  28027937   0.0\n",
       "671971  39009635   0.2\n",
       "617975  35005460   0.4\n",
       "275167  13004329   0.4\n",
       "799556  48027390   0.4\n",
       "285297  14006801   0.6\n",
       "678601  40005436   0.6\n",
       "399423  22008620   0.6"
      ]
     },
     "execution_count": 17,
     "metadata": {},
     "output_type": "execute_result"
    }
   ],
   "source": [
    "df.sort_values(by=\"toan\", ascending=True)[[\"sbd\", \"toan\"]].head(10)"
   ]
  },
  {
   "cell_type": "markdown",
   "metadata": {},
   "source": [
    "13.\t(1.0đ) Cho biết có bao nhiêu học sinh đạt điểm 10 môn Toán."
   ]
  },
  {
   "cell_type": "code",
   "execution_count": 18,
   "metadata": {},
   "outputs": [
    {
     "data": {
      "text/plain": [
       "35"
      ]
     },
     "execution_count": 18,
     "metadata": {},
     "output_type": "execute_result"
    }
   ],
   "source": [
    "len(df[df[\"toan\"] == 10])"
   ]
  },
  {
   "cell_type": "markdown",
   "metadata": {},
   "source": [
    "14.\t(1.5đ) Xác định outliers của môn Toán bằng IQR method và liệt kê danh sách học sinh có điểm Toán nằm ngoài khoảng [Q1 - 1.5*IQR, Q3 + 1.5*IQR]."
   ]
  },
  {
   "cell_type": "code",
   "execution_count": 19,
   "metadata": {},
   "outputs": [
    {
     "name": "stdout",
     "output_type": "stream",
     "text": [
      "1.8000000000000012 11.399999999999999\n"
     ]
    }
   ],
   "source": [
    "iqr = df[\"toan\"].quantile(0.75) - df[\"toan\"].quantile(0.25)\n",
    "\n",
    "[lower_bound, higher_bound] = [df[\"toan\"].quantile(0.25) - 1.5 * iqr, df[\"toan\"].quantile(0.75) + 1.5 * iqr]\n",
    "\n",
    "print(lower_bound, higher_bound)"
   ]
  },
  {
   "cell_type": "markdown",
   "metadata": {},
   "source": [
    "15.\t(1.5đ) Dựa vào cột Khoi, thực hiện:\n",
    "- Đếm số lượng học sinh thi khối \"KHTN\" và \"KHXH\".\n",
    "- Tạo bảng tổng hợp điểm trung bình từng môn theo từng khối.\n"
   ]
  },
  {
   "cell_type": "code",
   "execution_count": 20,
   "metadata": {},
   "outputs": [
    {
     "name": "stdout",
     "output_type": "stream",
     "text": [
      "0    549574\n",
      "Name: count, dtype: int64\n",
      "1    309162\n",
      "Name: count, dtype: int64\n"
     ]
    }
   ],
   "source": [
    "khoi_df = df[\"Khoi\"].value_counts().reset_index()\n",
    "print(khoi_df[khoi_df[\"Khoi\"] == \"KHXH\"][\"count\"])\n",
    "print(khoi_df[khoi_df[\"Khoi\"] == \"KHTN\"][\"count\"])"
   ]
  },
  {
   "cell_type": "markdown",
   "metadata": {},
   "source": [
    "16.\t(1.5đ) Tính điểm trung bình theo từng tỉnh thành (tentinh)."
   ]
  },
  {
   "cell_type": "code",
   "execution_count": 21,
   "metadata": {},
   "outputs": [
    {
     "data": {
      "text/html": [
       "<div>\n",
       "<style scoped>\n",
       "    .dataframe tbody tr th:only-of-type {\n",
       "        vertical-align: middle;\n",
       "    }\n",
       "\n",
       "    .dataframe tbody tr th {\n",
       "        vertical-align: top;\n",
       "    }\n",
       "\n",
       "    .dataframe thead th {\n",
       "        text-align: right;\n",
       "    }\n",
       "</style>\n",
       "<table border=\"1\" class=\"dataframe\">\n",
       "  <thead>\n",
       "    <tr style=\"text-align: right;\">\n",
       "      <th></th>\n",
       "      <th>tentinh</th>\n",
       "      <th>Diem Trung Binh</th>\n",
       "    </tr>\n",
       "  </thead>\n",
       "  <tbody>\n",
       "    <tr>\n",
       "      <th>0</th>\n",
       "      <td>thành phố cần thơ</td>\n",
       "      <td>6.373722</td>\n",
       "    </tr>\n",
       "    <tr>\n",
       "      <th>1</th>\n",
       "      <td>thành phố hà nội</td>\n",
       "      <td>6.482510</td>\n",
       "    </tr>\n",
       "    <tr>\n",
       "      <th>2</th>\n",
       "      <td>thành phố hải phòng</td>\n",
       "      <td>6.887519</td>\n",
       "    </tr>\n",
       "    <tr>\n",
       "      <th>3</th>\n",
       "      <td>thành phố hồ chí minh</td>\n",
       "      <td>6.485026</td>\n",
       "    </tr>\n",
       "    <tr>\n",
       "      <th>4</th>\n",
       "      <td>thành phố đà nẵng</td>\n",
       "      <td>6.147942</td>\n",
       "    </tr>\n",
       "    <tr>\n",
       "      <th>...</th>\n",
       "      <td>...</td>\n",
       "      <td>...</td>\n",
       "    </tr>\n",
       "    <tr>\n",
       "      <th>58</th>\n",
       "      <td>tỉnh điện biên</td>\n",
       "      <td>6.016295</td>\n",
       "    </tr>\n",
       "    <tr>\n",
       "      <th>59</th>\n",
       "      <td>tỉnh đăk nông</td>\n",
       "      <td>5.784273</td>\n",
       "    </tr>\n",
       "    <tr>\n",
       "      <th>60</th>\n",
       "      <td>tỉnh đắk lắk</td>\n",
       "      <td>5.790233</td>\n",
       "    </tr>\n",
       "    <tr>\n",
       "      <th>61</th>\n",
       "      <td>tỉnh đồng nai</td>\n",
       "      <td>6.045259</td>\n",
       "    </tr>\n",
       "    <tr>\n",
       "      <th>62</th>\n",
       "      <td>tỉnh đồng tháp</td>\n",
       "      <td>6.345403</td>\n",
       "    </tr>\n",
       "  </tbody>\n",
       "</table>\n",
       "<p>63 rows × 2 columns</p>\n",
       "</div>"
      ],
      "text/plain": [
       "                  tentinh  Diem Trung Binh\n",
       "0       thành phố cần thơ         6.373722\n",
       "1        thành phố hà nội         6.482510\n",
       "2     thành phố hải phòng         6.887519\n",
       "3   thành phố hồ chí minh         6.485026\n",
       "4       thành phố đà nẵng         6.147942\n",
       "..                    ...              ...\n",
       "58         tỉnh điện biên         6.016295\n",
       "59          tỉnh đăk nông         5.784273\n",
       "60           tỉnh đắk lắk         5.790233\n",
       "61          tỉnh đồng nai         6.045259\n",
       "62         tỉnh đồng tháp         6.345403\n",
       "\n",
       "[63 rows x 2 columns]"
      ]
     },
     "execution_count": 21,
     "metadata": {},
     "output_type": "execute_result"
    }
   ],
   "source": [
    "df.groupby([\"tentinh\"]).agg({\"Diem Trung Binh\": \"mean\"}).reset_index()"
   ]
  },
  {
   "cell_type": "markdown",
   "metadata": {},
   "source": [
    "17.\t(1.5đ) Liệt kê 5 tỉnh có điểm Toán trung bình cao nhất và 5 tỉnh có điểm Toán trung bình thấp nhất."
   ]
  },
  {
   "cell_type": "code",
   "execution_count": 22,
   "metadata": {},
   "outputs": [],
   "source": [
    "diem_toan_theo_tinh = df.groupby([\"tentinh\"]).agg({\"toan\": \"mean\"}).reset_index()\n"
   ]
  },
  {
   "cell_type": "code",
   "execution_count": 23,
   "metadata": {},
   "outputs": [
    {
     "data": {
      "text/html": [
       "<div>\n",
       "<style scoped>\n",
       "    .dataframe tbody tr th:only-of-type {\n",
       "        vertical-align: middle;\n",
       "    }\n",
       "\n",
       "    .dataframe tbody tr th {\n",
       "        vertical-align: top;\n",
       "    }\n",
       "\n",
       "    .dataframe thead th {\n",
       "        text-align: right;\n",
       "    }\n",
       "</style>\n",
       "<table border=\"1\" class=\"dataframe\">\n",
       "  <thead>\n",
       "    <tr style=\"text-align: right;\">\n",
       "      <th></th>\n",
       "      <th>tentinh</th>\n",
       "      <th>toan</th>\n",
       "    </tr>\n",
       "  </thead>\n",
       "  <tbody>\n",
       "    <tr>\n",
       "      <th>34</th>\n",
       "      <td>tỉnh nam định</td>\n",
       "      <td>7.402176</td>\n",
       "    </tr>\n",
       "    <tr>\n",
       "      <th>7</th>\n",
       "      <td>tỉnh bình dương</td>\n",
       "      <td>7.145337</td>\n",
       "    </tr>\n",
       "    <tr>\n",
       "      <th>3</th>\n",
       "      <td>thành phố hồ chí minh</td>\n",
       "      <td>7.057077</td>\n",
       "    </tr>\n",
       "    <tr>\n",
       "      <th>36</th>\n",
       "      <td>tỉnh ninh bình</td>\n",
       "      <td>6.999479</td>\n",
       "    </tr>\n",
       "    <tr>\n",
       "      <th>48</th>\n",
       "      <td>tỉnh thái bình</td>\n",
       "      <td>6.997300</td>\n",
       "    </tr>\n",
       "    <tr>\n",
       "      <th>20</th>\n",
       "      <td>tỉnh hà nam</td>\n",
       "      <td>6.981421</td>\n",
       "    </tr>\n",
       "    <tr>\n",
       "      <th>56</th>\n",
       "      <td>tỉnh vĩnh phúc</td>\n",
       "      <td>6.919863</td>\n",
       "    </tr>\n",
       "    <tr>\n",
       "      <th>2</th>\n",
       "      <td>thành phố hải phòng</td>\n",
       "      <td>6.916197</td>\n",
       "    </tr>\n",
       "    <tr>\n",
       "      <th>14</th>\n",
       "      <td>tỉnh bắc ninh</td>\n",
       "      <td>6.875251</td>\n",
       "    </tr>\n",
       "    <tr>\n",
       "      <th>51</th>\n",
       "      <td>tỉnh tiền giang</td>\n",
       "      <td>6.820937</td>\n",
       "    </tr>\n",
       "  </tbody>\n",
       "</table>\n",
       "</div>"
      ],
      "text/plain": [
       "                  tentinh      toan\n",
       "34          tỉnh nam định  7.402176\n",
       "7         tỉnh bình dương  7.145337\n",
       "3   thành phố hồ chí minh  7.057077\n",
       "36         tỉnh ninh bình  6.999479\n",
       "48         tỉnh thái bình  6.997300\n",
       "20            tỉnh hà nam  6.981421\n",
       "56         tỉnh vĩnh phúc  6.919863\n",
       "2     thành phố hải phòng  6.916197\n",
       "14          tỉnh bắc ninh  6.875251\n",
       "51        tỉnh tiền giang  6.820937"
      ]
     },
     "execution_count": 23,
     "metadata": {},
     "output_type": "execute_result"
    }
   ],
   "source": [
    "diem_toan_theo_tinh.sort_values(by=\"toan\", ascending=False).head(10)"
   ]
  },
  {
   "cell_type": "code",
   "execution_count": 24,
   "metadata": {},
   "outputs": [
    {
     "data": {
      "text/html": [
       "<div>\n",
       "<style scoped>\n",
       "    .dataframe tbody tr th:only-of-type {\n",
       "        vertical-align: middle;\n",
       "    }\n",
       "\n",
       "    .dataframe tbody tr th {\n",
       "        vertical-align: top;\n",
       "    }\n",
       "\n",
       "    .dataframe thead th {\n",
       "        text-align: right;\n",
       "    }\n",
       "</style>\n",
       "<table border=\"1\" class=\"dataframe\">\n",
       "  <thead>\n",
       "    <tr style=\"text-align: right;\">\n",
       "      <th></th>\n",
       "      <th>tentinh</th>\n",
       "      <th>toan</th>\n",
       "    </tr>\n",
       "  </thead>\n",
       "  <tbody>\n",
       "    <tr>\n",
       "      <th>19</th>\n",
       "      <td>tỉnh hà giang</td>\n",
       "      <td>4.696837</td>\n",
       "    </tr>\n",
       "    <tr>\n",
       "      <th>16</th>\n",
       "      <td>tỉnh cao bằng</td>\n",
       "      <td>5.173134</td>\n",
       "    </tr>\n",
       "    <tr>\n",
       "      <th>46</th>\n",
       "      <td>tỉnh sơn la</td>\n",
       "      <td>5.287387</td>\n",
       "    </tr>\n",
       "    <tr>\n",
       "      <th>22</th>\n",
       "      <td>tỉnh hòa bình</td>\n",
       "      <td>5.341972</td>\n",
       "    </tr>\n",
       "    <tr>\n",
       "      <th>58</th>\n",
       "      <td>tỉnh điện biên</td>\n",
       "      <td>5.481237</td>\n",
       "    </tr>\n",
       "    <tr>\n",
       "      <th>33</th>\n",
       "      <td>tỉnh lạng sơn</td>\n",
       "      <td>5.530194</td>\n",
       "    </tr>\n",
       "    <tr>\n",
       "      <th>13</th>\n",
       "      <td>tỉnh bắc kạn</td>\n",
       "      <td>5.551524</td>\n",
       "    </tr>\n",
       "    <tr>\n",
       "      <th>57</th>\n",
       "      <td>tỉnh yên bái</td>\n",
       "      <td>5.621939</td>\n",
       "    </tr>\n",
       "    <tr>\n",
       "      <th>52</th>\n",
       "      <td>tỉnh trà vinh</td>\n",
       "      <td>5.745022</td>\n",
       "    </tr>\n",
       "    <tr>\n",
       "      <th>53</th>\n",
       "      <td>tỉnh tuyên quang</td>\n",
       "      <td>5.790142</td>\n",
       "    </tr>\n",
       "  </tbody>\n",
       "</table>\n",
       "</div>"
      ],
      "text/plain": [
       "             tentinh      toan\n",
       "19     tỉnh hà giang  4.696837\n",
       "16     tỉnh cao bằng  5.173134\n",
       "46       tỉnh sơn la  5.287387\n",
       "22     tỉnh hòa bình  5.341972\n",
       "58    tỉnh điện biên  5.481237\n",
       "33     tỉnh lạng sơn  5.530194\n",
       "13      tỉnh bắc kạn  5.551524\n",
       "57      tỉnh yên bái  5.621939\n",
       "52     tỉnh trà vinh  5.745022\n",
       "53  tỉnh tuyên quang  5.790142"
      ]
     },
     "execution_count": 24,
     "metadata": {},
     "output_type": "execute_result"
    }
   ],
   "source": [
    "diem_toan_theo_tinh.sort_values(by=\"toan\", ascending=True).head(10)"
   ]
  },
  {
   "cell_type": "markdown",
   "metadata": {},
   "source": [
    "18.\t(1.5đ) Vẽ biểu đồ Pie thể hiện tỷ lệ học sinh thi các khối \"KHTN\", \"KHXH\", \"Chưa xác định\"."
   ]
  },
  {
   "cell_type": "code",
   "execution_count": 25,
   "metadata": {},
   "outputs": [
    {
     "data": {
      "image/png": "[encoded data removed]",
      "text/plain": [
       "<Figure size 600x600 with 1 Axes>"
      ]
     },
     "metadata": {},
     "output_type": "display_data"
    }
   ],
   "source": [
    "khoi_df = df[\"Khoi\"].value_counts().reset_index()\n",
    "\n",
    "labels = khoi_df[\"Khoi\"]\n",
    "sizes = khoi_df[\"count\"]\n",
    "\n",
    "\n",
    "plt.figure(figsize=(6, 6))\n",
    "plt.pie(sizes, labels=labels, autopct=\"%1.1f%%\")\n",
    "plt.title(\"Tỉ lệ học sinh theo khối KHXH và KHTN\")\n",
    "plt.show()"
   ]
  },
  {
   "cell_type": "markdown",
   "metadata": {},
   "source": [
    "19.\t(1.5đ) Vẽ biểu đồ Bar thể hiện số lượng học sinh ở các tỉnh Hà Nội, Hồ Chí Minh, Đà Nẵng."
   ]
  },
  {
   "cell_type": "code",
   "execution_count": 26,
   "metadata": {},
   "outputs": [
    {
     "data": {
      "text/html": [
       "<div>\n",
       "<style scoped>\n",
       "    .dataframe tbody tr th:only-of-type {\n",
       "        vertical-align: middle;\n",
       "    }\n",
       "\n",
       "    .dataframe tbody tr th {\n",
       "        vertical-align: top;\n",
       "    }\n",
       "\n",
       "    .dataframe thead th {\n",
       "        text-align: right;\n",
       "    }\n",
       "</style>\n",
       "<table border=\"1\" class=\"dataframe\">\n",
       "  <thead>\n",
       "    <tr style=\"text-align: right;\">\n",
       "      <th></th>\n",
       "      <th>Tên TP</th>\n",
       "      <th>Số lượng</th>\n",
       "    </tr>\n",
       "  </thead>\n",
       "  <tbody>\n",
       "    <tr>\n",
       "      <th>0</th>\n",
       "      <td>thành phố hà nội</td>\n",
       "      <td>95769</td>\n",
       "    </tr>\n",
       "    <tr>\n",
       "      <th>1</th>\n",
       "      <td>thành phố hồ chí minh</td>\n",
       "      <td>84094</td>\n",
       "    </tr>\n",
       "    <tr>\n",
       "      <th>2</th>\n",
       "      <td>thành phố đà nẵng</td>\n",
       "      <td>12433</td>\n",
       "    </tr>\n",
       "  </tbody>\n",
       "</table>\n",
       "</div>"
      ],
      "text/plain": [
       "                  Tên TP  Số lượng\n",
       "0       thành phố hà nội     95769\n",
       "1  thành phố hồ chí minh     84094\n",
       "2      thành phố đà nẵng     12433"
      ]
     },
     "execution_count": 26,
     "metadata": {},
     "output_type": "execute_result"
    }
   ],
   "source": [
    "tp_df = df[\"tentinh\"].value_counts().loc[[\"thành phố hà nội\", \"thành phố hồ chí minh\", \"thành phố đà nẵng\"]]\n",
    "tp_df = tp_df.reset_index()\n",
    "tp_df.columns = [\"Tên TP\", \"Số lượng\"]\n",
    "tp_df"
   ]
  },
  {
   "cell_type": "code",
   "execution_count": 27,
   "metadata": {},
   "outputs": [
    {
     "data": {
      "image/png": "[encoded data removed]",
      "text/plain": [
       "<Figure size 800x500 with 1 Axes>"
      ]
     },
     "metadata": {},
     "output_type": "display_data"
    }
   ],
   "source": [
    "plt.figure(figsize=(8, 5))\n",
    "sns.barplot(data=tp_df, x=\"Số lượng\", y=\"Tên TP\")\n",
    "\n",
    "plt.xlabel(\"Số lượng học sinh\")\n",
    "plt.ylabel(\"Tên tỉnh\")\n",
    "plt.title(\"Số lượng học sinh tại Hà Nội, TP.HCM và Đà Nẵng\")\n",
    "\n",
    "plt.show()"
   ]
  },
  {
   "cell_type": "markdown",
   "metadata": {},
   "source": [
    "20.\t(1.5đ) Vẽ biểu đồ Boxplot để quan sát phân phối điểm Toán và phát hiện outliers."
   ]
  },
  {
   "cell_type": "code",
   "execution_count": 28,
   "metadata": {},
   "outputs": [
    {
     "data": {
      "image/png": "[encoded data removed]",
      "text/plain": [
       "<Figure size 600x400 with 1 Axes>"
      ]
     },
     "metadata": {},
     "output_type": "display_data"
    }
   ],
   "source": [
    "plt.figure(figsize=(6,4))\n",
    "plt.boxplot(x=df[\"toan\"])\n",
    "plt.title(\"Boxplot của điểm Toán\")\n",
    "plt.show()\n"
   ]
  },
  {
   "cell_type": "markdown",
   "metadata": {},
   "source": [
    "21.\t(1.5đ) Vẽ biểu đồ Histogram thể hiện phân phối điểm Toán."
   ]
  },
  {
   "cell_type": "code",
   "execution_count": 29,
   "metadata": {},
   "outputs": [
    {
     "data": {
      "text/plain": [
       "<Axes: >"
      ]
     },
     "execution_count": 29,
     "metadata": {},
     "output_type": "execute_result"
    },
    {
     "data": {
      "image/png": "[encoded data removed]",
      "text/plain": [
       "<Figure size 640x480 with 1 Axes>"
      ]
     },
     "metadata": {},
     "output_type": "display_data"
    }
   ],
   "source": [
    "df[\"toan\"].hist()"
   ]
  }
 ],
 "metadata": {
  "kernelspec": {
   "display_name": "Python 3",
   "language": "python",
   "name": "python3"
  },
  "language_info": {
   "codemirror_mode": {
    "name": "ipython",
    "version": 3
   },
   "file_extension": ".py",
   "mimetype": "text/x-python",
   "name": "python",
   "nbconvert_exporter": "python",
   "pygments_lexer": "ipython3",
   "version": "3.12.5"
  }
 },
 "nbformat": 4,
 "nbformat_minor": 4
}
