{
 "cells": [
  {
   "cell_type": "code",
   "execution_count": 2,
   "metadata": {},
   "outputs": [],
   "source": [
    "# Import các thư viện thông dụng\n",
    "import numpy as np\n",
    "import pandas as pd\n",
    "import matplotlib.pyplot as plt\n",
    "# Import các distribution packages từ thư viện scipy\n",
    "from scipy.stats import binom\n",
    "from scipy.stats import poisson\n",
    "from scipy.stats import norm\n",
    "from scipy.stats import t"
   ]
  },
  {
   "cell_type": "markdown",
   "metadata": {},
   "source": [
    "**Bài 01:** Một bài thi trắc nghiệm gồm 10 câu hỏi, mỗi câu có 4 phương án trả lời trong đó chỉ có một phương án đúng. Bạn hãy: \n"
   ]
  },
  {
   "cell_type": "markdown",
   "metadata": {},
   "source": [
    "a. Một sinh viên không học bài làm bài bằng cách chọn ngẫu nhiên một phương án cho mỗi câu hỏi. Bạn hãy dùng hàm random để in ra số câu đúng của bạn sinh viên trong 10 lần kiểm tra.\n"
   ]
  },
  {
   "cell_type": "code",
   "execution_count": 3,
   "metadata": {},
   "outputs": [
    {
     "data": {
      "text/html": [
       "<div>\n",
       "<style scoped>\n",
       "    .dataframe tbody tr th:only-of-type {\n",
       "        vertical-align: middle;\n",
       "    }\n",
       "\n",
       "    .dataframe tbody tr th {\n",
       "        vertical-align: top;\n",
       "    }\n",
       "\n",
       "    .dataframe thead th {\n",
       "        text-align: right;\n",
       "    }\n",
       "</style>\n",
       "<table border=\"1\" class=\"dataframe\">\n",
       "  <thead>\n",
       "    <tr style=\"text-align: right;\">\n",
       "      <th></th>\n",
       "      <th>Số lần thử</th>\n",
       "      <th>Số câu đúng</th>\n",
       "    </tr>\n",
       "  </thead>\n",
       "  <tbody>\n",
       "    <tr>\n",
       "      <th>0</th>\n",
       "      <td>1</td>\n",
       "      <td>0</td>\n",
       "    </tr>\n",
       "    <tr>\n",
       "      <th>1</th>\n",
       "      <td>2</td>\n",
       "      <td>1</td>\n",
       "    </tr>\n",
       "    <tr>\n",
       "      <th>2</th>\n",
       "      <td>3</td>\n",
       "      <td>4</td>\n",
       "    </tr>\n",
       "    <tr>\n",
       "      <th>3</th>\n",
       "      <td>4</td>\n",
       "      <td>3</td>\n",
       "    </tr>\n",
       "    <tr>\n",
       "      <th>4</th>\n",
       "      <td>5</td>\n",
       "      <td>3</td>\n",
       "    </tr>\n",
       "    <tr>\n",
       "      <th>5</th>\n",
       "      <td>6</td>\n",
       "      <td>4</td>\n",
       "    </tr>\n",
       "    <tr>\n",
       "      <th>6</th>\n",
       "      <td>7</td>\n",
       "      <td>1</td>\n",
       "    </tr>\n",
       "    <tr>\n",
       "      <th>7</th>\n",
       "      <td>8</td>\n",
       "      <td>2</td>\n",
       "    </tr>\n",
       "    <tr>\n",
       "      <th>8</th>\n",
       "      <td>9</td>\n",
       "      <td>1</td>\n",
       "    </tr>\n",
       "    <tr>\n",
       "      <th>9</th>\n",
       "      <td>10</td>\n",
       "      <td>2</td>\n",
       "    </tr>\n",
       "  </tbody>\n",
       "</table>\n",
       "</div>"
      ],
      "text/plain": [
       "   Số lần thử  Số câu đúng\n",
       "0           1            0\n",
       "1           2            1\n",
       "2           3            4\n",
       "3           4            3\n",
       "4           5            3\n",
       "5           6            4\n",
       "6           7            1\n",
       "7           8            2\n",
       "8           9            1\n",
       "9          10            2"
      ]
     },
     "execution_count": 3,
     "metadata": {},
     "output_type": "execute_result"
    }
   ],
   "source": [
    "n, p = 10, 0.25\n",
    "\n",
    "x = np.random.binomial(n, p, 10)\n",
    "df = pd.DataFrame({\n",
    "  \"Số lần thử\": range(1, len(x) + 1),\n",
    "  \"Số câu đúng\": x\n",
    "})\n",
    "df"
   ]
  },
  {
   "cell_type": "markdown",
   "metadata": {},
   "source": [
    "b. Giả sử mỗi câu đúng được 4 điểm, mỗi câu sai bị trừ 2 điểm. Tính xác suất để sinh viên này được 4 điểm"
   ]
  },
  {
   "cell_type": "markdown",
   "metadata": {},
   "source": [
    " Công thức điểm: Y = 4*X + (-2)*(10 - X) = 6*X - 20\n",
    " \n",
    " Để Y = 4, ta có 6*X - 20 = 4 => X = 4"
   ]
  },
  {
   "cell_type": "code",
   "execution_count": 5,
   "metadata": {},
   "outputs": [
    {
     "name": "stdout",
     "output_type": "stream",
     "text": [
      "Xác xuất sinh viên được 4 điểm: 14.599800109863272\n"
     ]
    }
   ],
   "source": [
    "print(\"Xác xuất sinh viên được 4 điểm:\", binom.pmf(4, n, p) * 100)"
   ]
  },
  {
   "cell_type": "markdown",
   "metadata": {},
   "source": [
    "c. Gọi X là số câu trả lời đúng. Tính E(X) và Var(X)"
   ]
  },
  {
   "cell_type": "code",
   "execution_count": 6,
   "metadata": {},
   "outputs": [
    {
     "name": "stdout",
     "output_type": "stream",
     "text": [
      "E(x): 2.5\n",
      "Varx: 1.875\n"
     ]
    }
   ],
   "source": [
    "Ex = n * p\n",
    "Varx = n * p * (1 - p)\n",
    "\n",
    "print(\"E(x):\", Ex)\n",
    "print(\"Varx:\", Varx)"
   ]
  },
  {
   "cell_type": "markdown",
   "metadata": {},
   "source": [
    "**Bài 02:** Một trung tâm bưu điện nhận được 3 cuộc gọi điện thoại mỗi phút. Tính xác suất để trung tâm nhận được 1 cuộc gọi, 2 cuộc gọi, 3 cuộc gọi trong vòng một phút biết số cuộc gọi trong một phút có phân phối Poisson."
   ]
  },
  {
   "cell_type": "code",
   "execution_count": 8,
   "metadata": {},
   "outputs": [
    {
     "name": "stdout",
     "output_type": "stream",
     "text": [
      "Xác xuất 1 cuộc gọi là: 14.936120510359185\n",
      "Xác xuất 1 cuộc gọi là: 22.404180765538776\n",
      "Xác xuất 1 cuộc gọi là: 22.404180765538776\n"
     ]
    }
   ],
   "source": [
    "lambda_calls = 3\n",
    "\n",
    "print(\"Xác xuất 1 cuộc gọi là:\", poisson.pmf(1, lambda_calls) * 100)\n",
    "print(\"Xác xuất 1 cuộc gọi là:\", poisson.pmf(2, lambda_calls) * 100)\n",
    "print(\"Xác xuất 1 cuộc gọi là:\", poisson.pmf(3, lambda_calls) * 100)"
   ]
  },
  {
   "cell_type": "markdown",
   "metadata": {},
   "source": [
    "**Bài 03:** Trọng lượng (đơn vị gam) của một loại trái cây có phân phối chuẩn với µ = 500 (gam) gam và $σ^2 = 16 (gam^2)$. Trái cây thu hoạch được phân loại theo trọng lượng như sau:\n",
    "\n",
    "Loại 1: trên 505 gam\n",
    "\n",
    "Loại 2: từ 495 – 505 gam\n",
    "\n",
    "Loại 3: dười 495 gam"
   ]
  },
  {
   "cell_type": "markdown",
   "metadata": {},
   "source": [
    "a. Hãy tính tỷ lệ của mỗi loại."
   ]
  },
  {
   "cell_type": "code",
   "execution_count": 15,
   "metadata": {},
   "outputs": [
    {
     "name": "stdout",
     "output_type": "stream",
     "text": [
      "Xác xuất loại 1: 10.564977366685536\n",
      "Xác xuất loại 2: 78.87004526662894\n",
      "Xác xuất loại 3: 10.564977366685536\n"
     ]
    }
   ],
   "source": [
    "mu = 500\n",
    "sigma = 4\n",
    "\n",
    "norm_cdf_505 = norm.cdf(505, loc=mu, scale=sigma)\n",
    "norm_cdf_495 = norm.cdf(495, loc=mu, scale=sigma)\n",
    "\n",
    "print(\"Xác xuất loại 1:\", norm.sf(505, loc=mu, scale=sigma) * 100)\n",
    "print(\"Xác xuất loại 2:\", (norm_cdf_505 - norm_cdf_495) * 100 )\n",
    "print(\"Xác xuất loại 3:\", norm_cdf_495 * 100)"
   ]
  },
  {
   "cell_type": "markdown",
   "metadata": {},
   "source": [
    "b. Bạn hãy mô phỏng lấy mẫu  20 trái cây trên. Bạn hãy vẽ histogram trọng lượng trái cây và tính giá trị trung bình và độ lệch chuẩn trái cây từ mẫu\n"
   ]
  },
  {
   "cell_type": "code",
   "execution_count": 30,
   "metadata": {},
   "outputs": [
    {
     "data": {
      "image/png": "[encoded data removed]",
      "text/plain": [
       "<Figure size 640x480 with 1 Axes>"
      ]
     },
     "metadata": {},
     "output_type": "display_data"
    },
    {
     "name": "stdout",
     "output_type": "stream",
     "text": [
      "Giá trị trung bình: 500.77360743792616\n",
      "Giá trị trung bình: 3.5604027403045717\n"
     ]
    }
   ],
   "source": [
    "norm_data = norm.rvs(loc=mu, scale=sigma, size=20)\n",
    "\n",
    "bins = int(np.ceil(np.log2(len(norm_data)) + 1))\n",
    "plt.hist(norm_data, bins=bins, edgecolor=\"black\", width=0.8)\n",
    "\n",
    "plt.xlabel('Loại')\n",
    "plt.ylabel('Tần số')\n",
    "plt.title('TẦN SỐ XUẤT HIỆN LOẠI TRÁI CÂY')\n",
    "\n",
    "plt.show()\n",
    "\n",
    "print(\"Giá trị trung bình:\", norm_data.mean())\n",
    "print(\"Giá trị trung bình:\", norm_data.std())"
   ]
  },
  {
   "cell_type": "code",
   "execution_count": 36,
   "metadata": {},
   "outputs": [
    {
     "data": {
      "image/png": "[encoded data removed]",
      "text/plain": [
       "<Figure size 640x480 with 1 Axes>"
      ]
     },
     "metadata": {},
     "output_type": "display_data"
    },
    {
     "name": "stdout",
     "output_type": "stream",
     "text": [
      "Giá trị trung bình: 499.8561454417686\n",
      "Giá trị trung bình: 3.9820154330522115\n"
     ]
    }
   ],
   "source": [
    "norm_data = norm.rvs(loc=mu, scale=sigma, size=100)\n",
    "\n",
    "bins = int(np.ceil(np.log2(len(norm_data)) + 1))\n",
    "plt.hist(norm_data, bins=bins, edgecolor=\"black\", width=0.8)\n",
    "\n",
    "plt.xlabel('Loại')\n",
    "plt.ylabel('Tần số')\n",
    "plt.title('TẦN SỐ XUẤT HIỆN LOẠI TRÁI CÂY')\n",
    "\n",
    "plt.show()\n",
    "\n",
    "print(\"Giá trị trung bình:\", norm_data.mean())\n",
    "print(\"Giá trị trung bình:\", norm_data.std())"
   ]
  },
  {
   "cell_type": "markdown",
   "metadata": {},
   "source": [
    "d. Từ hai cách lấy mẫu ở câu b, c bạn có nhận xét gì không?"
   ]
  },
  {
   "cell_type": "markdown",
   "metadata": {},
   "source": [
    "Nhận xét: Với mẫu n=100, trung bình và độ lệch chuẩn mẫu gần với giá trị thực của dân số (500 gam và 4 gam) hơn so với mẫu n=20."
   ]
  },
  {
   "cell_type": "markdown",
   "metadata": {},
   "source": [
    "**Bài 04:** Mô phỏng tung một con xúc sắc cân đối đồng chất 5000 lần. Dựa vào giá trị mô phỏng, bạn hãy tìm các giá trị xác suất dưới đây:"
   ]
  },
  {
   "cell_type": "markdown",
   "metadata": {},
   "source": [
    "a. Xác suất để  số chấm xuất hiện là 4"
   ]
  },
  {
   "cell_type": "markdown",
   "metadata": {},
   "source": [
    "b. Xác suất để số chấm xuất hiện lớn hơn hoặc bằng 4\n"
   ]
  },
  {
   "cell_type": "markdown",
   "metadata": {},
   "source": [
    "c. Giả sử biết số chấm xuất hiện lớn hơn hoặc bằng 4. Hãy tìm xác suất để mặt 6 chấm xuất hiện."
   ]
  },
  {
   "cell_type": "markdown",
   "metadata": {},
   "source": [
    "**Bài 05:** Tạo 5000 số ngẫu nhiên có phân phối nhị thức với n=50, p=0.7 Bạn Hãy"
   ]
  },
  {
   "cell_type": "code",
   "execution_count": 46,
   "metadata": {},
   "outputs": [],
   "source": [
    "n, p = 500, 0.7\n",
    "\n",
    "binom_data = binom.rvs(n=n, p=p, size=5000)"
   ]
  },
  {
   "cell_type": "markdown",
   "metadata": {},
   "source": [
    "a. Tìm các giá trị thống kê: min, max, Q1, Q2, Q3\n"
   ]
  },
  {
   "cell_type": "code",
   "execution_count": 47,
   "metadata": {},
   "outputs": [
    {
     "name": "stdout",
     "output_type": "stream",
     "text": [
      "min: 313\n",
      "max: 388\n",
      "q1: 343.0\n",
      "q2: 350.0\n",
      "q3: 357.0\n"
     ]
    }
   ],
   "source": [
    "s = pd.Series(binom_data)\n",
    "\n",
    "print(\"min:\", s.min())\n",
    "print(\"max:\", s.max())\n",
    "print(\"q1:\", s.quantile(0.25))\n",
    "print(\"q2:\", s.quantile(0.5))\n",
    "print(\"q3:\", s.quantile(0.75))"
   ]
  },
  {
   "cell_type": "markdown",
   "metadata": {},
   "source": [
    "b. Vẽ đồ thị boxplot"
   ]
  },
  {
   "cell_type": "code",
   "execution_count": 48,
   "metadata": {},
   "outputs": [
    {
     "data": {
      "image/png": "[encoded data removed]",
      "text/plain": [
       "<Figure size 800x600 with 1 Axes>"
      ]
     },
     "metadata": {},
     "output_type": "display_data"
    }
   ],
   "source": [
    "plt.figure(figsize=(8, 6))\n",
    "plt.boxplot(s, vert=False)\n",
    "plt.title(\"Boxplot của phân phối nhị thức (n=50, p=0.7)\")\n",
    "plt.xlabel(\"Giá trị\")\n",
    "plt.show()"
   ]
  },
  {
   "cell_type": "markdown",
   "metadata": {},
   "source": [
    "\n",
    "c. Vẽ các đồ thị: tần số, tần suất"
   ]
  },
  {
   "cell_type": "code",
   "execution_count": 50,
   "metadata": {},
   "outputs": [
    {
     "data": {
      "image/png": "[encoded data removed]",
      "text/plain": [
       "<Figure size 640x480 with 1 Axes>"
      ]
     },
     "metadata": {},
     "output_type": "display_data"
    }
   ],
   "source": [
    "bins = int(np.ceil(np.log2(len(binom_data)) + 1))\n",
    "plt.hist(binom_data, bins=bins, edgecolor=\"black\", width=0.8)\n",
    "\n",
    "plt.xlabel('Số')\n",
    "plt.ylabel('Tần số')\n",
    "plt.title('TẦN SỐ SỐ ĐƯỢC XUẤT HIỆN')\n",
    "\n",
    "plt.show()\n"
   ]
  }
 ],
 "metadata": {
  "kernelspec": {
   "display_name": "Python 3",
   "language": "python",
   "name": "python3"
  },
  "language_info": {
   "codemirror_mode": {
    "name": "ipython",
    "version": 3
   },
   "file_extension": ".py",
   "mimetype": "text/x-python",
   "name": "python",
   "nbconvert_exporter": "python",
   "pygments_lexer": "ipython3",
   "version": "3.12.5"
  }
 },
 "nbformat": 4,
 "nbformat_minor": 2
}
