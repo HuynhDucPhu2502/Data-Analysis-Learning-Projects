{
 "cells": [
  {
   "cell_type": "code",
   "execution_count": 2,
   "metadata": {},
   "outputs": [],
   "source": [
    "# Import các thư viện thông dụng\n",
    "import numpy as np\n",
    "import pandas as pd\n",
    "import matplotlib.pyplot as plt\n",
    "# Import các distribution packages từ thư viện scipy\n",
    "from scipy.stats import binom\n",
    "from scipy.stats import poisson\n",
    "from scipy.stats import norm\n",
    "from scipy.stats import t"
   ]
  },
  {
   "cell_type": "markdown",
   "metadata": {},
   "source": [
    "### Câu 1 (3.0 điểm):"
   ]
  },
  {
   "cell_type": "markdown",
   "metadata": {},
   "source": [
    "a. Đọc dữ liệu từ file trên vào DataFrame có tên df và hiển thị: 5 dòng đầu tiên, 5 dòng ngẫu nhiên, kiểu thước df, số dòng df, số cột df.\n"
   ]
  },
  {
   "cell_type": "code",
   "execution_count": 3,
   "metadata": {},
   "outputs": [],
   "source": [
    "df = pd.read_csv(\"../data/C62.csv\")"
   ]
  },
  {
   "cell_type": "code",
   "execution_count": 4,
   "metadata": {},
   "outputs": [
    {
     "name": "stdout",
     "output_type": "stream",
     "text": [
      "Số hàng: 100\n",
      "Số cột: 4\n"
     ]
    }
   ],
   "source": [
    "[hang, cot] = df.shape\n",
    "\n",
    "print(\"Số hàng:\", hang)\n",
    "print(\"Số cột:\", cot)"
   ]
  },
  {
   "cell_type": "code",
   "execution_count": 5,
   "metadata": {},
   "outputs": [
    {
     "name": "stdout",
     "output_type": "stream",
     "text": [
      "Kích thước df: 400\n"
     ]
    }
   ],
   "source": [
    "print(\"Kích thước df:\", df.size)"
   ]
  },
  {
   "cell_type": "code",
   "execution_count": 6,
   "metadata": {},
   "outputs": [
    {
     "name": "stdout",
     "output_type": "stream",
     "text": [
      "5 dòng đầu\n"
     ]
    },
    {
     "data": {
      "text/html": [
       "<div>\n",
       "<style scoped>\n",
       "    .dataframe tbody tr th:only-of-type {\n",
       "        vertical-align: middle;\n",
       "    }\n",
       "\n",
       "    .dataframe tbody tr th {\n",
       "        vertical-align: top;\n",
       "    }\n",
       "\n",
       "    .dataframe thead th {\n",
       "        text-align: right;\n",
       "    }\n",
       "</style>\n",
       "<table border=\"1\" class=\"dataframe\">\n",
       "  <thead>\n",
       "    <tr style=\"text-align: right;\">\n",
       "      <th></th>\n",
       "      <th>Mã Lô</th>\n",
       "      <th>Diện Tích</th>\n",
       "      <th>Mặt Tiền</th>\n",
       "      <th>Loại Đất</th>\n",
       "    </tr>\n",
       "  </thead>\n",
       "  <tbody>\n",
       "    <tr>\n",
       "      <th>0</th>\n",
       "      <td>L01</td>\n",
       "      <td>272</td>\n",
       "      <td>36</td>\n",
       "      <td>10</td>\n",
       "    </tr>\n",
       "    <tr>\n",
       "      <th>1</th>\n",
       "      <td>L02</td>\n",
       "      <td>147</td>\n",
       "      <td>20</td>\n",
       "      <td>1</td>\n",
       "    </tr>\n",
       "    <tr>\n",
       "      <th>2</th>\n",
       "      <td>L03</td>\n",
       "      <td>217</td>\n",
       "      <td>50</td>\n",
       "      <td>10</td>\n",
       "    </tr>\n",
       "    <tr>\n",
       "      <th>3</th>\n",
       "      <td>L04</td>\n",
       "      <td>292</td>\n",
       "      <td>15</td>\n",
       "      <td>1</td>\n",
       "    </tr>\n",
       "    <tr>\n",
       "      <th>4</th>\n",
       "      <td>L05</td>\n",
       "      <td>167</td>\n",
       "      <td>46</td>\n",
       "      <td>15</td>\n",
       "    </tr>\n",
       "  </tbody>\n",
       "</table>\n",
       "</div>"
      ],
      "text/plain": [
       "  Mã Lô  Diện Tích  Mặt Tiền  Loại Đất\n",
       "0   L01        272        36        10\n",
       "1   L02        147        20         1\n",
       "2   L03        217        50        10\n",
       "3   L04        292        15         1\n",
       "4   L05        167        46        15"
      ]
     },
     "execution_count": 6,
     "metadata": {},
     "output_type": "execute_result"
    }
   ],
   "source": [
    "print(\"5 dòng đầu\")\n",
    "df.head(5)"
   ]
  },
  {
   "cell_type": "code",
   "execution_count": 7,
   "metadata": {},
   "outputs": [
    {
     "name": "stdout",
     "output_type": "stream",
     "text": [
      "5 dòng cuối\n"
     ]
    },
    {
     "data": {
      "text/html": [
       "<div>\n",
       "<style scoped>\n",
       "    .dataframe tbody tr th:only-of-type {\n",
       "        vertical-align: middle;\n",
       "    }\n",
       "\n",
       "    .dataframe tbody tr th {\n",
       "        vertical-align: top;\n",
       "    }\n",
       "\n",
       "    .dataframe thead th {\n",
       "        text-align: right;\n",
       "    }\n",
       "</style>\n",
       "<table border=\"1\" class=\"dataframe\">\n",
       "  <thead>\n",
       "    <tr style=\"text-align: right;\">\n",
       "      <th></th>\n",
       "      <th>Mã Lô</th>\n",
       "      <th>Diện Tích</th>\n",
       "      <th>Mặt Tiền</th>\n",
       "      <th>Loại Đất</th>\n",
       "    </tr>\n",
       "  </thead>\n",
       "  <tbody>\n",
       "    <tr>\n",
       "      <th>95</th>\n",
       "      <td>L96</td>\n",
       "      <td>243</td>\n",
       "      <td>53</td>\n",
       "      <td>15</td>\n",
       "    </tr>\n",
       "    <tr>\n",
       "      <th>96</th>\n",
       "      <td>L97</td>\n",
       "      <td>248</td>\n",
       "      <td>50</td>\n",
       "      <td>15</td>\n",
       "    </tr>\n",
       "    <tr>\n",
       "      <th>97</th>\n",
       "      <td>L98</td>\n",
       "      <td>286</td>\n",
       "      <td>37</td>\n",
       "      <td>20</td>\n",
       "    </tr>\n",
       "    <tr>\n",
       "      <th>98</th>\n",
       "      <td>L99</td>\n",
       "      <td>123</td>\n",
       "      <td>20</td>\n",
       "      <td>20</td>\n",
       "    </tr>\n",
       "    <tr>\n",
       "      <th>99</th>\n",
       "      <td>L100</td>\n",
       "      <td>241</td>\n",
       "      <td>38</td>\n",
       "      <td>3</td>\n",
       "    </tr>\n",
       "  </tbody>\n",
       "</table>\n",
       "</div>"
      ],
      "text/plain": [
       "   Mã Lô  Diện Tích  Mặt Tiền  Loại Đất\n",
       "95   L96        243        53        15\n",
       "96   L97        248        50        15\n",
       "97   L98        286        37        20\n",
       "98   L99        123        20        20\n",
       "99  L100        241        38         3"
      ]
     },
     "execution_count": 7,
     "metadata": {},
     "output_type": "execute_result"
    }
   ],
   "source": [
    "print(\"5 dòng cuối\")\n",
    "df.tail(5)"
   ]
  },
  {
   "cell_type": "markdown",
   "metadata": {},
   "source": [
    "Thống kê số lượng lô đất nông nghiệp và đất không thời hạn và vẽ biểu đồ pie minh họa."
   ]
  },
  {
   "cell_type": "code",
   "execution_count": 8,
   "metadata": {},
   "outputs": [],
   "source": [
    "df_datnongnghiep = df[df[\"Loại Đất\"] == 1 ]\n",
    "df_datkhongthoihan = df[df[\"Loại Đất\"] == 2 ]"
   ]
  },
  {
   "cell_type": "code",
   "execution_count": 9,
   "metadata": {},
   "outputs": [
    {
     "data": {
      "image/png": "[encoded data removed]",
      "text/plain": [
       "<Figure size 600x600 with 1 Axes>"
      ]
     },
     "metadata": {},
     "output_type": "display_data"
    }
   ],
   "source": [
    "sizes = [len(df_datnongnghiep), len(df_datkhongthoihan)]\n",
    "labels= [\"Đất nông nghiệp\", \"Đất không thời hạn\"]\n",
    "\n",
    "plt.figure(figsize=(6, 6))\n",
    "plt.pie(sizes, labels=labels, autopct=\"%1.1f%%\")\n",
    "plt.title(\"Tỉ lệ học sinh theo từng khối\")\n",
    "plt.show()"
   ]
  },
  {
   "cell_type": "markdown",
   "metadata": {},
   "source": [
    "In ra giá trị thống kê trung bình (mean) diện tích cho các lô có thời hạn trên 10 năm."
   ]
  },
  {
   "cell_type": "code",
   "execution_count": 10,
   "metadata": {},
   "outputs": [
    {
     "name": "stdout",
     "output_type": "stream",
     "text": [
      "Trung bình (mean) diện tích cho các lô có thời hạn trên 10 năm: 204.4126984126984\n"
     ]
    }
   ],
   "source": [
    "res = df[df[\"Loại Đất\"] >= 10][\"Diện Tích\"].mean()\n",
    "\n",
    "print(\"Trung bình (mean) diện tích cho các lô có thời hạn trên 10 năm:\", res)"
   ]
  },
  {
   "cell_type": "markdown",
   "metadata": {},
   "source": [
    "### Câu 2 (2.0 điểm): \n",
    "Thêm cột TienGiaDat (triệu) vào DataFrame với các quy tắc sau:\n",
    "\n",
    "- Đất nông nghiệp: Giá trị lô đất = Diện tích x 2.\n",
    "- Đất ở không xác định thời hạn: Giá trị lô đất = Diện tích lô đất x mặt tiền.\n",
    "- Đất có thời hạn: Ghi \"Không xác định giá trị\".\n",
    "\n"
   ]
  },
  {
   "cell_type": "code",
   "execution_count": 11,
   "metadata": {},
   "outputs": [],
   "source": [
    "def calc_tiengiadat(row):\n",
    "  loai_dat = row[\"Loại Đất\"]\n",
    "  dien_tich = row[\"Diện Tích\"]\n",
    "  mat_tien = row[\"Mặt Tiền\"]\n",
    "\n",
    "  if (loai_dat == 1):\n",
    "    return dien_tich * 2\n",
    "  elif (loai_dat == 2):\n",
    "    return dien_tich * mat_tien\n",
    "  else:\n",
    "    return \"Không xác định giá trị\"\n",
    "  \n",
    "df[\"TienGiaDat\"] = df.apply(calc_tiengiadat, axis=1)"
   ]
  },
  {
   "cell_type": "code",
   "execution_count": 12,
   "metadata": {},
   "outputs": [
    {
     "data": {
      "text/html": [
       "<div>\n",
       "<style scoped>\n",
       "    .dataframe tbody tr th:only-of-type {\n",
       "        vertical-align: middle;\n",
       "    }\n",
       "\n",
       "    .dataframe tbody tr th {\n",
       "        vertical-align: top;\n",
       "    }\n",
       "\n",
       "    .dataframe thead th {\n",
       "        text-align: right;\n",
       "    }\n",
       "</style>\n",
       "<table border=\"1\" class=\"dataframe\">\n",
       "  <thead>\n",
       "    <tr style=\"text-align: right;\">\n",
       "      <th></th>\n",
       "      <th>Mã Lô</th>\n",
       "      <th>Diện Tích</th>\n",
       "      <th>Mặt Tiền</th>\n",
       "      <th>Loại Đất</th>\n",
       "      <th>TienGiaDat</th>\n",
       "    </tr>\n",
       "  </thead>\n",
       "  <tbody>\n",
       "    <tr>\n",
       "      <th>0</th>\n",
       "      <td>L01</td>\n",
       "      <td>272</td>\n",
       "      <td>36</td>\n",
       "      <td>10</td>\n",
       "      <td>Không xác định giá trị</td>\n",
       "    </tr>\n",
       "    <tr>\n",
       "      <th>1</th>\n",
       "      <td>L02</td>\n",
       "      <td>147</td>\n",
       "      <td>20</td>\n",
       "      <td>1</td>\n",
       "      <td>294</td>\n",
       "    </tr>\n",
       "    <tr>\n",
       "      <th>2</th>\n",
       "      <td>L03</td>\n",
       "      <td>217</td>\n",
       "      <td>50</td>\n",
       "      <td>10</td>\n",
       "      <td>Không xác định giá trị</td>\n",
       "    </tr>\n",
       "    <tr>\n",
       "      <th>3</th>\n",
       "      <td>L04</td>\n",
       "      <td>292</td>\n",
       "      <td>15</td>\n",
       "      <td>1</td>\n",
       "      <td>584</td>\n",
       "    </tr>\n",
       "    <tr>\n",
       "      <th>4</th>\n",
       "      <td>L05</td>\n",
       "      <td>167</td>\n",
       "      <td>46</td>\n",
       "      <td>15</td>\n",
       "      <td>Không xác định giá trị</td>\n",
       "    </tr>\n",
       "  </tbody>\n",
       "</table>\n",
       "</div>"
      ],
      "text/plain": [
       "  Mã Lô  Diện Tích  Mặt Tiền  Loại Đất              TienGiaDat\n",
       "0   L01        272        36        10  Không xác định giá trị\n",
       "1   L02        147        20         1                     294\n",
       "2   L03        217        50        10  Không xác định giá trị\n",
       "3   L04        292        15         1                     584\n",
       "4   L05        167        46        15  Không xác định giá trị"
      ]
     },
     "execution_count": 12,
     "metadata": {},
     "output_type": "execute_result"
    }
   ],
   "source": [
    "df.head()"
   ]
  },
  {
   "cell_type": "markdown",
   "metadata": {},
   "source": [
    "### Câu 3 (2.0 điểm): \n",
    "Thêm một cột mới vào DataFrame có tên là ChuyenDoi, được tính như sau:\n",
    "\n",
    "- Đối với đất nông nghiệp (LoaiDat = 1): ChuyenDoi = Diện tích x 15 (triệu).\n",
    "- Đối với các loại đất khác: ghi là \"Chưa có công văn\".\n"
   ]
  },
  {
   "cell_type": "code",
   "execution_count": 13,
   "metadata": {},
   "outputs": [],
   "source": [
    "def calc_chuyendoi(row):\n",
    "  loai_dat = row[\"Loại Đất\"]\n",
    "  dien_tich = row[\"Diện Tích\"]\n",
    "  if (loai_dat == 1):\n",
    "    return dien_tich * 15 * 10 ** 7\n",
    "  else:\n",
    "    return \"Chưa có công văn\"\n",
    "\n",
    "df[\"ChuyenDoi\"] = df.apply(calc_chuyendoi, axis=1)"
   ]
  },
  {
   "cell_type": "code",
   "execution_count": 14,
   "metadata": {},
   "outputs": [
    {
     "data": {
      "text/html": [
       "<div>\n",
       "<style scoped>\n",
       "    .dataframe tbody tr th:only-of-type {\n",
       "        vertical-align: middle;\n",
       "    }\n",
       "\n",
       "    .dataframe tbody tr th {\n",
       "        vertical-align: top;\n",
       "    }\n",
       "\n",
       "    .dataframe thead th {\n",
       "        text-align: right;\n",
       "    }\n",
       "</style>\n",
       "<table border=\"1\" class=\"dataframe\">\n",
       "  <thead>\n",
       "    <tr style=\"text-align: right;\">\n",
       "      <th></th>\n",
       "      <th>Mã Lô</th>\n",
       "      <th>Diện Tích</th>\n",
       "      <th>Mặt Tiền</th>\n",
       "      <th>Loại Đất</th>\n",
       "      <th>TienGiaDat</th>\n",
       "      <th>ChuyenDoi</th>\n",
       "    </tr>\n",
       "  </thead>\n",
       "  <tbody>\n",
       "    <tr>\n",
       "      <th>1</th>\n",
       "      <td>L02</td>\n",
       "      <td>147</td>\n",
       "      <td>20</td>\n",
       "      <td>1</td>\n",
       "      <td>294</td>\n",
       "      <td>22050000000</td>\n",
       "    </tr>\n",
       "    <tr>\n",
       "      <th>3</th>\n",
       "      <td>L04</td>\n",
       "      <td>292</td>\n",
       "      <td>15</td>\n",
       "      <td>1</td>\n",
       "      <td>584</td>\n",
       "      <td>43800000000</td>\n",
       "    </tr>\n",
       "    <tr>\n",
       "      <th>12</th>\n",
       "      <td>L13</td>\n",
       "      <td>188</td>\n",
       "      <td>49</td>\n",
       "      <td>1</td>\n",
       "      <td>376</td>\n",
       "      <td>28200000000</td>\n",
       "    </tr>\n",
       "    <tr>\n",
       "      <th>50</th>\n",
       "      <td>L51</td>\n",
       "      <td>283</td>\n",
       "      <td>23</td>\n",
       "      <td>1</td>\n",
       "      <td>566</td>\n",
       "      <td>42450000000</td>\n",
       "    </tr>\n",
       "    <tr>\n",
       "      <th>53</th>\n",
       "      <td>L54</td>\n",
       "      <td>228</td>\n",
       "      <td>23</td>\n",
       "      <td>1</td>\n",
       "      <td>456</td>\n",
       "      <td>34200000000</td>\n",
       "    </tr>\n",
       "    <tr>\n",
       "      <th>56</th>\n",
       "      <td>L57</td>\n",
       "      <td>153</td>\n",
       "      <td>18</td>\n",
       "      <td>1</td>\n",
       "      <td>306</td>\n",
       "      <td>22950000000</td>\n",
       "    </tr>\n",
       "    <tr>\n",
       "      <th>63</th>\n",
       "      <td>L64</td>\n",
       "      <td>142</td>\n",
       "      <td>28</td>\n",
       "      <td>1</td>\n",
       "      <td>284</td>\n",
       "      <td>21300000000</td>\n",
       "    </tr>\n",
       "    <tr>\n",
       "      <th>65</th>\n",
       "      <td>L66</td>\n",
       "      <td>131</td>\n",
       "      <td>31</td>\n",
       "      <td>1</td>\n",
       "      <td>262</td>\n",
       "      <td>19650000000</td>\n",
       "    </tr>\n",
       "    <tr>\n",
       "      <th>69</th>\n",
       "      <td>L70</td>\n",
       "      <td>269</td>\n",
       "      <td>40</td>\n",
       "      <td>1</td>\n",
       "      <td>538</td>\n",
       "      <td>40350000000</td>\n",
       "    </tr>\n",
       "    <tr>\n",
       "      <th>71</th>\n",
       "      <td>L72</td>\n",
       "      <td>135</td>\n",
       "      <td>34</td>\n",
       "      <td>1</td>\n",
       "      <td>270</td>\n",
       "      <td>20250000000</td>\n",
       "    </tr>\n",
       "    <tr>\n",
       "      <th>73</th>\n",
       "      <td>L74</td>\n",
       "      <td>219</td>\n",
       "      <td>47</td>\n",
       "      <td>1</td>\n",
       "      <td>438</td>\n",
       "      <td>32850000000</td>\n",
       "    </tr>\n",
       "    <tr>\n",
       "      <th>76</th>\n",
       "      <td>L77</td>\n",
       "      <td>182</td>\n",
       "      <td>36</td>\n",
       "      <td>1</td>\n",
       "      <td>364</td>\n",
       "      <td>27300000000</td>\n",
       "    </tr>\n",
       "  </tbody>\n",
       "</table>\n",
       "</div>"
      ],
      "text/plain": [
       "   Mã Lô  Diện Tích  Mặt Tiền  Loại Đất TienGiaDat    ChuyenDoi\n",
       "1    L02        147        20         1        294  22050000000\n",
       "3    L04        292        15         1        584  43800000000\n",
       "12   L13        188        49         1        376  28200000000\n",
       "50   L51        283        23         1        566  42450000000\n",
       "53   L54        228        23         1        456  34200000000\n",
       "56   L57        153        18         1        306  22950000000\n",
       "63   L64        142        28         1        284  21300000000\n",
       "65   L66        131        31         1        262  19650000000\n",
       "69   L70        269        40         1        538  40350000000\n",
       "71   L72        135        34         1        270  20250000000\n",
       "73   L74        219        47         1        438  32850000000\n",
       "76   L77        182        36         1        364  27300000000"
      ]
     },
     "execution_count": 14,
     "metadata": {},
     "output_type": "execute_result"
    }
   ],
   "source": [
    "df[df[\"ChuyenDoi\"] != \"Chưa có công văn\"]"
   ]
  },
  {
   "cell_type": "markdown",
   "metadata": {},
   "source": [
    "### Câu 4 (3.0 điểm): \n"
   ]
  },
  {
   "cell_type": "markdown",
   "metadata": {},
   "source": [
    "Giả sử diện tích đất có phân phối chuẩn. Hãy xây dựng hàm mật độ xác suất cho diện tích đất. \n",
    "\n"
   ]
  },
  {
   "cell_type": "code",
   "execution_count": 15,
   "metadata": {},
   "outputs": [],
   "source": [
    "new_df =  pd.DataFrame(df[\"Diện Tích\"])\n",
    "\n",
    "# Kỳ vọng\n",
    "mean = new_df.mean() \n",
    "# Độ lệch\n",
    "std = new_df.std()\n",
    "\n",
    "x_values = np.linspace(mean - 3*std, mean + 3*std, 1000)\n",
    "pdf_values = norm.pdf(x_values, mean, std)\n"
   ]
  },
  {
   "cell_type": "markdown",
   "metadata": {},
   "source": [
    "Vẽ đồ thị phân phối chuẩn cho diện tích đất. Điều chỉnh các giới hạn trục x (xlim) và trục y (ylim) cho phù hợp với đồ thị. "
   ]
  },
  {
   "cell_type": "code",
   "execution_count": 16,
   "metadata": {},
   "outputs": [
    {
     "data": {
      "image/png": "[encoded data removed]",
      "text/plain": [
       "<Figure size 800x500 with 1 Axes>"
      ]
     },
     "metadata": {},
     "output_type": "display_data"
    }
   ],
   "source": [
    "plt.figure(figsize=(8, 5))\n",
    "plt.plot(x_values, pdf_values, label='PDF')\n",
    "plt.title('Hàm Mật Độ Xác Suất cho Diện Tích Đất')\n",
    "plt.xlabel('Diện Tích (m²)')\n",
    "plt.ylabel('Mật Độ Xác Suất')\n",
    "plt.grid(True)\n",
    "plt.show()"
   ]
  },
  {
   "cell_type": "markdown",
   "metadata": {},
   "source": [
    "Tính và cho biết bao nhiêu phần trăm lô đất có diện tích dưới 120 mét vuông."
   ]
  },
  {
   "cell_type": "code",
   "execution_count": 19,
   "metadata": {},
   "outputs": [
    {
     "name": "stdout",
     "output_type": "stream",
     "text": [
      "phần trăm lô đất có diện tích dưới 120 mét vuông: [7.4330604]\n"
     ]
    }
   ],
   "source": [
    "res = norm.cdf(120, mean, std) * 100\n",
    "\n",
    "print(\"phần trăm lô đất có diện tích dưới 120 mét vuông:\", res)"
   ]
  }
 ],
 "metadata": {
  "kernelspec": {
   "display_name": "Python 3",
   "language": "python",
   "name": "python3"
  },
  "language_info": {
   "codemirror_mode": {
    "name": "ipython",
    "version": 3
   },
   "file_extension": ".py",
   "mimetype": "text/x-python",
   "name": "python",
   "nbconvert_exporter": "python",
   "pygments_lexer": "ipython3",
   "version": "3.12.5"
  }
 },
 "nbformat": 4,
 "nbformat_minor": 2
}
