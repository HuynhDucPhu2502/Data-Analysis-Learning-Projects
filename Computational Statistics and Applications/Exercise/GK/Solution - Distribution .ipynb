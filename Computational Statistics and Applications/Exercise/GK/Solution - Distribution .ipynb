{
 "cells": [
  {
   "cell_type": "code",
   "execution_count": 68,
   "metadata": {},
   "outputs": [],
   "source": [
    "# Import các thư viện thông dụng\n",
    "import numpy as np\n",
    "import pandas as pd\n",
    "import matplotlib.pyplot as plt\n",
    "# Import các distribution packages từ thư viện scipy\n",
    "from scipy.stats import binom\n",
    "from scipy.stats import poisson\n",
    "from scipy.stats import norm\n",
    "from scipy.stats import t"
   ]
  },
  {
   "cell_type": "markdown",
   "metadata": {},
   "source": [
    "## Đề 1"
   ]
  },
  {
   "cell_type": "markdown",
   "metadata": {},
   "source": [
    "### Tạo dữ liệu"
   ]
  },
  {
   "cell_type": "code",
   "execution_count": 69,
   "metadata": {},
   "outputs": [
    {
     "data": {
      "text/html": [
       "<div>\n",
       "<style scoped>\n",
       "    .dataframe tbody tr th:only-of-type {\n",
       "        vertical-align: middle;\n",
       "    }\n",
       "\n",
       "    .dataframe tbody tr th {\n",
       "        vertical-align: top;\n",
       "    }\n",
       "\n",
       "    .dataframe thead th {\n",
       "        text-align: right;\n",
       "    }\n",
       "</style>\n",
       "<table border=\"1\" class=\"dataframe\">\n",
       "  <thead>\n",
       "    <tr style=\"text-align: right;\">\n",
       "      <th></th>\n",
       "      <th>Binomial</th>\n",
       "      <th>Poisson</th>\n",
       "      <th>Normal</th>\n",
       "    </tr>\n",
       "  </thead>\n",
       "  <tbody>\n",
       "    <tr>\n",
       "      <th>0</th>\n",
       "      <td>1</td>\n",
       "      <td>8</td>\n",
       "      <td>77.031425</td>\n",
       "    </tr>\n",
       "    <tr>\n",
       "      <th>1</th>\n",
       "      <td>4</td>\n",
       "      <td>4</td>\n",
       "      <td>75.332073</td>\n",
       "    </tr>\n",
       "    <tr>\n",
       "      <th>2</th>\n",
       "      <td>3</td>\n",
       "      <td>5</td>\n",
       "      <td>71.654037</td>\n",
       "    </tr>\n",
       "    <tr>\n",
       "      <th>3</th>\n",
       "      <td>2</td>\n",
       "      <td>10</td>\n",
       "      <td>56.179824</td>\n",
       "    </tr>\n",
       "    <tr>\n",
       "      <th>4</th>\n",
       "      <td>1</td>\n",
       "      <td>3</td>\n",
       "      <td>65.163829</td>\n",
       "    </tr>\n",
       "  </tbody>\n",
       "</table>\n",
       "</div>"
      ],
      "text/plain": [
       "   Binomial  Poisson     Normal\n",
       "0         1        8  77.031425\n",
       "1         4        4  75.332073\n",
       "2         3        5  71.654037\n",
       "3         2       10  56.179824\n",
       "4         1        3  65.163829"
      ]
     },
     "execution_count": 69,
     "metadata": {},
     "output_type": "execute_result"
    }
   ],
   "source": [
    "# Tạo dữ liệu mẫu\n",
    "np.random.seed(42)\n",
    "\n",
    "# Phân phối Nhị Thức: Số lần trúng số trong 10 lần chơi (xác suất trúng là 0.2)\n",
    "binomial_data = binom.rvs(n=10, p=0.2, size=1000)\n",
    "\n",
    "# Phân phối Poisson: Số khách hàng đến quán cafe trong một giờ (trung bình 5 khách/giờ)\n",
    "poisson_data = poisson.rvs(mu=5, size=1000)\n",
    "\n",
    "# Phân phối Chuẩn: Điểm thi của 1000 học sinh (trung bình 70, độ lệch chuẩn 10)\n",
    "normal_data = norm.rvs(loc=70, scale=10, size=1000)\n",
    "\n",
    "# Tạo DataFrame chứa dữ liệu\n",
    "df = pd.DataFrame({\n",
    "    'Binomial': binomial_data,\n",
    "    'Poisson': poisson_data,\n",
    "    'Normal': normal_data\n",
    "})\n",
    "\n",
    "df.head()\n"
   ]
  },
  {
   "cell_type": "markdown",
   "metadata": {},
   "source": [
    "### Bài 1: Phân phối Nhị Thức\n",
    "Một trò chơi quay số có 10 lần quay, xác suất trúng mỗi lần là 0.2. Nếu một người chơi thử 1000 lần, hãy:\n",
    "\n",
    "- Tính số lần trung bình mà người chơi trúng trong 10 lần quay.\n",
    "- Xác suất để một người trúng ít nhất 3 lần trong một vòng quay 10 lần."
   ]
  },
  {
   "cell_type": "code",
   "execution_count": 70,
   "metadata": {},
   "outputs": [
    {
     "name": "stdout",
     "output_type": "stream",
     "text": [
      "Số lần trung bình mà người chơi trúng trong 10 lần là: 2.0\n",
      "Xác xuất để một ngời trúng ít nhất 3 lần: 0.32220047360000026\n"
     ]
    }
   ],
   "source": [
    "n, p = 10, 0.2\n",
    "mean_binom = n * p\n",
    "prob_binom_3_or_more = 1 - binom.cdf(2, n, p)\n",
    "\n",
    "\n",
    "print(\"Số lần trung bình mà người chơi trúng trong 10 lần là:\", mean_binom)\n",
    "print(\"Xác xuất để một ngời trúng ít nhất 3 lần:\", prob_binom_3_or_more)"
   ]
  },
  {
   "cell_type": "markdown",
   "metadata": {},
   "source": [
    "### Bài 2: Phân phối Poisson\n",
    "Một quán cafe có trung bình 5 khách hàng đến mỗi giờ. Trong một ngày 8 tiếng, hãy:\n",
    "\n",
    "- Tính xác suất có đúng 7 khách đến trong một giờ bất kỳ.\n",
    "- Tính xác suất có hơn 40 khách trong một ngày."
   ]
  },
  {
   "cell_type": "code",
   "execution_count": 71,
   "metadata": {},
   "outputs": [
    {
     "name": "stdout",
     "output_type": "stream",
     "text": [
      "Xác xuất có đúng 7 khách đến trong một giờ bất kỳ: 0.10444486295705395\n",
      "Xác xuất có hơn 40 khách trong một ngày: 0.4580818216374629\n"
     ]
    }
   ],
   "source": [
    "lambda_hour = 5\n",
    "prob_poisson_7 = poisson.pmf(7, mu=lambda_hour)\n",
    "lambda_day = lambda_hour * 8\n",
    "prob_poisson_more_than_40 = 1 - poisson.cdf(40, mu=lambda_day)\n",
    "\n",
    "print(\"Xác xuất có đúng 7 khách đến trong một giờ bất kỳ:\", prob_poisson_7)\n",
    "print(\"Xác xuất có hơn 40 khách trong một ngày:\", prob_poisson_more_than_40)"
   ]
  },
  {
   "cell_type": "markdown",
   "metadata": {},
   "source": [
    "### Bài 3: Phân phối Chuẩn\n",
    "Điểm thi trung bình của học sinh là 70, độ lệch chuẩn 10. Hãy tính:\n",
    "\n",
    "- Xác suất một học sinh có điểm trên 80.\n",
    "- Xác suất một học sinh có điểm trong khoảng 60 đến 80."
   ]
  },
  {
   "cell_type": "code",
   "execution_count": 72,
   "metadata": {},
   "outputs": [
    {
     "name": "stdout",
     "output_type": "stream",
     "text": [
      "Xác xuất một học sinh có điểm trên 80: 0.10444486295705395\n",
      "Xác xuất một học sinh có điểm trong khoảng 60 đến 80: 0.4580818216374629\n"
     ]
    }
   ],
   "source": [
    "mu, sigma = 70, 10\n",
    "prob_norm_above_80 = 1 - norm.cdf(80, loc=mu, scale=sigma)\n",
    "prob_norm_60_to_80 = norm.cdf(80, loc=mu, scale=sigma) - norm.cdf(60, loc=mu, scale=sigma)\n",
    "\n",
    "print(\"Xác xuất một học sinh có điểm trên 80:\", prob_poisson_7)\n",
    "print(\"Xác xuất một học sinh có điểm trong khoảng 60 đến 80:\", prob_poisson_more_than_40)"
   ]
  },
  {
   "cell_type": "markdown",
   "metadata": {},
   "source": [
    "### Bài 4:\n",
    "Giả sử chiều cao của sinh viên năm hai ở một trường đại học là đại lượng ngẫu nhiên có phân phối chuẩn với trung bình mu = 172 cm và độ lệch chuẩn sigma = 8cm"
   ]
  },
  {
   "cell_type": "code",
   "execution_count": 73,
   "metadata": {},
   "outputs": [],
   "source": [
    "mu, sigma = 172, 8"
   ]
  },
  {
   "cell_type": "markdown",
   "metadata": {},
   "source": [
    "- Tỷ lệ sinh viên có chiều cao lớn hơn 184 cm là bao nhiêu?"
   ]
  },
  {
   "cell_type": "code",
   "execution_count": 74,
   "metadata": {},
   "outputs": [
    {
     "name": "stdout",
     "output_type": "stream",
     "text": [
      "Tỷ lệ sinh viên có chiều cao lớn hơn 184 cm là: 0.06680720126885809\n"
     ]
    }
   ],
   "source": [
    "print(\"Tỷ lệ sinh viên có chiều cao lớn hơn 184 cm là:\", 1 - norm.cdf(184, loc=mu, scale=sigma))"
   ]
  },
  {
   "cell_type": "markdown",
   "metadata": {},
   "source": [
    "- Tỷ lệ sinh viên có chiều cao trong khoảng từ 164 cm - 180 cm là bao nhiêu?"
   ]
  },
  {
   "cell_type": "code",
   "execution_count": 75,
   "metadata": {},
   "outputs": [
    {
     "name": "stdout",
     "output_type": "stream",
     "text": [
      "Tỷ lệ sinh viên có chiều cao trong khoảng từ 164 cm - 180 cm: 0.6826894921370859\n"
     ]
    }
   ],
   "source": [
    "norm_180 = norm.cdf(180, loc=mu, scale=sigma)\n",
    "norm_164 = norm.cdf(164, loc=mu, scale=sigma)\n",
    "norm_164_to_180 = norm_180 -  norm_164\n",
    "\n",
    "print(\"Tỷ lệ sinh viên có chiều cao trong khoảng từ 164 cm - 180 cm:\", norm_164_to_180)"
   ]
  },
  {
   "cell_type": "markdown",
   "metadata": {},
   "source": [
    "- Nếu biết chiều cao của bạn, từ đó xác định xem có bao nhiêu % sinh viên có chiều cao thấp hơn bạn."
   ]
  },
  {
   "cell_type": "code",
   "execution_count": 76,
   "metadata": {},
   "outputs": [
    {
     "name": "stdout",
     "output_type": "stream",
     "text": [
      "Tỷ lệ sinh viên có chiều cao thấp hơn 168: 0.3085375387259869\n"
     ]
    }
   ],
   "source": [
    "me = 168\n",
    "norm_below_168 = norm.cdf(me, loc=mu, scale=sigma)\n",
    "\n",
    "print(\"Tỷ lệ sinh viên có chiều cao thấp hơn 168:\", norm_below_168)"
   ]
  },
  {
   "cell_type": "markdown",
   "metadata": {},
   "source": [
    "- Chiều cao tối thiểu của nhóm top 10% sinh viên cao nhất là bao nhiêu?"
   ]
  },
  {
   "cell_type": "code",
   "execution_count": 77,
   "metadata": {},
   "outputs": [
    {
     "name": "stdout",
     "output_type": "stream",
     "text": [
      "Chiều cao tối thiểu của nhóm top 10% sinh viên cao nhất: 182.2524125243568\n"
     ]
    }
   ],
   "source": [
    "# 10% cao nhất tương đương với lớn hơn P(X <= L) = 0.9\n",
    "# L = norm.ppf(0.9, loc=mu, scale=sigma)\n",
    "L = norm.isf(0.1, loc=mu, scale=sigma)\n",
    "\n",
    "print(\"Chiều cao tối thiểu của nhóm top 10% sinh viên cao nhất:\", L)"
   ]
  },
  {
   "cell_type": "markdown",
   "metadata": {},
   "source": [
    "- Chiều cao tối đa của nhóm 5% sinh viên thấp nhất là bao nhiêu?"
   ]
  },
  {
   "cell_type": "code",
   "execution_count": 78,
   "metadata": {},
   "outputs": [
    {
     "name": "stdout",
     "output_type": "stream",
     "text": [
      "Chiều cao tối thiểu của nhóm top 5% sinh viên thấp nhất: 158.8411709843882\n"
     ]
    }
   ],
   "source": [
    "# 5% cao nhất tương đương với lớn hơn P(X <= L) = 0.05\n",
    "L = norm.ppf(0.05, loc=mu, scale=sigma)\n",
    "\n",
    "print(\"Chiều cao tối thiểu của nhóm top 5% sinh viên thấp nhất:\", L)"
   ]
  },
  {
   "cell_type": "markdown",
   "metadata": {},
   "source": [
    "### Bài 5:\n",
    "Một công ty dược phẩm sản xuất viên nang thuốc và muốn kiểm tra chất lượng của chúng.\n",
    "Xác suất một viên thuốc bị lỗi trong quá trình sản xuất là 5%. Đánh giá chất lượng của một lô thuốc bằng cách lấy ngẫu nhiên 10 viên thuốc để kiểm tra."
   ]
  },
  {
   "cell_type": "code",
   "execution_count": 79,
   "metadata": {},
   "outputs": [],
   "source": [
    "n, p = 10, 0.05"
   ]
  },
  {
   "cell_type": "markdown",
   "metadata": {},
   "source": [
    "- Xác suất để có đúng 2 viên thuốc bị lỗi trong số 10 viên được chọn là bao nhiêu?"
   ]
  },
  {
   "cell_type": "code",
   "execution_count": 80,
   "metadata": {},
   "outputs": [
    {
     "name": "stdout",
     "output_type": "stream",
     "text": [
      "Xác suất để có đúng 2 viên thuốc bị lỗi trong số 10 viên: 0.07463479852001963\n"
     ]
    }
   ],
   "source": [
    "binom_p_2 =  binom.pmf(2, n, p)\n",
    "\n",
    "print(\"Xác suất để có đúng 2 viên thuốc bị lỗi trong số 10 viên:\", binom_p_2)"
   ]
  },
  {
   "cell_type": "markdown",
   "metadata": {},
   "source": [
    "- Xác suất để có nhiều nhất 1 viên thuốc lỗi trong mẫu là bao nhiêu?"
   ]
  },
  {
   "cell_type": "code",
   "execution_count": 81,
   "metadata": {},
   "outputs": [
    {
     "name": "stdout",
     "output_type": "stream",
     "text": [
      "Xác suất để có nhiều nhất 1 viên thuốc lỗi trong mẫu là: 0.9138616441006836\n"
     ]
    }
   ],
   "source": [
    "binom_cdf_1 =  binom.cdf(1, n, p)\n",
    "\n",
    "print(\"Xác suất để có nhiều nhất 1 viên thuốc lỗi trong mẫu là:\", binom_cdf_1)"
   ]
  },
  {
   "cell_type": "markdown",
   "metadata": {},
   "source": [
    "-  Xác suất để có ít nhất 2 viên lỗi là bao nhiêu?"
   ]
  },
  {
   "cell_type": "code",
   "execution_count": 82,
   "metadata": {},
   "outputs": [
    {
     "name": "stdout",
     "output_type": "stream",
     "text": [
      "Xác suất để có ít nhất 2 viên lỗi là: 0.08613835589931643\n"
     ]
    }
   ],
   "source": [
    "binom_min_2 =  binom.sf(1, n, p)\n",
    "\n",
    "print(\"Xác suất để có ít nhất 2 viên lỗi là:\", binom_min_2)"
   ]
  },
  {
   "cell_type": "markdown",
   "metadata": {},
   "source": [
    "### Bài 6:\n",
    "Một kỳ thi trắc nghiệm có 15 câu hỏi, mỗi câu có 4 đáp án. Một học sinh đoán ngẫu nhiên mọi câu."
   ]
  },
  {
   "cell_type": "code",
   "execution_count": 83,
   "metadata": {},
   "outputs": [],
   "source": [
    "n, p = 15, 0.25"
   ]
  },
  {
   "cell_type": "markdown",
   "metadata": {},
   "source": [
    "- Xác suất để học sinh trả lời đúng chính xác 5 câu?"
   ]
  },
  {
   "cell_type": "code",
   "execution_count": 84,
   "metadata": {},
   "outputs": [
    {
     "name": "stdout",
     "output_type": "stream",
     "text": [
      "Xác suất để học sinh trả lời đúng chính xác 5 câu: 0.16514598112553355\n"
     ]
    }
   ],
   "source": [
    "binom_p_5 = binom.pmf(5, n, p)\n",
    "print(\"Xác suất để học sinh trả lời đúng chính xác 5 câu:\", binom_p_5)"
   ]
  },
  {
   "cell_type": "markdown",
   "metadata": {},
   "source": [
    "- Xác suất để học sinh trả lời đúng nhiều nhất 3 câu?"
   ]
  },
  {
   "cell_type": "code",
   "execution_count": 85,
   "metadata": {},
   "outputs": [
    {
     "name": "stdout",
     "output_type": "stream",
     "text": [
      "Xác suất để học sinh trả lời đúng nhiều nhất 3 câu: 0.22519906517118224\n"
     ]
    }
   ],
   "source": [
    "binom_cdf_3 = binom.pmf(3, n, p)\n",
    "print(\"Xác suất để học sinh trả lời đúng nhiều nhất 3 câu:\", binom_cdf_3)"
   ]
  },
  {
   "cell_type": "markdown",
   "metadata": {},
   "source": [
    "- Xác suất để học sinh trả lời đúng ít nhất 7 câu"
   ]
  },
  {
   "cell_type": "code",
   "execution_count": 86,
   "metadata": {},
   "outputs": [
    {
     "name": "stdout",
     "output_type": "stream",
     "text": [
      "Xác suất để học sinh trả lời đúng ít nhất 7 câu: 0.05662031006067991\n"
     ]
    }
   ],
   "source": [
    "binom_sf_7 = binom.sf(6, n, p)\n",
    "print(\"Xác suất để học sinh trả lời đúng ít nhất 7 câu:\", binom_sf_7)"
   ]
  },
  {
   "cell_type": "markdown",
   "metadata": {},
   "source": [
    "- Một học sinh cần trả lời đúng ít nhất bao nhiêu câu để nằm trong top 10% cao nhất"
   ]
  },
  {
   "cell_type": "code",
   "execution_count": 87,
   "metadata": {},
   "outputs": [
    {
     "name": "stdout",
     "output_type": "stream",
     "text": [
      "Một học sinh cần trả lời đúng ít nhất bao nhiêu câu để nằm trong top 10% cao nhất: 6.0\n"
     ]
    }
   ],
   "source": [
    "binom_isf_10 = binom.isf(0.1, n, p)\n",
    "print(\"Một học sinh cần trả lời đúng ít nhất bao nhiêu câu để nằm trong top 10% cao nhất:\", binom_isf_10)"
   ]
  },
  {
   "cell_type": "markdown",
   "metadata": {},
   "source": [
    "### Bài 7:\n",
    "Một trung tâm chăm sóc khách hàng nhận trung bình 12 cuộc gọi mỗi giờ."
   ]
  },
  {
   "cell_type": "code",
   "execution_count": 88,
   "metadata": {},
   "outputs": [],
   "source": [
    "lamda = 12"
   ]
  },
  {
   "cell_type": "markdown",
   "metadata": {},
   "source": [
    "- Xác suất để trung tâm nhận đúng 15 cuộc gọi trong một giờ?"
   ]
  },
  {
   "cell_type": "code",
   "execution_count": 89,
   "metadata": {},
   "outputs": [
    {
     "name": "stdout",
     "output_type": "stream",
     "text": [
      "Xác suất để trung tâm nhận đúng 15 cuộc gọi trong một giờ: 0.07239112014663847\n"
     ]
    }
   ],
   "source": [
    "possion_p_15  = poisson.pmf(15, lamda)\n",
    "print(\"Xác suất để trung tâm nhận đúng 15 cuộc gọi trong một giờ:\", possion_p_15)"
   ]
  },
  {
   "cell_type": "markdown",
   "metadata": {},
   "source": [
    "- Xác suất để trung tâm nhận nhiều hơn 20 cuộc gọi trong một giờ?"
   ]
  },
  {
   "cell_type": "code",
   "execution_count": 90,
   "metadata": {},
   "outputs": [
    {
     "name": "stdout",
     "output_type": "stream",
     "text": [
      "Xác suất để trung tâm nhận nhiều hơn 20 cuộc gọi trong một giờ: 0.011597737214807462\n"
     ]
    }
   ],
   "source": [
    "possion_sf_20  = poisson.sf(20, lamda)\n",
    "print(\"Xác suất để trung tâm nhận nhiều hơn 20 cuộc gọi trong một giờ:\", possion_sf_20)"
   ]
  },
  {
   "cell_type": "markdown",
   "metadata": {},
   "source": [
    "- Xác suất để trung tâm nhận ít hơn 10 cuộc gọi trong một giờ?"
   ]
  },
  {
   "cell_type": "code",
   "execution_count": 91,
   "metadata": {},
   "outputs": [
    {
     "name": "stdout",
     "output_type": "stream",
     "text": [
      "Xác suất để trung tâm nhận ít hơn 10 cuộc gọi trong một giờ: 0.34722941755417197\n"
     ]
    }
   ],
   "source": [
    "possion_cdf_10  = poisson.cdf(10, lamda)\n",
    "print(\"Xác suất để trung tâm nhận ít hơn 10 cuộc gọi trong một giờ:\", possion_cdf_10)"
   ]
  },
  {
   "cell_type": "markdown",
   "metadata": {},
   "source": [
    "- Một giờ có số cuộc gọi lớn nhất của 5% thời gian thì sẽ có ít nhất bao nhiêu cuộc gọi?"
   ]
  },
  {
   "cell_type": "code",
   "execution_count": 92,
   "metadata": {},
   "outputs": [
    {
     "name": "stdout",
     "output_type": "stream",
     "text": [
      "Một giờ có số cuộc gọi lớn nhất của 5% thời gian thì sẽ có ít nhất bao nhiêu cuộc gọi: 18.0\n"
     ]
    }
   ],
   "source": [
    "possion_isf_10  = poisson.isf(0.05, lamda)\n",
    "print(\"Một giờ có số cuộc gọi lớn nhất của 5% thời gian thì sẽ có ít nhất bao nhiêu cuộc gọi:\", possion_isf_10)"
   ]
  },
  {
   "cell_type": "markdown",
   "metadata": {},
   "source": [
    "### Bài 8:\n",
    "Chiều cao của sinh viên trong một trường đại học có phân phối chuẩn với trung bình 170 cm, độ lệch chuẩn 6 cm."
   ]
  },
  {
   "cell_type": "code",
   "execution_count": 93,
   "metadata": {},
   "outputs": [],
   "source": [
    "mu, sigma = 170, 6"
   ]
  },
  {
   "cell_type": "markdown",
   "metadata": {},
   "source": [
    "- Xác suất để một sinh viên có chiều cao lớn hơn 180 cm"
   ]
  },
  {
   "cell_type": "code",
   "execution_count": 94,
   "metadata": {},
   "outputs": [
    {
     "name": "stdout",
     "output_type": "stream",
     "text": [
      "Xác suất để một sinh viên có chiều cao lớn hơn 180 cm: 0.0477903522728147\n"
     ]
    }
   ],
   "source": [
    "norm_sf_180 = norm.sf(180, loc=mu, scale=sigma)\n",
    "print(\"Xác suất để một sinh viên có chiều cao lớn hơn 180 cm:\", norm_sf_180)"
   ]
  },
  {
   "cell_type": "markdown",
   "metadata": {},
   "source": [
    "- Xác suất để một sinh viên có chiều cao trong khoảng 165 cm - 175 cm?"
   ]
  },
  {
   "cell_type": "code",
   "execution_count": 95,
   "metadata": {},
   "outputs": [
    {
     "name": "stdout",
     "output_type": "stream",
     "text": [
      "Xác suất để một sinh viên có chiều cao trong khoảng 165 cm - 175 cm: 0.5953432380727137\n"
     ]
    }
   ],
   "source": [
    "norm_cdf_165 = norm.cdf(165, loc=mu, scale=sigma)\n",
    "norm_cdf_175 = norm.cdf(175, loc=mu, scale=sigma)\n",
    "norm_cdf_165_to_175 = norm_cdf_175 - norm_cdf_165\n",
    "print(\"Xác suất để một sinh viên có chiều cao trong khoảng 165 cm - 175 cm:\", norm_cdf_165_to_175)"
   ]
  },
  {
   "cell_type": "markdown",
   "metadata": {},
   "source": [
    "- Một sinh viên có chiều cao bao nhiêu thì sẽ nằm trong top 1% cao nhất?"
   ]
  },
  {
   "cell_type": "code",
   "execution_count": 96,
   "metadata": {},
   "outputs": [
    {
     "name": "stdout",
     "output_type": "stream",
     "text": [
      "Một sinh viên có chiều cao bao nhiêu thì sẽ nằm trong top 1% cao nhất: 183.95808724424504\n"
     ]
    }
   ],
   "source": [
    "norm_isf_top_1_highest = norm.isf(0.01, loc=mu, scale=sigma)\n",
    "print(\"Một sinh viên có chiều cao bao nhiêu thì sẽ nằm trong top 1% cao nhất:\", norm_isf_top_1_highest)"
   ]
  },
  {
   "cell_type": "markdown",
   "metadata": {},
   "source": [
    "- Một sinh viên có chiều cao bao nhiêu thì sẽ nằm trong top 5% thấp nhất?"
   ]
  },
  {
   "cell_type": "code",
   "execution_count": 97,
   "metadata": {},
   "outputs": [
    {
     "name": "stdout",
     "output_type": "stream",
     "text": [
      "Một sinh viên có chiều cao bao nhiêu thì sẽ nằm trong top 5% thấp nhất: 160.13087823829116\n"
     ]
    }
   ],
   "source": [
    "norm_cdf_top_5_lowest = norm.ppf(0.05, loc=mu, scale=sigma)\n",
    "print(\"Một sinh viên có chiều cao bao nhiêu thì sẽ nằm trong top 5% thấp nhất:\", norm_cdf_top_5_lowest)"
   ]
  },
  {
   "cell_type": "markdown",
   "metadata": {},
   "source": [
    "## Đề 2"
   ]
  },
  {
   "cell_type": "markdown",
   "metadata": {},
   "source": [
    "**Bài 01:** Một bài thi trắc nghiệm gồm 10 câu hỏi, mỗi câu có 4 phương án trả lời trong đó chỉ có một phương án đúng. Bạn hãy: \n"
   ]
  },
  {
   "cell_type": "markdown",
   "metadata": {},
   "source": [
    "a. Một sinh viên không học bài làm bài bằng cách chọn ngẫu nhiên một phương án cho mỗi câu hỏi. Bạn hãy dùng hàm random để in ra a câu đúng của bạn sinh viên trong 10 lần kiểm tra.\n"
   ]
  },
  {
   "cell_type": "code",
   "execution_count": 98,
   "metadata": {},
   "outputs": [
    {
     "data": {
      "text/html": [
       "<div>\n",
       "<style scoped>\n",
       "    .dataframe tbody tr th:only-of-type {\n",
       "        vertical-align: middle;\n",
       "    }\n",
       "\n",
       "    .dataframe tbody tr th {\n",
       "        vertical-align: top;\n",
       "    }\n",
       "\n",
       "    .dataframe thead th {\n",
       "        text-align: right;\n",
       "    }\n",
       "</style>\n",
       "<table border=\"1\" class=\"dataframe\">\n",
       "  <thead>\n",
       "    <tr style=\"text-align: right;\">\n",
       "      <th></th>\n",
       "      <th>Số lần thử</th>\n",
       "      <th>Số câu đúng</th>\n",
       "    </tr>\n",
       "  </thead>\n",
       "  <tbody>\n",
       "    <tr>\n",
       "      <th>0</th>\n",
       "      <td>1</td>\n",
       "      <td>2</td>\n",
       "    </tr>\n",
       "    <tr>\n",
       "      <th>1</th>\n",
       "      <td>2</td>\n",
       "      <td>3</td>\n",
       "    </tr>\n",
       "    <tr>\n",
       "      <th>2</th>\n",
       "      <td>3</td>\n",
       "      <td>1</td>\n",
       "    </tr>\n",
       "    <tr>\n",
       "      <th>3</th>\n",
       "      <td>4</td>\n",
       "      <td>3</td>\n",
       "    </tr>\n",
       "    <tr>\n",
       "      <th>4</th>\n",
       "      <td>5</td>\n",
       "      <td>4</td>\n",
       "    </tr>\n",
       "    <tr>\n",
       "      <th>5</th>\n",
       "      <td>6</td>\n",
       "      <td>4</td>\n",
       "    </tr>\n",
       "    <tr>\n",
       "      <th>6</th>\n",
       "      <td>7</td>\n",
       "      <td>4</td>\n",
       "    </tr>\n",
       "    <tr>\n",
       "      <th>7</th>\n",
       "      <td>8</td>\n",
       "      <td>5</td>\n",
       "    </tr>\n",
       "    <tr>\n",
       "      <th>8</th>\n",
       "      <td>9</td>\n",
       "      <td>0</td>\n",
       "    </tr>\n",
       "    <tr>\n",
       "      <th>9</th>\n",
       "      <td>10</td>\n",
       "      <td>3</td>\n",
       "    </tr>\n",
       "  </tbody>\n",
       "</table>\n",
       "</div>"
      ],
      "text/plain": [
       "   Số lần thử  Số câu đúng\n",
       "0           1            2\n",
       "1           2            3\n",
       "2           3            1\n",
       "3           4            3\n",
       "4           5            4\n",
       "5           6            4\n",
       "6           7            4\n",
       "7           8            5\n",
       "8           9            0\n",
       "9          10            3"
      ]
     },
     "execution_count": 98,
     "metadata": {},
     "output_type": "execute_result"
    }
   ],
   "source": [
    "n, p = 10, 0.25\n",
    "\n",
    "x = np.random.binomial(n, p, 10)\n",
    "df = pd.DataFrame({\n",
    "  \"Số lần thử\": range(1, len(x) + 1),\n",
    "  \"Số câu đúng\": x\n",
    "})\n",
    "df"
   ]
  },
  {
   "cell_type": "markdown",
   "metadata": {},
   "source": [
    "b. Giả sử mỗi câu đúng được 4 điểm, mỗi câu sai bị trừ 2 điểm. Tính xác suất để sinh viên này được 4 điểm"
   ]
  },
  {
   "cell_type": "markdown",
   "metadata": {},
   "source": [
    " Công thức điểm: Y = 4*X + (-2)*(10 - X) = 6*X - 20\n",
    " \n",
    " Để Y = 4, ta có 6*X - 20 = 4 => X = 4"
   ]
  },
  {
   "cell_type": "code",
   "execution_count": 99,
   "metadata": {},
   "outputs": [
    {
     "name": "stdout",
     "output_type": "stream",
     "text": [
      "Xác xuất sinh viên được 4 điểm: 14.599800109863272\n"
     ]
    }
   ],
   "source": [
    "print(\"Xác xuất sinh viên được 4 điểm:\", binom.pmf(4, n, p) * 100)"
   ]
  },
  {
   "cell_type": "markdown",
   "metadata": {},
   "source": [
    "c. Gọi X là số câu trả lời đúng. Tính E(X) và Var(X)"
   ]
  },
  {
   "cell_type": "code",
   "execution_count": 100,
   "metadata": {},
   "outputs": [
    {
     "name": "stdout",
     "output_type": "stream",
     "text": [
      "E(x): 2.5\n",
      "Varx: 1.875\n"
     ]
    }
   ],
   "source": [
    "Ex = n * p\n",
    "Varx = n * p * (1 - p)\n",
    "\n",
    "print(\"E(x):\", Ex)\n",
    "print(\"Varx:\", Varx)"
   ]
  },
  {
   "cell_type": "markdown",
   "metadata": {},
   "source": [
    "**Bài 02:** Một trung tâm bưu điện nhận được 3 cuộc gọi điện thoại mỗi phút. Tính xác suất để trung tâm nhận được 1 cuộc gọi, 2 cuộc gọi, 3 cuộc gọi trong vòng một phút biết số cuộc gọi trong một phút có phân phối Poisson."
   ]
  },
  {
   "cell_type": "code",
   "execution_count": 101,
   "metadata": {},
   "outputs": [
    {
     "name": "stdout",
     "output_type": "stream",
     "text": [
      "Xác xuất 1 cuộc gọi là: 14.936120510359185\n",
      "Xác xuất 1 cuộc gọi là: 22.404180765538776\n",
      "Xác xuất 1 cuộc gọi là: 22.404180765538776\n"
     ]
    }
   ],
   "source": [
    "lambda_calls = 3\n",
    "\n",
    "print(\"Xác xuất 1 cuộc gọi là:\", poisson.pmf(1, lambda_calls) * 100)\n",
    "print(\"Xác xuất 1 cuộc gọi là:\", poisson.pmf(2, lambda_calls) * 100)\n",
    "print(\"Xác xuất 1 cuộc gọi là:\", poisson.pmf(3, lambda_calls) * 100)"
   ]
  },
  {
   "cell_type": "markdown",
   "metadata": {},
   "source": [
    "**Bài 03:** Trọng lượng (đơn vị gam) của một loại trái cây có phân phối chuẩn với µ = 500 (gam) gam và $σ^2 = 16 (gam^2)$. Trái cây thu hoạch được phân loại theo trọng lượng như sau:\n",
    "\n",
    "Loại 1: trên 505 gam\n",
    "\n",
    "Loại 2: từ 495 – 505 gam\n",
    "\n",
    "Loại 3: dười 495 gam"
   ]
  },
  {
   "cell_type": "markdown",
   "metadata": {},
   "source": [
    "a. Hãy tính tỷ lệ của mỗi loại.a\n"
   ]
  },
  {
   "cell_type": "code",
   "execution_count": 102,
   "metadata": {},
   "outputs": [
    {
     "name": "stdout",
     "output_type": "stream",
     "text": [
      "Xác xuất loại 1: 10.564977366685536\n",
      "Xác xuất loại 2: 78.87004526662894\n",
      "Xác xuất loại 3: 10.564977366685536\n"
     ]
    }
   ],
   "source": [
    "mu = 500\n",
    "sigma = 4\n",
    "\n",
    "norm_cdf_505 = norm.cdf(505, loc=mu, scale=sigma)\n",
    "norm_cdf_495 = norm.cdf(495, loc=mu, scale=sigma)\n",
    "\n",
    "print(\"Xác xuất loại 1:\", norm.sf(505, loc=mu, scale=sigma) * 100)\n",
    "print(\"Xác xuất loại 2:\", (norm_cdf_505 - norm_cdf_495) * 100 )\n",
    "print(\"Xác xuất loại 3:\", norm_cdf_495 * 100)"
   ]
  },
  {
   "cell_type": "markdown",
   "metadata": {},
   "source": [
    "b. Bạn hãy mô phỏng lấy mẫu  20 trái cây trên. Bạn hãy vẽ histogram trọng lượng trái cây và tính giá trị trung bình và độ lệch chuẩn trái cây từ mẫu"
   ]
  },
  {
   "cell_type": "code",
   "execution_count": 103,
   "metadata": {},
   "outputs": [
    {
     "data": {
      "image/png": "[encoded data removed]",
      "text/plain": [
       "<Figure size 640x480 with 1 Axes>"
      ]
     },
     "metadata": {},
     "output_type": "display_data"
    },
    {
     "name": "stdout",
     "output_type": "stream",
     "text": [
      "Giá trị trung bình: 500.6128809832195\n",
      "Giá trị trung bình: 4.167077459743729\n"
     ]
    }
   ],
   "source": [
    "norm_data = norm.rvs(loc=mu, scale=sigma, size=20)\n",
    "\n",
    "bins = int(np.ceil(np.log2(len(norm_data)) + 1))\n",
    "plt.hist(norm_data, bins=bins, edgecolor=\"black\", width=0.8)\n",
    "\n",
    "plt.xlabel('Loại')\n",
    "plt.ylabel('Tần số')\n",
    "plt.title('TẦN SỐ XUẤT HIỆN LOẠI TRÁI CÂY')\n",
    "\n",
    "plt.show()\n",
    "\n",
    "print(\"Giá trị trung bình:\", norm_data.mean())\n",
    "print(\"Giá trị trung bình:\", norm_data.std())"
   ]
  },
  {
   "cell_type": "markdown",
   "metadata": {},
   "source": [
    "c. Bạn hãy mô phỏng lấy mẫu  100 trái cây trên. Bạn hãy vẽ histogram trọng lượng trái cây và tính giá trị trung bình và độ lệch chuẩn trái cây từ mẫu"
   ]
  },
  {
   "cell_type": "code",
   "execution_count": 104,
   "metadata": {},
   "outputs": [
    {
     "data": {
      "image/png": "[encoded data removed]",
      "text/plain": [
       "<Figure size 640x480 with 1 Axes>"
      ]
     },
     "metadata": {},
     "output_type": "display_data"
    },
    {
     "name": "stdout",
     "output_type": "stream",
     "text": [
      "Giá trị trung bình: 500.0562953204094\n",
      "Giá trị trung bình: 4.146257651170025\n"
     ]
    }
   ],
   "source": [
    "norm_data = norm.rvs(loc=mu, scale=sigma, size=100)\n",
    "\n",
    "bins = int(np.ceil(np.log2(len(norm_data)) + 1))\n",
    "plt.hist(norm_data, bins=bins, edgecolor=\"black\", width=0.8)\n",
    "\n",
    "plt.xlabel('Loại')\n",
    "plt.ylabel('Tần số')\n",
    "plt.title('TẦN SỐ XUẤT HIỆN LOẠI TRÁI CÂY')\n",
    "\n",
    "plt.show()\n",
    "\n",
    "print(\"Giá trị trung bình:\", norm_data.mean())\n",
    "print(\"Giá trị trung bình:\", norm_data.std())"
   ]
  },
  {
   "cell_type": "markdown",
   "metadata": {},
   "source": [
    "d. Từ hai cách lấy mẫu ở câu b, c bạn có nhận xét gì không?"
   ]
  },
  {
   "cell_type": "markdown",
   "metadata": {},
   "source": [
    "Nhận xét: Với mẫu n=100, trung bình và độ lệch chuẩn mẫu gần với giá trị thực của dân số (500 gam và 4 gam) hơn so với mẫu n=20."
   ]
  },
  {
   "cell_type": "markdown",
   "metadata": {},
   "source": [
    "**Bài 05:** Tạo 5000 số ngẫu nhiên có phân phối nhị thức với n=50, p=0.7 Bạn Hãy"
   ]
  },
  {
   "cell_type": "code",
   "execution_count": 105,
   "metadata": {},
   "outputs": [],
   "source": [
    "n, p = 500, 0.7\n",
    "\n",
    "binom_data = binom.rvs(n=n, p=p, size=5000)"
   ]
  },
  {
   "cell_type": "markdown",
   "metadata": {},
   "source": [
    "a. Tìm các giá trị thống kê: min, max, Q1, Q2, Q3\n"
   ]
  },
  {
   "cell_type": "code",
   "execution_count": 106,
   "metadata": {},
   "outputs": [
    {
     "name": "stdout",
     "output_type": "stream",
     "text": [
      "min: 310\n",
      "max: 385\n",
      "q1: 343.0\n",
      "q2: 350.0\n",
      "q3: 357.0\n"
     ]
    }
   ],
   "source": [
    "s = pd.Series(binom_data)\n",
    "\n",
    "print(\"min:\", s.min())\n",
    "print(\"max:\", s.max())\n",
    "print(\"q1:\", s.quantile(0.25))\n",
    "print(\"q2:\", s.quantile(0.5))\n",
    "print(\"q3:\", s.quantile(0.75))"
   ]
  },
  {
   "cell_type": "markdown",
   "metadata": {},
   "source": [
    "b. Vẽ đồ thị boxplot"
   ]
  },
  {
   "cell_type": "code",
   "execution_count": 107,
   "metadata": {},
   "outputs": [
    {
     "data": {
      "image/png": "[encoded data removed]",
      "text/plain": [
       "<Figure size 800x600 with 1 Axes>"
      ]
     },
     "metadata": {},
     "output_type": "display_data"
    }
   ],
   "source": [
    "plt.figure(figsize=(8, 6))\n",
    "plt.boxplot(s, vert=False)\n",
    "plt.title(\"Boxplot của phân phối nhị thức (n=50, p=0.7)\")\n",
    "plt.xlabel(\"Giá trị\")\n",
    "plt.show()"
   ]
  },
  {
   "cell_type": "markdown",
   "metadata": {},
   "source": [
    "\n",
    "c. Vẽ các đồ thị: tần số, tần suất"
   ]
  },
  {
   "cell_type": "code",
   "execution_count": 108,
   "metadata": {},
   "outputs": [
    {
     "data": {
      "image/png": "[encoded data removed]",
      "text/plain": [
       "<Figure size 640x480 with 1 Axes>"
      ]
     },
     "metadata": {},
     "output_type": "display_data"
    }
   ],
   "source": [
    "bins = int(np.ceil(np.log2(len(binom_data)) + 1))\n",
    "plt.hist(binom_data, bins=bins, edgecolor=\"black\", width=0.8)\n",
    "\n",
    "plt.xlabel('Số')\n",
    "plt.ylabel('Tần số')\n",
    "plt.title('TẦN SỐ SỐ ĐƯỢC XUẤT HIỆN')\n",
    "\n",
    "plt.show()"
   ]
  },
  {
   "cell_type": "markdown",
   "metadata": {},
   "source": [
    "## Đề 3"
   ]
  },
  {
   "cell_type": "markdown",
   "metadata": {},
   "source": [
    "### Bài 1\n",
    "Một nhà sản xuất điện thoại kiểm tra chất lượng sản phẩm bằng cách chọn ngẫu nhiên 12 chiếc điện thoại từ mỗi lô sản xuất. Xác suất một chiếc điện thoại bị lỗi là 0.05.\n"
   ]
  },
  {
   "cell_type": "code",
   "execution_count": 109,
   "metadata": {},
   "outputs": [],
   "source": [
    "n, p = 12, 0.05"
   ]
  },
  {
   "cell_type": "markdown",
   "metadata": {},
   "source": [
    "Xác suất để có đúng 2 chiếc điện thoại bị lỗi trong một lần kiểm tra."
   ]
  },
  {
   "cell_type": "code",
   "execution_count": 110,
   "metadata": {},
   "outputs": [
    {
     "name": "stdout",
     "output_type": "stream",
     "text": [
      "Xác suất để có đúng 2 chiếc điện thoại bị lỗi trong một lần kiểm tra: 9.87915949743324\n"
     ]
    }
   ],
   "source": [
    "print(\"Xác suất để có đúng 2 chiếc điện thoại bị lỗi trong một lần kiểm tra:\", binom.pmf(2, n, p) * 100)"
   ]
  },
  {
   "cell_type": "markdown",
   "metadata": {},
   "source": [
    "Xác suất để có ít nhất 1 chiếc điện thoại bị lỗi."
   ]
  },
  {
   "cell_type": "code",
   "execution_count": 111,
   "metadata": {},
   "outputs": [
    {
     "name": "stdout",
     "output_type": "stream",
     "text": [
      "Xác suất để có ít nhất 1 chiếc điện thoại bị lỗi: 45.9639912337363\n"
     ]
    }
   ],
   "source": [
    "print(\"Xác suất để có ít nhất 1 chiếc điện thoại bị lỗi:\", binom.sf(0, n, p) * 100)"
   ]
  },
  {
   "cell_type": "markdown",
   "metadata": {},
   "source": [
    "Vẽ histogram thể hiện phân phối của số điện thoại bị lỗi trên 1000 lần kiểm tra."
   ]
  },
  {
   "cell_type": "code",
   "execution_count": 112,
   "metadata": {},
   "outputs": [
    {
     "data": {
      "image/png": "[encoded data removed]",
      "text/plain": [
       "<Figure size 640x480 with 1 Axes>"
      ]
     },
     "metadata": {},
     "output_type": "display_data"
    }
   ],
   "source": [
    "binom_data = binom.rvs(n, p, size=1000)\n",
    "\n",
    "# bins = int(np.ceil(np.log2(len(binom_data)) + 1)) Liên tục\n",
    "# Rời rạc\n",
    "bins=np.arange(min(binom_data), max(binom_data) + 1.5) - 0.5 \n",
    "\n",
    "plt.hist(binom_data, bins=bins, edgecolor=\"black\", width=0.8)\n",
    "\n",
    "plt.xlabel('Số điện thoại hỏng')\n",
    "plt.ylabel('Tần số')\n",
    "plt.title('Phân phối số điện thoại bị lỗi trên 1000 lần kiểm tra')\n",
    "\n",
    "plt.show()"
   ]
  },
  {
   "cell_type": "markdown",
   "metadata": {},
   "source": [
    "### Bài 2:\n",
    "Một trạm xe buýt có trung bình 4 chuyến xe đến mỗi giờ."
   ]
  },
  {
   "cell_type": "code",
   "execution_count": 113,
   "metadata": {},
   "outputs": [],
   "source": [
    "lambda_trips = 4"
   ]
  },
  {
   "cell_type": "markdown",
   "metadata": {},
   "source": [
    "Xác suất có đúng 6 chuyến xe đến trong một giờ."
   ]
  },
  {
   "cell_type": "code",
   "execution_count": 114,
   "metadata": {},
   "outputs": [
    {
     "name": "stdout",
     "output_type": "stream",
     "text": [
      "Xác suất có đúng 6 chuyến xe đến trong một giờ: 13.385261753998332\n"
     ]
    }
   ],
   "source": [
    "print(\"Xác suất có đúng 6 chuyến xe đến trong một giờ:\", poisson.pmf(lambda_trips, 6) * 100)"
   ]
  },
  {
   "cell_type": "markdown",
   "metadata": {},
   "source": [
    "Vẽ biểu đồ histogram thể hiện phân phối số chuyến xe đến trên 1000 giờ quan sát."
   ]
  },
  {
   "cell_type": "code",
   "execution_count": 115,
   "metadata": {},
   "outputs": [
    {
     "data": {
      "image/png": "[encoded data removed]",
      "text/plain": [
       "<Figure size 640x480 with 1 Axes>"
      ]
     },
     "metadata": {},
     "output_type": "display_data"
    }
   ],
   "source": [
    "poisson_data = poisson.rvs(lambda_trips, size=1000)\n",
    "\n",
    "# bins = int(np.ceil(np.log2(len(binom_data)) + 1)) Liên tục\n",
    "# Rời rạc\n",
    "bins=np.arange(min(poisson_data), max(poisson_data) + 1.5) - 0.5 \n",
    "\n",
    "plt.hist(poisson_data, bins=bins, edgecolor=\"black\", width=0.8)\n",
    "\n",
    "plt.xlabel('Số chuyến')\n",
    "plt.ylabel('Tần số')\n",
    "plt.title('Phân phối số chuyến xe đến trên 1000 giờ quan sát')\n",
    "\n",
    "plt.show()"
   ]
  },
  {
   "cell_type": "markdown",
   "metadata": {},
   "source": [
    "Xác suất một sinh viên có chiều cao hơn 180 cm."
   ]
  },
  {
   "cell_type": "code",
   "execution_count": 116,
   "metadata": {},
   "outputs": [
    {
     "name": "stdout",
     "output_type": "stream",
     "text": [
      "Xác suất một sinh viên có chiều cao hơn 180 cm: 20.232838096364308\n"
     ]
    }
   ],
   "source": [
    "mu = 175\n",
    "sigma = 6\n",
    "\n",
    "# print(\"Xác suất một sinh viên có chiều cao hơn 180 cm:\", (1 - norm.cdf(180, loc=mu, scale=sigma)) * 100)\n",
    "print(\"Xác suất một sinh viên có chiều cao hơn 180 cm:\", norm.sf(180, loc=mu, scale=sigma) * 100)"
   ]
  },
  {
   "cell_type": "markdown",
   "metadata": {},
   "source": [
    "Xác suất một sinh viên có chiều cao trong khoảng 170 cm đến 180 cm."
   ]
  },
  {
   "cell_type": "code",
   "execution_count": 117,
   "metadata": {},
   "outputs": [
    {
     "name": "stdout",
     "output_type": "stream",
     "text": [
      "Xác suất một sinh viên có chiều cao hơn 180 cm: 59.53432380727137\n"
     ]
    }
   ],
   "source": [
    "res = (norm.cdf(180, loc=mu, scale=sigma) - norm.cdf(170, loc=mu, scale=sigma)) * 100\n",
    "\n",
    "print(\"Xác suất một sinh viên có chiều cao hơn 180 cm:\", res)"
   ]
  },
  {
   "cell_type": "markdown",
   "metadata": {},
   "source": [
    "Vẽ biểu đồ histogram thể hiện phân phối chiều cao của 1000 sinh viên."
   ]
  },
  {
   "cell_type": "code",
   "execution_count": 118,
   "metadata": {},
   "outputs": [
    {
     "data": {
      "image/png": "[encoded data removed]",
      "text/plain": [
       "<Figure size 640x480 with 1 Axes>"
      ]
     },
     "metadata": {},
     "output_type": "display_data"
    }
   ],
   "source": [
    "norm_data = norm.rvs(loc=mu, scale=sigma, size=1000)\n",
    "\n",
    "bins = int(np.ceil(np.log2(len(norm_data)) + 1)) \n",
    "# Rời rạc bins=np.arange(min(poisson_data), max(poisson_data) + 1.5) - 0.5 \n",
    "\n",
    "plt.hist(norm_data, bins=bins, edgecolor=\"black\", width=0.8)\n",
    "\n",
    "plt.xlabel('Chiều cao')\n",
    "plt.ylabel('Tần số')\n",
    "plt.title('Phân phối chiều cao của 1000 sinh viên')\n",
    "\n",
    "plt.show()"
   ]
  },
  {
   "cell_type": "markdown",
   "metadata": {},
   "source": [
    "### Bài 4: Đo lường hiệu suất máy kiểm tra lỗi\n",
    "Một dây chuyền sản xuất có 5% sản phẩm lỗi. Một máy kiểm tra lỗi có độ chính xác như sau:\n",
    "\n",
    "- Xác suất phát hiện đúng một sản phẩm lỗi: 0.9 (nếu thật sự là sản phẩm lỗi).\n",
    "- Xác suất báo sai (phát hiện nhầm sản phẩm tốt là lỗi): 0.02.\n",
    "\n",
    "Công nhân kiểm tra một lô gồm 20 sản phẩm:"
   ]
  },
  {
   "cell_type": "code",
   "execution_count": 119,
   "metadata": {},
   "outputs": [],
   "source": [
    "n = 20\n",
    "p_real = 0.05\n",
    "p_true = 0.9\n",
    "p_false = 0.02"
   ]
  },
  {
   "cell_type": "markdown",
   "metadata": {},
   "source": [
    "Tính xác suất có đúng 3 sản phẩm lỗi thực sự trong lô.\n"
   ]
  },
  {
   "cell_type": "code",
   "execution_count": 120,
   "metadata": {},
   "outputs": [
    {
     "name": "stdout",
     "output_type": "stream",
     "text": [
      "Xác suất có đúng 3 sản phẩm lỗi thực sự trong lô 5.958214776873279\n"
     ]
    }
   ],
   "source": [
    "print(\"Xác suất có đúng 3 sản phẩm lỗi thực sự trong lô\", binom.pmf(3, n, p_real) * 100)"
   ]
  },
  {
   "cell_type": "markdown",
   "metadata": {},
   "source": [
    "Tính xác suất máy kiểm tra báo có ít nhất 2 sản phẩm lỗi."
   ]
  },
  {
   "cell_type": "code",
   "execution_count": 121,
   "metadata": {},
   "outputs": [
    {
     "name": "stdout",
     "output_type": "stream",
     "text": [
      "Tính xác suất máy kiểm tra báo có ít nhất 2 sản phẩm lỗi: 0.3686\n"
     ]
    }
   ],
   "source": [
    "mo_phong = binom.rvs(n, p_real, size=5000)\n",
    "\n",
    "so_san_pham_loi = binom.rvs(mo_phong, p_true) + binom.rvs(n - mo_phong, p_false)\n",
    "print(\"Tính xác suất máy kiểm tra báo có ít nhất 2 sản phẩm lỗi:\", np.mean(so_san_pham_loi >= 2))"
   ]
  },
  {
   "cell_type": "markdown",
   "metadata": {},
   "source": [
    "Mô phỏng 5000 lô hàng và vẽ biểu đồ thể hiện số sản phẩm bị báo lỗi.\n"
   ]
  },
  {
   "cell_type": "code",
   "execution_count": 122,
   "metadata": {},
   "outputs": [
    {
     "data": {
      "image/png": "[encoded data removed]",
      "text/plain": [
       "<Figure size 640x480 with 1 Axes>"
      ]
     },
     "metadata": {},
     "output_type": "display_data"
    }
   ],
   "source": [
    "# bins = int(np.ceil(np.log2(len(norm_data)) + 1)) \n",
    "bins=np.arange(min(mo_phong), max(mo_phong) + 1.5) - 0.5 \n",
    "\n",
    "plt.hist(mo_phong, bins=bins, edgecolor=\"black\", width=0.8)\n",
    "\n",
    "plt.xlabel('Số sản phẩm lỗi')\n",
    "plt.ylabel('Tần số')\n",
    "plt.title('Phân phối chiều cao của 1000 sinh viên')\n",
    "\n",
    "plt.show()"
   ]
  },
  {
   "cell_type": "markdown",
   "metadata": {},
   "source": [
    "### Bài 5: Phân tích dữ liệu khách hàng đến cửa hàng\n",
    "Một quán cà phê có trung bình 8 khách đến mỗi giờ vào buổi sáng (8h-12h) và 12 khách mỗi giờ vào buổi chiều (12h-17h)."
   ]
  },
  {
   "cell_type": "code",
   "execution_count": 123,
   "metadata": {},
   "outputs": [],
   "source": [
    "lambda_morning = 8\n",
    "morning_hour = 4\n",
    "\n",
    "lambda_afternoon = 12\n",
    "afternoon_hour = 5"
   ]
  },
  {
   "cell_type": "markdown",
   "metadata": {},
   "source": [
    "Tính xác suất có đúng 10 khách đến vào một giờ bất kỳ buổi sáng."
   ]
  },
  {
   "cell_type": "code",
   "execution_count": 124,
   "metadata": {},
   "outputs": [
    {
     "name": "stdout",
     "output_type": "stream",
     "text": [
      "Xác suất có đúng 10 khách đến vào một giờ bất kỳ buổi sáng: 9.926153383153544\n"
     ]
    }
   ],
   "source": [
    "print(\"Xác suất có đúng 10 khách đến vào một giờ bất kỳ buổi sáng:\", poisson.pmf(10, mu=lambda_morning) * 100)"
   ]
  },
  {
   "cell_type": "markdown",
   "metadata": {},
   "source": [
    "Nếu cửa hàng mở từ 8h sáng đến 5h chiều, tính xác suất có hơn 100 khách trong một ngày.\n"
   ]
  },
  {
   "cell_type": "code",
   "execution_count": 125,
   "metadata": {},
   "outputs": [
    {
     "name": "stdout",
     "output_type": "stream",
     "text": [
      "Xác suất có hơn 100 khách trong một ngày: 18.668484733129777\n"
     ]
    }
   ],
   "source": [
    "lambda_whole_morning = 8 * 4\n",
    "lambda_whole_afternoon = 12 * 5\n",
    "\n",
    "lambda_whole_day = lambda_whole_morning + lambda_whole_afternoon\n",
    "\n",
    "print(\"Xác suất có hơn 100 khách trong một ngày:\", poisson.sf(100, mu=lambda_whole_day) * 100)"
   ]
  },
  {
   "cell_type": "markdown",
   "metadata": {},
   "source": [
    "Mô phỏng 1000 ngày làm việc, vẽ biểu đồ số lượng khách mỗi ngày."
   ]
  },
  {
   "cell_type": "code",
   "execution_count": 126,
   "metadata": {},
   "outputs": [
    {
     "data": {
      "image/png": "[encoded data removed]",
      "text/plain": [
       "<Figure size 640x480 with 1 Axes>"
      ]
     },
     "metadata": {},
     "output_type": "display_data"
    }
   ],
   "source": [
    "poisson_data = poisson.rvs(mu=lambda_whole_day, size=1000)\n",
    "\n",
    "# bins = int(np.ceil(np.log2(len(norm_data)) + 1)) \n",
    "bins= np.arange(min(poisson_data), max(poisson_data) + 2) - 0.5  \n",
    "\n",
    "plt.hist(poisson_data, bins=bins, edgecolor=\"black\", width=0.8)\n",
    "\n",
    "plt.xlabel('Số sản khách')\n",
    "plt.ylabel('Tần số')\n",
    "plt.title('Số lượng khách trong 1000 ngày làm việc')\n",
    "\n",
    "plt.show()"
   ]
  },
  {
   "cell_type": "markdown",
   "metadata": {},
   "source": [
    "### Bài 6: Phân tích điểm thi đại học\n",
    "Một kỳ thi có điểm trung bình 70, độ lệch chuẩn 8.\n",
    "\n"
   ]
  },
  {
   "cell_type": "code",
   "execution_count": 127,
   "metadata": {},
   "outputs": [],
   "source": [
    "mu = 70\n",
    "sigma = 8"
   ]
  },
  {
   "cell_type": "markdown",
   "metadata": {},
   "source": [
    "Tính xác suất một sinh viên đạt trên 85 điểm.\n"
   ]
  },
  {
   "cell_type": "code",
   "execution_count": 128,
   "metadata": {},
   "outputs": [
    {
     "name": "stdout",
     "output_type": "stream",
     "text": [
      "Xác suất một sinh viên đạt trên 85 điểm: 3.0396361765261375\n"
     ]
    }
   ],
   "source": [
    "res = norm.sf(85, loc=mu, scale=sigma)\n",
    "\n",
    "print(\"Xác suất một sinh viên đạt trên 85 điểm:\", res * 100)"
   ]
  },
  {
   "cell_type": "markdown",
   "metadata": {},
   "source": [
    "Trong một lớp 40 sinh viên, tính xác suất có ít nhất 5 sinh viên đạt trên 85 điểm.\n"
   ]
  },
  {
   "cell_type": "code",
   "execution_count": 129,
   "metadata": {},
   "outputs": [
    {
     "name": "stdout",
     "output_type": "stream",
     "text": [
      "Xác suất có ít nhất 5 sinh viên đạt trên 85 điểm: 0.7040901406901482\n"
     ]
    }
   ],
   "source": [
    "prob_5_above = binom.sf(4, 40, res)\n",
    "\n",
    "print(\"Xác suất có ít nhất 5 sinh viên đạt trên 85 điểm:\", prob_5_above * 100)"
   ]
  },
  {
   "cell_type": "markdown",
   "metadata": {},
   "source": [
    "Mô phỏng 5000 lớp học, vẽ histogram số sinh viên đạt trên 85 điểm trong mỗi lớp.\n"
   ]
  },
  {
   "cell_type": "code",
   "execution_count": 130,
   "metadata": {},
   "outputs": [
    {
     "data": {
      "text/plain": [
       "Text(0.5, 1.0, 'Số sinh viên đạt trên 85 điểm trong mỗi lớp')"
      ]
     },
     "execution_count": 130,
     "metadata": {},
     "output_type": "execute_result"
    },
    {
     "data": {
      "image/png": "[encoded data removed]",
      "text/plain": [
       "<Figure size 640x480 with 1 Axes>"
      ]
     },
     "metadata": {},
     "output_type": "display_data"
    }
   ],
   "source": [
    "normal_data = binom.rvs(40, res,size=5000)\n",
    "\n",
    "bins = int(np.ceil(np.log2(len(normal_data)) + 1)) \n",
    "# bins= np.arange(min(poisson_data), max(poisson_data) + 2) - 0.5  \n",
    "\n",
    "plt.hist(normal_data, bins=bins, edgecolor=\"black\", width=0.8)\n",
    "\n",
    "plt.xlabel('số sinh viên')\n",
    "plt.ylabel('Tần số')\n",
    "plt.title('Số sinh viên đạt trên 85 điểm trong mỗi lớp')\n"
   ]
  }
 ],
 "metadata": {
  "kernelspec": {
   "display_name": "Python 3",
   "language": "python",
   "name": "python3"
  },
  "language_info": {
   "codemirror_mode": {
    "name": "ipython",
    "version": 3
   },
   "file_extension": ".py",
   "mimetype": "text/x-python",
   "name": "python",
   "nbconvert_exporter": "python",
   "pygments_lexer": "ipython3",
   "version": "3.12.5"
  }
 },
 "nbformat": 4,
 "nbformat_minor": 2
}
