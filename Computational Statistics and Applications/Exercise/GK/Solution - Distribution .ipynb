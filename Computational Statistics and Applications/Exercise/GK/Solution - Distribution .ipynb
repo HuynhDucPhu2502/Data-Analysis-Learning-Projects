{
 "cells": [
  {
   "cell_type": "code",
   "execution_count": 31,
   "metadata": {},
   "outputs": [],
   "source": [
    "# Import các thư viện thông dụng\n",
    "import numpy as np\n",
    "import pandas as pd\n",
    "import matplotlib.pyplot as plt\n",
    "# Import các distribution packages từ thư viện scipy\n",
    "from scipy.stats import binom\n",
    "from scipy.stats import poisson\n",
    "from scipy.stats import norm\n",
    "from scipy.stats import t"
   ]
  },
  {
   "cell_type": "markdown",
   "metadata": {},
   "source": [
    "### Tạo dữ liệu"
   ]
  },
  {
   "cell_type": "code",
   "execution_count": 32,
   "metadata": {},
   "outputs": [
    {
     "data": {
      "text/html": [
       "<div>\n",
       "<style scoped>\n",
       "    .dataframe tbody tr th:only-of-type {\n",
       "        vertical-align: middle;\n",
       "    }\n",
       "\n",
       "    .dataframe tbody tr th {\n",
       "        vertical-align: top;\n",
       "    }\n",
       "\n",
       "    .dataframe thead th {\n",
       "        text-align: right;\n",
       "    }\n",
       "</style>\n",
       "<table border=\"1\" class=\"dataframe\">\n",
       "  <thead>\n",
       "    <tr style=\"text-align: right;\">\n",
       "      <th></th>\n",
       "      <th>Binomial</th>\n",
       "      <th>Poisson</th>\n",
       "      <th>Normal</th>\n",
       "    </tr>\n",
       "  </thead>\n",
       "  <tbody>\n",
       "    <tr>\n",
       "      <th>0</th>\n",
       "      <td>1</td>\n",
       "      <td>8</td>\n",
       "      <td>77.031425</td>\n",
       "    </tr>\n",
       "    <tr>\n",
       "      <th>1</th>\n",
       "      <td>4</td>\n",
       "      <td>4</td>\n",
       "      <td>75.332073</td>\n",
       "    </tr>\n",
       "    <tr>\n",
       "      <th>2</th>\n",
       "      <td>3</td>\n",
       "      <td>5</td>\n",
       "      <td>71.654037</td>\n",
       "    </tr>\n",
       "    <tr>\n",
       "      <th>3</th>\n",
       "      <td>2</td>\n",
       "      <td>10</td>\n",
       "      <td>56.179824</td>\n",
       "    </tr>\n",
       "    <tr>\n",
       "      <th>4</th>\n",
       "      <td>1</td>\n",
       "      <td>3</td>\n",
       "      <td>65.163829</td>\n",
       "    </tr>\n",
       "  </tbody>\n",
       "</table>\n",
       "</div>"
      ],
      "text/plain": [
       "   Binomial  Poisson     Normal\n",
       "0         1        8  77.031425\n",
       "1         4        4  75.332073\n",
       "2         3        5  71.654037\n",
       "3         2       10  56.179824\n",
       "4         1        3  65.163829"
      ]
     },
     "execution_count": 32,
     "metadata": {},
     "output_type": "execute_result"
    }
   ],
   "source": [
    "# Tạo dữ liệu mẫu\n",
    "np.random.seed(42)\n",
    "\n",
    "# Phân phối Nhị Thức: Số lần trúng số trong 10 lần chơi (xác suất trúng là 0.2)\n",
    "binomial_data = binom.rvs(n=10, p=0.2, size=1000)\n",
    "\n",
    "# Phân phối Poisson: Số khách hàng đến quán cafe trong một giờ (trung bình 5 khách/giờ)\n",
    "poisson_data = poisson.rvs(mu=5, size=1000)\n",
    "\n",
    "# Phân phối Chuẩn: Điểm thi của 1000 học sinh (trung bình 70, độ lệch chuẩn 10)\n",
    "normal_data = norm.rvs(loc=70, scale=10, size=1000)\n",
    "\n",
    "# Tạo DataFrame chứa dữ liệu\n",
    "df = pd.DataFrame({\n",
    "    'Binomial': binomial_data,\n",
    "    'Poisson': poisson_data,\n",
    "    'Normal': normal_data\n",
    "})\n",
    "\n",
    "df.head()\n"
   ]
  },
  {
   "cell_type": "markdown",
   "metadata": {},
   "source": [
    "### Bài 1: Phân phối Nhị Thức\n",
    "Một trò chơi quay số có 10 lần quay, xác suất trúng mỗi lần là 0.2. Nếu một người chơi thử 1000 lần, hãy:\n",
    "\n",
    "- Tính số lần trung bình mà người chơi trúng trong 10 lần quay.\n",
    "- Xác suất để một người trúng ít nhất 3 lần trong một vòng quay 10 lần."
   ]
  },
  {
   "cell_type": "code",
   "execution_count": 33,
   "metadata": {},
   "outputs": [
    {
     "name": "stdout",
     "output_type": "stream",
     "text": [
      "Số lần trung bình mà người chơi trúng trong 10 lần là: 2.0\n",
      "Xác xuất để một ngời trúng ít nhất 3 lần: 0.32220047360000026\n"
     ]
    }
   ],
   "source": [
    "n, p = 10, 0.2\n",
    "mean_binom = n * p\n",
    "prob_binom_3_or_more = 1 - binom.cdf(2, n, p)\n",
    "\n",
    "\n",
    "print(\"Số lần trung bình mà người chơi trúng trong 10 lần là:\", mean_binom)\n",
    "print(\"Xác xuất để một ngời trúng ít nhất 3 lần:\", prob_binom_3_or_more)"
   ]
  },
  {
   "cell_type": "markdown",
   "metadata": {},
   "source": [
    "### Bài 2: Phân phối Poisson\n",
    "Một quán cafe có trung bình 5 khách hàng đến mỗi giờ. Trong một ngày 8 tiếng, hãy:\n",
    "\n",
    "- Tính xác suất có đúng 7 khách đến trong một giờ bất kỳ.\n",
    "- Tính xác suất có hơn 40 khách trong một ngày."
   ]
  },
  {
   "cell_type": "code",
   "execution_count": 34,
   "metadata": {},
   "outputs": [
    {
     "name": "stdout",
     "output_type": "stream",
     "text": [
      "Xác xuất có đúng 7 khách đến trong một giờ bất kỳ: 0.10444486295705395\n",
      "Xác xuất có hơn 40 khách trong một ngày: 0.4580818216374629\n"
     ]
    }
   ],
   "source": [
    "lambda_hour = 5\n",
    "prob_poisson_7 = poisson.pmf(7, mu=lambda_hour)\n",
    "lambda_day = lambda_hour * 8\n",
    "prob_poisson_more_than_40 = 1 - poisson.cdf(40, mu=lambda_day)\n",
    "\n",
    "print(\"Xác xuất có đúng 7 khách đến trong một giờ bất kỳ:\", prob_poisson_7)\n",
    "print(\"Xác xuất có hơn 40 khách trong một ngày:\", prob_poisson_more_than_40)"
   ]
  },
  {
   "cell_type": "markdown",
   "metadata": {},
   "source": [
    "### Bài 3: Phân phối Chuẩn\n",
    "Điểm thi trung bình của học sinh là 70, độ lệch chuẩn 10. Hãy tính:\n",
    "\n",
    "- Xác suất một học sinh có điểm trên 80.\n",
    "- Xác suất một học sinh có điểm trong khoảng 60 đến 80."
   ]
  },
  {
   "cell_type": "code",
   "execution_count": 35,
   "metadata": {},
   "outputs": [
    {
     "name": "stdout",
     "output_type": "stream",
     "text": [
      "Xác xuất một học sinh có điểm trên 80: 0.10444486295705395\n",
      "Xác xuất một học sinh có điểm trong khoảng 60 đến 80: 0.4580818216374629\n"
     ]
    }
   ],
   "source": [
    "mu, sigma = 70, 10\n",
    "prob_norm_above_80 = 1 - norm.cdf(80, loc=mu, scale=sigma)\n",
    "prob_norm_60_to_80 = norm.cdf(80, loc=mu, scale=sigma) - norm.cdf(60, loc=mu, scale=sigma)\n",
    "\n",
    "print(\"Xác xuất một học sinh có điểm trên 80:\", prob_poisson_7)\n",
    "print(\"Xác xuất một học sinh có điểm trong khoảng 60 đến 80:\", prob_poisson_more_than_40)"
   ]
  },
  {
   "cell_type": "markdown",
   "metadata": {},
   "source": [
    "### Bài 4:\n",
    "Giả sử chiều cao của sinh viên năm hai ở một trường đại học là đại lượng ngẫu nhiên có phân phối chuẩn với trung bình mu = 172 cm và độ lệch chuẩn sigma = 8cm"
   ]
  },
  {
   "cell_type": "code",
   "execution_count": 36,
   "metadata": {},
   "outputs": [],
   "source": [
    "mu, sigma = 172, 8"
   ]
  },
  {
   "cell_type": "markdown",
   "metadata": {},
   "source": [
    "- Tỷ lệ sinh viên có chiều cao lớn hơn 184 cm là bao nhiêu?"
   ]
  },
  {
   "cell_type": "code",
   "execution_count": 37,
   "metadata": {},
   "outputs": [
    {
     "name": "stdout",
     "output_type": "stream",
     "text": [
      "Tỷ lệ sinh viên có chiều cao lớn hơn 184 cm là: 0.06680720126885809\n"
     ]
    }
   ],
   "source": [
    "print(\"Tỷ lệ sinh viên có chiều cao lớn hơn 184 cm là:\", 1 - norm.cdf(184, loc=mu, scale=sigma))"
   ]
  },
  {
   "cell_type": "markdown",
   "metadata": {},
   "source": [
    "- Tỷ lệ sinh viên có chiều cao trong khoảng từ 164 cm - 180 cm là bao nhiêu?"
   ]
  },
  {
   "cell_type": "code",
   "execution_count": 38,
   "metadata": {},
   "outputs": [
    {
     "name": "stdout",
     "output_type": "stream",
     "text": [
      "Tỷ lệ sinh viên có chiều cao trong khoảng từ 164 cm - 180 cm: 0.6826894921370859\n"
     ]
    }
   ],
   "source": [
    "norm_180 = norm.cdf(180, loc=mu, scale=sigma)\n",
    "norm_164 = norm.cdf(164, loc=mu, scale=sigma)\n",
    "norm_164_to_180 = norm_180 -  norm_164\n",
    "\n",
    "print(\"Tỷ lệ sinh viên có chiều cao trong khoảng từ 164 cm - 180 cm:\", norm_164_to_180)"
   ]
  },
  {
   "cell_type": "markdown",
   "metadata": {},
   "source": [
    "- Nếu biết chiều cao của bạn, từ đó xác định xem có bao nhiêu % sinh viên có chiều cao thấp hơn bạn."
   ]
  },
  {
   "cell_type": "code",
   "execution_count": 39,
   "metadata": {},
   "outputs": [
    {
     "name": "stdout",
     "output_type": "stream",
     "text": [
      "Tỷ lệ sinh viên có chiều cao thấp hơn 168: 0.3085375387259869\n"
     ]
    }
   ],
   "source": [
    "me = 168\n",
    "norm_below_168 = norm.cdf(me, loc=mu, scale=sigma)\n",
    "\n",
    "print(\"Tỷ lệ sinh viên có chiều cao thấp hơn 168:\", norm_below_168)"
   ]
  },
  {
   "cell_type": "markdown",
   "metadata": {},
   "source": [
    "- Chiều cao tối thiểu của nhóm top 10% sinh viên cao nhất là bao nhiêu?"
   ]
  },
  {
   "cell_type": "code",
   "execution_count": 40,
   "metadata": {},
   "outputs": [
    {
     "name": "stdout",
     "output_type": "stream",
     "text": [
      "Chiều cao tối thiểu của nhóm top 10% sinh viên cao nhất: 182.2524125243568\n"
     ]
    }
   ],
   "source": [
    "# 10% cao nhất tương đương với lớn hơn P(X <= L) = 0.9\n",
    "# L = norm.ppf(0.9, loc=mu, scale=sigma)\n",
    "L = norm.isf(0.1, loc=mu, scale=sigma)\n",
    "\n",
    "print(\"Chiều cao tối thiểu của nhóm top 10% sinh viên cao nhất:\", L)"
   ]
  },
  {
   "cell_type": "markdown",
   "metadata": {},
   "source": [
    "- Chiều cao tối đa của nhóm 5% sinh viên thấp nhất là bao nhiêu?"
   ]
  },
  {
   "cell_type": "code",
   "execution_count": 41,
   "metadata": {},
   "outputs": [
    {
     "name": "stdout",
     "output_type": "stream",
     "text": [
      "Chiều cao tối thiểu của nhóm top 5% sinh viên thấp nhất: 158.8411709843882\n"
     ]
    }
   ],
   "source": [
    "# 5% cao nhất tương đương với lớn hơn P(X <= L) = 0.05\n",
    "L = norm.ppf(0.05, loc=mu, scale=sigma)\n",
    "\n",
    "print(\"Chiều cao tối thiểu của nhóm top 5% sinh viên thấp nhất:\", L)"
   ]
  },
  {
   "cell_type": "markdown",
   "metadata": {},
   "source": [
    "### Bài 5:\n",
    "Một công ty dược phẩm sản xuất viên nang thuốc và muốn kiểm tra chất lượng của chúng.\n",
    "Xác suất một viên thuốc bị lỗi trong quá trình sản xuất là 5%. Đánh giá chất lượng của một lô thuốc bằng cách lấy ngẫu nhiên 10 viên thuốc để kiểm tra."
   ]
  },
  {
   "cell_type": "code",
   "execution_count": 42,
   "metadata": {},
   "outputs": [],
   "source": [
    "n, p = 10, 0.05"
   ]
  },
  {
   "cell_type": "markdown",
   "metadata": {},
   "source": [
    "- Xác suất để có đúng 2 viên thuốc bị lỗi trong số 10 viên được chọn là bao nhiêu?"
   ]
  },
  {
   "cell_type": "code",
   "execution_count": 43,
   "metadata": {},
   "outputs": [
    {
     "name": "stdout",
     "output_type": "stream",
     "text": [
      "Xác suất để có đúng 2 viên thuốc bị lỗi trong số 10 viên: 0.07463479852001963\n"
     ]
    }
   ],
   "source": [
    "binom_p_2 =  binom.pmf(2, n, p)\n",
    "\n",
    "print(\"Xác suất để có đúng 2 viên thuốc bị lỗi trong số 10 viên:\", binom_p_2)"
   ]
  },
  {
   "cell_type": "markdown",
   "metadata": {},
   "source": [
    "- Xác suất để có nhiều nhất 1 viên thuốc lỗi trong mẫu là bao nhiêu?"
   ]
  },
  {
   "cell_type": "code",
   "execution_count": 44,
   "metadata": {},
   "outputs": [
    {
     "name": "stdout",
     "output_type": "stream",
     "text": [
      "Xác suất để có nhiều nhất 1 viên thuốc lỗi trong mẫu là: 0.9138616441006836\n"
     ]
    }
   ],
   "source": [
    "binom_cdf_1 =  binom.cdf(1, n, p)\n",
    "\n",
    "print(\"Xác suất để có nhiều nhất 1 viên thuốc lỗi trong mẫu là:\", binom_cdf_1)"
   ]
  },
  {
   "cell_type": "markdown",
   "metadata": {},
   "source": [
    "-  Xác suất để có ít nhất 2 viên lỗi là bao nhiêu?"
   ]
  },
  {
   "cell_type": "code",
   "execution_count": 45,
   "metadata": {},
   "outputs": [
    {
     "name": "stdout",
     "output_type": "stream",
     "text": [
      "Xác suất để có ít nhất 2 viên lỗi là: 0.08613835589931643\n"
     ]
    }
   ],
   "source": [
    "binom_min_2 =  binom.sf(1, n, p)\n",
    "\n",
    "print(\"Xác suất để có ít nhất 2 viên lỗi là:\", binom_min_2)"
   ]
  },
  {
   "cell_type": "markdown",
   "metadata": {},
   "source": [
    "### Bài 6:\n",
    "Một kỳ thi trắc nghiệm có 15 câu hỏi, mỗi câu có 4 đáp án. Một học sinh đoán ngẫu nhiên mọi câu."
   ]
  },
  {
   "cell_type": "code",
   "execution_count": 46,
   "metadata": {},
   "outputs": [],
   "source": [
    "n, p = 15, 0.25"
   ]
  },
  {
   "cell_type": "markdown",
   "metadata": {},
   "source": [
    "- Xác suất để học sinh trả lời đúng chính xác 5 câu?"
   ]
  },
  {
   "cell_type": "code",
   "execution_count": 47,
   "metadata": {},
   "outputs": [
    {
     "name": "stdout",
     "output_type": "stream",
     "text": [
      "Xác suất để học sinh trả lời đúng chính xác 5 câu: 0.16514598112553355\n"
     ]
    }
   ],
   "source": [
    "binom_p_5 = binom.pmf(5, n, p)\n",
    "print(\"Xác suất để học sinh trả lời đúng chính xác 5 câu:\", binom_p_5)"
   ]
  },
  {
   "cell_type": "markdown",
   "metadata": {},
   "source": [
    "- Xác suất để học sinh trả lời đúng nhiều nhất 3 câu?"
   ]
  },
  {
   "cell_type": "code",
   "execution_count": 48,
   "metadata": {},
   "outputs": [
    {
     "name": "stdout",
     "output_type": "stream",
     "text": [
      "Xác suất để học sinh trả lời đúng nhiều nhất 3 câu: 0.22519906517118224\n"
     ]
    }
   ],
   "source": [
    "binom_cdf_3 = binom.pmf(3, n, p)\n",
    "print(\"Xác suất để học sinh trả lời đúng nhiều nhất 3 câu:\", binom_cdf_3)"
   ]
  },
  {
   "cell_type": "markdown",
   "metadata": {},
   "source": [
    "- Xác suất để học sinh trả lời đúng ít nhất 7 câu"
   ]
  },
  {
   "cell_type": "code",
   "execution_count": 49,
   "metadata": {},
   "outputs": [
    {
     "name": "stdout",
     "output_type": "stream",
     "text": [
      "Xác suất để học sinh trả lời đúng ít nhất 7 câu: 0.05662031006067991\n"
     ]
    }
   ],
   "source": [
    "binom_sf_7 = binom.sf(6, n, p)\n",
    "print(\"Xác suất để học sinh trả lời đúng ít nhất 7 câu:\", binom_sf_7)"
   ]
  },
  {
   "cell_type": "markdown",
   "metadata": {},
   "source": [
    "- Một học sinh cần trả lời đúng ít nhất bao nhiêu câu để nằm trong top 10% cao nhất"
   ]
  },
  {
   "cell_type": "code",
   "execution_count": 50,
   "metadata": {},
   "outputs": [
    {
     "name": "stdout",
     "output_type": "stream",
     "text": [
      "Một học sinh cần trả lời đúng ít nhất bao nhiêu câu để nằm trong top 10% cao nhất: 6.0\n"
     ]
    }
   ],
   "source": [
    "binom_isf_10 = binom.isf(0.1, n, p)\n",
    "print(\"Một học sinh cần trả lời đúng ít nhất bao nhiêu câu để nằm trong top 10% cao nhất:\", binom_isf_10)"
   ]
  },
  {
   "cell_type": "markdown",
   "metadata": {},
   "source": [
    "### Bài 7:\n",
    "Một trung tâm chăm sóc khách hàng nhận trung bình 12 cuộc gọi mỗi giờ."
   ]
  },
  {
   "cell_type": "code",
   "execution_count": 51,
   "metadata": {},
   "outputs": [],
   "source": [
    "lamda = 12"
   ]
  },
  {
   "cell_type": "markdown",
   "metadata": {},
   "source": [
    "- Xác suất để trung tâm nhận đúng 15 cuộc gọi trong một giờ?"
   ]
  },
  {
   "cell_type": "code",
   "execution_count": 52,
   "metadata": {},
   "outputs": [
    {
     "name": "stdout",
     "output_type": "stream",
     "text": [
      "Xác suất để trung tâm nhận đúng 15 cuộc gọi trong một giờ: 0.07239112014663847\n"
     ]
    }
   ],
   "source": [
    "possion_p_15  = poisson.pmf(15, lamda)\n",
    "print(\"Xác suất để trung tâm nhận đúng 15 cuộc gọi trong một giờ:\", possion_p_15)"
   ]
  },
  {
   "cell_type": "markdown",
   "metadata": {},
   "source": [
    "- Xác suất để trung tâm nhận nhiều hơn 20 cuộc gọi trong một giờ?"
   ]
  },
  {
   "cell_type": "code",
   "execution_count": 53,
   "metadata": {},
   "outputs": [
    {
     "name": "stdout",
     "output_type": "stream",
     "text": [
      "Xác suất để trung tâm nhận nhiều hơn 20 cuộc gọi trong một giờ: 0.011597737214807462\n"
     ]
    }
   ],
   "source": [
    "possion_sf_20  = poisson.sf(20, lamda)\n",
    "print(\"Xác suất để trung tâm nhận nhiều hơn 20 cuộc gọi trong một giờ:\", possion_sf_20)"
   ]
  },
  {
   "cell_type": "markdown",
   "metadata": {},
   "source": [
    "- Xác suất để trung tâm nhận ít hơn 10 cuộc gọi trong một giờ?"
   ]
  },
  {
   "cell_type": "code",
   "execution_count": 54,
   "metadata": {},
   "outputs": [
    {
     "name": "stdout",
     "output_type": "stream",
     "text": [
      "Xác suất để trung tâm nhận ít hơn 10 cuộc gọi trong một giờ: 0.34722941755417197\n"
     ]
    }
   ],
   "source": [
    "possion_cdf_10  = poisson.cdf(10, lamda)\n",
    "print(\"Xác suất để trung tâm nhận ít hơn 10 cuộc gọi trong một giờ:\", possion_cdf_10)"
   ]
  },
  {
   "cell_type": "markdown",
   "metadata": {},
   "source": [
    "- Một giờ có số cuộc gọi lớn nhất của 5% thời gian thì sẽ có ít nhất bao nhiêu cuộc gọi?"
   ]
  },
  {
   "cell_type": "code",
   "execution_count": 55,
   "metadata": {},
   "outputs": [
    {
     "name": "stdout",
     "output_type": "stream",
     "text": [
      "Một giờ có số cuộc gọi lớn nhất của 5% thời gian thì sẽ có ít nhất bao nhiêu cuộc gọi: 18.0\n"
     ]
    }
   ],
   "source": [
    "possion_isf_10  = poisson.isf(0.05, lamda)\n",
    "print(\"Một giờ có số cuộc gọi lớn nhất của 5% thời gian thì sẽ có ít nhất bao nhiêu cuộc gọi:\", possion_isf_10)"
   ]
  },
  {
   "cell_type": "markdown",
   "metadata": {},
   "source": [
    "### Bài 8:\n",
    "Chiều cao của sinh viên trong một trường đại học có phân phối chuẩn với trung bình 170 cm, độ lệch chuẩn 6 cm."
   ]
  },
  {
   "cell_type": "code",
   "execution_count": 56,
   "metadata": {},
   "outputs": [],
   "source": [
    "mu, sigma = 170, 6"
   ]
  },
  {
   "cell_type": "markdown",
   "metadata": {},
   "source": [
    "- Xác suất để một sinh viên có chiều cao lớn hơn 180 cm"
   ]
  },
  {
   "cell_type": "code",
   "execution_count": 57,
   "metadata": {},
   "outputs": [
    {
     "name": "stdout",
     "output_type": "stream",
     "text": [
      "Xác suất để một sinh viên có chiều cao lớn hơn 180 cm: 0.0477903522728147\n"
     ]
    }
   ],
   "source": [
    "norm_sf_180 = norm.sf(180, loc=mu, scale=sigma)\n",
    "print(\"Xác suất để một sinh viên có chiều cao lớn hơn 180 cm:\", norm_sf_180)"
   ]
  },
  {
   "cell_type": "markdown",
   "metadata": {},
   "source": [
    "- Xác suất để một sinh viên có chiều cao trong khoảng 165 cm - 175 cm?"
   ]
  },
  {
   "cell_type": "code",
   "execution_count": 58,
   "metadata": {},
   "outputs": [
    {
     "name": "stdout",
     "output_type": "stream",
     "text": [
      "Xác suất để một sinh viên có chiều cao trong khoảng 165 cm - 175 cm: 0.5953432380727137\n"
     ]
    }
   ],
   "source": [
    "norm_cdf_165 = norm.cdf(165, loc=mu, scale=sigma)\n",
    "norm_cdf_175 = norm.cdf(175, loc=mu, scale=sigma)\n",
    "norm_cdf_165_to_175 = norm_cdf_175 - norm_cdf_165\n",
    "print(\"Xác suất để một sinh viên có chiều cao trong khoảng 165 cm - 175 cm:\", norm_cdf_165_to_175)"
   ]
  },
  {
   "cell_type": "markdown",
   "metadata": {},
   "source": [
    "- Một sinh viên có chiều cao bao nhiêu thì sẽ nằm trong top 1% cao nhất?"
   ]
  },
  {
   "cell_type": "code",
   "execution_count": 59,
   "metadata": {},
   "outputs": [
    {
     "name": "stdout",
     "output_type": "stream",
     "text": [
      "Một sinh viên có chiều cao bao nhiêu thì sẽ nằm trong top 1% cao nhất: 183.95808724424504\n"
     ]
    }
   ],
   "source": [
    "norm_isf_top_1_highest = norm.isf(0.01, loc=mu, scale=sigma)\n",
    "print(\"Một sinh viên có chiều cao bao nhiêu thì sẽ nằm trong top 1% cao nhất:\", norm_isf_top_1_highest)"
   ]
  },
  {
   "cell_type": "markdown",
   "metadata": {},
   "source": [
    "- Một sinh viên có chiều cao bao nhiêu thì sẽ nằm trong top 5% thấp nhất?"
   ]
  },
  {
   "cell_type": "code",
   "execution_count": 60,
   "metadata": {},
   "outputs": [
    {
     "name": "stdout",
     "output_type": "stream",
     "text": [
      "Một sinh viên có chiều cao bao nhiêu thì sẽ nằm trong top 5% thấp nhất: 160.13087823829116\n"
     ]
    }
   ],
   "source": [
    "norm_cdf_top_5_lowest = norm.ppf(0.05, loc=mu, scale=sigma)\n",
    "print(\"Một sinh viên có chiều cao bao nhiêu thì sẽ nằm trong top 5% thấp nhất:\", norm_cdf_top_5_lowest)"
   ]
  }
 ],
 "metadata": {
  "kernelspec": {
   "display_name": "Python 3",
   "language": "python",
   "name": "python3"
  },
  "language_info": {
   "codemirror_mode": {
    "name": "ipython",
    "version": 3
   },
   "file_extension": ".py",
   "mimetype": "text/x-python",
   "name": "python",
   "nbconvert_exporter": "python",
   "pygments_lexer": "ipython3",
   "version": "3.12.5"
  }
 },
 "nbformat": 4,
 "nbformat_minor": 2
}
