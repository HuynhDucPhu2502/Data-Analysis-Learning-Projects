{
 "cells": [
  {
   "cell_type": "code",
   "execution_count": 2,
   "metadata": {
    "id": "jlECLDkItPD8"
   },
   "outputs": [],
   "source": [
    "import numpy as np\n",
    "import pandas as pd\n",
    "from scipy import stats"
   ]
  },
  {
   "cell_type": "markdown",
   "metadata": {
    "id": "lZKPj69HtPD9"
   },
   "source": [
    "### **Bài 1.** (4)\n",
    "a) Đọc dữ liệu và cho biết có bao nhiêu thí sinh trong bảng dữ liệu. Tính điểm trung bình, độ lệch chuẩn, phương sai của điểm môn Ngữ Văn (\"ngu_van\") (0.5đ)\n",
    "\n",
    "b) Chọn ngẫu nhiên 25 mẫu, sử dụng 25 mẫu này để ước lượng điểm trung bình của môn Ngữ Văn (sử dụng độ lệch chuẩn tính được bên trên làm độ lệch chuẩn quần thể) với độ tin cậy là 95%. (3đ)\n",
    "\n",
    "c) Từ kết quả ước lượng bên trên hãy cho nhận xét về giá trị trung bình ước lượng và giá trị thật tính từ dữ liệu. (0.5đ)"
   ]
  },
  {
   "cell_type": "code",
   "execution_count": 3,
   "metadata": {
    "colab": {
     "base_uri": "https://localhost:8080/"
    },
    "executionInfo": {
     "elapsed": 1584,
     "status": "ok",
     "timestamp": 1700613463475,
     "user": {
      "displayName": "Tấn Thành Trần",
      "userId": "11192642793522542419"
     },
     "user_tz": -420
    },
    "id": "b5yI7zthSaP1",
    "outputId": "938f18a7-3163-4a81-8490-f43d047845be"
   },
   "outputs": [
    {
     "name": "stdout",
     "output_type": "stream",
     "text": [
      "Có 565243 thí sinh trong bảng dữ liệu.\n",
      "Điểm trung bình của thí sinh là 7.02.\n",
      "Độ lệch chuẩn của điểm là 1.32.\n",
      "Phương sai của điểm là 1.74.\n"
     ]
    }
   ],
   "source": [
    "# 1 (0.5đ)\n",
    "data = pd.read_csv('data/dataKHXH.csv')\n",
    "print(f\"Có {data.shape[0]} thí sinh trong bảng dữ liệu.\")\n",
    "mean = data['ngu_van'].mean()\n",
    "print(f\"Điểm trung bình của thí sinh là {mean:.2f}.\")\n",
    "std = data['ngu_van'].std()\n",
    "var = data['ngu_van'].var()\n",
    "print(f\"Độ lệch chuẩn của điểm là {std:.2f}.\")\n",
    "print(f\"Phương sai của điểm là {var:.2f}.\")"
   ]
  },
  {
   "cell_type": "code",
   "execution_count": 6,
   "metadata": {
    "colab": {
     "base_uri": "https://localhost:8080/"
    },
    "executionInfo": {
     "elapsed": 280,
     "status": "ok",
     "timestamp": 1700613466817,
     "user": {
      "displayName": "Tấn Thành Trần",
      "userId": "11192642793522542419"
     },
     "user_tz": -420
    },
    "id": "HaNSRcL6SaP2",
    "outputId": "83a007e1-cd26-4675-9655-cbec041a0a0a"
   },
   "outputs": [
    {
     "name": "stdout",
     "output_type": "stream",
     "text": [
      "Điểm trung bình của 25 thí sinh là 7.00.\n"
     ]
    }
   ],
   "source": [
    "# 2 sample 500 thí sinh từ bảng dữ liệu (0.5đ)\n",
    "n = 25\n",
    "sample = data.sample(n, random_state=15)\n",
    "sample_mean = sample['ngu_van'].mean()\n",
    "print(f\"Điểm trung bình của 25 thí sinh là {sample_mean:.2f}.\")"
   ]
  },
  {
   "cell_type": "markdown",
   "metadata": {
    "id": "h8WTEImatPD-"
   },
   "source": [
    "Gọi $\\mu$ là điểm trung bình môn Ngữ Văn của tập dữ liệu. Ta có, $\\bar{x}=7.00$ là điểm trung bình môn Ngữ Văn của 25 thí sinh.\n",
    "\n",
    "Độ tin cậy $95\\% = 1 - \\alpha$ => $\\alpha=0.05$\n",
    "\n",
    "Ta có $n = 25 < 30$. => ta sấp sỉ phân phối trên với phân phối **student t** với bậc tự do là n-1, ta có:\n",
    "$$\\bigg(\\bar{x} - t_{n-1;1-\\frac{\\alpha}{2}}\\frac{s}{\\sqrt{n}},\\bar{x}+t_{n-1;1-\\frac{\\alpha}{2}}\\frac{s}{\\sqrt{n}}\\bigg)$$\n",
    "Trong đó, $\\alpha = 0.05$, $z_{1-\\frac{\\alpha}{2}}=1.96$, $\\bar{x}=7.44$, $s=0.94$"
   ]
  },
  {
   "cell_type": "code",
   "execution_count": null,
   "metadata": {
    "colab": {
     "base_uri": "https://localhost:8080/"
    },
    "executionInfo": {
     "elapsed": 279,
     "status": "ok",
     "timestamp": 1700613471207,
     "user": {
      "displayName": "Tấn Thành Trần",
      "userId": "11192642793522542419"
     },
     "user_tz": -420
    },
    "id": "5G7tn9YYtPD-",
    "outputId": "6c9f5e97-5a0e-4eef-8db3-23ea861582fc"
   },
   "outputs": [
    {
     "name": "stdout",
     "output_type": "stream",
     "text": [
      "z-score của phân phối chuẩn với độ tin cậy 0.95 là 2.06.\n",
      "6.309672979753641 7.690327020246359\n"
     ]
    }
   ],
   "source": [
    "# 1đ\n",
    "alpha = 0.05\n",
    "t = stats.t.ppf(1-alpha/2,n-1)\n",
    "s = sample['ngu_van'].std()\n",
    "print(f\"z-score của phân phối chuẩn với độ tin cậy {1-alpha:.2f} là {t:.2f}.\")\n",
    "print(sample_mean-t*s/np.sqrt(n), sample_mean+t*s/np.sqrt(n))\n"
   ]
  },
  {
   "cell_type": "code",
   "execution_count": null,
   "metadata": {},
   "outputs": [
    {
     "name": "stdout",
     "output_type": "stream",
     "text": [
      "Z-value của phân phối chuẩn với độ tin cậy 0.95 là 1.96.\n",
      "Khoảng tin cậy 95% (dùng Z): (6.48, 7.52)\n"
     ]
    }
   ],
   "source": [
    "z = stats.norm.ppf(1 - alpha/2)\n",
    "\n",
    "lowbound_z = sample_mean - z * (std / np.sqrt(n))\n",
    "upbound_z = sample_mean + z * (std / np.sqrt(n))\n",
    "\n",
    "print(f\"Z-value của phân phối chuẩn với độ tin cậy {1-alpha:.2f} là {z:.2f}.\")\n",
    "print(f\"Khoảng tin cậy 95% (dùng Z): ({lowbound_z:.2f}, {upbound_z:.2f})\")"
   ]
  },
  {
   "cell_type": "markdown",
   "metadata": {
    "id": "lUI1hjo9tPD_"
   },
   "source": [
    "**(0.5đ)** Vậy khoảng giá trị trung bình thật là: (6.45:7.55) với khoảng tin cậy 95%"
   ]
  },
  {
   "cell_type": "markdown",
   "metadata": {
    "id": "5BIm3fPPSaP3"
   },
   "source": [
    "c) Ta nhận thấy giá trị trung bình của tập dữ liệu nằm trong khoảng ước lượng, điều này cho thấy khoảng ước lượng đáng tin cậy. Tuy nhiên tại số lượng mẫu được lấy ra ít nên sai số lớn\n"
   ]
  },
  {
   "cell_type": "markdown",
   "metadata": {
    "id": "XB4mjynytPD_"
   },
   "source": [
    "### **Bài 2**\n",
    "Lấy ngẫu nhiên 1000 mẫu dữ liệu từ dữ liệu gốc, có nhận xét cho rằng: \"Có từ 75% thí sinh khối KHXH có điểm Toán trên trung bình\". Bạn có thể đưa ra kết luận gì nhận xét trên dựa vào 1000 mẫu vừa lấy được với mức ý nghĩa 5%? (4đ)"
   ]
  },
  {
   "cell_type": "code",
   "execution_count": null,
   "metadata": {
    "id": "o3svMDY0tPD_"
   },
   "outputs": [],
   "source": [
    "n = 1000\n",
    "sample = data.sample(n, random_state=15)"
   ]
  },
  {
   "cell_type": "code",
   "execution_count": null,
   "metadata": {
    "colab": {
     "base_uri": "https://localhost:8080/"
    },
    "executionInfo": {
     "elapsed": 2,
     "status": "ok",
     "timestamp": 1700613562755,
     "user": {
      "displayName": "Tấn Thành Trần",
      "userId": "11192642793522542419"
     },
     "user_tz": -420
    },
    "id": "KnJvdxYDtPD_",
    "outputId": "8fbe02a0-6b93-460c-b3c6-4d20c1418fe8"
   },
   "outputs": [
    {
     "name": "stdout",
     "output_type": "stream",
     "text": [
      "Số thí sinh trên điểm trung bình:  746\n",
      "Tỉ lệ thí sinh trên trung bình:  0.746\n"
     ]
    }
   ],
   "source": [
    "# 0.25đ\n",
    "gte5 = sample[sample['toan'] >= 5].shape[0]\n",
    "print(\"Số thí sinh trên điểm trung bình: \",gte5)\n",
    "p_mu = gte5/n\n",
    "print(\"Tỉ lệ thí sinh trên trung bình: \",p_mu)"
   ]
  },
  {
   "cell_type": "markdown",
   "metadata": {
    "id": "XiWfISOHtPEA"
   },
   "source": [
    "Gọi $p$ là thí sinh có điểm Toán trên trung bình. Ta cần kiểm định giả thuyết:\n",
    "\n",
    "$H_0 : p \\ge 0.75$: Có từ 75% thí sinh khối KHXH có điểm Toán trên trung bình\n",
    "\n",
    "$H_1: p < 0.75$: Tỉ lệ thí sinh khối KHXH có điểm Toán trên trung bình thấp hơn 75%\n",
    "\n",
    "Mức ý nghĩa là: $5\\% => \\alpha=0.05$"
   ]
  },
  {
   "cell_type": "code",
   "execution_count": null,
   "metadata": {
    "id": "GUBallL-tPEA"
   },
   "outputs": [],
   "source": [
    "p = 0.75\n",
    "alpha = 5/100"
   ]
  },
  {
   "cell_type": "markdown",
   "metadata": {
    "id": "TbLmfxAHtPEA"
   },
   "source": [
    "- Điểm thi của các thí sinh trên trung bình hay không là độc lập với nhau nên tỉ lệ thí sinh đạt điểm trên trung bình tuân theo phân phối nhị thức.\n",
    "- Ta có\n",
    "    - $\\hat{p} = 0.75$ là tỷ lệ thí sinh có điểm Toán trên trung bình.\n",
    "    - $n=1000 > 30$,\n",
    "    - $\\hat{p}=0.75$, $n\\hat{p}=1000\\times0.75=750 \\geq 5$\n",
    "    - $n(1-\\hat{p}) = 1000(1-0.75)= 250 \\geq 5$\n",
    "    \n",
    "=> Vậy phân phối nhị thức của tỷ lệ mẫu có thể xấp xỉ bằng phân phối chuẩn. Ta có công thức khoảng tin cậy\n",
    "$$z=\\frac{\\hat{p}-p}{\\sqrt{\\frac{pq}{n}}}$$"
   ]
  },
  {
   "cell_type": "code",
   "execution_count": null,
   "metadata": {
    "colab": {
     "base_uri": "https://localhost:8080/"
    },
    "executionInfo": {
     "elapsed": 300,
     "status": "ok",
     "timestamp": 1700613571527,
     "user": {
      "displayName": "Tấn Thành Trần",
      "userId": "11192642793522542419"
     },
     "user_tz": -420
    },
    "id": "_QuuXF7otPEA",
    "outputId": "5f09a10c-a84a-4d87-cd4a-5f0a019cfa8d"
   },
   "outputs": [
    {
     "name": "stdout",
     "output_type": "stream",
     "text": [
      "z = -0.29058535263133406\n"
     ]
    }
   ],
   "source": [
    "# 0.25đ\n",
    "z = (p_mu - p)/np.sqrt(p_mu*(1-p_mu)/n)\n",
    "print(\"z =\", z)"
   ]
  },
  {
   "cell_type": "markdown",
   "metadata": {
    "id": "yEyhCVUQtPEA"
   },
   "source": [
    "Vì $H_1$ là $<$ là kiểm định đuôi trái nên ta có\n",
    "$$p_{values} = P(Z<z)$$"
   ]
  },
  {
   "cell_type": "code",
   "execution_count": null,
   "metadata": {
    "colab": {
     "base_uri": "https://localhost:8080/"
    },
    "executionInfo": {
     "elapsed": 459,
     "status": "ok",
     "timestamp": 1700613575119,
     "user": {
      "displayName": "Tấn Thành Trần",
      "userId": "11192642793522542419"
     },
     "user_tz": -420
    },
    "id": "YLZTafAltPEB",
    "outputId": "d9d93633-cc25-46f7-8bcb-5b546f35637c"
   },
   "outputs": [
    {
     "name": "stdout",
     "output_type": "stream",
     "text": [
      "p_value là:  0.3856842319066385\n",
      "Accept H0\n"
     ]
    }
   ],
   "source": [
    "p_value = stats.norm.cdf(z)\n",
    "print(\"p_value là: \", p_value)\n",
    "if p_value < alpha:\n",
    "    print('Reject H0')\n",
    "else:\n",
    "    print('Accept H0')"
   ]
  },
  {
   "cell_type": "markdown",
   "metadata": {
    "id": "8zsTmoHEtPEB"
   },
   "source": [
    "Vì $p_{value} = 0.386 > \\alpha=0.05$ nên ta kết luận: không có đủ bằng chứng để bác bỏ nhận xét trên với mức ý nghĩa 5%$"
   ]
  },
  {
   "cell_type": "markdown",
   "metadata": {
    "id": "LzJMw30-tPEB"
   },
   "source": [
    "### **Bài 3** (2đ)\n",
    "\n",
    "Khảo sát điểm trung bình các bài lab của một môn học X(\\$) và điểm thi cuối kỳ Y(\\$) trong một môn học. Khảo sát ngẫu nhiên 8 sinh viên, ta thu được bảng số liệu sau:\n",
    "\n",
    "| Điểm trung bình các lab          | 7.5     | 5.5      | 3.0      | 8      | 9      | 1      | 6      |  6      |\n",
    "| :----------: | :-----: | :------: | :------: | :------: | :------: | :------: | :------: |:------: |\n",
    "| Điểm thi cuối kỳ       | **8**  | **6.5**  | **4**  | **7.5**  | **9.5**  | **3**  | **5**  | **6**  |\n",
    "\n",
    "\n",
    "a. Dựa vào bảng dữ liệu trên cho biết có xây dựng được mô hình hồi quy hay không? Nếu có hãy xây dựng mô hình hồi quy để ước điểm trung bình các bài lab dựa theo điểm thi cuối kỳ. (1đ)\n",
    "\n",
    "b. Dự đoán điểm trung bình các bài lab của một sinh viên có điểm thi cuối kỳ là 6.5. (1đ)"
   ]
  },
  {
   "cell_type": "code",
   "execution_count": null,
   "metadata": {
    "id": "lthowE4WtPEB"
   },
   "outputs": [],
   "source": [
    "X = np.array([8.0, 6.5, 4.0, 7.5, 9.5, 3.0, 5.0, 6.0])\n",
    "Y = np.array([7.5, 5.5, 3.0, 8.0, 9.0, 1.0, 6.0, 6.0])"
   ]
  },
  {
   "cell_type": "markdown",
   "metadata": {
    "id": "8_G627JetPEB"
   },
   "source": [
    "Ta có biến phụ thuộc là điểm trung bình các bài lab và biến giải thích là điểm cuối kỳ."
   ]
  },
  {
   "cell_type": "code",
   "execution_count": null,
   "metadata": {
    "colab": {
     "base_uri": "https://localhost:8080/",
     "height": 449
    },
    "executionInfo": {
     "elapsed": 420,
     "status": "ok",
     "timestamp": 1700613688260,
     "user": {
      "displayName": "Tấn Thành Trần",
      "userId": "11192642793522542419"
     },
     "user_tz": -420
    },
    "id": "_PPttXG0tPEB",
    "outputId": "1391b3b5-95b0-42bf-9b3f-4fb847396e7c"
   },
   "outputs": [
    {
     "data": {
      "image/png": "[encoded data removed]",
      "text/plain": [
       "<Figure size 640x480 with 1 Axes>"
      ]
     },
     "metadata": {},
     "output_type": "display_data"
    }
   ],
   "source": [
    "# plot X,Y\n",
    "import matplotlib.pyplot as plt\n",
    "plt.scatter(X,Y)\n",
    "plt.xlabel('X')\n",
    "plt.ylabel('Y')\n",
    "plt.show()"
   ]
  },
  {
   "cell_type": "code",
   "execution_count": null,
   "metadata": {
    "colab": {
     "base_uri": "https://localhost:8080/"
    },
    "executionInfo": {
     "elapsed": 2,
     "status": "ok",
     "timestamp": 1700613688992,
     "user": {
      "displayName": "Tấn Thành Trần",
      "userId": "11192642793522542419"
     },
     "user_tz": -420
    },
    "id": "0u1q1h-ZtPEB",
    "outputId": "0cb1d910-b4d0-4d6b-a51b-35cd3fa743c6"
   },
   "outputs": [
    {
     "name": "stdout",
     "output_type": "stream",
     "text": [
      "Covariance: \n",
      " [[4.63839286 5.375     ]\n",
      " [5.375      7.        ]]\n",
      "Correlation coefficient: \n",
      " [[1.         0.94329099]\n",
      " [0.94329099 1.        ]]\n"
     ]
    }
   ],
   "source": [
    "# covariance và correlation coefficient của X và Y\n",
    "cov = np.cov(X,Y)\n",
    "print(\"Covariance: \\n\", cov)\n",
    "corr = np.corrcoef(X,Y)\n",
    "print(\"Correlation coefficient: \\n\", corr)"
   ]
  },
  {
   "cell_type": "markdown",
   "metadata": {
    "id": "qY_ZOaz9tPEC"
   },
   "source": [
    "**(0.5đ)**\n",
    "\n",
    "Ta thấy hệ số tương quan của $X$ và $Y$ là $0.93$ nên mối quan thuận, tức là nếu $X$ tăng thì $Y$ cũng sẽ tăng.\n",
    "\n",
    "Vậy có thể xây dựng mô hình hồi quy giữa $X$ và $Y$: $$Y=\\beta_0+\\beta_1X$$"
   ]
  },
  {
   "cell_type": "code",
   "execution_count": null,
   "metadata": {
    "colab": {
     "base_uri": "https://localhost:8080/"
    },
    "executionInfo": {
     "elapsed": 3,
     "status": "ok",
     "timestamp": 1700613691883,
     "user": {
      "displayName": "Tấn Thành Trần",
      "userId": "11192642793522542419"
     },
     "user_tz": -420
    },
    "id": "drZ7-0YEtPEC",
    "outputId": "ee784039-11e2-4a45-e223-3fa46f4ab7f6"
   },
   "outputs": [
    {
     "name": "stdout",
     "output_type": "stream",
     "text": [
      "x_bar =  6.1875\n",
      "y_bar =  5.75\n",
      "beta_1 =  1.1588065447545717\n",
      "beta_0 =  -1.4201154956689122\n"
     ]
    }
   ],
   "source": [
    "x_bar = np.mean(X)\n",
    "y_bar = np.mean(Y)\n",
    "print(\"x_bar = \", x_bar)\n",
    "print(\"y_bar = \", y_bar)\n",
    "beta_1 = np.sum((X-x_bar)*(Y-y_bar))/np.sum((X-x_bar)**2)\n",
    "beta_0 = y_bar - beta_1*x_bar\n",
    "print(\"beta_1 = \", beta_1)\n",
    "print(\"beta_0 = \", beta_0)"
   ]
  },
  {
   "cell_type": "markdown",
   "metadata": {
    "id": "9N-7FsYvtPEC"
   },
   "source": [
    "**(0.5đ)** Vậy mô hình hồi quy giữ điểm trung bình các bài lab $Y$ và điểm thi cuối kỳ $X$ là: $$Y\\approx-1,42+1,15X$$"
   ]
  },
  {
   "cell_type": "markdown",
   "metadata": {
    "id": "X2lwKvBotPEC"
   },
   "source": [
    "b. Dự đoán điểm điểm thi cuối kỳ biết điểm trung bình các bài lab của một sinh viên là 6.2\n",
    "\n",
    "**(0.5đ)** Điểm trung bình các bài lab 6.2 => $Y=6.2$. Thay $Y$ vào công thức hồi quy ta xây dựng bên trên."
   ]
  },
  {
   "cell_type": "code",
   "execution_count": null,
   "metadata": {
    "colab": {
     "base_uri": "https://localhost:8080/"
    },
    "executionInfo": {
     "elapsed": 290,
     "status": "ok",
     "timestamp": 1700613707146,
     "user": {
      "displayName": "Tấn Thành Trần",
      "userId": "11192642793522542419"
     },
     "user_tz": -420
    },
    "id": "UeqiVxPbtPEC",
    "outputId": "94ef015a-0def-4799-b117-efe822f9febf"
   },
   "outputs": [
    {
     "name": "stdout",
     "output_type": "stream",
     "text": [
      "X1 =  6.532682724252492\n"
     ]
    }
   ],
   "source": [
    "Y1 = 6.15\n",
    "X1 = (Y1-beta_0)/beta_1\n",
    "print(\"X1 = \", X1)"
   ]
  },
  {
   "cell_type": "markdown",
   "metadata": {
    "id": "iuvmYWlLtPEC"
   },
   "source": [
    "**(0.5đ)** Vậy điểm trung bình các lab của bạn sinh viên này khoảng 6.5đ"
   ]
  }
 ],
 "metadata": {
  "colab": {
   "provenance": []
  },
  "kernelspec": {
   "display_name": "base",
   "language": "python",
   "name": "python3"
  },
  "language_info": {
   "codemirror_mode": {
    "name": "ipython",
    "version": 3
   },
   "file_extension": ".py",
   "mimetype": "text/x-python",
   "name": "python",
   "nbconvert_exporter": "python",
   "pygments_lexer": "ipython3",
   "version": "3.12.3"
  }
 },
 "nbformat": 4,
 "nbformat_minor": 0
}
