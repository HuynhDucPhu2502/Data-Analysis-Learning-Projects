{
 "cells": [
  {
   "cell_type": "code",
   "execution_count": 83,
   "id": "9f829db5",
   "metadata": {},
   "outputs": [],
   "source": [
    "import numpy as np\n",
    "import pandas as pd\n",
    "from scipy import stats\n",
    "\n",
    "from scipy.stats import norm"
   ]
  },
  {
   "attachments": {
    "image.png": {
     "image/png": "[encoded data removed]"
    }
   },
   "cell_type": "markdown",
   "id": "3e1100c3",
   "metadata": {},
   "source": [
    "![image.png](attachment:image.png)"
   ]
  },
  {
   "cell_type": "code",
   "execution_count": 84,
   "id": "4f138ec6",
   "metadata": {},
   "outputs": [
    {
     "data": {
      "text/html": [
       "<div>\n",
       "<style scoped>\n",
       "    .dataframe tbody tr th:only-of-type {\n",
       "        vertical-align: middle;\n",
       "    }\n",
       "\n",
       "    .dataframe tbody tr th {\n",
       "        vertical-align: top;\n",
       "    }\n",
       "\n",
       "    .dataframe thead th {\n",
       "        text-align: right;\n",
       "    }\n",
       "</style>\n",
       "<table border=\"1\" class=\"dataframe\">\n",
       "  <thead>\n",
       "    <tr style=\"text-align: right;\">\n",
       "      <th></th>\n",
       "      <th>sbd</th>\n",
       "      <th>toan</th>\n",
       "      <th>ngu_van</th>\n",
       "      <th>ngoai_ngu</th>\n",
       "      <th>lich_su</th>\n",
       "      <th>dia_li</th>\n",
       "      <th>gdcd</th>\n",
       "      <th>ma_ngoai_ngu</th>\n",
       "    </tr>\n",
       "  </thead>\n",
       "  <tbody>\n",
       "    <tr>\n",
       "      <th>0</th>\n",
       "      <td>1000001</td>\n",
       "      <td>8.4</td>\n",
       "      <td>8.50</td>\n",
       "      <td>9.2</td>\n",
       "      <td>6.75</td>\n",
       "      <td>6.00</td>\n",
       "      <td>9.00</td>\n",
       "      <td>N1</td>\n",
       "    </tr>\n",
       "    <tr>\n",
       "      <th>1</th>\n",
       "      <td>1000002</td>\n",
       "      <td>7.2</td>\n",
       "      <td>8.50</td>\n",
       "      <td>9.2</td>\n",
       "      <td>8.75</td>\n",
       "      <td>6.50</td>\n",
       "      <td>8.50</td>\n",
       "      <td>N1</td>\n",
       "    </tr>\n",
       "    <tr>\n",
       "      <th>2</th>\n",
       "      <td>1000004</td>\n",
       "      <td>7.8</td>\n",
       "      <td>8.25</td>\n",
       "      <td>7.8</td>\n",
       "      <td>4.50</td>\n",
       "      <td>6.25</td>\n",
       "      <td>8.25</td>\n",
       "      <td>N1</td>\n",
       "    </tr>\n",
       "    <tr>\n",
       "      <th>3</th>\n",
       "      <td>1000005</td>\n",
       "      <td>7.2</td>\n",
       "      <td>8.00</td>\n",
       "      <td>7.8</td>\n",
       "      <td>4.75</td>\n",
       "      <td>6.75</td>\n",
       "      <td>8.25</td>\n",
       "      <td>N1</td>\n",
       "    </tr>\n",
       "    <tr>\n",
       "      <th>4</th>\n",
       "      <td>1000006</td>\n",
       "      <td>7.6</td>\n",
       "      <td>9.25</td>\n",
       "      <td>9.0</td>\n",
       "      <td>8.50</td>\n",
       "      <td>7.25</td>\n",
       "      <td>9.75</td>\n",
       "      <td>N1</td>\n",
       "    </tr>\n",
       "  </tbody>\n",
       "</table>\n",
       "</div>"
      ],
      "text/plain": [
       "       sbd  toan  ngu_van  ngoai_ngu  lich_su  dia_li  gdcd ma_ngoai_ngu\n",
       "0  1000001   8.4     8.50        9.2     6.75    6.00  9.00           N1\n",
       "1  1000002   7.2     8.50        9.2     8.75    6.50  8.50           N1\n",
       "2  1000004   7.8     8.25        7.8     4.50    6.25  8.25           N1\n",
       "3  1000005   7.2     8.00        7.8     4.75    6.75  8.25           N1\n",
       "4  1000006   7.6     9.25        9.0     8.50    7.25  9.75           N1"
      ]
     },
     "execution_count": 84,
     "metadata": {},
     "output_type": "execute_result"
    }
   ],
   "source": [
    "df = pd.read_csv(\"../data/dataKHXH.csv\")\n",
    "df.head()"
   ]
  },
  {
   "cell_type": "markdown",
   "id": "3c9ce693",
   "metadata": {},
   "source": [
    "### Đề bài:\n",
    "\n",
    "Lấy ngẫu nhiên 1000 học sinh từ bộ dữ liệu. Có nhận xét rằng: \"Từ 85% học sinh đạt điểm GDCD từ 8 trở lên.\". Hãy kiểm định nhận xét trên với mức ý nghĩa 5%."
   ]
  },
  {
   "cell_type": "code",
   "execution_count": 85,
   "id": "f1682a8f",
   "metadata": {},
   "outputs": [
    {
     "data": {
      "text/plain": [
       "0    9.00\n",
       "1    8.50\n",
       "2    8.25\n",
       "3    8.25\n",
       "4    9.75\n",
       "Name: gdcd, dtype: float64"
      ]
     },
     "execution_count": 85,
     "metadata": {},
     "output_type": "execute_result"
    }
   ],
   "source": [
    "new_df = df[\"gdcd\"]\n",
    "new_df.head()"
   ]
  },
  {
   "cell_type": "code",
   "execution_count": 86,
   "id": "ff45a6ca",
   "metadata": {},
   "outputs": [
    {
     "name": "stdout",
     "output_type": "stream",
     "text": [
      "────────────────────────────────────────────────────────\n",
      "Số mẫu (n): 1000\n",
      "Số đạt điều kiện (x ≥ 7): 696\n",
      "Tỷ lệ mẫu (p̂): 0.6960\n",
      "n * p̂ = 696.00\n",
      "n * (1 - p̂) = 304.00\n",
      "────────────────────────────────────────────────────────\n"
     ]
    }
   ],
   "source": [
    "n = 1000\n",
    "sample = new_df.sample(n, random_state=15)\n",
    "x = (sample >= 8).sum()\n",
    "p_hat = x / n\n",
    "\n",
    "np_ = n * p_hat\n",
    "nq_ = n * (1 - p_hat)\n",
    "\n",
    "print(\"────────────────────────────────────────────────────────\")\n",
    "print(f\"Số mẫu (n): {n}\")\n",
    "print(f\"Số đạt điều kiện (x ≥ 7): {x}\")\n",
    "print(f\"Tỷ lệ mẫu (p̂): {p_hat:.4f}\")\n",
    "print(f\"n * p̂ = {np_:.2f}\")\n",
    "print(f\"n * (1 - p̂) = {nq_:.2f}\")\n",
    "print(\"────────────────────────────────────────────────────────\")"
   ]
  },
  {
   "cell_type": "markdown",
   "id": "b20c5049",
   "metadata": {},
   "source": [
    "Gọi $p$ là tỷ lệ thí sinh có điểm GDCD trên 8. Ta cần kiểm định giả thuyết:\n",
    "\n",
    "$H_0 : p \\ge 0.85$: Có từ 85% thí sinh khối KHXH có điểm GDCD cao hơn 8.0\n",
    "\n",
    "$H_1: p < 0.85$: Có dưới 85% thí sinh khối KHXH có điểm GDCD cao hơn 8.0\n",
    "\n",
    "Mức ý nghĩa là: $5\\% => \\alpha=0.05$"
   ]
  },
  {
   "cell_type": "code",
   "execution_count": 87,
   "id": "625778ce",
   "metadata": {},
   "outputs": [],
   "source": [
    "p = 0.85\n",
    "alpha = 0.05"
   ]
  },
  {
   "cell_type": "markdown",
   "id": "4a334059",
   "metadata": {},
   "source": [
    "- Điểm thi của các thí sinh trên trung bình hay không là độc lập với nhau nên tỉ lệ thí sinh đạt điểm trên trung bình tuân theo phân phối nhị thức.\n",
    "- Ta có\n",
    "    - $\\hat{p}=0.6960$, $n\\hat{p} = 696.00 \\geq 5$\n",
    "    - $n(1-\\hat{p}) = 304.00 \\geq 5$\n",
    "    \n",
    "=> Vậy phân phối nhị thức của tỷ lệ mẫu có thể xấp xỉ bằng phân phối chuẩn. Ta có công thức khoảng tin cậy\n",
    "$$z=\\frac{\\hat{p}-p}{\\sqrt{\\frac{pq}{n}}}$$"
   ]
  },
  {
   "cell_type": "code",
   "execution_count": 88,
   "id": "f04c9c11",
   "metadata": {},
   "outputs": [
    {
     "name": "stdout",
     "output_type": "stream",
     "text": [
      "Z = -13.6385\n"
     ]
    }
   ],
   "source": [
    "z = (p_hat - p) / np.sqrt(p * (1 - p) / n)\n",
    "print(f\"Z = {z:.4f}\")"
   ]
  },
  {
   "cell_type": "markdown",
   "id": "c9152421",
   "metadata": {},
   "source": [
    "Vì $H_1$ là $\\ne$ là kiểm định 2 phía nên ta có\n",
    "$$\n",
    "p\\text{-value} = 2 \\cdot P(T > |t|)\n",
    "$$"
   ]
  },
  {
   "cell_type": "code",
   "execution_count": 89,
   "id": "c434793f",
   "metadata": {},
   "outputs": [
    {
     "name": "stdout",
     "output_type": "stream",
     "text": [
      "p-value: 1.1823614610783807e-42\n",
      "→ Bác bỏ H0\n"
     ]
    }
   ],
   "source": [
    "p_value = norm.cdf(z)\n",
    "print(f\"p-value: {p_value}\")\n",
    "\n",
    "if p_value < alpha:\n",
    "    print(\"→ Bác bỏ H0\")\n",
    "else:\n",
    "    print(\"→ Chấp nhận H0\")\n"
   ]
  },
  {
   "cell_type": "markdown",
   "id": "7492419a",
   "metadata": {},
   "source": [
    "Vì $p_{value} = 1.18e^-42 < \\alpha=0.05$ nên ta kết luận: Đủ bằng chứng để bác bỏ nhận xét trên với mức ý nghĩa 5%\n"
   ]
  },
  {
   "cell_type": "markdown",
   "id": "75f729e8",
   "metadata": {},
   "source": [
    "### Đề bài:\n",
    "\n",
    "Lấy ngẫu nhiên 600 học sinh từ bộ dữ liệu. Có nhận xét rằng: \"Từ 80% học sinh đạt điểm Địa lý trên 6.5\". Hãy kiểm định nhận xét này với mức ý nghĩa 5%."
   ]
  },
  {
   "cell_type": "code",
   "execution_count": 90,
   "id": "440db891",
   "metadata": {},
   "outputs": [
    {
     "data": {
      "text/plain": [
       "0    6.00\n",
       "1    6.50\n",
       "2    6.25\n",
       "3    6.75\n",
       "4    7.25\n",
       "Name: dia_li, dtype: float64"
      ]
     },
     "execution_count": 90,
     "metadata": {},
     "output_type": "execute_result"
    }
   ],
   "source": [
    "new_df = df[\"dia_li\"]\n",
    "new_df.head()"
   ]
  },
  {
   "cell_type": "code",
   "execution_count": 91,
   "id": "3bf2dd5c",
   "metadata": {},
   "outputs": [
    {
     "name": "stdout",
     "output_type": "stream",
     "text": [
      "────────────────────────────────────────────────────────\n",
      "Số mẫu (n): 600\n",
      "Số đạt điều kiện (x ≥ 8): 221\n",
      "Tỷ lệ mẫu (p̂): 0.3683\n",
      "n * p̂ = 221.00\n",
      "n * (1 - p̂) = 379.00\n",
      "────────────────────────────────────────────────────────\n"
     ]
    }
   ],
   "source": [
    "n = 600\n",
    "sample = new_df.sample(n, random_state=15)\n",
    "x = (sample > 6.5).sum()\n",
    "p_hat = x / n\n",
    "\n",
    "np_ = n * p_hat\n",
    "nq_ = n * (1 - p_hat)\n",
    "\n",
    "print(\"────────────────────────────────────────────────────────\")\n",
    "print(f\"Số mẫu (n): {n}\")\n",
    "print(f\"Số đạt điều kiện (x ≥ 8): {x}\")\n",
    "print(f\"Tỷ lệ mẫu (p̂): {p_hat:.4f}\")\n",
    "print(f\"n * p̂ = {np_:.2f}\")\n",
    "print(f\"n * (1 - p̂) = {nq_:.2f}\")\n",
    "print(\"────────────────────────────────────────────────────────\")"
   ]
  },
  {
   "cell_type": "markdown",
   "id": "8bfc0563",
   "metadata": {},
   "source": [
    "Gọi $p$ là tỷ lệ thí sinh có điểm Địa lí trên 6.5. Ta cần kiểm định giả thuyết:\n",
    "\n",
    "$H_0 : p > 0.8$: Có từ 80% thí sinh khối KHXH có điểm Địa Lí cao hơn 6.5\n",
    "\n",
    "$H_1: p \\le 0.8$: Có dưới 80% thí sinh khối KHXH có điểm Địa Lí cao hơn 6.5\n",
    "\n",
    "Mức ý nghĩa là: $5\\% => \\alpha=0.05$"
   ]
  },
  {
   "cell_type": "code",
   "execution_count": 92,
   "id": "b5fcb4f8",
   "metadata": {},
   "outputs": [],
   "source": [
    "p = 0.8\n",
    "alpha = 0.05"
   ]
  },
  {
   "cell_type": "markdown",
   "id": "e2206b42",
   "metadata": {},
   "source": [
    "- Điểm thi của các thí sinh trên trung bình hay không là độc lập với nhau nên tỉ lệ thí sinh đạt điểm trên trung bình tuân theo phân phối nhị thức.\n",
    "- Ta có\n",
    "    - $\\hat{p}=0.4400$, $n\\hat{p} = 264.00 \\geq 5$\n",
    "    - $n(1-\\hat{p}) = 336.00 \\geq 5$\n",
    "    \n",
    "=> Vậy phân phối nhị thức của tỷ lệ mẫu có thể xấp xỉ bằng phân phối chuẩn. Ta có công thức thống kê kiểm định tính như sau:\n",
    "$$z=\\frac{\\hat{p}-p}{\\sqrt{\\frac{pq}{n}}}$$"
   ]
  },
  {
   "cell_type": "code",
   "execution_count": 93,
   "id": "334b0e2a",
   "metadata": {},
   "outputs": [
    {
     "name": "stdout",
     "output_type": "stream",
     "text": [
      "Z = -26.4341\n"
     ]
    }
   ],
   "source": [
    "z = (p_hat - p) / np.sqrt(p * (1 - p) / n)\n",
    "print(f\"Z = {z:.4f}\")"
   ]
  },
  {
   "cell_type": "markdown",
   "id": "ddfae589",
   "metadata": {},
   "source": [
    "Vì $H_1$ là $<$ là kiểm định đuôi trái nên ta có\n",
    "$$p_{values} = P(Z<z)$$"
   ]
  },
  {
   "cell_type": "code",
   "execution_count": 94,
   "id": "a377e899",
   "metadata": {},
   "outputs": [
    {
     "name": "stdout",
     "output_type": "stream",
     "text": [
      "p-value: 2.7811860329413618e-154\n",
      "→ Bác bỏ H0\n"
     ]
    }
   ],
   "source": [
    "p_value = norm.cdf(z)\n",
    "print(f\"p-value: {p_value}\")\n",
    "\n",
    "if p_value < alpha:\n",
    "    print(\"→ Bác bỏ H0\")\n",
    "else:\n",
    "    print(\"→ Chấp nhận H0\")\n"
   ]
  },
  {
   "cell_type": "markdown",
   "id": "bea096ad",
   "metadata": {},
   "source": [
    "Vì $p_{value} = 2.781e^-154 < \\alpha=0.05$ nên ta kết luận: Đủ bằng chứng để bác bỏ nhận xét trên với mức ý nghĩa 5%\n"
   ]
  },
  {
   "cell_type": "markdown",
   "id": "1b70e5f4",
   "metadata": {},
   "source": [
    "### Đề bài:\n",
    "\n",
    "Một lớp học sinh có điểm trung bình môn Toán là 6.3. Một giáo viên mới đưa ra đề kiểm tra khác và lấy mẫu ngẫu nhiên 40 học sinh thấy điểm trung bình là 6.55 với độ lệch chuẩn mẫu s = 1.2. Hãy kiểm định nhận xét rằng đề mới làm thay đổi điểm trung bình, với mức ý nghĩa 5%."
   ]
  },
  {
   "cell_type": "code",
   "execution_count": 95,
   "id": "6c4c0c80",
   "metadata": {},
   "outputs": [
    {
     "name": "stdout",
     "output_type": "stream",
     "text": [
      "────────────────────────────────────────────────────\n",
      "Số mẫu (n): 40\n",
      "Trung bình mẫu (x̄): 6.5500\n",
      "Độ lệch chuẩn mẫu (s): 1.2000\n",
      "────────────────────────────────────────────────────\n"
     ]
    }
   ],
   "source": [
    "n = 40\n",
    "sample_mean = 6.55\n",
    "sample_std = 1.2\n",
    "\n",
    "print(\"────────────────────────────────────────────────────\")\n",
    "print(f\"Số mẫu (n): {n}\")\n",
    "print(f\"Trung bình mẫu (x̄): {sample_mean:.4f}\")\n",
    "print(f\"Độ lệch chuẩn mẫu (s): {sample_std:.4f}\")\n",
    "print(\"────────────────────────────────────────────────────\")"
   ]
  },
  {
   "cell_type": "markdown",
   "id": "ef26a5f1",
   "metadata": {},
   "source": [
    "Gọi $\\mu$ là điểm trung bình toán của lớp. Ta cần kiểm định giả thuyết:\n",
    "\n",
    "$H_0 : \\mu = 6.3$: Điểm trung bình môn toán của lớp không thay đổi so với đề cũ\n",
    "\n",
    "$H_1: \\mu  \\neq 6.3$: Điểm trung bình môn toán của lớp thay đổi so với đề cũ\n",
    "\n",
    "Mức ý nghĩa là: $5\\% => \\alpha=0.05$"
   ]
  },
  {
   "cell_type": "code",
   "execution_count": 96,
   "id": "77e4277e",
   "metadata": {},
   "outputs": [],
   "source": [
    "mu = 6.3\n",
    "alpha = 0.05"
   ]
  },
  {
   "cell_type": "markdown",
   "id": "d4ea0895",
   "metadata": {},
   "source": [
    "Không biết σ, mẫu lớn (n > 30), Theo định lý **Giới hạn Trung tâm** phân phối t-Student trở nên gần giống hơn với phân phối chuẩn Z => Dùng t-Test, ta có công thức thống kê kiểm định tính như sau:\n",
    "$$\n",
    "t = \\frac{\\bar{x} - \\mu}{\\frac{s}{\\sqrt{n}}}\n",
    "$$"
   ]
  },
  {
   "cell_type": "code",
   "execution_count": 97,
   "id": "a51ec4f8",
   "metadata": {},
   "outputs": [
    {
     "name": "stdout",
     "output_type": "stream",
     "text": [
      "T = 1.3176\n"
     ]
    }
   ],
   "source": [
    "t = (sample_mean - mu) / (sample_std / np.sqrt(n))\n",
    "print(f\"T = {t:.4f}\")"
   ]
  },
  {
   "cell_type": "markdown",
   "id": "255c5acc",
   "metadata": {},
   "source": [
    "Vì $H_1$ là $\\ne$ là kiểm định 2 phía nên ta có:\n",
    "$$p\\text{-value} = 2 \\cdot P(T > |t|)$$"
   ]
  },
  {
   "cell_type": "code",
   "execution_count": 98,
   "id": "17d3ea89",
   "metadata": {},
   "outputs": [
    {
     "name": "stdout",
     "output_type": "stream",
     "text": [
      "p-value: 0.1876323299948841\n",
      "→ Chấp nhận H0\n"
     ]
    }
   ],
   "source": [
    "p_value = 2 * (1 - norm.cdf(abs(t)))\n",
    "print(f\"p-value: {p_value}\")\n",
    "\n",
    "if p_value < alpha:\n",
    "    print(\"→ Bác bỏ H0\")\n",
    "else:\n",
    "    print(\"→ Chấp nhận H0\")\n"
   ]
  },
  {
   "cell_type": "markdown",
   "id": "30320b66",
   "metadata": {},
   "source": [
    "Vì $p_{value} = 0.093 < \\alpha=0.05$ nên ta kết luận: Không đủ bằng chứng để bác bỏ nhận xét trên với mức ý nghĩa 5%\n"
   ]
  }
 ],
 "metadata": {
  "kernelspec": {
   "display_name": "base",
   "language": "python",
   "name": "python3"
  },
  "language_info": {
   "codemirror_mode": {
    "name": "ipython",
    "version": 3
   },
   "file_extension": ".py",
   "mimetype": "text/x-python",
   "name": "python",
   "nbconvert_exporter": "python",
   "pygments_lexer": "ipython3",
   "version": "3.12.3"
  }
 },
 "nbformat": 4,
 "nbformat_minor": 5
}
