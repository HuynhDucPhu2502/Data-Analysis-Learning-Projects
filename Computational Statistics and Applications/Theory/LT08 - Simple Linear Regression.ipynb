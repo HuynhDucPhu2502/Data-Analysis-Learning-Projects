{
 "cells": [
  {
   "cell_type": "markdown",
   "metadata": {},
   "source": [
    "# Hồi quy tuyến tính đơn biến"
   ]
  },
  {
   "cell_type": "markdown",
   "metadata": {},
   "source": [
    "Chúng ta có 1 bảng dữ liệu về chiều cao và cân nặng của 15 người như trong bảng dưới đây:\n",
    "\n",
    "| Chiều cao (cm)        | 147 | 150 | 153 | 155 | 158 | 160 | 163 | 165 | 168 | 170 | 173 | 175 | 178 | 180 | 183 |\n",
    "| :-------------------: | :-: | :-: | :-: | :-: | :-: | :-: | :-: | :-: | :-: | :-: | :-: | :-: | :-: | :-: | :-: |\n",
    "| **Cân nặng (kg)**     | **49** | **50** | **51** | **52** | **54** | **56** | **58** | **59** | **60** | **62** | **63** | **64** | **66** | **67** | **68** |\n",
    "\n",
    "\n",
    "Bài toán đặt ra là: liệu có thể dự đoán cân nặng của một người dựa vào chiều cao của họ không? (_Trên thực tế, tất nhiên là không, vì cân nặng còn phụ thuộc vào nhiều yếu tố khác nữa, thể tích chẳng hạn_). \n",
    "\n",
    "Trong ví dụ này, giả sử cân nặng sẽ tỉ lệ thuận với chiều cao (càng cao càng nặng), nên có thể sử dụng Linear Regression model cho việc dự đoán này.\n",
    "\n",
    "Trước tiên, chúng ta cần có hai thư viện [numpy](http://www.numpy.org/) cho đại số tuyến tính và [matplotlib](http://matplotlib.org/) cho việc vẽ hình. \n"
   ]
  },
  {
   "cell_type": "code",
   "execution_count": 1,
   "metadata": {},
   "outputs": [],
   "source": [
    "import numpy as np \n",
    "import matplotlib.pyplot as plt"
   ]
  },
  {
   "cell_type": "markdown",
   "metadata": {},
   "source": [
    "## KIỂM TRA TÍNH TƯƠNG QUAN\n",
    "\n",
    "Để kiểm tra xem chiều cao và cân năng có mối tương quan tuyến tính với nhau hay không, ta có thể kiểm tra bằng 2 cách: vẽ đồ thị phân tán hoặc tính hệ số tương quan Pearson\n",
    "\n",
    "__Lưu ý__\n",
    "- Sử dụng đồ thị: chỉ dùng trong trường hợp 1 biến hoặc 2 biến. Nếu nhiều hơn thì ta không biểu diễn được\n",
    "- Sử dụng hệ số tương quan Pearson: chỉ dùng trong trường hợp mối tương quan là tuyến tính. Trong trường hợp 2 biến x, y có mối tương quan nhưng không tuyến tính, việc sử dụng hệ số n ày không đem lại kết quả chính xác."
   ]
  },
  {
   "cell_type": "markdown",
   "metadata": {},
   "source": [
    "### Bằng Đồ Thị"
   ]
  },
  {
   "cell_type": "markdown",
   "metadata": {},
   "source": [
    "Tiếp theo, chúng ta khai báo và biểu diễn dữ liệu trên một đồ thị."
   ]
  },
  {
   "cell_type": "code",
   "execution_count": 2,
   "metadata": {},
   "outputs": [
    {
     "data": {
      "image/png": "[encoded data removed]",
      "text/plain": [
       "<Figure size 640x480 with 1 Axes>"
      ]
     },
     "metadata": {},
     "output_type": "display_data"
    }
   ],
   "source": [
    "# height (cm)\n",
    "x = np.array([147, 150, 153, 155, 158, 160, 163, 165, 168, 170, 173, 175, 178, 180, 183])\n",
    "# weight (kg)\n",
    "y = np.array([ 49, 50, 51, 52, 54, 56, 58, 59, 60, 62, 63, 64, 66, 67, 68])\n",
    "# Visualize data \n",
    "plt.plot(x, y, 'o')\n",
    "plt.axis([140, 190, 45, 75])\n",
    "plt.xlabel('Height (cm)')\n",
    "plt.ylabel('Weight (kg)')\n",
    "plt.show()"
   ]
  },
  {
   "cell_type": "markdown",
   "metadata": {},
   "source": [
    "### Bằng Hệ Số Tương Quan Pearson"
   ]
  },
  {
   "cell_type": "markdown",
   "metadata": {},
   "source": [
    "Hệ số tương quan Pearson - $r_{xy}$ (correlation coefficient) đo mối quan hệ tuyến tính giữa hai biến:\n",
    "\n",
    "$$r_{xy} = \\frac{\\sum(x_i - \\bar{x})(y_i - \\bar{y})}{\\sqrt{\\sum{(x_i - \\bar{x})^2} \\sum{(y_i - \\bar{y})^2}}} = \\frac{Cov(x, y)}{s_x * s_y}$$\n",
    "\n",
    "- Miền giá trị: -1 <= $r_{xy}$ <= 1\n",
    "- $r_{xy} = 0$: hai biến x, y không có mối quan hệ tuyến tính\n",
    "- $r_{xy} = 1$: hai biến x, y có mối quan hệ tuyến tính tuyệt đối\n",
    "- $|r_{xy}|$ càng gần 1 thì mối quan hệ tuyến tính giũa hai biến càng mạnh\n",
    "- Nếu $r_{xy}$ < 0: hai biến x, y có mối quan hệ nghịch biến\n",
    "- Nếu $r_{xy}$ > 0: hai biến x, y có mối quan hệ đồng biến"
   ]
  },
  {
   "cell_type": "code",
   "execution_count": 3,
   "metadata": {},
   "outputs": [
    {
     "data": {
      "text/plain": [
       "array([[1.        , 0.99673625],\n",
       "       [0.99673625, 1.        ]])"
      ]
     },
     "execution_count": 3,
     "metadata": {},
     "output_type": "execute_result"
    }
   ],
   "source": [
    "np.corrcoef(x, y)"
   ]
  },
  {
   "cell_type": "markdown",
   "metadata": {},
   "source": [
    "Ta thấy hệ số tương quan là: __0.9967__ cho thấy 2 biến x, y có tương quan tuyến tính mạnh. Vì vậy, có thể xây dựng mô hình hồi quy tuyến tính cho 2 biến x, y"
   ]
  },
  {
   "cell_type": "markdown",
   "metadata": {},
   "source": [
    "## XÂY DỰNG MÔ HÌNH\n",
    "\n",
    "Mô hình hồi quy tuyến tính đơn biến có công thức như sau:\n",
    "$$\\hat{y} = \\beta_0 + \\beta_1x$$\n",
    "\n",
    "Trong đó:\n",
    "- $\\hat{y}$: là giá trị dự đoán của biến $y$\n",
    "- $x$: giá trị của biến tiên lượng\n",
    "- $\\beta_0$: là giao điểm (*intercept*) của đường thẳng hồi quy và trục tung\n",
    "- $\\beta_1$: là độ dốc của đường thẳng hồi quy, thể hiện mức độ thay đổi của biến $y$ khi biến $x$ thay đổi một đơn vị\n",
    "\n",
    "Bằng phương pháp bình phương tối tiểu tổng sai số giữa giá trị thực tế và giá trị dự đoán: $\\sum(y_i - \\hat{y_i})^2$, ta có được công thức tính độ dốc và giao điểm của đường thẳng hồi quy như sau:\n",
    "\n",
    "$$\\beta_1 = \\frac{s_{xy}}{s_{xx}} = \\frac{\\sum(x_i - \\bar{x})(y_i - \\bar{y})}{\\sum(x_i - \\bar{x})^2}$$\n",
    "\n",
    "$$\\beta_0 = \\bar{y} - \\beta_1\\bar{x}$$\n",
    "\n",
    "*Lưu ý*: phương trình đường thẳng hồi quy  đi qua điểm $(\\bar{x}, \\bar{y})$"
   ]
  },
  {
   "cell_type": "markdown",
   "metadata": {},
   "source": [
    "### Cách 1: Tính Theo Công Thức"
   ]
  },
  {
   "cell_type": "code",
   "execution_count": 4,
   "metadata": {},
   "outputs": [
    {
     "data": {
      "text/plain": [
       "np.float64(1007.1999999999998)"
      ]
     },
     "execution_count": 4,
     "metadata": {},
     "output_type": "execute_result"
    }
   ],
   "source": [
    "tu = sum((x - x.mean()) * (y - y.mean()))\n",
    "tu"
   ]
  },
  {
   "cell_type": "code",
   "execution_count": 5,
   "metadata": {},
   "outputs": [
    {
     "data": {
      "text/plain": [
       "np.float64(1786.3999999999999)"
      ]
     },
     "execution_count": 5,
     "metadata": {},
     "output_type": "execute_result"
    }
   ],
   "source": [
    "mau = sum((x - x.mean()) * (x - x.mean()))\n",
    "mau"
   ]
  },
  {
   "cell_type": "code",
   "execution_count": 6,
   "metadata": {},
   "outputs": [
    {
     "data": {
      "text/plain": [
       "np.float64(0.5638154948499775)"
      ]
     },
     "execution_count": 6,
     "metadata": {},
     "output_type": "execute_result"
    }
   ],
   "source": [
    "b1 = tu/mau\n",
    "b1"
   ]
  },
  {
   "cell_type": "code",
   "execution_count": 7,
   "metadata": {},
   "outputs": [
    {
     "data": {
      "text/plain": [
       "np.float64(-34.54231974921628)"
      ]
     },
     "execution_count": 7,
     "metadata": {},
     "output_type": "execute_result"
    }
   ],
   "source": [
    "b0 = y.mean() - b1 * x.mean()\n",
    "b0"
   ]
  },
  {
   "cell_type": "code",
   "execution_count": 8,
   "metadata": {},
   "outputs": [
    {
     "name": "stdout",
     "output_type": "stream",
     "text": [
      "Mô hình hồi quy: y = -34.5423 + 0.5638x\n"
     ]
    }
   ],
   "source": [
    "print(f\"Mô hình hồi quy: y = {b0.round(4)} + {b1.round(4)}x\")"
   ]
  },
  {
   "cell_type": "markdown",
   "metadata": {},
   "source": [
    "#### Vẽ đồ thị"
   ]
  },
  {
   "cell_type": "code",
   "execution_count": 9,
   "metadata": {},
   "outputs": [
    {
     "name": "stdout",
     "output_type": "stream",
     "text": [
      "147 48.33855799373041\n",
      "183 68.6359158083296\n"
     ]
    }
   ],
   "source": [
    "x0 = x.min()\n",
    "y0 = b0 + b1*x0\n",
    "\n",
    "x1 = x.max()\n",
    "y1 = b0 + b1*x1\n",
    "\n",
    "print(x0, y0)\n",
    "print(x1, y1)"
   ]
  },
  {
   "cell_type": "code",
   "execution_count": 10,
   "metadata": {},
   "outputs": [
    {
     "data": {
      "image/png": "[encoded data removed]",
      "text/plain": [
       "<Figure size 640x480 with 1 Axes>"
      ]
     },
     "metadata": {},
     "output_type": "display_data"
    }
   ],
   "source": [
    "# Vẽ mô hình\n",
    "plt.plot(x, y, 'o')\n",
    "plt.plot([x0, x1], [y0, y1])\n",
    "\n",
    "plt.xlabel('Units')\n",
    "plt.ylabel('Minutes')\n",
    "plt.show()"
   ]
  },
  {
   "cell_type": "markdown",
   "metadata": {},
   "source": [
    "### Cách 2: Sử Dụng Thư Viện"
   ]
  },
  {
   "cell_type": "markdown",
   "metadata": {},
   "source": [
    "Sử dụng thư viện `statsmodels` như sau:"
   ]
  },
  {
   "cell_type": "code",
   "execution_count": 11,
   "metadata": {},
   "outputs": [],
   "source": [
    "import statsmodels.api as sm\n",
    "import pandas as pd"
   ]
  },
  {
   "cell_type": "code",
   "execution_count": 12,
   "metadata": {},
   "outputs": [
    {
     "name": "stdout",
     "output_type": "stream",
     "text": [
      "                            OLS Regression Results                            \n",
      "==============================================================================\n",
      "Dep. Variable:                      y   R-squared:                       0.993\n",
      "Model:                            OLS   Adj. R-squared:                  0.993\n",
      "Method:                 Least Squares   F-statistic:                     1982.\n",
      "Date:                Sat, 05 Apr 2025   Prob (F-statistic):           1.35e-15\n",
      "Time:                        15:42:15   Log-Likelihood:                -10.837\n",
      "No. Observations:                  15   AIC:                             25.67\n",
      "Df Residuals:                      13   BIC:                             27.09\n",
      "Df Model:                           1                                         \n",
      "Covariance Type:            nonrobust                                         \n",
      "==============================================================================\n",
      "                 coef    std err          t      P>|t|      [0.025      0.975]\n",
      "------------------------------------------------------------------------------\n",
      "Intercept    -34.5423      2.097    -16.474      0.000     -39.072     -30.012\n",
      "x              0.5638      0.013     44.518      0.000       0.536       0.591\n",
      "==============================================================================\n",
      "Omnibus:                        1.584   Durbin-Watson:                   1.145\n",
      "Prob(Omnibus):                  0.453   Jarque-Bera (JB):                0.909\n",
      "Skew:                          -0.187   Prob(JB):                        0.635\n",
      "Kurtosis:                       1.853   Cond. No.                     2.51e+03\n",
      "==============================================================================\n",
      "\n",
      "Notes:\n",
      "[1] Standard Errors assume that the covariance matrix of the errors is correctly specified.\n",
      "[2] The condition number is large, 2.51e+03. This might indicate that there are\n",
      "strong multicollinearity or other numerical problems.\n"
     ]
    },
    {
     "name": "stderr",
     "output_type": "stream",
     "text": [
      "c:\\Users\\Admin\\AppData\\Local\\Programs\\Python\\Python312\\Lib\\site-packages\\scipy\\stats\\_axis_nan_policy.py:418: UserWarning: `kurtosistest` p-value may be inaccurate with fewer than 20 observations; only n=15 observations were given.\n",
      "  return hypotest_fun_in(*args, **kwds)\n"
     ]
    }
   ],
   "source": [
    "# ordinary least square (OLS)\n",
    "model = sm.formula.ols('y~x', data=pd.DataFrame({'x': x, 'y':y})).fit()\n",
    "\n",
    "print(model.summary())"
   ]
  },
  {
   "cell_type": "code",
   "execution_count": 13,
   "metadata": {},
   "outputs": [
    {
     "data": {
      "text/plain": [
       "Intercept   -34.542320\n",
       "x             0.563815\n",
       "dtype: float64"
      ]
     },
     "execution_count": 13,
     "metadata": {},
     "output_type": "execute_result"
    }
   ],
   "source": [
    "model.params"
   ]
  },
  {
   "cell_type": "code",
   "execution_count": 14,
   "metadata": {},
   "outputs": [
    {
     "name": "stdout",
     "output_type": "stream",
     "text": [
      "Mô hình hồi quy: y = -34.5423 + 0.5638x\n"
     ]
    },
    {
     "name": "stderr",
     "output_type": "stream",
     "text": [
      "C:\\Users\\Admin\\AppData\\Local\\Temp\\ipykernel_6520\\4286752693.py:1: FutureWarning: Series.__getitem__ treating keys as positions is deprecated. In a future version, integer keys will always be treated as labels (consistent with DataFrame behavior). To access a value by position, use `ser.iloc[pos]`\n",
      "  print(f\"Mô hình hồi quy: y = {model.params[0].round(4)} + {model.params[1].round(4)}x\")\n"
     ]
    }
   ],
   "source": [
    "print(f\"Mô hình hồi quy: y = {model.params[0].round(4)} + {model.params[1].round(4)}x\")"
   ]
  },
  {
   "cell_type": "markdown",
   "metadata": {},
   "source": [
    "__Nhận xét__ kết quả giống như ở C1"
   ]
  },
  {
   "cell_type": "markdown",
   "metadata": {},
   "source": [
    "# ĐÁNH GIÁ"
   ]
  },
  {
   "cell_type": "markdown",
   "metadata": {},
   "source": [
    "Để đánh giá mô hình ta sử dụng hệ số xác định mô hình $R^2$ (R squared). Giá trị này thể hiện tỷ lệ phần trăm giá trị thực của biến dự đoán có thể giải thích được bằng mô hình. Giá trị của $R^2$ càng lớn thì mô hình càng tốt. \n",
    "\n",
    "Để tính giá trị này, bạn có thể tính toán theo công thức:\n",
    "\n",
    "$$R^2 = \\frac{RSS}{TSS}$$\n",
    "\n",
    "Quan sát trên cách xây dựng mô hình bằng thư viện ở trên, bạn cũng có thể thấy giá trị R-squared là 0.993 hay 99.3%; hoặc có thể sử dụng câu lệnh dưới đây:"
   ]
  },
  {
   "cell_type": "code",
   "execution_count": 15,
   "metadata": {},
   "outputs": [
    {
     "name": "stdout",
     "output_type": "stream",
     "text": [
      "Hệ số xác định mô hình:  0.993483146278687\n"
     ]
    }
   ],
   "source": [
    "print('Hệ số xác định mô hình: ', model.rsquared)"
   ]
  },
  {
   "cell_type": "markdown",
   "metadata": {},
   "source": [
    "__Nhận xét__ mô hình đã xây dựng trong ví dụ này khá tốt (giá trị gần 100%)"
   ]
  },
  {
   "cell_type": "markdown",
   "metadata": {},
   "source": [
    "# DỰ BÁO"
   ]
  },
  {
   "cell_type": "markdown",
   "metadata": {},
   "source": [
    "Nếu mô hình hồi quy xây dựng được là tốt, thì ta có thể sử dụng mô hình đó để dự đoán giá trị của cân nặng(y) dựa vào chiều cao(x).\n",
    "\n",
    "Giả sử một người có chiều cao là 178(cm) thì áp dụng mô hình ta có thể dự đoán được cân nặng của người đó là:"
   ]
  },
  {
   "cell_type": "code",
   "execution_count": 16,
   "metadata": {},
   "outputs": [
    {
     "name": "stdout",
     "output_type": "stream",
     "text": [
      "Cân nặng:  65.8141\n"
     ]
    }
   ],
   "source": [
    "# C1: Sử dụng mô hình đã xây dựng: y = -34.5423 + 0.5638x\n",
    "print('Cân nặng: ', -34.5423 + 0.5638*178)"
   ]
  },
  {
   "cell_type": "code",
   "execution_count": 17,
   "metadata": {},
   "outputs": [
    {
     "data": {
      "text/plain": [
       "0    65.816838\n",
       "dtype: float64"
      ]
     },
     "execution_count": 17,
     "metadata": {},
     "output_type": "execute_result"
    }
   ],
   "source": [
    "# Sử dụng thư viện\n",
    "model.predict(exog=dict(x=178))"
   ]
  },
  {
   "cell_type": "code",
   "execution_count": 18,
   "metadata": {},
   "outputs": [
    {
     "data": {
      "text/plain": [
       "0    65.816838\n",
       "1    66.944469\n",
       "2    67.508285\n",
       "dtype: float64"
      ]
     },
     "execution_count": 18,
     "metadata": {},
     "output_type": "execute_result"
    }
   ],
   "source": [
    "# Dự đoán cân nặng của 3 người có chiều cao là 178cm, 180cm, 181cm\n",
    "model.predict(exog=dict(x = [178, 180, 181]))"
   ]
  },
  {
   "cell_type": "markdown",
   "metadata": {},
   "source": [
    "# NHẬN XÉT\n",
    "\n",
    "Mô hình hồi quy tuyến tính là mô hình đơn giản, dễ xây dựng. Tuy nhiên, nhược điểm của mô hình này là rất dễ nhạy cảm với nhiễu. Vì vậy, trong trường hợp dữ liệu có nhiều điểm dữ liệu nhiễu cần cân nhắc khi áp dụng."
   ]
  },
  {
   "cell_type": "markdown",
   "metadata": {},
   "source": [
    "---"
   ]
  }
 ],
 "metadata": {
  "kernelspec": {
   "display_name": "Python 3",
   "language": "python",
   "name": "python3"
  },
  "language_info": {
   "codemirror_mode": {
    "name": "ipython",
    "version": 3
   },
   "file_extension": ".py",
   "mimetype": "text/x-python",
   "name": "python",
   "nbconvert_exporter": "python",
   "pygments_lexer": "ipython3",
   "version": "3.12.5"
  }
 },
 "nbformat": 4,
 "nbformat_minor": 4
}
