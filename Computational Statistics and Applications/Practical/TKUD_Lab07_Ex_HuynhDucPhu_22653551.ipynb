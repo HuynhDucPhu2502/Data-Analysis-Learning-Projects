{
 "cells": [
  {
   "cell_type": "code",
   "execution_count": 42,
   "metadata": {},
   "outputs": [],
   "source": [
    "import numpy as np\n",
    "import scipy.stats as st\n",
    "import math\n",
    "from scipy.stats import norm\n",
    "import pandas as pd"
   ]
  },
  {
   "cell_type": "markdown",
   "metadata": {},
   "source": [
    "# Lab 07 - Bài tập"
   ]
  },
  {
   "cell_type": "markdown",
   "metadata": {},
   "source": [
    "## Luyện tập"
   ]
  },
  {
   "cell_type": "markdown",
   "metadata": {},
   "source": [
    "### Bài 1\n",
    "\n",
    "Trong thập niên 80, trọng lượng trung bình của thanh niên là 48 kg. Nay để xác định lại trọng lượng ấy, người ta chọn ngẫu nhiên 100 thanh niên đo trọng lượng trung bình là 50 kg và phương sai mẫu $s^2 = (10 kg)^2$. Thử xem trọng lượng thanh niên hiện nay phải chăng có thay đổi, với mức ý nghĩa là 1%?\n",
    "\n",
    "   _Đáp án. Trọng lượng thanh niên hiện nay không thay đổi so với trước kia._"
   ]
  },
  {
   "cell_type": "markdown",
   "metadata": {},
   "source": [
    "**B1** Xây dựng giả thuyết kiểm định\n",
    "\n",
    "$$H_o: u = 0.48$$\n",
    "\n",
    "$$H_a: u \\neq 0.48  $$"
   ]
  },
  {
   "cell_type": "markdown",
   "metadata": {},
   "source": [
    "**B2** Mức ý nghĩa của kiểm định $\\alpha=0.05$"
   ]
  },
  {
   "cell_type": "markdown",
   "metadata": {},
   "source": [
    "**B3** Tính giá trị kiểm định từ mẫu\n"
   ]
  },
  {
   "cell_type": "code",
   "execution_count": 43,
   "metadata": {},
   "outputs": [
    {
     "name": "stdout",
     "output_type": "stream",
     "text": [
      "- Trị kiểm định:  2.0\n"
     ]
    }
   ],
   "source": [
    "tb = 50\n",
    "mu = 48\n",
    "dlc = np.sqrt(100)\n",
    "n = 100\n",
    "\n",
    "trikiemdinh = ((tb - mu) / (dlc / np.sqrt(n))).round(4)\n",
    "print('- Trị kiểm định: ', trikiemdinh)"
   ]
  },
  {
   "cell_type": "markdown",
   "metadata": {},
   "source": [
    "**B4** Xác định `p-value` hoặc `miền bác  bỏ` (critical region) của kiểm định\n",
    "\n",
    "- Trường hợp xác định miền bác bỏ\n",
    "\n",
    "$$\\{ t: |t| > t^{n-1}_{\\alpha/2} \\}$$\n",
    "\n",
    "$$\\{ t: |t| > 2.6264 \\}$$ "
   ]
  },
  {
   "cell_type": "code",
   "execution_count": 44,
   "metadata": {},
   "outputs": [
    {
     "data": {
      "text/plain": [
       "np.float64(2.6264)"
      ]
     },
     "execution_count": 44,
     "metadata": {},
     "output_type": "execute_result"
    }
   ],
   "source": [
    "alpha = 0.01\n",
    "st.t.isf(alpha/2, n-1).round(4)"
   ]
  },
  {
   "cell_type": "code",
   "execution_count": 45,
   "metadata": {},
   "outputs": [
    {
     "name": "stdout",
     "output_type": "stream",
     "text": [
      "- p-value:  0.04823969337263297\n"
     ]
    }
   ],
   "source": [
    "p_value = 2 * st.t.sf(abs(trikiemdinh), df=n-1)\n",
    "print('- p-value: ', p_value)"
   ]
  },
  {
   "cell_type": "markdown",
   "metadata": {},
   "source": [
    "**B5** Đưa ra quyết định về giả thuyết vô hiệu. Rút ra kết luận chung\n",
    "\n",
    "- Chưa đủ cơ sở để bác bỏ giả thuyết $H_0$\n",
    "- Vậy báo cáo trên có thể chấp nhận được.\n",
    "- Trọng lượng thanh niên hiện nay không thay đổi so với trước kia._"
   ]
  },
  {
   "cell_type": "markdown",
   "metadata": {},
   "source": [
    "### Bài 2\n",
    "\n",
    "Một cửa hàng thực phẩm nhận thấy thời gian vừa qua trung bình một khách hàng mua 25 ngàn đồng thực phẩm trong ngày. Nay cửa hàng chọn ngẫu nhiên 15 khách hàng thấy trung bình một khách hàng mua 24 ngàn đồng trong ngày và phương sai mẫu là $s^2$ =  (2 ngàn đồng $)^2$\n",
    "\n",
    "   Với mức ý nghĩa là 5%, kiểm định xem có phải sức mua của khách hàng hiện nay thực sự giảm sút hay không. Biết rằng sức mua của khách hàng có phân phối chuẩn.\n",
    "\n",
    "   _Đáp án. Sức mua của khách hàng hiện nay thực sự giảm sút_"
   ]
  },
  {
   "cell_type": "markdown",
   "metadata": {},
   "source": [
    "**B1** Xây dựng giả thuyết kiểm định\n",
    "\n",
    "$$H_o: u >= 25$$\n",
    "\n",
    "$$H_a: u < 25  $$\n",
    "\n",
    "\n"
   ]
  },
  {
   "cell_type": "markdown",
   "metadata": {},
   "source": [
    "**B2** Mức ý nghĩa của kiểm định $\\alpha=0.05$"
   ]
  },
  {
   "cell_type": "markdown",
   "metadata": {},
   "source": [
    "**B3** Tính giá trị kiểm định từ mẫu\n"
   ]
  },
  {
   "cell_type": "code",
   "execution_count": 46,
   "metadata": {},
   "outputs": [
    {
     "name": "stdout",
     "output_type": "stream",
     "text": [
      "- Trị kiểm định:  -1.9365\n"
     ]
    }
   ],
   "source": [
    "tb = 24\n",
    "mu = 25\n",
    "dlc = 2\n",
    "n = 15\n",
    "\n",
    "trikiemdinh = ((tb - mu) / (dlc / np.sqrt(n))).round(4)\n",
    "print('- Trị kiểm định: ', trikiemdinh)"
   ]
  },
  {
   "cell_type": "markdown",
   "metadata": {},
   "source": [
    "**B4** Xác định `p-value` hoặc `miền bác  bỏ` (critical region) của kiểm định\n"
   ]
  },
  {
   "cell_type": "code",
   "execution_count": 47,
   "metadata": {},
   "outputs": [
    {
     "name": "stdout",
     "output_type": "stream",
     "text": [
      "- p-value:  0.03662867140136561\n"
     ]
    }
   ],
   "source": [
    "p_value = st.t.cdf(trikiemdinh, df=n-1)\n",
    "print('- p-value: ', p_value)"
   ]
  },
  {
   "cell_type": "markdown",
   "metadata": {},
   "source": [
    "**B5** Đưa ra quyết định về giả thuyết vô hiệu. Rút ra kết luận chung\n",
    "\n",
    "- p-value <= 0.05\n",
    "- Bác bỏ giả thuyết H0\n",
    "- Sức mua thực sự giảm sút"
   ]
  },
  {
   "cell_type": "markdown",
   "metadata": {},
   "source": [
    "### Bài 3\n",
    "\n",
    "Một máy sản suất tự động, lúc đầu tỷ lệ sản phẩm loại A là 20%. Sau khi áp dụng một phương pháp cải tiến sản xuất mới, người ta lấy 40 mẫu, mỗi mẫu gồm 10 sản phẩm đề kiểm tra. Kết quả kiểm tra cho ở bảng sau:\n",
    "\n",
    "| **Số sản phẩm loại A** |  1   |  2   |  3   |  4   |  5   |  6   |  7   |  8   |  9   |  10  |\n",
    "| ---------------------- | :--: | :--: | :--: | :--: | :--: | :--: | :--: | :--: | :--: | :--: |\n",
    "| **Số mẫu**             |  2   |  0   |  4   |  6   |  8   |  10  |  4   |  5   |  1   |  0   |\n",
    "\n",
    " Với mức ý nghĩa 5%. Hãy cho kết luận về phương pháp sản suất này. \n",
    "\n",
    " _Đáp án.Phương pháp cải tiến sản xuất mới thay đổi tỉ lệ sản phẩm loại A_"
   ]
  },
  {
   "cell_type": "code",
   "execution_count": 48,
   "metadata": {},
   "outputs": [
    {
     "name": "stdout",
     "output_type": "stream",
     "text": [
      "- Tỷ lệ mẫu (p̂): 0.5375\n",
      "- Trị kiểm định Z: 2.6682\n",
      "- p-value: 0.0076\n",
      "Bác bỏ giả thuyết H0: Phương pháp cải tiến sản xuất mới thay đổi tỷ lệ sản phẩm loại A.\n"
     ]
    }
   ],
   "source": [
    "# Dữ liệu\n",
    "x = np.array([1, 2, 3, 4, 5, 6, 7, 8, 9, 10])  # Số sản phẩm loại A\n",
    "f = np.array([2, 0, 4, 6, 8, 10, 4, 5, 1, 0])   # Số mẫu tương ứng\n",
    "N = 40                                         # Tổng số mẫu\n",
    "n = 10                                         # Số sản phẩm mỗi mẫu\n",
    "p0 = 0.2                                       # Tỷ lệ ban đầu\n",
    "\n",
    "# Tổng số sản phẩm loại A\n",
    "total_A = np.sum(x * f)\n",
    "\n",
    "# Tỷ lệ mẫu (trung bình mẫu)\n",
    "p_hat = total_A / (N * n)\n",
    "\n",
    "# Trị kiểm định Z\n",
    "z = (p_hat - p0) / np.sqrt((p0 * (1 - p0)) / n)\n",
    "\n",
    "# Tính p-value (hai phía)\n",
    "p_value = 2 * norm.sf(abs(z))\n",
    "\n",
    "print(f\"- Tỷ lệ mẫu (p̂): {p_hat:.4f}\")\n",
    "print(f\"- Trị kiểm định Z: {z:.4f}\")\n",
    "print(f\"- p-value: {p_value:.4f}\")\n",
    "\n",
    "# Đưa ra kết luận\n",
    "alpha = 0.05\n",
    "if p_value <= alpha:\n",
    "    print(\"Bác bỏ giả thuyết H0: Phương pháp cải tiến sản xuất mới thay đổi tỷ lệ sản phẩm loại A.\")\n",
    "else:\n",
    "    print(\"Không bác bỏ giả thuyết H0: Phương pháp cải tiến sản xuất mới không thay đổi tỷ lệ sản phẩm loại A.\")\n"
   ]
  },
  {
   "cell_type": "markdown",
   "metadata": {},
   "source": [
    "### Bài 4\n",
    "\n",
    "Tỷ lệ phế phẩm của một nhà máy trước đây là 5%. Năm nay nhà máy áp dụng một biện pháp kỹ thuật mới. Để nghiên cứu tác dụng của biện pháp kỹ thuật mới, người ta lấy một mẫu gồm 800 sản phẩm để kiểm tra và thấy có 24 phế phẩm.\n",
    "\n",
    "a. Với α = 0.01. Hãy cho kết luận về biện pháp kỹ thuật mới này?\n",
    "\n",
    "b. Nếu nhà máy báo cáo tỷ lệ phế phẩm sau khi áp dụng biện pháp kỹ thuật mới là\n",
    "2% thì có chấp nhận được không? (α = 0.01).\n",
    "\n",
    "_Đáp án. (a) Biện pháp kĩ thuật mới làm thay đổi tỉ lệ phế phẩm (b) Nhà máy báo cáo tỷ lệ phế phẩm là chấp nhận được._"
   ]
  },
  {
   "cell_type": "code",
   "execution_count": 49,
   "metadata": {},
   "outputs": [
    {
     "name": "stdout",
     "output_type": "stream",
     "text": [
      "(a) Tỷ lệ mẫu (p̂): 0.0300\n",
      "(a) Trị kiểm định Z: -2.5955\n",
      "(a) p-value: 0.0094\n",
      "(a) Bác bỏ giả thuyết H0: Biện pháp kỹ thuật mới làm thay đổi tỷ lệ phế phẩm.\n"
     ]
    }
   ],
   "source": [
    "# Dữ liệu\n",
    "p0 = 0.05         # Tỷ lệ phế phẩm trước đây\n",
    "x = 24            # Số phế phẩm\n",
    "n = 800           # Cỡ mẫu\n",
    "alpha = 0.01      # Mức ý nghĩa\n",
    "\n",
    "# Tỷ lệ mẫu\n",
    "p_hat = x / n\n",
    "\n",
    "# Tính trị kiểm định Z\n",
    "z = (p_hat - p0) / np.sqrt((p0 * (1 - p0)) / n)\n",
    "\n",
    "# Tính p-value (hai phía)\n",
    "p_value = 2 * norm.sf(abs(z))\n",
    "\n",
    "print(f\"(a) Tỷ lệ mẫu (p̂): {p_hat:.4f}\")\n",
    "print(f\"(a) Trị kiểm định Z: {z:.4f}\")\n",
    "print(f\"(a) p-value: {p_value:.4f}\")\n",
    "\n",
    "# Đưa ra kết luận\n",
    "if p_value <= alpha:\n",
    "    print(\"(a) Bác bỏ giả thuyết H0: Biện pháp kỹ thuật mới làm thay đổi tỷ lệ phế phẩm.\")\n",
    "else:\n",
    "    print(\"(a) Không bác bỏ giả thuyết H0: Biện pháp kỹ thuật mới không làm thay đổi tỷ lệ phế phẩm.\")\n"
   ]
  },
  {
   "cell_type": "code",
   "execution_count": 50,
   "metadata": {},
   "outputs": [
    {
     "name": "stdout",
     "output_type": "stream",
     "text": [
      "(b) Trị kiểm định Z: 2.0203\n",
      "(b) p-value: 0.0434\n",
      "(b) Không bác bỏ giả thuyết H0: Nhà máy báo cáo tỷ lệ phế phẩm là chấp nhận được.\n"
     ]
    }
   ],
   "source": [
    "# Dữ liệu cho phần b\n",
    "p0_b = 0.02       # Tỷ lệ phế phẩm mới theo báo cáo\n",
    "\n",
    "# Tính trị kiểm định Z\n",
    "z_b = (p_hat - p0_b) / np.sqrt((p0_b * (1 - p0_b)) / n)\n",
    "\n",
    "# Tính p-value (hai phía)\n",
    "p_value_b = 2 * norm.sf(abs(z_b))\n",
    "\n",
    "print(f\"(b) Trị kiểm định Z: {z_b:.4f}\")\n",
    "print(f\"(b) p-value: {p_value_b:.4f}\")\n",
    "\n",
    "# Đưa ra kết luận\n",
    "if p_value_b <= alpha:\n",
    "    print(\"(b) Bác bỏ giả thuyết H0: Nhà máy báo cáo tỷ lệ phế phẩm không chấp nhận được.\")\n",
    "else:\n",
    "    print(\"(b) Không bác bỏ giả thuyết H0: Nhà máy báo cáo tỷ lệ phế phẩm là chấp nhận được.\")\n"
   ]
  },
  {
   "cell_type": "markdown",
   "metadata": {},
   "source": [
    "## Kiểm định đặc trưng tỉ lệ (p)"
   ]
  },
  {
   "cell_type": "markdown",
   "metadata": {},
   "source": [
    "### Bài 5\n",
    "\n",
    "Dataset 18 (__M&M__) chứa thông tin trọng lượng và màu sắc của mẫu các viên kẹo của hãng M&M. \n",
    "\n",
    "Sử dụng mẫu trên bạn hãy kiểm tra phát biểu sau: __\"20% kẹo M&M có màu đỏ\"__ với mức ý nghĩa là 5%\n",
    "\n",
    "*Hướng dẫn: tính tỷ lệ các viên kẹo có màu đỏ từ dữ liệu, sử dụng kết quả để kiểm định phát biểu trên*"
   ]
  },
  {
   "cell_type": "code",
   "execution_count": 51,
   "metadata": {},
   "outputs": [
    {
     "data": {
      "text/html": [
       "<div>\n",
       "<style scoped>\n",
       "    .dataframe tbody tr th:only-of-type {\n",
       "        vertical-align: middle;\n",
       "    }\n",
       "\n",
       "    .dataframe tbody tr th {\n",
       "        vertical-align: top;\n",
       "    }\n",
       "\n",
       "    .dataframe thead th {\n",
       "        text-align: right;\n",
       "    }\n",
       "</style>\n",
       "<table border=\"1\" class=\"dataframe\">\n",
       "  <thead>\n",
       "    <tr style=\"text-align: right;\">\n",
       "      <th></th>\n",
       "      <th>Red</th>\n",
       "      <th>Orange</th>\n",
       "      <th>Yellow</th>\n",
       "      <th>Brown</th>\n",
       "      <th>Blue</th>\n",
       "      <th>Green</th>\n",
       "    </tr>\n",
       "  </thead>\n",
       "  <tbody>\n",
       "    <tr>\n",
       "      <th>0</th>\n",
       "      <td>0.751</td>\n",
       "      <td>0.735</td>\n",
       "      <td>0.883</td>\n",
       "      <td>0.696</td>\n",
       "      <td>0.881</td>\n",
       "      <td>0.925</td>\n",
       "    </tr>\n",
       "    <tr>\n",
       "      <th>1</th>\n",
       "      <td>0.841</td>\n",
       "      <td>0.895</td>\n",
       "      <td>0.769</td>\n",
       "      <td>0.876</td>\n",
       "      <td>0.863</td>\n",
       "      <td>0.914</td>\n",
       "    </tr>\n",
       "    <tr>\n",
       "      <th>2</th>\n",
       "      <td>0.856</td>\n",
       "      <td>0.865</td>\n",
       "      <td>0.859</td>\n",
       "      <td>0.855</td>\n",
       "      <td>0.775</td>\n",
       "      <td>0.881</td>\n",
       "    </tr>\n",
       "    <tr>\n",
       "      <th>3</th>\n",
       "      <td>0.799</td>\n",
       "      <td>0.864</td>\n",
       "      <td>0.784</td>\n",
       "      <td>0.806</td>\n",
       "      <td>0.854</td>\n",
       "      <td>0.865</td>\n",
       "    </tr>\n",
       "    <tr>\n",
       "      <th>4</th>\n",
       "      <td>0.966</td>\n",
       "      <td>0.852</td>\n",
       "      <td>0.824</td>\n",
       "      <td>0.840</td>\n",
       "      <td>0.810</td>\n",
       "      <td>0.865</td>\n",
       "    </tr>\n",
       "  </tbody>\n",
       "</table>\n",
       "</div>"
      ],
      "text/plain": [
       "     Red  Orange  Yellow  Brown   Blue  Green\n",
       "0  0.751   0.735   0.883  0.696  0.881  0.925\n",
       "1  0.841   0.895   0.769  0.876  0.863  0.914\n",
       "2  0.856   0.865   0.859  0.855  0.775  0.881\n",
       "3  0.799   0.864   0.784  0.806  0.854  0.865\n",
       "4  0.966   0.852   0.824  0.840  0.810  0.865"
      ]
     },
     "execution_count": 51,
     "metadata": {},
     "output_type": "execute_result"
    }
   ],
   "source": [
    "# Bước 1: Đọc file CSV\n",
    "df = pd.read_csv(\"data/18_M_M.csv\")\n",
    "\n",
    "df.head()"
   ]
  },
  {
   "cell_type": "code",
   "execution_count": 52,
   "metadata": {},
   "outputs": [
    {
     "name": "stdout",
     "output_type": "stream",
     "text": [
      "Dữ liệu mẫu:\n",
      "     Red  Orange  Yellow  Brown   Blue  Green\n",
      "0  0.751   0.735   0.883  0.696  0.881  0.925\n",
      "1  0.841   0.895   0.769  0.876  0.863  0.914\n",
      "2  0.856   0.865   0.859  0.855  0.775  0.881\n",
      "3  0.799   0.864   0.784  0.806  0.854  0.865\n",
      "4  0.966   0.852   0.824  0.840  0.810  0.865\n",
      "\n",
      "Bước 3: Thiết lập giả thuyết\n",
      "H0: Tỷ lệ kẹo màu đỏ là 20.0%\n",
      "H1: Tỷ lệ kẹo màu đỏ khác 20.0%\n",
      "\n",
      "Bước 4: Tỷ lệ trung bình mẫu (p̂): 0.8635\n",
      "Bước 5: Trị kiểm định Z: 8.6196\n",
      "Bước 6: p-value: 0.0000\n",
      "\n",
      "Bước 7: Kết luận\n",
      "Bác bỏ giả thuyết H0: Tỷ lệ kẹo M&M màu đỏ không phải là 20%.\n",
      "Kết luận: Tỷ lệ kẹo M&M màu đỏ đã thay đổi.\n"
     ]
    }
   ],
   "source": [
    "# Bước 1: Đọc file CSV\n",
    "df = pd.read_csv(\"data/18_M_M.csv\")\n",
    "\n",
    "# Bước 2: Hiển thị một vài dòng đầu tiên của dữ liệu\n",
    "print(\"Dữ liệu mẫu:\")\n",
    "print(df.head())\n",
    "\n",
    "# Bước 3: Thiết lập giả thuyết\n",
    "p0 = 0.2      # Tỷ lệ giả thuyết (20% kẹo có màu đỏ)\n",
    "alpha = 0.05  # Mức ý nghĩa (5%)\n",
    "\n",
    "print(\"\\nBước 3: Thiết lập giả thuyết\")\n",
    "print(f\"H0: Tỷ lệ kẹo màu đỏ là {p0*100}%\")\n",
    "print(f\"H1: Tỷ lệ kẹo màu đỏ khác {p0*100}%\")\n",
    "\n",
    "# Bước 4: Tính tỷ lệ trung bình mẫu (p̂)\n",
    "p_hat = df['Red'].mean()\n",
    "n = len(df)  # Số lượng mẫu\n",
    "\n",
    "print(f\"\\nBước 4: Tỷ lệ trung bình mẫu (p̂): {p_hat:.4f}\")\n",
    "\n",
    "# Bước 5: Tính trị kiểm định Z\n",
    "z = (p_hat - p0) / np.sqrt((p0 * (1 - p0)) / n)\n",
    "\n",
    "print(f\"Bước 5: Trị kiểm định Z: {z:.4f}\")\n",
    "\n",
    "# Bước 6: Tính p-value (kiểm định hai phía)\n",
    "p_value = 2 * norm.sf(abs(z))\n",
    "\n",
    "print(f\"Bước 6: p-value: {p_value:.4f}\")\n",
    "\n",
    "# Bước 7: Đưa ra kết luận\n",
    "print(\"\\nBước 7: Kết luận\")\n",
    "if p_value <= alpha:\n",
    "    print(\"Bác bỏ giả thuyết H0: Tỷ lệ kẹo M&M màu đỏ không phải là 20%.\")\n",
    "    print(\"Kết luận: Tỷ lệ kẹo M&M màu đỏ đã thay đổi.\")\n",
    "else:\n",
    "    print(\"Không bác bỏ giả thuyết H0: Tỷ lệ kẹo M&M màu đỏ là 20%.\")\n",
    "    print(\"Kết luận: Phát biểu '20% kẹo M&M có màu đỏ' là chấp nhận được.\")"
   ]
  },
  {
   "cell_type": "markdown",
   "metadata": {},
   "source": [
    "### Bài 6\n",
    "\n",
    "Dataset 3 (__FRESH15__) chứa thông tin khảo sát những thay đổi về trọng lượng (weight - WT) và chỉ số khối của cơ thể (BMI) của sinh viên năm nhất tại một trường Đại Học. Thời điểm khảo sát là bắt đầu học kỳ (tháng 9 - SEP) và kết thúc học kỳ (tháng 4 - APR), các sinh viên được chọn ngẫu nhiên trong trường.\n",
    "\n",
    "Sử dụng mẫu trên, hãy kiểm tra phát biểu:__\"50% số sinh viên trong trường là nam\"__ với mức ý nghĩa 50%\n",
    "\n",
    "Các thuộc tính trong bộ dữ liệu:\n",
    "- SEX: Giới tính\n",
    "- WTSEP: trọng lượng đo vào tháng 9 (mới nhập học)\n",
    "- WTAPR: trọng lượng đo vào tháng 4 (kết thúc năm học)\n",
    "- BMISP: BMI tháng 9\n",
    "- BMIAP: BMI tháng 4"
   ]
  },
  {
   "cell_type": "code",
   "execution_count": 53,
   "metadata": {},
   "outputs": [
    {
     "data": {
      "text/html": [
       "<div>\n",
       "<style scoped>\n",
       "    .dataframe tbody tr th:only-of-type {\n",
       "        vertical-align: middle;\n",
       "    }\n",
       "\n",
       "    .dataframe tbody tr th {\n",
       "        vertical-align: top;\n",
       "    }\n",
       "\n",
       "    .dataframe thead th {\n",
       "        text-align: right;\n",
       "    }\n",
       "</style>\n",
       "<table border=\"1\" class=\"dataframe\">\n",
       "  <thead>\n",
       "    <tr style=\"text-align: right;\">\n",
       "      <th></th>\n",
       "      <th>SEX</th>\n",
       "      <th>WTSEP</th>\n",
       "      <th>WTAPR</th>\n",
       "      <th>BMISP</th>\n",
       "      <th>BMIAP</th>\n",
       "    </tr>\n",
       "  </thead>\n",
       "  <tbody>\n",
       "    <tr>\n",
       "      <th>0</th>\n",
       "      <td>M</td>\n",
       "      <td>72</td>\n",
       "      <td>59</td>\n",
       "      <td>22.02</td>\n",
       "      <td>18.14</td>\n",
       "    </tr>\n",
       "    <tr>\n",
       "      <th>1</th>\n",
       "      <td>M</td>\n",
       "      <td>97</td>\n",
       "      <td>86</td>\n",
       "      <td>19.70</td>\n",
       "      <td>17.44</td>\n",
       "    </tr>\n",
       "    <tr>\n",
       "      <th>2</th>\n",
       "      <td>M</td>\n",
       "      <td>74</td>\n",
       "      <td>69</td>\n",
       "      <td>24.09</td>\n",
       "      <td>22.43</td>\n",
       "    </tr>\n",
       "    <tr>\n",
       "      <th>3</th>\n",
       "      <td>M</td>\n",
       "      <td>93</td>\n",
       "      <td>88</td>\n",
       "      <td>26.97</td>\n",
       "      <td>25.57</td>\n",
       "    </tr>\n",
       "    <tr>\n",
       "      <th>4</th>\n",
       "      <td>F</td>\n",
       "      <td>68</td>\n",
       "      <td>64</td>\n",
       "      <td>21.51</td>\n",
       "      <td>20.10</td>\n",
       "    </tr>\n",
       "  </tbody>\n",
       "</table>\n",
       "</div>"
      ],
      "text/plain": [
       "  SEX  WTSEP  WTAPR  BMISP  BMIAP\n",
       "0   M     72     59  22.02  18.14\n",
       "1   M     97     86  19.70  17.44\n",
       "2   M     74     69  24.09  22.43\n",
       "3   M     93     88  26.97  25.57\n",
       "4   F     68     64  21.51  20.10"
      ]
     },
     "execution_count": 53,
     "metadata": {},
     "output_type": "execute_result"
    }
   ],
   "source": [
    "# Bước 1: Đọc file CSV\n",
    "df = pd.read_csv(\"data/FRESH15.csv\")\n",
    "\n",
    "df.head()"
   ]
  },
  {
   "cell_type": "code",
   "execution_count": 54,
   "metadata": {},
   "outputs": [
    {
     "name": "stdout",
     "output_type": "stream",
     "text": [
      "Dữ liệu mẫu:\n",
      "  SEX  WTSEP  WTAPR  BMISP  BMIAP\n",
      "0   M     72     59  22.02  18.14\n",
      "1   M     97     86  19.70  17.44\n",
      "2   M     74     69  24.09  22.43\n",
      "3   M     93     88  26.97  25.57\n",
      "4   F     68     64  21.51  20.10\n",
      "\n",
      "Bước 3: Thiết lập giả thuyết\n",
      "H0: Tỷ lệ sinh viên nam là 50.0%\n",
      "H1: Tỷ lệ sinh viên nam khác 50.0%\n",
      "\n",
      "Bước 4: Tỷ lệ sinh viên nam (p̂): 0.4776\n",
      "Số lượng sinh viên nam: 32\n",
      "Tổng số sinh viên: 67\n",
      "\n",
      "Bước 5: Trị kiểm định Z: -0.3665\n",
      "Bước 6: p-value: 0.7140\n",
      "\n",
      "Bước 7: Kết luận\n",
      "Không bác bỏ giả thuyết H0: Tỷ lệ sinh viên nam là 50%.\n",
      "Kết luận: Phát biểu '50% số sinh viên trong trường là nam' là chấp nhận được.\n"
     ]
    }
   ],
   "source": [
    "# Bước 2: Hiển thị một vài dòng đầu tiên của dữ liệu\n",
    "print(\"Dữ liệu mẫu:\")\n",
    "print(df.head())\n",
    "\n",
    "# Bước 3: Thiết lập giả thuyết\n",
    "p0 = 0.5      # Tỷ lệ giả thuyết (50% sinh viên là nam)\n",
    "alpha = 0.05  # Mức ý nghĩa (5%)\n",
    "\n",
    "print(\"\\nBước 3: Thiết lập giả thuyết\")\n",
    "print(f\"H0: Tỷ lệ sinh viên nam là {p0*100}%\")\n",
    "print(f\"H1: Tỷ lệ sinh viên nam khác {p0*100}%\")\n",
    "\n",
    "# Bước 4: Tính tỷ lệ trung bình mẫu (p̂)\n",
    "n = len(df)  # Tổng số sinh viên\n",
    "male_count = (df['SEX'] == 'M').sum()  # Số lượng sinh viên nam\n",
    "p_hat = male_count / n\n",
    "\n",
    "print(f\"\\nBước 4: Tỷ lệ sinh viên nam (p̂): {p_hat:.4f}\")\n",
    "print(f\"Số lượng sinh viên nam: {male_count}\")\n",
    "print(f\"Tổng số sinh viên: {n}\")\n",
    "\n",
    "# Bước 5: Tính trị kiểm định Z\n",
    "z = (p_hat - p0) / np.sqrt((p0 * (1 - p0)) / n)\n",
    "print(f\"\\nBước 5: Trị kiểm định Z: {z:.4f}\")\n",
    "\n",
    "# Bước 6: Tính p-value (kiểm định hai phía)\n",
    "p_value = 2 * norm.sf(abs(z))\n",
    "print(f\"Bước 6: p-value: {p_value:.4f}\")\n",
    "\n",
    "# Bước 7: Đưa ra kết luận\n",
    "print(\"\\nBước 7: Kết luận\")\n",
    "if p_value <= alpha:\n",
    "    print(\"Bác bỏ giả thuyết H0: Tỷ lệ sinh viên nam không phải là 50%.\")\n",
    "    print(\"Kết luận: Tỷ lệ sinh viên nam đã thay đổi.\")\n",
    "else:\n",
    "    print(\"Không bác bỏ giả thuyết H0: Tỷ lệ sinh viên nam là 50%.\")\n",
    "    print(\"Kết luận: Phát biểu '50% số sinh viên trong trường là nam' là chấp nhận được.\")"
   ]
  },
  {
   "cell_type": "markdown",
   "metadata": {},
   "source": [
    "## Kiểm định đặc trưng kỳ vọng ($\\mu$) biết ($\\sigma$)"
   ]
  },
  {
   "cell_type": "markdown",
   "metadata": {},
   "source": [
    "### Bài 7\n",
    "\n",
    "Dataset 13 __(VOLTAGE)__ liệt kê các mức điện áp được đo tại các hộ gia đình bởi các máy đo khác nhau: tại nhà (HOME), tại máy phát độc lập (Generator), tại trạm phát (UPS).\n",
    "\n",
    "Công ty cung cấp điện cho vùng này cam kết rằng: __\"Mục tiêu cung cấp điện cho mỗi hộ gia đình là 120V\"__ . Biết rằng độ lệch chuẩn của tất cả các mức điện áp đo được là 0.24V.\n",
    "\n",
    "Với mức ý nghĩa 1%. Bạn hãy kiểm tra xem công ty có làm đúng cam kết hay không?"
   ]
  },
  {
   "cell_type": "code",
   "execution_count": 55,
   "metadata": {},
   "outputs": [
    {
     "data": {
      "text/html": [
       "<div>\n",
       "<style scoped>\n",
       "    .dataframe tbody tr th:only-of-type {\n",
       "        vertical-align: middle;\n",
       "    }\n",
       "\n",
       "    .dataframe tbody tr th {\n",
       "        vertical-align: top;\n",
       "    }\n",
       "\n",
       "    .dataframe thead th {\n",
       "        text-align: right;\n",
       "    }\n",
       "</style>\n",
       "<table border=\"1\" class=\"dataframe\">\n",
       "  <thead>\n",
       "    <tr style=\"text-align: right;\">\n",
       "      <th></th>\n",
       "      <th>Day</th>\n",
       "      <th>Home</th>\n",
       "      <th>Generator</th>\n",
       "      <th>UPS</th>\n",
       "    </tr>\n",
       "  </thead>\n",
       "  <tbody>\n",
       "    <tr>\n",
       "      <th>0</th>\n",
       "      <td>1</td>\n",
       "      <td>123.8</td>\n",
       "      <td>124.8</td>\n",
       "      <td>123.1</td>\n",
       "    </tr>\n",
       "    <tr>\n",
       "      <th>1</th>\n",
       "      <td>2</td>\n",
       "      <td>123.9</td>\n",
       "      <td>124.3</td>\n",
       "      <td>123.1</td>\n",
       "    </tr>\n",
       "    <tr>\n",
       "      <th>2</th>\n",
       "      <td>3</td>\n",
       "      <td>123.9</td>\n",
       "      <td>125.2</td>\n",
       "      <td>123.6</td>\n",
       "    </tr>\n",
       "    <tr>\n",
       "      <th>3</th>\n",
       "      <td>4</td>\n",
       "      <td>123.3</td>\n",
       "      <td>124.5</td>\n",
       "      <td>123.6</td>\n",
       "    </tr>\n",
       "    <tr>\n",
       "      <th>4</th>\n",
       "      <td>5</td>\n",
       "      <td>123.4</td>\n",
       "      <td>125.1</td>\n",
       "      <td>123.6</td>\n",
       "    </tr>\n",
       "  </tbody>\n",
       "</table>\n",
       "</div>"
      ],
      "text/plain": [
       "   Day   Home  Generator    UPS\n",
       "0    1  123.8      124.8  123.1\n",
       "1    2  123.9      124.3  123.1\n",
       "2    3  123.9      125.2  123.6\n",
       "3    4  123.3      124.5  123.6\n",
       "4    5  123.4      125.1  123.6"
      ]
     },
     "execution_count": 55,
     "metadata": {},
     "output_type": "execute_result"
    }
   ],
   "source": [
    "df = pd.read_csv(\"data/13_VOLTAGE.csv\")\n",
    "df.head()"
   ]
  },
  {
   "cell_type": "code",
   "execution_count": 56,
   "metadata": {},
   "outputs": [
    {
     "name": "stdout",
     "output_type": "stream",
     "text": [
      "\n",
      "Bước 3: Thiết lập giả thuyết\n",
      "H0: Điện áp trung bình là 120V\n",
      "H1: Điện áp trung bình khác 120V\n",
      "\n",
      "Bước 4: Trung bình điện áp tại các vị trí:\n",
      "Home: 123.6625\n",
      "Generator: 124.6625\n",
      "UPS: 123.5875\n",
      "\n",
      "Bước 5: Trị kiểm định Z:\n",
      "Home: 96.5153\n",
      "Generator: 122.8677\n",
      "UPS: 94.5389\n",
      "\n",
      "Bước 6: p-value:\n",
      "Home: 0.0000\n",
      "Generator: 0.0000\n",
      "UPS: 0.0000\n",
      "\n",
      "Bước 7: Kết luận:\n",
      "- Home: Bác bỏ giả thuyết H0 -> Điện áp trung bình KHÔNG phải là 120V.\n",
      "  Kết luận: Công ty KHÔNG làm đúng cam kết tại Home.\n",
      "- Generator: Bác bỏ giả thuyết H0 -> Điện áp trung bình KHÔNG phải là 120V.\n",
      "  Kết luận: Công ty KHÔNG làm đúng cam kết tại Generator.\n",
      "- UPS: Bác bỏ giả thuyết H0 -> Điện áp trung bình KHÔNG phải là 120V.\n",
      "  Kết luận: Công ty KHÔNG làm đúng cam kết tại UPS.\n"
     ]
    }
   ],
   "source": [
    "# Bước 3: Thiết lập giả thuyết\n",
    "mu0 = 120      # Điện áp cam kết\n",
    "sigma = 0.24   # Độ lệch chuẩn\n",
    "alpha = 0.01   # Mức ý nghĩa\n",
    "\n",
    "print(\"\\nBước 3: Thiết lập giả thuyết\")\n",
    "print(f\"H0: Điện áp trung bình là {mu0}V\")\n",
    "print(f\"H1: Điện áp trung bình khác {mu0}V\")\n",
    "\n",
    "# Bước 4: Tính trung bình mẫu (x̄)\n",
    "mean_home = df['Home'].mean()\n",
    "mean_generator = df['Generator'].mean()\n",
    "mean_ups = df['UPS'].mean()\n",
    "\n",
    "print(f\"\\nBước 4: Trung bình điện áp tại các vị trí:\")\n",
    "print(f\"Home: {mean_home:.4f}\")\n",
    "print(f\"Generator: {mean_generator:.4f}\")\n",
    "print(f\"UPS: {mean_ups:.4f}\")\n",
    "\n",
    "# Bước 5: Tính trị kiểm định Z\n",
    "n_home = len(df['Home'])\n",
    "n_generator = len(df['Generator'])\n",
    "n_ups = len(df['UPS'])\n",
    "\n",
    "z_home = (mean_home - mu0) / (sigma / np.sqrt(n_home))\n",
    "z_generator = (mean_generator - mu0) / (sigma / np.sqrt(n_generator))\n",
    "z_ups = (mean_ups - mu0) / (sigma / np.sqrt(n_ups))\n",
    "\n",
    "print(f\"\\nBước 5: Trị kiểm định Z:\")\n",
    "print(f\"Home: {z_home:.4f}\")\n",
    "print(f\"Generator: {z_generator:.4f}\")\n",
    "print(f\"UPS: {z_ups:.4f}\")\n",
    "\n",
    "# Bước 6: Tính p-value (hai phía)\n",
    "p_value_home = 2 * norm.sf(abs(z_home))\n",
    "p_value_generator = 2 * norm.sf(abs(z_generator))\n",
    "p_value_ups = 2 * norm.sf(abs(z_ups))\n",
    "\n",
    "print(f\"\\nBước 6: p-value:\")\n",
    "print(f\"Home: {p_value_home:.4f}\")\n",
    "print(f\"Generator: {p_value_generator:.4f}\")\n",
    "print(f\"UPS: {p_value_ups:.4f}\")\n",
    "\n",
    "# Bước 7: Đưa ra kết luận\n",
    "print(\"\\nBước 7: Kết luận:\")\n",
    "\n",
    "def ket_luan(p_value, alpha, location):\n",
    "    if p_value <= alpha:\n",
    "        print(f\"- {location}: Bác bỏ giả thuyết H0 -> Điện áp trung bình KHÔNG phải là 120V.\")\n",
    "        print(f\"  Kết luận: Công ty KHÔNG làm đúng cam kết tại {location}.\")\n",
    "    else:\n",
    "        print(f\"- {location}: Không bác bỏ giả thuyết H0 -> Điện áp trung bình là 120V.\")\n",
    "        print(f\"  Kết luận: Công ty làm đúng cam kết tại {location}.\")\n",
    "\n",
    "ket_luan(p_value_home, alpha, \"Home\")\n",
    "ket_luan(p_value_generator, alpha, \"Generator\")\n",
    "ket_luan(p_value_ups, alpha, \"UPS\")"
   ]
  },
  {
   "cell_type": "markdown",
   "metadata": {},
   "source": [
    "## Kiểm định đặc trưng kỳ vọng ($\\mu$) không biết ($\\sigma$)"
   ]
  },
  {
   "cell_type": "markdown",
   "metadata": {},
   "source": [
    "### Bài 8\n",
    "\n",
    "Dataset 19(__SCREWS__) chứa thông tin khảo sát chiều dài một số đinh ốc được cung cấp bởi công ty Crown Bolt (đơn vị inches)\n",
    "\n",
    "Trên bao bì của các đinh ốc do công ty sản xuất có ghi chiều dài của các đinh ốc là 3/4 inches. Sử dụng mẫu trên bạn hãy cho biết chiều dài của đinh ốc lấy từ mẫu thu nhận được từ dữ liệu trên có nhất quán với chiều dài ghi trên bao bì hay không? Kiểm định với mức ý nghĩa 5%"
   ]
  },
  {
   "cell_type": "code",
   "execution_count": 57,
   "metadata": {},
   "outputs": [
    {
     "data": {
      "text/html": [
       "<div>\n",
       "<style scoped>\n",
       "    .dataframe tbody tr th:only-of-type {\n",
       "        vertical-align: middle;\n",
       "    }\n",
       "\n",
       "    .dataframe tbody tr th {\n",
       "        vertical-align: top;\n",
       "    }\n",
       "\n",
       "    .dataframe thead th {\n",
       "        text-align: right;\n",
       "    }\n",
       "</style>\n",
       "<table border=\"1\" class=\"dataframe\">\n",
       "  <thead>\n",
       "    <tr style=\"text-align: right;\">\n",
       "      <th></th>\n",
       "      <th>0</th>\n",
       "    </tr>\n",
       "  </thead>\n",
       "  <tbody>\n",
       "    <tr>\n",
       "      <th>0</th>\n",
       "      <td>0.757</td>\n",
       "    </tr>\n",
       "    <tr>\n",
       "      <th>1</th>\n",
       "      <td>0.723</td>\n",
       "    </tr>\n",
       "    <tr>\n",
       "      <th>2</th>\n",
       "      <td>0.754</td>\n",
       "    </tr>\n",
       "    <tr>\n",
       "      <th>3</th>\n",
       "      <td>0.737</td>\n",
       "    </tr>\n",
       "    <tr>\n",
       "      <th>4</th>\n",
       "      <td>0.757</td>\n",
       "    </tr>\n",
       "  </tbody>\n",
       "</table>\n",
       "</div>"
      ],
      "text/plain": [
       "       0\n",
       "0  0.757\n",
       "1  0.723\n",
       "2  0.754\n",
       "3  0.737\n",
       "4  0.757"
      ]
     },
     "execution_count": 57,
     "metadata": {},
     "output_type": "execute_result"
    }
   ],
   "source": [
    "df = pd.read_csv(\"data/19_SCREWS.csv\", header=None)\n",
    "\n",
    "df.head()"
   ]
  },
  {
   "cell_type": "code",
   "execution_count": 60,
   "metadata": {},
   "outputs": [
    {
     "name": "stdout",
     "output_type": "stream",
     "text": [
      "\n",
      "Bước 3: Thiết lập giả thuyết\n",
      "H0: Chiều dài trung bình là 0.75 inches\n",
      "H1: Chiều dài trung bình khác 0.75 inches\n",
      "\n",
      "Bước 4: Trung bình mẫu (x̄): 98.2000\n",
      "Độ lệch chuẩn mẫu (s): 0.6229\n",
      "Số lượng mẫu (n): 106\n",
      "\n",
      "Bước 5: Trị kiểm định t: 1610.7158\n",
      "\n",
      "Bước 6: p-value: 0.0000\n",
      "\n",
      "Bước 7: Kết luận\n",
      "Bác bỏ giả thuyết H0: Chiều dài trung bình của đinh ốc không phải là 0.75 inches.\n",
      "Kết luận: Chiều dài đinh ốc khác 0.75 inches.\n"
     ]
    }
   ],
   "source": [
    "from scipy.stats import t\n",
    "\n",
    "# Bước 3: Thiết lập giả thuyết\n",
    "mu0 = 0.75   # Chiều dài kỳ vọng (3/4 inches)\n",
    "alpha = 0.05 # Mức ý nghĩa (5%)\n",
    "\n",
    "print(\"\\nBước 3: Thiết lập giả thuyết\")\n",
    "print(f\"H0: Chiều dài trung bình là {mu0} inches\")\n",
    "print(f\"H1: Chiều dài trung bình khác {mu0} inches\")\n",
    "\n",
    "# Bước 4: Tính trung bình mẫu (x̄) và độ lệch chuẩn mẫu (s)\n",
    "mean_sample = df[0].mean()\n",
    "std_sample = df[0].std()\n",
    "n = len(df)  # Số lượng mẫu\n",
    "\n",
    "print(f\"\\nBước 4: Trung bình mẫu (x̄): {mean_sample:.4f}\")\n",
    "print(f\"Độ lệch chuẩn mẫu (s): {std_sample:.4f}\")\n",
    "print(f\"Số lượng mẫu (n): {n}\")\n",
    "\n",
    "# Bước 5: Tính trị kiểm định t\n",
    "t_stat = (mean_sample - mu0) / (std_sample / np.sqrt(n))\n",
    "print(f\"\\nBước 5: Trị kiểm định t: {t_stat:.4f}\")\n",
    "\n",
    "# Bước 6: Tính p-value (hai phía)\n",
    "p_value = 2 * t.sf(abs(t_stat), df=n-1)\n",
    "print(f\"\\nBước 6: p-value: {p_value:.4f}\")\n",
    "\n",
    "# Bước 7: Đưa ra kết luận\n",
    "print(\"\\nBước 7: Kết luận\")\n",
    "if p_value <= alpha:\n",
    "    print(\"Bác bỏ giả thuyết H0: Chiều dài trung bình của đinh ốc không phải là 0.75 inches.\")\n",
    "    print(\"Kết luận: Chiều dài đinh ốc khác 0.75 inches.\")\n",
    "else:\n",
    "    print(\"Không bác bỏ giả thuyết H0: Chiều dài trung bình của đinh ốc là 0.75 inches.\")\n",
    "    print(\"Kết luận: Phát biểu 'Chiều dài đinh ốc là 3/4 inches' là chấp nhận được.\")"
   ]
  },
  {
   "cell_type": "markdown",
   "metadata": {},
   "source": [
    "### Bài 9\n",
    "\n",
    "Dataset 2 __(BODYTEMP)__ chứa thông tin khảo sát nhiệt độ cơ thể từ một nhóm người vào cùng một thời điểm lúc 12h trưa.\n",
    "\n",
    "Có một phát biểu nói rằng, nhiệt độ cơ thể người đo lúc 12h trưa trong quần thể này là 98,6°\n",
    "\n",
    "Dựa vào mẫu trên, bạn hãy cho biết phát biểu trên đúng hay sai ở mức ý nghĩa là 5%."
   ]
  },
  {
   "cell_type": "code",
   "execution_count": 58,
   "metadata": {},
   "outputs": [
    {
     "data": {
      "text/html": [
       "<div>\n",
       "<style scoped>\n",
       "    .dataframe tbody tr th:only-of-type {\n",
       "        vertical-align: middle;\n",
       "    }\n",
       "\n",
       "    .dataframe tbody tr th {\n",
       "        vertical-align: top;\n",
       "    }\n",
       "\n",
       "    .dataframe thead th {\n",
       "        text-align: right;\n",
       "    }\n",
       "</style>\n",
       "<table border=\"1\" class=\"dataframe\">\n",
       "  <thead>\n",
       "    <tr style=\"text-align: right;\">\n",
       "      <th></th>\n",
       "      <th>0</th>\n",
       "    </tr>\n",
       "  </thead>\n",
       "  <tbody>\n",
       "    <tr>\n",
       "      <th>0</th>\n",
       "      <td>98.6</td>\n",
       "    </tr>\n",
       "    <tr>\n",
       "      <th>1</th>\n",
       "      <td>98.6</td>\n",
       "    </tr>\n",
       "    <tr>\n",
       "      <th>2</th>\n",
       "      <td>98.0</td>\n",
       "    </tr>\n",
       "    <tr>\n",
       "      <th>3</th>\n",
       "      <td>98.0</td>\n",
       "    </tr>\n",
       "    <tr>\n",
       "      <th>4</th>\n",
       "      <td>99.0</td>\n",
       "    </tr>\n",
       "  </tbody>\n",
       "</table>\n",
       "</div>"
      ],
      "text/plain": [
       "      0\n",
       "0  98.6\n",
       "1  98.6\n",
       "2  98.0\n",
       "3  98.0\n",
       "4  99.0"
      ]
     },
     "execution_count": 58,
     "metadata": {},
     "output_type": "execute_result"
    }
   ],
   "source": [
    "df = pd.read_csv(\"data/02_BODYTEMP.csv\", header=None)\n",
    "\n",
    "df.head()"
   ]
  },
  {
   "cell_type": "code",
   "execution_count": 61,
   "metadata": {},
   "outputs": [
    {
     "name": "stdout",
     "output_type": "stream",
     "text": [
      "\n",
      "Bước 3: Thiết lập giả thuyết\n",
      "H0: Nhiệt độ trung bình là 98.6°F\n",
      "H1: Nhiệt độ trung bình khác 98.6°F\n",
      "\n",
      "Bước 4: Trung bình mẫu (x̄): 98.2000\n",
      "Độ lệch chuẩn mẫu (s): 0.6229\n",
      "Số lượng mẫu (n): 106\n",
      "\n",
      "Bước 5: Trị kiểm định t: -6.6115\n",
      "\n",
      "Bước 6: p-value: 0.0000\n",
      "\n",
      "Bước 7: Kết luận\n",
      "Bác bỏ giả thuyết H0: Nhiệt độ trung bình của cơ thể không phải là 98,6°F.\n",
      "Kết luận: Nhiệt độ trung bình khác 98,6°F.\n"
     ]
    }
   ],
   "source": [
    "# Bước 3: Thiết lập giả thuyết\n",
    "mu0 = 98.6   # Nhiệt độ trung bình giả thuyết (98,6 độ F)\n",
    "alpha = 0.05 # Mức ý nghĩa (5%)\n",
    "\n",
    "print(\"\\nBước 3: Thiết lập giả thuyết\")\n",
    "print(f\"H0: Nhiệt độ trung bình là {mu0}°F\")\n",
    "print(f\"H1: Nhiệt độ trung bình khác {mu0}°F\")\n",
    "\n",
    "# Bước 4: Tính trung bình mẫu (x̄) và độ lệch chuẩn mẫu (s)\n",
    "mean_sample = df[0].mean()\n",
    "std_sample = df[0].std()\n",
    "n = len(df)  # Số lượng mẫu\n",
    "\n",
    "print(f\"\\nBước 4: Trung bình mẫu (x̄): {mean_sample:.4f}\")\n",
    "print(f\"Độ lệch chuẩn mẫu (s): {std_sample:.4f}\")\n",
    "print(f\"Số lượng mẫu (n): {n}\")\n",
    "\n",
    "# Bước 5: Tính trị kiểm định t\n",
    "t_stat = (mean_sample - mu0) / (std_sample / np.sqrt(n))\n",
    "print(f\"\\nBước 5: Trị kiểm định t: {t_stat:.4f}\")\n",
    "\n",
    "# Bước 6: Tính p-value (hai phía)\n",
    "p_value = 2 * t.sf(abs(t_stat), df=n-1)\n",
    "print(f\"\\nBước 6: p-value: {p_value:.4f}\")\n",
    "\n",
    "# Bước 7: Đưa ra kết luận\n",
    "print(\"\\nBước 7: Kết luận\")\n",
    "if p_value <= alpha:\n",
    "    print(\"Bác bỏ giả thuyết H0: Nhiệt độ trung bình của cơ thể không phải là 98,6°F.\")\n",
    "    print(\"Kết luận: Nhiệt độ trung bình khác 98,6°F.\")\n",
    "else:\n",
    "    print(\"Không bác bỏ giả thuyết H0: Nhiệt độ trung bình của cơ thể là 98,6°F.\")\n",
    "    print(\"Kết luận: Phát biểu 'Nhiệt độ cơ thể người là 98,6°F' là chấp nhận được.\")"
   ]
  },
  {
   "cell_type": "markdown",
   "metadata": {},
   "source": [
    "### Bài 10\n",
    "\n",
    "Tìm hiểu z_test, t_test trong python"
   ]
  },
  {
   "cell_type": "code",
   "execution_count": 62,
   "metadata": {},
   "outputs": [
    {
     "name": "stdout",
     "output_type": "stream",
     "text": [
      "Sample 1 (first 5): [54.96714153 48.61735699 56.47688538 65.23029856 47.65846625]\n",
      "Sample 2 (first 5): [47.77952065 77.22733821 54.8380333  42.30746885 64.87053895]\n",
      "\n",
      "One-Sample Z-Test:\n",
      "Z-statistic: -1.0305, p-value: 0.3028\n",
      "\n",
      "One-Sample T-Test:\n",
      "T-statistic: -1.1450, p-value: 0.2616\n",
      "\n",
      "Two-Sample T-Test (Independent):\n",
      "T-statistic: -2.0720, p-value: 0.0427\n",
      "\n",
      "Welch's T-Test (Unequal Variance):\n",
      "T-statistic: -2.0720, p-value: 0.0429\n",
      "\n",
      "Paired T-Test:\n",
      "T-statistic: -2.2886, p-value: 0.0296\n",
      "\n",
      "Two-Sample Z-Test:\n",
      "Z-statistic: -1.9031, p-value: 0.0570\n"
     ]
    }
   ],
   "source": [
    "# Import các thư viện cần thiết\n",
    "import numpy as np\n",
    "from scipy import stats\n",
    "\n",
    "# Thiết lập ngẫu nhiên cho kết quả có thể tái lặp\n",
    "np.random.seed(42)\n",
    "\n",
    "# Tạo dữ liệu mẫu\n",
    "sample1 = np.random.normal(loc=50, scale=10, size=30)  # Mẫu 1: n=30, trung bình=50, độ lệch chuẩn=10\n",
    "sample2 = np.random.normal(loc=55, scale=12, size=30)  # Mẫu 2: n=30, trung bình=55, độ lệch chuẩn=12\n",
    "\n",
    "print(\"Sample 1 (first 5):\", sample1[:5])\n",
    "print(\"Sample 2 (first 5):\", sample2[:5])\n",
    "\n",
    "# One-Sample Z-Test (trường hợp biết độ lệch chuẩn tổng thể)\n",
    "def one_sample_z_test(sample, mu, sigma):\n",
    "    n = len(sample)\n",
    "    mean_sample = np.mean(sample)\n",
    "    z_stat = (mean_sample - mu) / (sigma / np.sqrt(n))\n",
    "    p_value = 2 * (1 - stats.norm.cdf(abs(z_stat)))  # Hai phía\n",
    "    return z_stat, p_value\n",
    "\n",
    "print(\"\\nOne-Sample Z-Test:\")\n",
    "z_stat, p_value = one_sample_z_test(sample1, 50, 10)  # Giả sử \\sigma = 10\n",
    "print(f\"Z-statistic: {z_stat:.4f}, p-value: {p_value:.4f}\")\n",
    "\n",
    "# One-Sample T-Test\n",
    "print(\"\\nOne-Sample T-Test:\")\n",
    "t_stat, p_value = stats.ttest_1samp(sample1, 50)\n",
    "print(f\"T-statistic: {t_stat:.4f}, p-value: {p_value:.4f}\")\n",
    "\n",
    "# Two-Sample T-Test (Independent Samples)\n",
    "print(\"\\nTwo-Sample T-Test (Independent):\")\n",
    "t_stat, p_value = stats.ttest_ind(sample1, sample2)\n",
    "print(f\"T-statistic: {t_stat:.4f}, p-value: {p_value:.4f}\")\n",
    "\n",
    "# Welch's T-Test (không giả định phương sai bằng nhau)\n",
    "print(\"\\nWelch's T-Test (Unequal Variance):\")\n",
    "t_stat, p_value = stats.ttest_ind(sample1, sample2, equal_var=False)\n",
    "print(f\"T-statistic: {t_stat:.4f}, p-value: {p_value:.4f}\")\n",
    "\n",
    "# Paired T-Test\n",
    "# Tạo dữ liệu có liên quan (trước-sau)\n",
    "before = np.random.normal(loc=50, scale=10, size=30)\n",
    "after = before + np.random.normal(loc=2, scale=5, size=30)  # Tăng thêm một lượng ngẫu nhiên\n",
    "\n",
    "print(\"\\nPaired T-Test:\")\n",
    "t_stat, p_value = stats.ttest_rel(before, after)\n",
    "print(f\"T-statistic: {t_stat:.4f}, p-value: {p_value:.4f}\")\n",
    "\n",
    "# Two-Sample Z-Test\n",
    "def two_sample_z_test(sample1, sample2, sigma1, sigma2):\n",
    "    n1 = len(sample1)\n",
    "    n2 = len(sample2)\n",
    "    mean1 = np.mean(sample1)\n",
    "    mean2 = np.mean(sample2)\n",
    "    pooled_se = np.sqrt((sigma1**2 / n1) + (sigma2**2 / n2))\n",
    "    z_stat = (mean1 - mean2) / pooled_se\n",
    "    p_value = 2 * (1 - stats.norm.cdf(abs(z_stat)))  # Hai phía\n",
    "    return z_stat, p_value\n",
    "\n",
    "print(\"\\nTwo-Sample Z-Test:\")\n",
    "z_stat, p_value = two_sample_z_test(sample1, sample2, 10, 12)  # Giả sử \\(\\sigma_1 = 10\\), \\(\\sigma_2 = 12\\)\n",
    "print(f\"Z-statistic: {z_stat:.4f}, p-value: {p_value:.4f}\")\n"
   ]
  },
  {
   "cell_type": "markdown",
   "metadata": {},
   "source": [
    "---"
   ]
  },
  {
   "cell_type": "code",
   "execution_count": 2,
   "metadata": {},
   "outputs": [
    {
     "name": "stdout",
     "output_type": "stream",
     "text": [
      "t = 2.0000\n",
      "p-value = 0.0482\n",
      "→ Chấp nhận H₀\n"
     ]
    }
   ],
   "source": [
    "from scipy.stats import t\n",
    "\n",
    "x_bar = 50\n",
    "mu = 48\n",
    "s = 10\n",
    "n = 100\n",
    "alpha = 0.01\n",
    "\n",
    "t_stat = (x_bar - mu) / (s / (n**0.5))\n",
    "p_value = 2 * (1 - t.cdf(abs(t_stat), df=n-1))\n",
    "\n",
    "print(f\"t = {t_stat:.4f}\")\n",
    "print(f\"p-value = {p_value:.4f}\")\n",
    "if p_value < alpha:\n",
    "    print(\"→ Bác bỏ H₀\")\n",
    "else:\n",
    "    print(\"→ Chấp nhận H₀\")\n",
    "\n"
   ]
  }
 ],
 "metadata": {
  "kernelspec": {
   "display_name": "Python 3",
   "language": "python",
   "name": "python3"
  },
  "language_info": {
   "codemirror_mode": {
    "name": "ipython",
    "version": 3
   },
   "file_extension": ".py",
   "mimetype": "text/x-python",
   "name": "python",
   "nbconvert_exporter": "python",
   "pygments_lexer": "ipython3",
   "version": "3.12.5"
  }
 },
 "nbformat": 4,
 "nbformat_minor": 2
}
